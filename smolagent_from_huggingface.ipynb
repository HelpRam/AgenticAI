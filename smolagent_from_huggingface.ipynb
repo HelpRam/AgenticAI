{
  "nbformat": 4,
  "nbformat_minor": 0,
  "metadata": {
    "colab": {
      "provenance": [],
      "gpuType": "T4"
    },
    "kernelspec": {
      "name": "python3",
      "display_name": "Python 3"
    },
    "language_info": {
      "name": "python"
    },
    "accelerator": "GPU"
  },
  "cells": [
    {
      "cell_type": "code",
      "execution_count": 1,
      "metadata": {
        "colab": {
          "base_uri": "https://localhost:8080/"
        },
        "id": "KmR-fAVFnseK",
        "outputId": "2e535280-8e99-4215-912e-e1b50a32ea9c"
      },
      "outputs": [
        {
          "output_type": "stream",
          "name": "stdout",
          "text": [
            "\u001b[2K     \u001b[90m━━━━━━━━━━━━━━━━━━━━━━━━━━━━━━━━━━━━━━━━\u001b[0m \u001b[32m89.9/89.9 kB\u001b[0m \u001b[31m970.5 kB/s\u001b[0m eta \u001b[36m0:00:00\u001b[0m\n",
            "\u001b[2K   \u001b[90m━━━━━━━━━━━━━━━━━━━━━━━━━━━━━━━━━━━━━━━━\u001b[0m \u001b[32m101.8/101.8 kB\u001b[0m \u001b[31m5.0 MB/s\u001b[0m eta \u001b[36m0:00:00\u001b[0m\n",
            "\u001b[2K   \u001b[90m━━━━━━━━━━━━━━━━━━━━━━━━━━━━━━━━━━━━━━━━\u001b[0m \u001b[32m13.1/13.1 MB\u001b[0m \u001b[31m19.7 MB/s\u001b[0m eta \u001b[36m0:00:00\u001b[0m\n",
            "\u001b[2K   \u001b[90m━━━━━━━━━━━━━━━━━━━━━━━━━━━━━━━━━━━━━━━━\u001b[0m \u001b[32m3.3/3.3 MB\u001b[0m \u001b[31m22.8 MB/s\u001b[0m eta \u001b[36m0:00:00\u001b[0m\n",
            "\u001b[?25h\u001b[31mERROR: pip's dependency resolver does not currently take into account all the packages that are installed. This behaviour is the source of the following dependency conflicts.\n",
            "google-colab 1.0.0 requires pandas==2.2.2, but you have pandas 2.2.3 which is incompatible.\u001b[0m\u001b[31m\n",
            "\u001b[0m"
          ]
        }
      ],
      "source": [
        "!pip -q install smolagents"
      ]
    },
    {
      "cell_type": "code",
      "source": [
        "!pip install litellm -q"
      ],
      "metadata": {
        "colab": {
          "base_uri": "https://localhost:8080/"
        },
        "id": "Y2z3MDlFsKNq",
        "outputId": "6e03aa73-5097-4197-8666-060beb62eb7f"
      },
      "execution_count": 2,
      "outputs": [
        {
          "output_type": "stream",
          "name": "stdout",
          "text": [
            "\u001b[2K   \u001b[90m━━━━━━━━━━━━━━━━━━━━━━━━━━━━━━━━━━━━━━━━\u001b[0m \u001b[32m6.8/6.8 MB\u001b[0m \u001b[31m35.7 MB/s\u001b[0m eta \u001b[36m0:00:00\u001b[0m\n",
            "\u001b[2K   \u001b[90m━━━━━━━━━━━━━━━━━━━━━━━━━━━━━━━━━━━━━━━━\u001b[0m \u001b[32m1.2/1.2 MB\u001b[0m \u001b[31m40.6 MB/s\u001b[0m eta \u001b[36m0:00:00\u001b[0m\n",
            "\u001b[?25h"
          ]
        }
      ]
    },
    {
      "cell_type": "code",
      "source": [
        "import os\n",
        "from google.colab import userdata\n",
        "os.environ['HF_TOKEN'] = userdata.get('HF_TOKEN')\n",
        "os.environ['OPENAI_API_KEY'] = userdata.get('OPENAI_API_KEY')"
      ],
      "metadata": {
        "id": "MSt_3HFAsQ-A"
      },
      "execution_count": 3,
      "outputs": []
    },
    {
      "cell_type": "code",
      "source": [
        "from smolagents import CodeAgent, HfApiModel"
      ],
      "metadata": {
        "id": "LZHNdTcnsfSA"
      },
      "execution_count": 4,
      "outputs": []
    },
    {
      "cell_type": "code",
      "source": [
        "model=HfApiModel()"
      ],
      "metadata": {
        "id": "njKwIkxrthID"
      },
      "execution_count": 5,
      "outputs": []
    },
    {
      "cell_type": "code",
      "source": [
        "# model = HfApiModel (model_id=\"meta-llama/Llama-3.3-70B-Instruct\") # will need a pro subscription"
      ],
      "metadata": {
        "id": "HyDmCvi6tvOd"
      },
      "execution_count": 6,
      "outputs": []
    },
    {
      "cell_type": "markdown",
      "source": [],
      "metadata": {
        "id": "jzjfsRV1uDBM"
      }
    },
    {
      "cell_type": "code",
      "source": [
        "agent = CodeAgent(tools=[],model=model)"
      ],
      "metadata": {
        "id": "cZbVE6bIuhJX"
      },
      "execution_count": 7,
      "outputs": []
    },
    {
      "cell_type": "code",
      "source": [
        "agent.run(\"what is 24*7?\")"
      ],
      "metadata": {
        "colab": {
          "base_uri": "https://localhost:8080/",
          "height": 273
        },
        "id": "e8Km1gRQurew",
        "outputId": "dc7636e7-518a-409f-cef4-05f5c1df109a"
      },
      "execution_count": 8,
      "outputs": [
        {
          "output_type": "display_data",
          "data": {
            "text/plain": [
              "\u001b[38;2;212;183;2m╭─\u001b[0m\u001b[38;2;212;183;2m───────────────────────────────────────────────────\u001b[0m\u001b[38;2;212;183;2m \u001b[0m\u001b[1;38;2;212;183;2mNew run\u001b[0m\u001b[38;2;212;183;2m \u001b[0m\u001b[38;2;212;183;2m───────────────────────────────────────────────────\u001b[0m\u001b[38;2;212;183;2m─╮\u001b[0m\n",
              "\u001b[38;2;212;183;2m│\u001b[0m                                                                                                                 \u001b[38;2;212;183;2m│\u001b[0m\n",
              "\u001b[38;2;212;183;2m│\u001b[0m \u001b[1mwhat is 24*7?\u001b[0m                                                                                                   \u001b[38;2;212;183;2m│\u001b[0m\n",
              "\u001b[38;2;212;183;2m│\u001b[0m                                                                                                                 \u001b[38;2;212;183;2m│\u001b[0m\n",
              "\u001b[38;2;212;183;2m╰─\u001b[0m\u001b[38;2;212;183;2m HfApiModel - Qwen/Qwen2.5-Coder-32B-Instruct \u001b[0m\u001b[38;2;212;183;2m─────────────────────────────────────────────────────────────────\u001b[0m\u001b[38;2;212;183;2m─╯\u001b[0m\n"
            ],
            "text/html": [
              "<pre style=\"white-space:pre;overflow-x:auto;line-height:normal;font-family:Menlo,'DejaVu Sans Mono',consolas,'Courier New',monospace\"><span style=\"color: #d4b702; text-decoration-color: #d4b702\">╭──────────────────────────────────────────────────── </span><span style=\"color: #d4b702; text-decoration-color: #d4b702; font-weight: bold\">New run</span><span style=\"color: #d4b702; text-decoration-color: #d4b702\"> ────────────────────────────────────────────────────╮</span>\n",
              "<span style=\"color: #d4b702; text-decoration-color: #d4b702\">│</span>                                                                                                                 <span style=\"color: #d4b702; text-decoration-color: #d4b702\">│</span>\n",
              "<span style=\"color: #d4b702; text-decoration-color: #d4b702\">│</span> <span style=\"font-weight: bold\">what is 24*7?</span>                                                                                                   <span style=\"color: #d4b702; text-decoration-color: #d4b702\">│</span>\n",
              "<span style=\"color: #d4b702; text-decoration-color: #d4b702\">│</span>                                                                                                                 <span style=\"color: #d4b702; text-decoration-color: #d4b702\">│</span>\n",
              "<span style=\"color: #d4b702; text-decoration-color: #d4b702\">╰─ HfApiModel - Qwen/Qwen2.5-Coder-32B-Instruct ──────────────────────────────────────────────────────────────────╯</span>\n",
              "</pre>\n"
            ]
          },
          "metadata": {}
        },
        {
          "output_type": "display_data",
          "data": {
            "text/plain": [
              "\u001b[38;2;212;183;2m━━━━━━━━━━━━━━━━━━━━━━━━━━━━━━━━━━━━━━━━━━━━━━━━━━━━━ \u001b[0m\u001b[1mStep \u001b[0m\u001b[1;36m1\u001b[0m\u001b[38;2;212;183;2m ━━━━━━━━━━━━━━━━━━━━━━━━━━━━━━━━━━━━━━━━━━━━━━━━━━━━━━\u001b[0m\n"
            ],
            "text/html": [
              "<pre style=\"white-space:pre;overflow-x:auto;line-height:normal;font-family:Menlo,'DejaVu Sans Mono',consolas,'Courier New',monospace\"><span style=\"color: #d4b702; text-decoration-color: #d4b702\">━━━━━━━━━━━━━━━━━━━━━━━━━━━━━━━━━━━━━━━━━━━━━━━━━━━━━ </span><span style=\"font-weight: bold\">Step </span><span style=\"color: #008080; text-decoration-color: #008080; font-weight: bold\">1</span><span style=\"color: #d4b702; text-decoration-color: #d4b702\"> ━━━━━━━━━━━━━━━━━━━━━━━━━━━━━━━━━━━━━━━━━━━━━━━━━━━━━━</span>\n",
              "</pre>\n"
            ]
          },
          "metadata": {}
        },
        {
          "output_type": "display_data",
          "data": {
            "text/plain": [
              " ─ \u001b[1mExecuting parsed code:\u001b[0m ──────────────────────────────────────────────────────────────────────────────────────── \n",
              "  \u001b[38;2;248;248;242;48;2;39;40;34mresult\u001b[0m\u001b[38;2;248;248;242;48;2;39;40;34m \u001b[0m\u001b[38;2;255;70;137;48;2;39;40;34m=\u001b[0m\u001b[38;2;248;248;242;48;2;39;40;34m \u001b[0m\u001b[38;2;174;129;255;48;2;39;40;34m24\u001b[0m\u001b[38;2;248;248;242;48;2;39;40;34m \u001b[0m\u001b[38;2;255;70;137;48;2;39;40;34m*\u001b[0m\u001b[38;2;248;248;242;48;2;39;40;34m \u001b[0m\u001b[38;2;174;129;255;48;2;39;40;34m7\u001b[0m\u001b[48;2;39;40;34m                                                                                                \u001b[0m  \n",
              "  \u001b[38;2;248;248;242;48;2;39;40;34mfinal_answer\u001b[0m\u001b[38;2;248;248;242;48;2;39;40;34m(\u001b[0m\u001b[38;2;248;248;242;48;2;39;40;34mresult\u001b[0m\u001b[38;2;248;248;242;48;2;39;40;34m)\u001b[0m\u001b[48;2;39;40;34m                                                                                           \u001b[0m  \n",
              " ───────────────────────────────────────────────────────────────────────────────────────────────────────────────── \n"
            ],
            "text/html": [
              "<pre style=\"white-space:pre;overflow-x:auto;line-height:normal;font-family:Menlo,'DejaVu Sans Mono',consolas,'Courier New',monospace\"> ─ <span style=\"font-weight: bold\">Executing parsed code:</span> ──────────────────────────────────────────────────────────────────────────────────────── \n",
              "  <span style=\"color: #f8f8f2; text-decoration-color: #f8f8f2; background-color: #272822\">result </span><span style=\"color: #ff4689; text-decoration-color: #ff4689; background-color: #272822\">=</span><span style=\"color: #f8f8f2; text-decoration-color: #f8f8f2; background-color: #272822\"> </span><span style=\"color: #ae81ff; text-decoration-color: #ae81ff; background-color: #272822\">24</span><span style=\"color: #f8f8f2; text-decoration-color: #f8f8f2; background-color: #272822\"> </span><span style=\"color: #ff4689; text-decoration-color: #ff4689; background-color: #272822\">*</span><span style=\"color: #f8f8f2; text-decoration-color: #f8f8f2; background-color: #272822\"> </span><span style=\"color: #ae81ff; text-decoration-color: #ae81ff; background-color: #272822\">7</span><span style=\"background-color: #272822\">                                                                                                </span>  \n",
              "  <span style=\"color: #f8f8f2; text-decoration-color: #f8f8f2; background-color: #272822\">final_answer(result)</span><span style=\"background-color: #272822\">                                                                                           </span>  \n",
              " ───────────────────────────────────────────────────────────────────────────────────────────────────────────────── \n",
              "</pre>\n"
            ]
          },
          "metadata": {}
        },
        {
          "output_type": "display_data",
          "data": {
            "text/plain": [
              "\u001b[1;38;2;212;183;2mOut - Final answer: 168\u001b[0m\n"
            ],
            "text/html": [
              "<pre style=\"white-space:pre;overflow-x:auto;line-height:normal;font-family:Menlo,'DejaVu Sans Mono',consolas,'Courier New',monospace\"><span style=\"color: #d4b702; text-decoration-color: #d4b702; font-weight: bold\">Out - Final answer: 168</span>\n",
              "</pre>\n"
            ]
          },
          "metadata": {}
        },
        {
          "output_type": "display_data",
          "data": {
            "text/plain": [
              "\u001b[2m[Step 0: Duration 3.13 seconds| Input tokens: 2,017 | Output tokens: 57]\u001b[0m\n"
            ],
            "text/html": [
              "<pre style=\"white-space:pre;overflow-x:auto;line-height:normal;font-family:Menlo,'DejaVu Sans Mono',consolas,'Courier New',monospace\"><span style=\"color: #7f7f7f; text-decoration-color: #7f7f7f\">[Step 0: Duration 3.13 seconds| Input tokens: 2,017 | Output tokens: 57]</span>\n",
              "</pre>\n"
            ]
          },
          "metadata": {}
        },
        {
          "output_type": "execute_result",
          "data": {
            "text/plain": [
              "168"
            ]
          },
          "metadata": {},
          "execution_count": 8
        }
      ]
    },
    {
      "cell_type": "markdown",
      "source": [
        "### here is my predefine tool (duckduckgo)"
      ],
      "metadata": {
        "id": "L2rWbwPn0Zwg"
      }
    },
    {
      "cell_type": "code",
      "source": [
        "from smolagents import DuckDuckGoSearchTool"
      ],
      "metadata": {
        "id": "W9JexA3WuxHQ"
      },
      "execution_count": 9,
      "outputs": []
    },
    {
      "cell_type": "code",
      "source": [
        "agent=CodeAgent(tools=[DuckDuckGoSearchTool()],model=model)"
      ],
      "metadata": {
        "id": "h1vtdz7SwiUI"
      },
      "execution_count": 10,
      "outputs": []
    },
    {
      "cell_type": "code",
      "source": [
        "agent.run('What is the result for recently concluded Cricket test series between Nepal vs Australia?')"
      ],
      "metadata": {
        "colab": {
          "base_uri": "https://localhost:8080/",
          "height": 1000
        },
        "id": "iSGTrUrKwsxo",
        "outputId": "911d763f-1e6d-4e57-8aa6-07b461f49730"
      },
      "execution_count": 11,
      "outputs": [
        {
          "output_type": "display_data",
          "data": {
            "text/plain": [
              "\u001b[38;2;212;183;2m╭─\u001b[0m\u001b[38;2;212;183;2m───────────────────────────────────────────────────\u001b[0m\u001b[38;2;212;183;2m \u001b[0m\u001b[1;38;2;212;183;2mNew run\u001b[0m\u001b[38;2;212;183;2m \u001b[0m\u001b[38;2;212;183;2m───────────────────────────────────────────────────\u001b[0m\u001b[38;2;212;183;2m─╮\u001b[0m\n",
              "\u001b[38;2;212;183;2m│\u001b[0m                                                                                                                 \u001b[38;2;212;183;2m│\u001b[0m\n",
              "\u001b[38;2;212;183;2m│\u001b[0m \u001b[1mWhat is the result for recently concluded Cricket test series between Nepal vs Australia?\u001b[0m                       \u001b[38;2;212;183;2m│\u001b[0m\n",
              "\u001b[38;2;212;183;2m│\u001b[0m                                                                                                                 \u001b[38;2;212;183;2m│\u001b[0m\n",
              "\u001b[38;2;212;183;2m╰─\u001b[0m\u001b[38;2;212;183;2m HfApiModel - Qwen/Qwen2.5-Coder-32B-Instruct \u001b[0m\u001b[38;2;212;183;2m─────────────────────────────────────────────────────────────────\u001b[0m\u001b[38;2;212;183;2m─╯\u001b[0m\n"
            ],
            "text/html": [
              "<pre style=\"white-space:pre;overflow-x:auto;line-height:normal;font-family:Menlo,'DejaVu Sans Mono',consolas,'Courier New',monospace\"><span style=\"color: #d4b702; text-decoration-color: #d4b702\">╭──────────────────────────────────────────────────── </span><span style=\"color: #d4b702; text-decoration-color: #d4b702; font-weight: bold\">New run</span><span style=\"color: #d4b702; text-decoration-color: #d4b702\"> ────────────────────────────────────────────────────╮</span>\n",
              "<span style=\"color: #d4b702; text-decoration-color: #d4b702\">│</span>                                                                                                                 <span style=\"color: #d4b702; text-decoration-color: #d4b702\">│</span>\n",
              "<span style=\"color: #d4b702; text-decoration-color: #d4b702\">│</span> <span style=\"font-weight: bold\">What is the result for recently concluded Cricket test series between Nepal vs Australia?</span>                       <span style=\"color: #d4b702; text-decoration-color: #d4b702\">│</span>\n",
              "<span style=\"color: #d4b702; text-decoration-color: #d4b702\">│</span>                                                                                                                 <span style=\"color: #d4b702; text-decoration-color: #d4b702\">│</span>\n",
              "<span style=\"color: #d4b702; text-decoration-color: #d4b702\">╰─ HfApiModel - Qwen/Qwen2.5-Coder-32B-Instruct ──────────────────────────────────────────────────────────────────╯</span>\n",
              "</pre>\n"
            ]
          },
          "metadata": {}
        },
        {
          "output_type": "display_data",
          "data": {
            "text/plain": [
              "\u001b[38;2;212;183;2m━━━━━━━━━━━━━━━━━━━━━━━━━━━━━━━━━━━━━━━━━━━━━━━━━━━━━ \u001b[0m\u001b[1mStep \u001b[0m\u001b[1;36m1\u001b[0m\u001b[38;2;212;183;2m ━━━━━━━━━━━━━━━━━━━━━━━━━━━━━━━━━━━━━━━━━━━━━━━━━━━━━━\u001b[0m\n"
            ],
            "text/html": [
              "<pre style=\"white-space:pre;overflow-x:auto;line-height:normal;font-family:Menlo,'DejaVu Sans Mono',consolas,'Courier New',monospace\"><span style=\"color: #d4b702; text-decoration-color: #d4b702\">━━━━━━━━━━━━━━━━━━━━━━━━━━━━━━━━━━━━━━━━━━━━━━━━━━━━━ </span><span style=\"font-weight: bold\">Step </span><span style=\"color: #008080; text-decoration-color: #008080; font-weight: bold\">1</span><span style=\"color: #d4b702; text-decoration-color: #d4b702\"> ━━━━━━━━━━━━━━━━━━━━━━━━━━━━━━━━━━━━━━━━━━━━━━━━━━━━━━</span>\n",
              "</pre>\n"
            ]
          },
          "metadata": {}
        },
        {
          "output_type": "display_data",
          "data": {
            "text/plain": [
              " ─ \u001b[1mExecuting parsed code:\u001b[0m ──────────────────────────────────────────────────────────────────────────────────────── \n",
              "  \u001b[38;2;248;248;242;48;2;39;40;34mresult_search\u001b[0m\u001b[38;2;248;248;242;48;2;39;40;34m \u001b[0m\u001b[38;2;255;70;137;48;2;39;40;34m=\u001b[0m\u001b[38;2;248;248;242;48;2;39;40;34m \u001b[0m\u001b[38;2;248;248;242;48;2;39;40;34mweb_search\u001b[0m\u001b[38;2;248;248;242;48;2;39;40;34m(\u001b[0m\u001b[38;2;248;248;242;48;2;39;40;34mquery\u001b[0m\u001b[38;2;255;70;137;48;2;39;40;34m=\u001b[0m\u001b[38;2;230;219;116;48;2;39;40;34m\"\u001b[0m\u001b[38;2;230;219;116;48;2;39;40;34mrecent Nepal vs Australia cricket test series result\u001b[0m\u001b[38;2;230;219;116;48;2;39;40;34m\"\u001b[0m\u001b[38;2;248;248;242;48;2;39;40;34m)\u001b[0m\u001b[48;2;39;40;34m                       \u001b[0m  \n",
              "  \u001b[38;2;248;248;242;48;2;39;40;34mprint\u001b[0m\u001b[38;2;248;248;242;48;2;39;40;34m(\u001b[0m\u001b[38;2;248;248;242;48;2;39;40;34mresult_search\u001b[0m\u001b[38;2;248;248;242;48;2;39;40;34m)\u001b[0m\u001b[48;2;39;40;34m                                                                                           \u001b[0m  \n",
              " ───────────────────────────────────────────────────────────────────────────────────────────────────────────────── \n"
            ],
            "text/html": [
              "<pre style=\"white-space:pre;overflow-x:auto;line-height:normal;font-family:Menlo,'DejaVu Sans Mono',consolas,'Courier New',monospace\"> ─ <span style=\"font-weight: bold\">Executing parsed code:</span> ──────────────────────────────────────────────────────────────────────────────────────── \n",
              "  <span style=\"color: #f8f8f2; text-decoration-color: #f8f8f2; background-color: #272822\">result_search </span><span style=\"color: #ff4689; text-decoration-color: #ff4689; background-color: #272822\">=</span><span style=\"color: #f8f8f2; text-decoration-color: #f8f8f2; background-color: #272822\"> web_search(query</span><span style=\"color: #ff4689; text-decoration-color: #ff4689; background-color: #272822\">=</span><span style=\"color: #e6db74; text-decoration-color: #e6db74; background-color: #272822\">\"recent Nepal vs Australia cricket test series result\"</span><span style=\"color: #f8f8f2; text-decoration-color: #f8f8f2; background-color: #272822\">)</span><span style=\"background-color: #272822\">                       </span>  \n",
              "  <span style=\"color: #f8f8f2; text-decoration-color: #f8f8f2; background-color: #272822\">print(result_search)</span><span style=\"background-color: #272822\">                                                                                           </span>  \n",
              " ───────────────────────────────────────────────────────────────────────────────────────────────────────────────── \n",
              "</pre>\n"
            ]
          },
          "metadata": {}
        },
        {
          "output_type": "display_data",
          "data": {
            "text/plain": [
              "\u001b[1mExecution logs:\u001b[0m\n",
              "## Search Results\n",
              "\n",
              "[Australia vs Nepal Head To Head Test | \n",
              "ESPNcricinfo](https://www.espncricinfo.com/records/headtohead/australia-nepal-2vs32/class/test-matches-1)\n",
              "Australia vs Nepal head to head Test match records, latest batting, bowling, fielding, all-rounds and partnership \n",
              "Test records at ESPNcricinfo. Live Scores Series\n",
              "\n",
              "[Nepal vs Australia Head to Head in Test: Records, Stats, Results \n",
              "...](https://www.mykhel.com/cricket/nepal-vs-australia-head-to-head-in-test/)\n",
              "Nepal vs Australia Head to Head in Test: Australia vs Nepal head to head test results, records, statistics with \n",
              "total matches, win, loss, highest score, lowest score and much more on myKhel.com.\n",
              "\n",
              "[Australia vs Nepal Head To Head | \n",
              "ESPNcricinfo](https://www.espncricinfo.com/records/headtohead/australia-nepal-2vs32)\n",
              "Australia vs Nepal head to head cricket records, records between opposing countries only on ESPNcricinfo. ... \n",
              "Series results. Test matches. ... (including minor cricket) Under-19s Youth Test matches;\n",
              "\n",
              "[Australia Test matches team series results - \n",
              "ESPNcricinfo](https://www.espncricinfo.com/records/team/team-series-results/australia-2/test-matches-1)\n",
              "Nepal Women vs Thailand Women at Kirtipur, Nepal Women's T20I Tri-Series 9th Match, Feb 7, 2025 [Women T20I # 2183]\n",
              "\n",
              "[Live Cricket Score | Australia vs Nepal Live Score & Commentary | AUS \n",
              "...](https://www.sportskeeda.com/live-cricket-score/australia-vs-nepal-match-11-02-november-2024/scorecard)\n",
              "Nepal vs Australia Hong Kong Sixes Live Score - Catch live cricket score, ... (Last 5 Matches, Most recent first) \n",
              "Team Form (Last 5 Matches)\n",
              "\n",
              "[Australia 6s vs Nepal 6s Live Match Scorecard, Australia 6s vs Nepal 6s \n",
              "...](https://www.abplive.com/sports/cricket/live-score/fullscorecard/australia-6s-vs-nepal-6s-62807c)\n",
              "Australia 6s vs Nepal 6s Live Match Scorecard, Australia 6s vs Nepal 6s Cricket Match Today's Score Summary, \n",
              "Cricket News, LIVE Cricket, Ball by Ball Commentary, All International Matches Score, T20, Domestic Cricket Matches\n",
              "at Sports | ABP News\n",
              "\n",
              "[Australia vs Nepal , Match 11 - Live Cricket Score - \n",
              "CricTracker](https://www.crictracker.com/live-scores/aus-vs-nep-match-11-t10-hong-kong-sixes-02-nov-2024/full-score\n",
              "card/)\n",
              "AUS vs NEP Match 11 2024 Full Scorecard: Get the live & detailed AUS vs NEP Match 11 2024 scorecard, players score \n",
              "& fall of wickets information on CricTracker. ... Australia vs Nepal, Match 11 ...\n",
              "\n",
              "[Australia vs Nepal , Match 11 - Live Cricket Score - \n",
              "CricTracker](https://www.crictracker.com/live-scores/aus-vs-nep-match-11-t10-hong-kong-sixes-02-nov-2024/overs/)\n",
              "AUS vs NEP Overs: Get the detailed AUS vs NEP t10 Live Over updates, Ball by Ball, & Match updates only on \n",
              "CricTracker ... Australia vs Nepal, Match 11 - Live Cricket Score. Hong Kong Sixes, 2024 ...\n",
              "\n",
              "[Australia vs Nepal Full Scorecard, Match 11, 2 November, \n",
              "24](https://cricketaddictor.com/livescore/australia-vs-nepal-match-11-02-nov-2024/scorecard/)\n",
              "Australia vs Nepal Full Scorecard : Check Australia vs Nepal scorecard along with players score, fall of wickets & \n",
              "updateds of Hong Kong Sixes, Match 11, 2 November, 24, Mission Road Ground at Cricketaddictor ... Live Score; \n",
              "Schedule; Series; Recent Matches; Upcoming Matches; Series ICC Men's T20 World Cup; ... You will receive the latest\n",
              "...\n",
              "\n",
              "[Full Scorecard of Australia vs Nepal, Hong Kong International ... - \n",
              "ESPN](https://www.espn.co.uk/cricket/series/8768/scorecard/1457796/australia-vs-nepal-pool-b-hong-kong-internationa\n",
              "l-sixes-2024-25)\n",
              "Get full and detailed scoreboard of Australia vs Nepal, Hong Kong International Sixes 2024, Pool B only on \n",
              "ESPN.co.uk. Find the complete scorecard of Australia v Nepal Pool B Online\n",
              "\n",
              "Out: None\n"
            ],
            "text/html": [
              "<pre style=\"white-space:pre;overflow-x:auto;line-height:normal;font-family:Menlo,'DejaVu Sans Mono',consolas,'Courier New',monospace\"><span style=\"font-weight: bold\">Execution logs:</span>\n",
              "## Search Results\n",
              "\n",
              "[Australia vs Nepal Head To Head Test | \n",
              "ESPNcricinfo](https://www.espncricinfo.com/records/headtohead/australia-nepal-2vs32/class/test-matches-1)\n",
              "Australia vs Nepal head to head Test match records, latest batting, bowling, fielding, all-rounds and partnership \n",
              "Test records at ESPNcricinfo. Live Scores Series\n",
              "\n",
              "[Nepal vs Australia Head to Head in Test: Records, Stats, Results \n",
              "...](https://www.mykhel.com/cricket/nepal-vs-australia-head-to-head-in-test/)\n",
              "Nepal vs Australia Head to Head in Test: Australia vs Nepal head to head test results, records, statistics with \n",
              "total matches, win, loss, highest score, lowest score and much more on myKhel.com.\n",
              "\n",
              "[Australia vs Nepal Head To Head | \n",
              "ESPNcricinfo](https://www.espncricinfo.com/records/headtohead/australia-nepal-2vs32)\n",
              "Australia vs Nepal head to head cricket records, records between opposing countries only on ESPNcricinfo. ... \n",
              "Series results. Test matches. ... (including minor cricket) Under-19s Youth Test matches;\n",
              "\n",
              "[Australia Test matches team series results - \n",
              "ESPNcricinfo](https://www.espncricinfo.com/records/team/team-series-results/australia-2/test-matches-1)\n",
              "Nepal Women vs Thailand Women at Kirtipur, Nepal Women's T20I Tri-Series 9th Match, Feb 7, 2025 [Women T20I # 2183]\n",
              "\n",
              "[Live Cricket Score | Australia vs Nepal Live Score &amp; Commentary | AUS \n",
              "...](https://www.sportskeeda.com/live-cricket-score/australia-vs-nepal-match-11-02-november-2024/scorecard)\n",
              "Nepal vs Australia Hong Kong Sixes Live Score - Catch live cricket score, ... (Last 5 Matches, Most recent first) \n",
              "Team Form (Last 5 Matches)\n",
              "\n",
              "[Australia 6s vs Nepal 6s Live Match Scorecard, Australia 6s vs Nepal 6s \n",
              "...](https://www.abplive.com/sports/cricket/live-score/fullscorecard/australia-6s-vs-nepal-6s-62807c)\n",
              "Australia 6s vs Nepal 6s Live Match Scorecard, Australia 6s vs Nepal 6s Cricket Match Today's Score Summary, \n",
              "Cricket News, LIVE Cricket, Ball by Ball Commentary, All International Matches Score, T20, Domestic Cricket Matches\n",
              "at Sports | ABP News\n",
              "\n",
              "[Australia vs Nepal , Match 11 - Live Cricket Score - \n",
              "CricTracker](https://www.crictracker.com/live-scores/aus-vs-nep-match-11-t10-hong-kong-sixes-02-nov-2024/full-score\n",
              "card/)\n",
              "AUS vs NEP Match 11 2024 Full Scorecard: Get the live &amp; detailed AUS vs NEP Match 11 2024 scorecard, players score \n",
              "&amp; fall of wickets information on CricTracker. ... Australia vs Nepal, Match 11 ...\n",
              "\n",
              "[Australia vs Nepal , Match 11 - Live Cricket Score - \n",
              "CricTracker](https://www.crictracker.com/live-scores/aus-vs-nep-match-11-t10-hong-kong-sixes-02-nov-2024/overs/)\n",
              "AUS vs NEP Overs: Get the detailed AUS vs NEP t10 Live Over updates, Ball by Ball, &amp; Match updates only on \n",
              "CricTracker ... Australia vs Nepal, Match 11 - Live Cricket Score. Hong Kong Sixes, 2024 ...\n",
              "\n",
              "[Australia vs Nepal Full Scorecard, Match 11, 2 November, \n",
              "24](https://cricketaddictor.com/livescore/australia-vs-nepal-match-11-02-nov-2024/scorecard/)\n",
              "Australia vs Nepal Full Scorecard : Check Australia vs Nepal scorecard along with players score, fall of wickets &amp; \n",
              "updateds of Hong Kong Sixes, Match 11, 2 November, 24, Mission Road Ground at Cricketaddictor ... Live Score; \n",
              "Schedule; Series; Recent Matches; Upcoming Matches; Series ICC Men's T20 World Cup; ... You will receive the latest\n",
              "...\n",
              "\n",
              "[Full Scorecard of Australia vs Nepal, Hong Kong International ... - \n",
              "ESPN](https://www.espn.co.uk/cricket/series/8768/scorecard/1457796/australia-vs-nepal-pool-b-hong-kong-internationa\n",
              "l-sixes-2024-25)\n",
              "Get full and detailed scoreboard of Australia vs Nepal, Hong Kong International Sixes 2024, Pool B only on \n",
              "ESPN.co.uk. Find the complete scorecard of Australia v Nepal Pool B Online\n",
              "\n",
              "Out: None\n",
              "</pre>\n"
            ]
          },
          "metadata": {}
        },
        {
          "output_type": "display_data",
          "data": {
            "text/plain": [
              "\u001b[2m[Step 0: Duration 4.60 seconds| Input tokens: 2,085 | Output tokens: 70]\u001b[0m\n"
            ],
            "text/html": [
              "<pre style=\"white-space:pre;overflow-x:auto;line-height:normal;font-family:Menlo,'DejaVu Sans Mono',consolas,'Courier New',monospace\"><span style=\"color: #7f7f7f; text-decoration-color: #7f7f7f\">[Step 0: Duration 4.60 seconds| Input tokens: 2,085 | Output tokens: 70]</span>\n",
              "</pre>\n"
            ]
          },
          "metadata": {}
        },
        {
          "output_type": "display_data",
          "data": {
            "text/plain": [
              "\u001b[38;2;212;183;2m━━━━━━━━━━━━━━━━━━━━━━━━━━━━━━━━━━━━━━━━━━━━━━━━━━━━━ \u001b[0m\u001b[1mStep \u001b[0m\u001b[1;36m2\u001b[0m\u001b[38;2;212;183;2m ━━━━━━━━━━━━━━━━━━━━━━━━━━━━━━━━━━━━━━━━━━━━━━━━━━━━━━\u001b[0m\n"
            ],
            "text/html": [
              "<pre style=\"white-space:pre;overflow-x:auto;line-height:normal;font-family:Menlo,'DejaVu Sans Mono',consolas,'Courier New',monospace\"><span style=\"color: #d4b702; text-decoration-color: #d4b702\">━━━━━━━━━━━━━━━━━━━━━━━━━━━━━━━━━━━━━━━━━━━━━━━━━━━━━ </span><span style=\"font-weight: bold\">Step </span><span style=\"color: #008080; text-decoration-color: #008080; font-weight: bold\">2</span><span style=\"color: #d4b702; text-decoration-color: #d4b702\"> ━━━━━━━━━━━━━━━━━━━━━━━━━━━━━━━━━━━━━━━━━━━━━━━━━━━━━━</span>\n",
              "</pre>\n"
            ]
          },
          "metadata": {}
        },
        {
          "output_type": "display_data",
          "data": {
            "text/plain": [
              " ─ \u001b[1mExecuting parsed code:\u001b[0m ──────────────────────────────────────────────────────────────────────────────────────── \n",
              "  \u001b[38;2;248;248;242;48;2;39;40;34mtest_series_result\u001b[0m\u001b[38;2;248;248;242;48;2;39;40;34m \u001b[0m\u001b[38;2;255;70;137;48;2;39;40;34m=\u001b[0m\u001b[38;2;248;248;242;48;2;39;40;34m \u001b[0m\u001b[38;2;248;248;242;48;2;39;40;34mweb_search\u001b[0m\u001b[38;2;248;248;242;48;2;39;40;34m(\u001b[0m\u001b[38;2;248;248;242;48;2;39;40;34mquery\u001b[0m\u001b[38;2;255;70;137;48;2;39;40;34m=\u001b[0m\u001b[38;2;230;219;116;48;2;39;40;34m\"\u001b[0m\u001b[38;2;230;219;116;48;2;39;40;34mrecent Nepal vs Australia cricket test series result 2023\u001b[0m\u001b[38;2;230;219;116;48;2;39;40;34m\"\u001b[0m\u001b[38;2;248;248;242;48;2;39;40;34m)\u001b[0m\u001b[48;2;39;40;34m             \u001b[0m  \n",
              "  \u001b[38;2;248;248;242;48;2;39;40;34mprint\u001b[0m\u001b[38;2;248;248;242;48;2;39;40;34m(\u001b[0m\u001b[38;2;248;248;242;48;2;39;40;34mtest_series_result\u001b[0m\u001b[38;2;248;248;242;48;2;39;40;34m)\u001b[0m\u001b[48;2;39;40;34m                                                                                      \u001b[0m  \n",
              " ───────────────────────────────────────────────────────────────────────────────────────────────────────────────── \n"
            ],
            "text/html": [
              "<pre style=\"white-space:pre;overflow-x:auto;line-height:normal;font-family:Menlo,'DejaVu Sans Mono',consolas,'Courier New',monospace\"> ─ <span style=\"font-weight: bold\">Executing parsed code:</span> ──────────────────────────────────────────────────────────────────────────────────────── \n",
              "  <span style=\"color: #f8f8f2; text-decoration-color: #f8f8f2; background-color: #272822\">test_series_result </span><span style=\"color: #ff4689; text-decoration-color: #ff4689; background-color: #272822\">=</span><span style=\"color: #f8f8f2; text-decoration-color: #f8f8f2; background-color: #272822\"> web_search(query</span><span style=\"color: #ff4689; text-decoration-color: #ff4689; background-color: #272822\">=</span><span style=\"color: #e6db74; text-decoration-color: #e6db74; background-color: #272822\">\"recent Nepal vs Australia cricket test series result 2023\"</span><span style=\"color: #f8f8f2; text-decoration-color: #f8f8f2; background-color: #272822\">)</span><span style=\"background-color: #272822\">             </span>  \n",
              "  <span style=\"color: #f8f8f2; text-decoration-color: #f8f8f2; background-color: #272822\">print(test_series_result)</span><span style=\"background-color: #272822\">                                                                                      </span>  \n",
              " ───────────────────────────────────────────────────────────────────────────────────────────────────────────────── \n",
              "</pre>\n"
            ]
          },
          "metadata": {}
        },
        {
          "output_type": "display_data",
          "data": {
            "text/plain": [
              "\u001b[1mExecution logs:\u001b[0m\n",
              "## Search Results\n",
              "\n",
              "[Australia Test matches team series results - \n",
              "ESPNcricinfo](https://www.espncricinfo.com/records/team/team-series-results/australia-2/test-matches-1)\n",
              "Nepal Women vs Thailand Women at Kirtipur, Nepal Women's T20I Tri-Series 9th Match, Feb 7, 2025 [Women T20I # 2183]\n",
              "\n",
              "[Nepal Cricket Team, News, Fixtures, Results and Squads](https://www.cricnepal.com/team/nepal-304)\n",
              "Nepal overpowers Australia to top Group B in Hong Kong Super Sixes. November 2, 2024. ... Nepal T20I Triangular \n",
              "Series 2023/24. ICC Men's T20 World Cup 2024. ... cricnepal.com brings the most comprehensive cricket coverage of \n",
              "Nepal Cricket including the latest scores, fixtures, news & photos. ...\n",
              "\n",
              "[Nepal Cricket Team 2025 Schedules, Fixtures & Results, Time Table \n",
              "...](https://www.espncricinfo.com/team/nepal-33/match-schedule-fixtures-and-results)\n",
              "Stay updated with the Nepal cricket schedules, fixtures, and results. Find NEP live cricket scores and upcoming \n",
              "matches on ESPNcricinfo.\n",
              "\n",
              "[Nepal Cricket Team Latest Match Results and Scores- NDTV \n",
              "Sports](https://sports.ndtv.com/cricket/teams/105092-nepal-teamprofile/results)\n",
              "Get the latest Nepal Cricket Results & Score from the Cricket Leagues only at NDTV Sports. ... Lewis Hamilton \n",
              "Unharmed After Crashing During Ferrari Barcelona Test. ... Nepal T20I Tri-Series, 2023 ...\n",
              "\n",
              "[ICC World Test Championship 2023-25: League Stage Recap, Road To \n",
              "Final](https://sports.ndtv.com/cricket/icc-world-test-championship-2023-25-league-stage-recap-road-to-final-7682802\n",
              ")\n",
              "The league stage of the ICC World Test Championship (WTC) 2023-25 concluded with Australia securing a historic \n",
              "series victory in the subcontinent, defeating Sri Lanka by nine wickets\n",
              "\n",
              "[Nepal Cricket Team live scores, results - Cricbuzz](https://www-web.cricbuzz.com/cricket-team/nepal/72/results)\n",
              "Live cricket scores and results of the Nepal Cricket Team on Cricbuzz.com. ... Series India tour of Australia, \n",
              "2024-25 India tour of South Africa, ... 2024 Ranji Trophy Elite 2024-25 New Zealand tour of Sri Lanka, 2024 All \n",
              "Series » Teams. Test Teams India Afghanistan Ireland Pakistan Australia Sri Lanka Bangladesh England West Indies \n",
              "South ...\n",
              "\n",
              "[Nepal Cricket Team | Nepal Match Schedules - NDTV \n",
              "Sports](https://sports.ndtv.com/cricket/teams/105092-nepal-teamprofile)\n",
              "Get the latest information of Nepal Cricket Team players and list of upcoming matches at NDTV Sports. ... Scores ; \n",
              "Series . All Series; ... ICC CWC League 2, 2023-27 at Dallas, Oct 29, 2024. Nepal ...\n",
              "\n",
              "[Australia 6s vs Nepal 6s Live Match Scorecard, Australia 6s vs Nepal 6s \n",
              "...](https://news.abplive.com/sports/cricket/live-score/fullscorecard/australia-6s-vs-nepal-6s-62807c)\n",
              "Australia 6s vs Nepal 6s Live Match Scorecard, Australia 6s vs Nepal 6s Cricket Match Today's Score Summary, \n",
              "Cricket News, LIVE Cricket, Ball by Ball Commentary, All International Matches Score, T20, Domestic Cricket Matches\n",
              "at Sports | ABPLive\n",
              "\n",
              "[Nepal ODI Tri Series 2023 - \n",
              "Cricketwa](https://www.cricketwa.com/11900/series/nepal-odi-tri-series-2023-schedule-fixtures.aspx)\n",
              "Nepal ODI Tri Series 2023; Nepal ODI Tri Series 2023. Results; Stats ... Best Bowling; Nepal ODI Tri Series 2023 \n",
              "Schedule, PNG UAE Tour of NEP Fixtures. Series Result: Nepal-2, United Arab Emirates-0: Start Date: 2023-03-09: End\n",
              "Date: 2023-03-16: Host Country: Nepal: ... Sri Lanka vs Australia Test Series 2025 Schedule: India vs England ODI \n",
              "...\n",
              "\n",
              "[Nepal beat Australia, Nepal won by 11 runs - \n",
              "ESPNcricinfo](https://www.espncricinfo.com/series/hong-kong-international-sixes-2024-25-1457785/australia-vs-nepal-\n",
              "pool-b-1457796/live-cricket-score)\n",
              "NEP 100/5 vs AUS 111/2 - Nepal won by 11 runs in Mong Kok, Hong Kong Sixes 2024, November 02, 2024\n",
              "\n",
              "Out: None\n"
            ],
            "text/html": [
              "<pre style=\"white-space:pre;overflow-x:auto;line-height:normal;font-family:Menlo,'DejaVu Sans Mono',consolas,'Courier New',monospace\"><span style=\"font-weight: bold\">Execution logs:</span>\n",
              "## Search Results\n",
              "\n",
              "[Australia Test matches team series results - \n",
              "ESPNcricinfo](https://www.espncricinfo.com/records/team/team-series-results/australia-2/test-matches-1)\n",
              "Nepal Women vs Thailand Women at Kirtipur, Nepal Women's T20I Tri-Series 9th Match, Feb 7, 2025 [Women T20I # 2183]\n",
              "\n",
              "[Nepal Cricket Team, News, Fixtures, Results and Squads](https://www.cricnepal.com/team/nepal-304)\n",
              "Nepal overpowers Australia to top Group B in Hong Kong Super Sixes. November 2, 2024. ... Nepal T20I Triangular \n",
              "Series 2023/24. ICC Men's T20 World Cup 2024. ... cricnepal.com brings the most comprehensive cricket coverage of \n",
              "Nepal Cricket including the latest scores, fixtures, news &amp; photos. ...\n",
              "\n",
              "[Nepal Cricket Team 2025 Schedules, Fixtures &amp; Results, Time Table \n",
              "...](https://www.espncricinfo.com/team/nepal-33/match-schedule-fixtures-and-results)\n",
              "Stay updated with the Nepal cricket schedules, fixtures, and results. Find NEP live cricket scores and upcoming \n",
              "matches on ESPNcricinfo.\n",
              "\n",
              "[Nepal Cricket Team Latest Match Results and Scores- NDTV \n",
              "Sports](https://sports.ndtv.com/cricket/teams/105092-nepal-teamprofile/results)\n",
              "Get the latest Nepal Cricket Results &amp; Score from the Cricket Leagues only at NDTV Sports. ... Lewis Hamilton \n",
              "Unharmed After Crashing During Ferrari Barcelona Test. ... Nepal T20I Tri-Series, 2023 ...\n",
              "\n",
              "[ICC World Test Championship 2023-25: League Stage Recap, Road To \n",
              "Final](https://sports.ndtv.com/cricket/icc-world-test-championship-2023-25-league-stage-recap-road-to-final-7682802\n",
              ")\n",
              "The league stage of the ICC World Test Championship (WTC) 2023-25 concluded with Australia securing a historic \n",
              "series victory in the subcontinent, defeating Sri Lanka by nine wickets\n",
              "\n",
              "[Nepal Cricket Team live scores, results - Cricbuzz](https://www-web.cricbuzz.com/cricket-team/nepal/72/results)\n",
              "Live cricket scores and results of the Nepal Cricket Team on Cricbuzz.com. ... Series India tour of Australia, \n",
              "2024-25 India tour of South Africa, ... 2024 Ranji Trophy Elite 2024-25 New Zealand tour of Sri Lanka, 2024 All \n",
              "Series » Teams. Test Teams India Afghanistan Ireland Pakistan Australia Sri Lanka Bangladesh England West Indies \n",
              "South ...\n",
              "\n",
              "[Nepal Cricket Team | Nepal Match Schedules - NDTV \n",
              "Sports](https://sports.ndtv.com/cricket/teams/105092-nepal-teamprofile)\n",
              "Get the latest information of Nepal Cricket Team players and list of upcoming matches at NDTV Sports. ... Scores ; \n",
              "Series . All Series; ... ICC CWC League 2, 2023-27 at Dallas, Oct 29, 2024. Nepal ...\n",
              "\n",
              "[Australia 6s vs Nepal 6s Live Match Scorecard, Australia 6s vs Nepal 6s \n",
              "...](https://news.abplive.com/sports/cricket/live-score/fullscorecard/australia-6s-vs-nepal-6s-62807c)\n",
              "Australia 6s vs Nepal 6s Live Match Scorecard, Australia 6s vs Nepal 6s Cricket Match Today's Score Summary, \n",
              "Cricket News, LIVE Cricket, Ball by Ball Commentary, All International Matches Score, T20, Domestic Cricket Matches\n",
              "at Sports | ABPLive\n",
              "\n",
              "[Nepal ODI Tri Series 2023 - \n",
              "Cricketwa](https://www.cricketwa.com/11900/series/nepal-odi-tri-series-2023-schedule-fixtures.aspx)\n",
              "Nepal ODI Tri Series 2023; Nepal ODI Tri Series 2023. Results; Stats ... Best Bowling; Nepal ODI Tri Series 2023 \n",
              "Schedule, PNG UAE Tour of NEP Fixtures. Series Result: Nepal-2, United Arab Emirates-0: Start Date: 2023-03-09: End\n",
              "Date: 2023-03-16: Host Country: Nepal: ... Sri Lanka vs Australia Test Series 2025 Schedule: India vs England ODI \n",
              "...\n",
              "\n",
              "[Nepal beat Australia, Nepal won by 11 runs - \n",
              "ESPNcricinfo](https://www.espncricinfo.com/series/hong-kong-international-sixes-2024-25-1457785/australia-vs-nepal-\n",
              "pool-b-1457796/live-cricket-score)\n",
              "NEP 100/5 vs AUS 111/2 - Nepal won by 11 runs in Mong Kok, Hong Kong Sixes 2024, November 02, 2024\n",
              "\n",
              "Out: None\n",
              "</pre>\n"
            ]
          },
          "metadata": {}
        },
        {
          "output_type": "display_data",
          "data": {
            "text/plain": [
              "\u001b[2m[Step 1: Duration 8.08 seconds| Input tokens: 5,380 | Output tokens: 163]\u001b[0m\n"
            ],
            "text/html": [
              "<pre style=\"white-space:pre;overflow-x:auto;line-height:normal;font-family:Menlo,'DejaVu Sans Mono',consolas,'Courier New',monospace\"><span style=\"color: #7f7f7f; text-decoration-color: #7f7f7f\">[Step 1: Duration 8.08 seconds| Input tokens: 5,380 | Output tokens: 163]</span>\n",
              "</pre>\n"
            ]
          },
          "metadata": {}
        },
        {
          "output_type": "display_data",
          "data": {
            "text/plain": [
              "\u001b[38;2;212;183;2m━━━━━━━━━━━━━━━━━━━━━━━━━━━━━━━━━━━━━━━━━━━━━━━━━━━━━ \u001b[0m\u001b[1mStep \u001b[0m\u001b[1;36m3\u001b[0m\u001b[38;2;212;183;2m ━━━━━━━━━━━━━━━━━━━━━━━━━━━━━━━━━━━━━━━━━━━━━━━━━━━━━━\u001b[0m\n"
            ],
            "text/html": [
              "<pre style=\"white-space:pre;overflow-x:auto;line-height:normal;font-family:Menlo,'DejaVu Sans Mono',consolas,'Courier New',monospace\"><span style=\"color: #d4b702; text-decoration-color: #d4b702\">━━━━━━━━━━━━━━━━━━━━━━━━━━━━━━━━━━━━━━━━━━━━━━━━━━━━━ </span><span style=\"font-weight: bold\">Step </span><span style=\"color: #008080; text-decoration-color: #008080; font-weight: bold\">3</span><span style=\"color: #d4b702; text-decoration-color: #d4b702\"> ━━━━━━━━━━━━━━━━━━━━━━━━━━━━━━━━━━━━━━━━━━━━━━━━━━━━━━</span>\n",
              "</pre>\n"
            ]
          },
          "metadata": {}
        },
        {
          "output_type": "display_data",
          "data": {
            "text/plain": [
              " ─ \u001b[1mExecuting parsed code:\u001b[0m ──────────────────────────────────────────────────────────────────────────────────────── \n",
              "  \u001b[38;2;248;248;242;48;2;39;40;34mtest_series_result\u001b[0m\u001b[38;2;248;248;242;48;2;39;40;34m \u001b[0m\u001b[38;2;255;70;137;48;2;39;40;34m=\u001b[0m\u001b[38;2;248;248;242;48;2;39;40;34m \u001b[0m\u001b[38;2;248;248;242;48;2;39;40;34mweb_search\u001b[0m\u001b[38;2;248;248;242;48;2;39;40;34m(\u001b[0m\u001b[38;2;248;248;242;48;2;39;40;34mquery\u001b[0m\u001b[38;2;255;70;137;48;2;39;40;34m=\u001b[0m\u001b[38;2;230;219;116;48;2;39;40;34m\"\u001b[0m\u001b[38;2;230;219;116;48;2;39;40;34mrecent Nepal vs Australia cricket test series result 2023-2024\u001b[0m\u001b[38;2;230;219;116;48;2;39;40;34m\"\u001b[0m\u001b[38;2;248;248;242;48;2;39;40;34m)\u001b[0m\u001b[48;2;39;40;34m        \u001b[0m  \n",
              "  \u001b[38;2;248;248;242;48;2;39;40;34mprint\u001b[0m\u001b[38;2;248;248;242;48;2;39;40;34m(\u001b[0m\u001b[38;2;248;248;242;48;2;39;40;34mtest_series_result\u001b[0m\u001b[38;2;248;248;242;48;2;39;40;34m)\u001b[0m\u001b[48;2;39;40;34m                                                                                      \u001b[0m  \n",
              " ───────────────────────────────────────────────────────────────────────────────────────────────────────────────── \n"
            ],
            "text/html": [
              "<pre style=\"white-space:pre;overflow-x:auto;line-height:normal;font-family:Menlo,'DejaVu Sans Mono',consolas,'Courier New',monospace\"> ─ <span style=\"font-weight: bold\">Executing parsed code:</span> ──────────────────────────────────────────────────────────────────────────────────────── \n",
              "  <span style=\"color: #f8f8f2; text-decoration-color: #f8f8f2; background-color: #272822\">test_series_result </span><span style=\"color: #ff4689; text-decoration-color: #ff4689; background-color: #272822\">=</span><span style=\"color: #f8f8f2; text-decoration-color: #f8f8f2; background-color: #272822\"> web_search(query</span><span style=\"color: #ff4689; text-decoration-color: #ff4689; background-color: #272822\">=</span><span style=\"color: #e6db74; text-decoration-color: #e6db74; background-color: #272822\">\"recent Nepal vs Australia cricket test series result 2023-2024\"</span><span style=\"color: #f8f8f2; text-decoration-color: #f8f8f2; background-color: #272822\">)</span><span style=\"background-color: #272822\">        </span>  \n",
              "  <span style=\"color: #f8f8f2; text-decoration-color: #f8f8f2; background-color: #272822\">print(test_series_result)</span><span style=\"background-color: #272822\">                                                                                      </span>  \n",
              " ───────────────────────────────────────────────────────────────────────────────────────────────────────────────── \n",
              "</pre>\n"
            ]
          },
          "metadata": {}
        },
        {
          "output_type": "display_data",
          "data": {
            "text/plain": [
              "\u001b[1mExecution logs:\u001b[0m\n",
              "## Search Results\n",
              "\n",
              "[Scorecard of Australia vs Nepal Match 11 2024 - Cricket \n",
              "World](https://www.cricketworld.com/cricket/australia-vs-nepal/match/scorecard/85052)\n",
              "Detailed score report & stats for Australia vs Nepal Match 11 , Hong Kong Sixes  ... 2024-11-02 00:30:00. Venue. \n",
              "... Live Cricket Streaming Scores; Betting; News; Radio; TV; Lifestyle;\n",
              "\n",
              "[Australia Test matches team series results - \n",
              "ESPNcricinfo](https://www.espncricinfo.com/records/team/team-series-results/australia-2/test-matches-1)\n",
              "Thailand Women vs Netherlands Women at Kirtipur, Nepal Women's T20I Tri-Series 8th Match, Feb 6, 2025 [Women T20I #\n",
              "2182]\n",
              "\n",
              "[Live Cricket Score | Australia vs Nepal Live Score & Commentary | AUS \n",
              "...](https://www.sportskeeda.com/live-cricket-score/australia-vs-nepal-match-11-02-november-2024/match-center)\n",
              "Nepal vs Australia Hong Kong Sixes Live Score ... Please check the scorecard for latest updates. ... SL vs AUS; PAK\n",
              "ODI Tri-Series; Ranji Trophy 2024; WPL 2025;\n",
              "\n",
              "[Nepal Cricket Team 2025 Schedules, Fixtures & Results, Time Table \n",
              "...](https://www.espncricinfo.com/team/nepal-33/match-schedule-fixtures-and-results)\n",
              "Stay updated with the Nepal cricket schedules, fixtures, and results. Find NEP live cricket scores and upcoming \n",
              "matches on ESPNcricinfo.\n",
              "\n",
              "[Nepal Cricket Team, News, Fixtures, Results and Squads](https://www.cricnepal.com/team/nepal-304)\n",
              "In 2023, Nepal made their ODI Asia Cup debut, playing against India and Pakistan. In June 2024, the Rhinos made \n",
              "their second appearance in the T20 World Cup. ... Nepal Tri-Nation ODI series 2024. ACC Men's Premier Cup. ... \n",
              "cricnepal.com brings the most comprehensive cricket coverage of Nepal Cricket including the latest scores, \n",
              "fixtures, news ...\n",
              "\n",
              "[Nepal beat Australia, Nepal won by 11 runs - \n",
              "ESPNcricinfo](https://www.espncricinfo.com/series/hong-kong-international-sixes-2024-25-1457785/australia-vs-nepal-\n",
              "pool-b-1457796/live-cricket-score)\n",
              "NEP 100/5 vs AUS 111/2 - Nepal won by 11 runs in Mong Kok, Hong Kong Sixes 2024, November 02, 2024\n",
              "\n",
              "[Nepal Cricket Team Latest Match Results and Scores- NDTV \n",
              "Sports](https://sports.ndtv.com/cricket/teams/105092-nepal-teamprofile/results)\n",
              "Get the latest Nepal Cricket Results & Score from the Cricket Leagues only at NDTV Sports. ... Canada in Nepal, 3 \n",
              "ODI Series, 2024. Nepal. 234/1 (44.3) Canada. ... Nepal T20I Tri-Series, 2023 ...\n",
              "\n",
              "[Nepal Cricket Team live scores, results - Cricbuzz](https://www-web.cricbuzz.com/cricket-team/nepal/72/results)\n",
              "Live cricket scores and results of the Nepal Cricket Team on Cricbuzz.com. ... Series India tour of Australia, \n",
              "2024-25 India tour of South Africa, ... 2024 All Series » Teams. Test Teams India Afghanistan Ireland Pakistan \n",
              "Australia Sri Lanka Bangladesh England West Indies South Africa Zimbabwe New Zealand. Associate\n",
              "\n",
              "[ICC World Test Championship 2023-25: League Stage Recap, Road To \n",
              "Final](https://sports.ndtv.com/cricket/icc-world-test-championship-2023-25-league-stage-recap-road-to-final-7682802\n",
              ")\n",
              "The league stage of the ICC World Test Championship (WTC) 2023-25 concluded with Australia securing a historic \n",
              "series victory in the subcontinent, defeating Sri Lanka by nine wickets\n",
              "\n",
              "[Nepal vs Australia Head to Head in Test: Records, Stats, Results \n",
              "...](https://www.mykhel.com/cricket/nepal-vs-australia-head-to-head-in-test/)\n",
              "Latest News DBR vs RAN Dream11 Prediction, BPL 2024-25: Durbar Rajshahi vs Rangpur Riders Fantasy XI, Captain And \n",
              "Vice-Captain Choices, Match - 34 Ranji Trophy 2024/25: Dismayed by Umpiring Standard, Jammu & Kashmir Complaint to \n",
              "BCCI After Upset Mumbai Win\n",
              "\n",
              "Out: None\n"
            ],
            "text/html": [
              "<pre style=\"white-space:pre;overflow-x:auto;line-height:normal;font-family:Menlo,'DejaVu Sans Mono',consolas,'Courier New',monospace\"><span style=\"font-weight: bold\">Execution logs:</span>\n",
              "## Search Results\n",
              "\n",
              "[Scorecard of Australia vs Nepal Match 11 2024 - Cricket \n",
              "World](https://www.cricketworld.com/cricket/australia-vs-nepal/match/scorecard/85052)\n",
              "Detailed score report &amp; stats for Australia vs Nepal Match 11 , Hong Kong Sixes  ... 2024-11-02 00:30:00. Venue. \n",
              "... Live Cricket Streaming Scores; Betting; News; Radio; TV; Lifestyle;\n",
              "\n",
              "[Australia Test matches team series results - \n",
              "ESPNcricinfo](https://www.espncricinfo.com/records/team/team-series-results/australia-2/test-matches-1)\n",
              "Thailand Women vs Netherlands Women at Kirtipur, Nepal Women's T20I Tri-Series 8th Match, Feb 6, 2025 [Women T20I #\n",
              "2182]\n",
              "\n",
              "[Live Cricket Score | Australia vs Nepal Live Score &amp; Commentary | AUS \n",
              "...](https://www.sportskeeda.com/live-cricket-score/australia-vs-nepal-match-11-02-november-2024/match-center)\n",
              "Nepal vs Australia Hong Kong Sixes Live Score ... Please check the scorecard for latest updates. ... SL vs AUS; PAK\n",
              "ODI Tri-Series; Ranji Trophy 2024; WPL 2025;\n",
              "\n",
              "[Nepal Cricket Team 2025 Schedules, Fixtures &amp; Results, Time Table \n",
              "...](https://www.espncricinfo.com/team/nepal-33/match-schedule-fixtures-and-results)\n",
              "Stay updated with the Nepal cricket schedules, fixtures, and results. Find NEP live cricket scores and upcoming \n",
              "matches on ESPNcricinfo.\n",
              "\n",
              "[Nepal Cricket Team, News, Fixtures, Results and Squads](https://www.cricnepal.com/team/nepal-304)\n",
              "In 2023, Nepal made their ODI Asia Cup debut, playing against India and Pakistan. In June 2024, the Rhinos made \n",
              "their second appearance in the T20 World Cup. ... Nepal Tri-Nation ODI series 2024. ACC Men's Premier Cup. ... \n",
              "cricnepal.com brings the most comprehensive cricket coverage of Nepal Cricket including the latest scores, \n",
              "fixtures, news ...\n",
              "\n",
              "[Nepal beat Australia, Nepal won by 11 runs - \n",
              "ESPNcricinfo](https://www.espncricinfo.com/series/hong-kong-international-sixes-2024-25-1457785/australia-vs-nepal-\n",
              "pool-b-1457796/live-cricket-score)\n",
              "NEP 100/5 vs AUS 111/2 - Nepal won by 11 runs in Mong Kok, Hong Kong Sixes 2024, November 02, 2024\n",
              "\n",
              "[Nepal Cricket Team Latest Match Results and Scores- NDTV \n",
              "Sports](https://sports.ndtv.com/cricket/teams/105092-nepal-teamprofile/results)\n",
              "Get the latest Nepal Cricket Results &amp; Score from the Cricket Leagues only at NDTV Sports. ... Canada in Nepal, 3 \n",
              "ODI Series, 2024. Nepal. 234/1 (44.3) Canada. ... Nepal T20I Tri-Series, 2023 ...\n",
              "\n",
              "[Nepal Cricket Team live scores, results - Cricbuzz](https://www-web.cricbuzz.com/cricket-team/nepal/72/results)\n",
              "Live cricket scores and results of the Nepal Cricket Team on Cricbuzz.com. ... Series India tour of Australia, \n",
              "2024-25 India tour of South Africa, ... 2024 All Series » Teams. Test Teams India Afghanistan Ireland Pakistan \n",
              "Australia Sri Lanka Bangladesh England West Indies South Africa Zimbabwe New Zealand. Associate\n",
              "\n",
              "[ICC World Test Championship 2023-25: League Stage Recap, Road To \n",
              "Final](https://sports.ndtv.com/cricket/icc-world-test-championship-2023-25-league-stage-recap-road-to-final-7682802\n",
              ")\n",
              "The league stage of the ICC World Test Championship (WTC) 2023-25 concluded with Australia securing a historic \n",
              "series victory in the subcontinent, defeating Sri Lanka by nine wickets\n",
              "\n",
              "[Nepal vs Australia Head to Head in Test: Records, Stats, Results \n",
              "...](https://www.mykhel.com/cricket/nepal-vs-australia-head-to-head-in-test/)\n",
              "Latest News DBR vs RAN Dream11 Prediction, BPL 2024-25: Durbar Rajshahi vs Rangpur Riders Fantasy XI, Captain And \n",
              "Vice-Captain Choices, Match - 34 Ranji Trophy 2024/25: Dismayed by Umpiring Standard, Jammu &amp; Kashmir Complaint to \n",
              "BCCI After Upset Mumbai Win\n",
              "\n",
              "Out: None\n",
              "</pre>\n"
            ]
          },
          "metadata": {}
        },
        {
          "output_type": "display_data",
          "data": {
            "text/plain": [
              "\u001b[2m[Step 2: Duration 8.90 seconds| Input tokens: 9,980 | Output tokens: 269]\u001b[0m\n"
            ],
            "text/html": [
              "<pre style=\"white-space:pre;overflow-x:auto;line-height:normal;font-family:Menlo,'DejaVu Sans Mono',consolas,'Courier New',monospace\"><span style=\"color: #7f7f7f; text-decoration-color: #7f7f7f\">[Step 2: Duration 8.90 seconds| Input tokens: 9,980 | Output tokens: 269]</span>\n",
              "</pre>\n"
            ]
          },
          "metadata": {}
        },
        {
          "output_type": "display_data",
          "data": {
            "text/plain": [
              "\u001b[38;2;212;183;2m━━━━━━━━━━━━━━━━━━━━━━━━━━━━━━━━━━━━━━━━━━━━━━━━━━━━━ \u001b[0m\u001b[1mStep \u001b[0m\u001b[1;36m4\u001b[0m\u001b[38;2;212;183;2m ━━━━━━━━━━━━━━━━━━━━━━━━━━━━━━━━━━━━━━━━━━━━━━━━━━━━━━\u001b[0m\n"
            ],
            "text/html": [
              "<pre style=\"white-space:pre;overflow-x:auto;line-height:normal;font-family:Menlo,'DejaVu Sans Mono',consolas,'Courier New',monospace\"><span style=\"color: #d4b702; text-decoration-color: #d4b702\">━━━━━━━━━━━━━━━━━━━━━━━━━━━━━━━━━━━━━━━━━━━━━━━━━━━━━ </span><span style=\"font-weight: bold\">Step </span><span style=\"color: #008080; text-decoration-color: #008080; font-weight: bold\">4</span><span style=\"color: #d4b702; text-decoration-color: #d4b702\"> ━━━━━━━━━━━━━━━━━━━━━━━━━━━━━━━━━━━━━━━━━━━━━━━━━━━━━━</span>\n",
              "</pre>\n"
            ]
          },
          "metadata": {}
        },
        {
          "output_type": "display_data",
          "data": {
            "text/plain": [
              " ─ \u001b[1mExecuting parsed code:\u001b[0m ──────────────────────────────────────────────────────────────────────────────────────── \n",
              "  \u001b[38;2;248;248;242;48;2;39;40;34mfinal_answer\u001b[0m\u001b[38;2;248;248;242;48;2;39;40;34m(\u001b[0m\u001b[38;2;230;219;116;48;2;39;40;34m\"\u001b[0m\u001b[38;2;230;219;116;48;2;39;40;34mNo recent test series found between Nepal and Australia in 2023-2024.\u001b[0m\u001b[38;2;230;219;116;48;2;39;40;34m\"\u001b[0m\u001b[38;2;248;248;242;48;2;39;40;34m)\u001b[0m\u001b[48;2;39;40;34m                          \u001b[0m  \n",
              " ───────────────────────────────────────────────────────────────────────────────────────────────────────────────── \n"
            ],
            "text/html": [
              "<pre style=\"white-space:pre;overflow-x:auto;line-height:normal;font-family:Menlo,'DejaVu Sans Mono',consolas,'Courier New',monospace\"> ─ <span style=\"font-weight: bold\">Executing parsed code:</span> ──────────────────────────────────────────────────────────────────────────────────────── \n",
              "  <span style=\"color: #f8f8f2; text-decoration-color: #f8f8f2; background-color: #272822\">final_answer(</span><span style=\"color: #e6db74; text-decoration-color: #e6db74; background-color: #272822\">\"No recent test series found between Nepal and Australia in 2023-2024.\"</span><span style=\"color: #f8f8f2; text-decoration-color: #f8f8f2; background-color: #272822\">)</span><span style=\"background-color: #272822\">                          </span>  \n",
              " ───────────────────────────────────────────────────────────────────────────────────────────────────────────────── \n",
              "</pre>\n"
            ]
          },
          "metadata": {}
        },
        {
          "output_type": "display_data",
          "data": {
            "text/plain": [
              "\u001b[1;38;2;212;183;2mOut - Final answer: No recent test series found between Nepal and Australia in 2023-2024.\u001b[0m\n"
            ],
            "text/html": [
              "<pre style=\"white-space:pre;overflow-x:auto;line-height:normal;font-family:Menlo,'DejaVu Sans Mono',consolas,'Courier New',monospace\"><span style=\"color: #d4b702; text-decoration-color: #d4b702; font-weight: bold\">Out - Final answer: No recent test series found between Nepal and Australia in 2023-2024.</span>\n",
              "</pre>\n"
            ]
          },
          "metadata": {}
        },
        {
          "output_type": "display_data",
          "data": {
            "text/plain": [
              "\u001b[2m[Step 3: Duration 8.67 seconds| Input tokens: 15,854 | Output tokens: 385]\u001b[0m\n"
            ],
            "text/html": [
              "<pre style=\"white-space:pre;overflow-x:auto;line-height:normal;font-family:Menlo,'DejaVu Sans Mono',consolas,'Courier New',monospace\"><span style=\"color: #7f7f7f; text-decoration-color: #7f7f7f\">[Step 3: Duration 8.67 seconds| Input tokens: 15,854 | Output tokens: 385]</span>\n",
              "</pre>\n"
            ]
          },
          "metadata": {}
        },
        {
          "output_type": "execute_result",
          "data": {
            "text/plain": [
              "'No recent test series found between Nepal and Australia in 2023-2024.'"
            ],
            "application/vnd.google.colaboratory.intrinsic+json": {
              "type": "string"
            }
          },
          "metadata": {},
          "execution_count": 11
        }
      ]
    },
    {
      "cell_type": "code",
      "source": [
        "print(agent.system_prompt)"
      ],
      "metadata": {
        "colab": {
          "base_uri": "https://localhost:8080/"
        },
        "id": "-FDvFfDCw0k3",
        "outputId": "e53b00af-9f07-46ce-f163-31ff110927f1"
      },
      "execution_count": 12,
      "outputs": [
        {
          "output_type": "stream",
          "name": "stdout",
          "text": [
            "You are an expert assistant who can solve any task using code blobs. You will be given a task to solve as best you can.\n",
            "To do so, you have been given access to a list of tools: these tools are basically Python functions which you can call with code.\n",
            "To solve the task, you must plan forward to proceed in a series of steps, in a cycle of 'Thought:', 'Code:', and 'Observation:' sequences.\n",
            "\n",
            "At each step, in the 'Thought:' sequence, you should first explain your reasoning towards solving the task and the tools that you want to use.\n",
            "Then in the 'Code:' sequence, you should write the code in simple Python. The code sequence must end with '<end_code>' sequence.\n",
            "During each intermediate step, you can use 'print()' to save whatever important information you will then need.\n",
            "These print outputs will then appear in the 'Observation:' field, which will be available as input for the next step.\n",
            "In the end you have to return a final answer using the `final_answer` tool.\n",
            "\n",
            "Here are a few examples using notional tools:\n",
            "---\n",
            "Task: \"Generate an image of the oldest person in this document.\"\n",
            "\n",
            "Thought: I will proceed step by step and use the following tools: `document_qa` to find the oldest person in the document, then `image_generator` to generate an image according to the answer.\n",
            "Code:\n",
            "```py\n",
            "answer = document_qa(document=document, question=\"Who is the oldest person mentioned?\")\n",
            "print(answer)\n",
            "```<end_code>\n",
            "Observation: \"The oldest person in the document is John Doe, a 55 year old lumberjack living in Newfoundland.\"\n",
            "\n",
            "Thought: I will now generate an image showcasing the oldest person.\n",
            "Code:\n",
            "```py\n",
            "image = image_generator(\"A portrait of John Doe, a 55-year-old man living in Canada.\")\n",
            "final_answer(image)\n",
            "```<end_code>\n",
            "\n",
            "---\n",
            "Task: \"What is the result of the following operation: 5 + 3 + 1294.678?\"\n",
            "\n",
            "Thought: I will use python code to compute the result of the operation and then return the final answer using the `final_answer` tool\n",
            "Code:\n",
            "```py\n",
            "result = 5 + 3 + 1294.678\n",
            "final_answer(result)\n",
            "```<end_code>\n",
            "\n",
            "---\n",
            "Task:\n",
            "\"Answer the question in the variable `question` about the image stored in the variable `image`. The question is in French.\n",
            "You have been provided with these additional arguments, that you can access using the keys as variables in your python code:\n",
            "{'question': 'Quel est l'animal sur l'image?', 'image': 'path/to/image.jpg'}\"\n",
            "\n",
            "Thought: I will use the following tools: `translator` to translate the question into English and then `image_qa` to answer the question on the input image.\n",
            "Code:\n",
            "```py\n",
            "translated_question = translator(question=question, src_lang=\"French\", tgt_lang=\"English\")\n",
            "print(f\"The translated question is {translated_question}.\")\n",
            "answer = image_qa(image=image, question=translated_question)\n",
            "final_answer(f\"The answer is {answer}\")\n",
            "```<end_code>\n",
            "\n",
            "---\n",
            "Task:\n",
            "In a 1979 interview, Stanislaus Ulam discusses with Martin Sherwin about other great physicists of his time, including Oppenheimer.\n",
            "What does he say was the consequence of Einstein learning too much math on his creativity, in one word?\n",
            "\n",
            "Thought: I need to find and read the 1979 interview of Stanislaus Ulam with Martin Sherwin.\n",
            "Code:\n",
            "```py\n",
            "pages = search(query=\"1979 interview Stanislaus Ulam Martin Sherwin physicists Einstein\")\n",
            "print(pages)\n",
            "```<end_code>\n",
            "Observation:\n",
            "No result found for query \"1979 interview Stanislaus Ulam Martin Sherwin physicists Einstein\".\n",
            "\n",
            "Thought: The query was maybe too restrictive and did not find any results. Let's try again with a broader query.\n",
            "Code:\n",
            "```py\n",
            "pages = search(query=\"1979 interview Stanislaus Ulam\")\n",
            "print(pages)\n",
            "```<end_code>\n",
            "Observation:\n",
            "Found 6 pages:\n",
            "[Stanislaus Ulam 1979 interview](https://ahf.nuclearmuseum.org/voices/oral-histories/stanislaus-ulams-interview-1979/)\n",
            "\n",
            "[Ulam discusses Manhattan Project](https://ahf.nuclearmuseum.org/manhattan-project/ulam-manhattan-project/)\n",
            "\n",
            "(truncated)\n",
            "\n",
            "Thought: I will read the first 2 pages to know more.\n",
            "Code:\n",
            "```py\n",
            "for url in [\"https://ahf.nuclearmuseum.org/voices/oral-histories/stanislaus-ulams-interview-1979/\", \"https://ahf.nuclearmuseum.org/manhattan-project/ulam-manhattan-project/\"]:\n",
            "    whole_page = visit_webpage(url)\n",
            "    print(whole_page)\n",
            "    print(\"\\n\" + \"=\"*80 + \"\\n\")  # Print separator between pages\n",
            "```<end_code>\n",
            "Observation:\n",
            "Manhattan Project Locations:\n",
            "Los Alamos, NM\n",
            "Stanislaus Ulam was a Polish-American mathematician. He worked on the Manhattan Project at Los Alamos and later helped design the hydrogen bomb. In this interview, he discusses his work at\n",
            "(truncated)\n",
            "\n",
            "Thought: I now have the final answer: from the webpages visited, Stanislaus Ulam says of Einstein: \"He learned too much mathematics and sort of diminished, it seems to me personally, it seems to me his purely physics creativity.\" Let's answer in one word.\n",
            "Code:\n",
            "```py\n",
            "final_answer(\"diminished\")\n",
            "```<end_code>\n",
            "\n",
            "---\n",
            "Task: \"Which city has the highest population: Guangzhou or Shanghai?\"\n",
            "\n",
            "Thought: I need to get the populations for both cities and compare them: I will use the tool `search` to get the population of both cities.\n",
            "Code:\n",
            "```py\n",
            "for city in [\"Guangzhou\", \"Shanghai\"]:\n",
            "    print(f\"Population {city}:\", search(f\"{city} population\")\n",
            "```<end_code>\n",
            "Observation:\n",
            "Population Guangzhou: ['Guangzhou has a population of 15 million inhabitants as of 2021.']\n",
            "Population Shanghai: '26 million (2019)'\n",
            "\n",
            "Thought: Now I know that Shanghai has the highest population.\n",
            "Code:\n",
            "```py\n",
            "final_answer(\"Shanghai\")\n",
            "```<end_code>\n",
            "\n",
            "---\n",
            "Task: \"What is the current age of the pope, raised to the power 0.36?\"\n",
            "\n",
            "Thought: I will use the tool `wiki` to get the age of the pope, and confirm that with a web search.\n",
            "Code:\n",
            "```py\n",
            "pope_age_wiki = wiki(query=\"current pope age\")\n",
            "print(\"Pope age as per wikipedia:\", pope_age_wiki)\n",
            "pope_age_search = web_search(query=\"current pope age\")\n",
            "print(\"Pope age as per google search:\", pope_age_search)\n",
            "```<end_code>\n",
            "Observation:\n",
            "Pope age: \"The pope Francis is currently 88 years old.\"\n",
            "\n",
            "Thought: I know that the pope is 88 years old. Let's compute the result using python code.\n",
            "Code:\n",
            "```py\n",
            "pope_current_age = 88 ** 0.36\n",
            "final_answer(pope_current_age)\n",
            "```<end_code>\n",
            "\n",
            "Above example were using notional tools that might not exist for you. On top of performing computations in the Python code snippets that you create, you only have access to these tools:\n",
            "- web_search: Performs a duckduckgo web search based on your query (think a Google search) then returns the top search results.\n",
            "    Takes inputs: {'query': {'type': 'string', 'description': 'The search query to perform.'}}\n",
            "    Returns an output of type: string\n",
            "- final_answer: Provides a final answer to the given problem.\n",
            "    Takes inputs: {'answer': {'type': 'any', 'description': 'The final answer to the problem'}}\n",
            "    Returns an output of type: any\n",
            "\n",
            "Here are the rules you should always follow to solve your task:\n",
            "1. Always provide a 'Thought:' sequence, and a 'Code:\\n```py' sequence ending with '```<end_code>' sequence, else you will fail.\n",
            "2. Use only variables that you have defined!\n",
            "3. Always use the right arguments for the tools. DO NOT pass the arguments as a dict as in 'answer = wiki({'query': \"What is the place where James Bond lives?\"})', but use the arguments directly as in 'answer = wiki(query=\"What is the place where James Bond lives?\")'.\n",
            "4. Take care to not chain too many sequential tool calls in the same code block, especially when the output format is unpredictable. For instance, a call to search has an unpredictable return format, so do not have another tool call that depends on its output in the same block: rather output results with print() to use them in the next block.\n",
            "5. Call a tool only when needed, and never re-do a tool call that you previously did with the exact same parameters.\n",
            "6. Don't name any new variable with the same name as a tool: for instance don't name a variable 'final_answer'.\n",
            "7. Never create any notional variables in our code, as having these in your logs will derail you from the true variables.\n",
            "8. You can use imports in your code, but only from the following list of modules: ['datetime', 'random', 're', 'unicodedata', 'stat', 'queue', 'statistics', 'time', 'math', 'collections', 'itertools']\n",
            "9. The state persists between code executions: so if in one step you've created variables or imported modules, these will all persist.\n",
            "10. Don't give up! You're in charge of solving the task, not providing directions to solve it.\n",
            "\n",
            "Now Begin! If you solve the task correctly, you will receive a reward of $1,000,000.\n"
          ]
        }
      ]
    },
    {
      "cell_type": "code",
      "source": [
        "agent.authorized_imports"
      ],
      "metadata": {
        "colab": {
          "base_uri": "https://localhost:8080/"
        },
        "id": "ARyC_aRQxlBP",
        "outputId": "0ac05a94-4239-4829-fdd7-0c9a1693d6cd"
      },
      "execution_count": 13,
      "outputs": [
        {
          "output_type": "execute_result",
          "data": {
            "text/plain": [
              "['datetime',\n",
              " 'random',\n",
              " 're',\n",
              " 'unicodedata',\n",
              " 'stat',\n",
              " 'queue',\n",
              " 'statistics',\n",
              " 'time',\n",
              " 'math',\n",
              " 'collections',\n",
              " 'itertools']"
            ]
          },
          "metadata": {},
          "execution_count": 13
        }
      ]
    },
    {
      "cell_type": "code",
      "source": [
        "agent.run(\"fetch the share price of google from 2020 to 2024, and create a line graph from it?\")"
      ],
      "metadata": {
        "colab": {
          "base_uri": "https://localhost:8080/",
          "height": 1000
        },
        "id": "AI_v_vQoxwMf",
        "outputId": "d8f1581d-4b1f-454c-863e-1952e5e9127d"
      },
      "execution_count": 14,
      "outputs": [
        {
          "output_type": "display_data",
          "data": {
            "text/plain": [
              "\u001b[38;2;212;183;2m╭─\u001b[0m\u001b[38;2;212;183;2m───────────────────────────────────────────────────\u001b[0m\u001b[38;2;212;183;2m \u001b[0m\u001b[1;38;2;212;183;2mNew run\u001b[0m\u001b[38;2;212;183;2m \u001b[0m\u001b[38;2;212;183;2m───────────────────────────────────────────────────\u001b[0m\u001b[38;2;212;183;2m─╮\u001b[0m\n",
              "\u001b[38;2;212;183;2m│\u001b[0m                                                                                                                 \u001b[38;2;212;183;2m│\u001b[0m\n",
              "\u001b[38;2;212;183;2m│\u001b[0m \u001b[1mfetch the share price of google from 2020 to 2024, and create a line graph from it?\u001b[0m                             \u001b[38;2;212;183;2m│\u001b[0m\n",
              "\u001b[38;2;212;183;2m│\u001b[0m                                                                                                                 \u001b[38;2;212;183;2m│\u001b[0m\n",
              "\u001b[38;2;212;183;2m╰─\u001b[0m\u001b[38;2;212;183;2m HfApiModel - Qwen/Qwen2.5-Coder-32B-Instruct \u001b[0m\u001b[38;2;212;183;2m─────────────────────────────────────────────────────────────────\u001b[0m\u001b[38;2;212;183;2m─╯\u001b[0m\n"
            ],
            "text/html": [
              "<pre style=\"white-space:pre;overflow-x:auto;line-height:normal;font-family:Menlo,'DejaVu Sans Mono',consolas,'Courier New',monospace\"><span style=\"color: #d4b702; text-decoration-color: #d4b702\">╭──────────────────────────────────────────────────── </span><span style=\"color: #d4b702; text-decoration-color: #d4b702; font-weight: bold\">New run</span><span style=\"color: #d4b702; text-decoration-color: #d4b702\"> ────────────────────────────────────────────────────╮</span>\n",
              "<span style=\"color: #d4b702; text-decoration-color: #d4b702\">│</span>                                                                                                                 <span style=\"color: #d4b702; text-decoration-color: #d4b702\">│</span>\n",
              "<span style=\"color: #d4b702; text-decoration-color: #d4b702\">│</span> <span style=\"font-weight: bold\">fetch the share price of google from 2020 to 2024, and create a line graph from it?</span>                             <span style=\"color: #d4b702; text-decoration-color: #d4b702\">│</span>\n",
              "<span style=\"color: #d4b702; text-decoration-color: #d4b702\">│</span>                                                                                                                 <span style=\"color: #d4b702; text-decoration-color: #d4b702\">│</span>\n",
              "<span style=\"color: #d4b702; text-decoration-color: #d4b702\">╰─ HfApiModel - Qwen/Qwen2.5-Coder-32B-Instruct ──────────────────────────────────────────────────────────────────╯</span>\n",
              "</pre>\n"
            ]
          },
          "metadata": {}
        },
        {
          "output_type": "display_data",
          "data": {
            "text/plain": [
              "\u001b[38;2;212;183;2m━━━━━━━━━━━━━━━━━━━━━━━━━━━━━━━━━━━━━━━━━━━━━━━━━━━━━ \u001b[0m\u001b[1mStep \u001b[0m\u001b[1;36m1\u001b[0m\u001b[38;2;212;183;2m ━━━━━━━━━━━━━━━━━━━━━━━━━━━━━━━━━━━━━━━━━━━━━━━━━━━━━━\u001b[0m\n"
            ],
            "text/html": [
              "<pre style=\"white-space:pre;overflow-x:auto;line-height:normal;font-family:Menlo,'DejaVu Sans Mono',consolas,'Courier New',monospace\"><span style=\"color: #d4b702; text-decoration-color: #d4b702\">━━━━━━━━━━━━━━━━━━━━━━━━━━━━━━━━━━━━━━━━━━━━━━━━━━━━━ </span><span style=\"font-weight: bold\">Step </span><span style=\"color: #008080; text-decoration-color: #008080; font-weight: bold\">1</span><span style=\"color: #d4b702; text-decoration-color: #d4b702\"> ━━━━━━━━━━━━━━━━━━━━━━━━━━━━━━━━━━━━━━━━━━━━━━━━━━━━━━</span>\n",
              "</pre>\n"
            ]
          },
          "metadata": {}
        },
        {
          "output_type": "display_data",
          "data": {
            "text/plain": [
              " ─ \u001b[1mExecuting parsed code:\u001b[0m ──────────────────────────────────────────────────────────────────────────────────────── \n",
              "  \u001b[38;2;248;248;242;48;2;39;40;34mapi_info\u001b[0m\u001b[38;2;248;248;242;48;2;39;40;34m \u001b[0m\u001b[38;2;255;70;137;48;2;39;40;34m=\u001b[0m\u001b[38;2;248;248;242;48;2;39;40;34m \u001b[0m\u001b[38;2;248;248;242;48;2;39;40;34mweb_search\u001b[0m\u001b[38;2;248;248;242;48;2;39;40;34m(\u001b[0m\u001b[38;2;248;248;242;48;2;39;40;34mquery\u001b[0m\u001b[38;2;255;70;137;48;2;39;40;34m=\u001b[0m\u001b[38;2;230;219;116;48;2;39;40;34m\"\u001b[0m\u001b[38;2;230;219;116;48;2;39;40;34mFree financial data API for historical stock prices\u001b[0m\u001b[38;2;230;219;116;48;2;39;40;34m\"\u001b[0m\u001b[38;2;248;248;242;48;2;39;40;34m)\u001b[0m\u001b[48;2;39;40;34m                             \u001b[0m  \n",
              "  \u001b[38;2;248;248;242;48;2;39;40;34mprint\u001b[0m\u001b[38;2;248;248;242;48;2;39;40;34m(\u001b[0m\u001b[38;2;248;248;242;48;2;39;40;34mapi_info\u001b[0m\u001b[38;2;248;248;242;48;2;39;40;34m)\u001b[0m\u001b[48;2;39;40;34m                                                                                                \u001b[0m  \n",
              " ───────────────────────────────────────────────────────────────────────────────────────────────────────────────── \n"
            ],
            "text/html": [
              "<pre style=\"white-space:pre;overflow-x:auto;line-height:normal;font-family:Menlo,'DejaVu Sans Mono',consolas,'Courier New',monospace\"> ─ <span style=\"font-weight: bold\">Executing parsed code:</span> ──────────────────────────────────────────────────────────────────────────────────────── \n",
              "  <span style=\"color: #f8f8f2; text-decoration-color: #f8f8f2; background-color: #272822\">api_info </span><span style=\"color: #ff4689; text-decoration-color: #ff4689; background-color: #272822\">=</span><span style=\"color: #f8f8f2; text-decoration-color: #f8f8f2; background-color: #272822\"> web_search(query</span><span style=\"color: #ff4689; text-decoration-color: #ff4689; background-color: #272822\">=</span><span style=\"color: #e6db74; text-decoration-color: #e6db74; background-color: #272822\">\"Free financial data API for historical stock prices\"</span><span style=\"color: #f8f8f2; text-decoration-color: #f8f8f2; background-color: #272822\">)</span><span style=\"background-color: #272822\">                             </span>  \n",
              "  <span style=\"color: #f8f8f2; text-decoration-color: #f8f8f2; background-color: #272822\">print(api_info)</span><span style=\"background-color: #272822\">                                                                                                </span>  \n",
              " ───────────────────────────────────────────────────────────────────────────────────────────────────────────────── \n",
              "</pre>\n"
            ]
          },
          "metadata": {}
        },
        {
          "output_type": "display_data",
          "data": {
            "text/plain": [
              "\u001b[1mExecution logs:\u001b[0m\n",
              "## Search Results\n",
              "\n",
              "[StockData - Free Real-time, Intraday, Historical Stock Data API](https://www.stockdata.org/)\n",
              "StockData.org - free intraday and historical stock, forex and crypto data and news in JSON format with easy to use \n",
              "API endpoints. ... US stock prices. Obtain US stock prices. Also includes extended hours data. Intraday data. ... \n",
              "Each time the API is used to access stock or currency data, 1 API request is added to your daily usage. The number \n",
              "of ...\n",
              "\n",
              "[10 Best FREE Stock APIs in 2024 | Coinmonks - Medium](https://medium.com/coinmonks/free-stock-apis-de8f13619911)\n",
              "Stock Market APIs provide a standardized way for developers to access a wide range of financial information, \n",
              "including stock prices, historical data, technical indicators, company financials ...\n",
              "\n",
              "[Free Stock APIs in JSON & Excel | Alpha Vantage](https://www.alphavantage.co/)\n",
              "Alpha Vantage offers free stock APIs in JSON and CSV formats for realtime and historical stock market data, \n",
              "options, forex, commodity, cryptocurrency feeds and over 50 technical indicators. Global market news API and \n",
              "sentiment scores powered by AI and machine learning. Supports intraday, daily, weekly, and monthly quotes and \n",
              "technical analysis with chart-ready time series.\n",
              "\n",
              "[Free Stock Market API and Financial Statements API](https://site.financialmodelingprep.com/developer/docs)\n",
              "Whether you're looking for real-time stock prices, financial statements, or historical data, we offer a \n",
              "comprehensive solution to meet all your financial data needs. Our platform provides free stock market data, \n",
              "including audited, standardized, and real-time updates of income statements, balance sheets, and cash flow \n",
              "statements on a quarterly ...\n",
              "\n",
              "[Free Stock Market Data API for Real-Time & Historical Data](https://marketstack.com/)\n",
              "Obtain real-time stock data for any ticker down to the minute, request intraday quotes or search 30+ years of \n",
              "accurate historical market data. 170,000+ Stock Tickers Easily integrate the API and make use of 170,000+ worldwide\n",
              "stock tickers, collected from 70 global exchanges, including Nasdaq, NYSE, and more.\n",
              "\n",
              "[Historical Stock Price API- \n",
              "FinancialModelingPrep](https://site.financialmodelingprep.com/developer/docs/historical-stock-data-free-api/?direct\n",
              "=true)\n",
              "Financial Modeling Prep API provides real time stock price, company financial statements, major index prices, stock\n",
              "historical data, forex real time rate and cryptocurrencies. Financial Modeling Prep stock price API is in real \n",
              "time, the company reports can be found in quarter or annual format, and goes up to 30 years back in history.\n",
              "\n",
              "[Polygon.io - Stock Market API](https://polygon.io/)\n",
              "Stock API with real-time and historical tick data, unlimited usage via REST or WebSockets, standardized JSON and \n",
              "CSV formats. Instant access free tier. Polygon.io. Products. Docs. Company. Pricing. Contact. Polygon.io. Open main\n",
              "menu. ... you can trust that you're getting the most accurate and up-to-date financial data to power your \n",
              "applications.\n",
              "\n",
              "[Stock Market Data APIs (Real Time & Historical) - Twelve Data](https://twelvedata.com/stocks)\n",
              "Use free stock data APIs from the US, Canada, India, and 50+ other exchanges. Data in JSON and CSV formats, with \n",
              "100+ technical indicators.\n",
              "\n",
              "[10 Best Free Stock Data APIs to Power Your \n",
              "Projects](https://bioneerslive.org/2024/11/10-best-free-stock-data-apis-to-power-your-projects/)\n",
              "2. API for Historical Stock Data. If you're developing a platform for stock analysis, backtesting strategies, or \n",
              "long-term trend analysis, historical data is a must-have. A free stock API offering access to years of historical \n",
              "stock data allows users to analyze past market behavior and predict future trends. This type of data is crucial for\n",
              "...\n",
              "\n",
              "[Free Stock Price API by Fcsapi.com: Real-time & Historical Data](https://fcsapi.com/blog/free-stock-price-api/)\n",
              "A Free Stock Price API provides users with access to live and historical stock price data without any cost. These \n",
              "APIs are essential tools for developers building financial applications, investors tracking their portfolios, and \n",
              "businesses requiring financial data integration.\n",
              "\n",
              "Out: None\n"
            ],
            "text/html": [
              "<pre style=\"white-space:pre;overflow-x:auto;line-height:normal;font-family:Menlo,'DejaVu Sans Mono',consolas,'Courier New',monospace\"><span style=\"font-weight: bold\">Execution logs:</span>\n",
              "## Search Results\n",
              "\n",
              "[StockData - Free Real-time, Intraday, Historical Stock Data API](https://www.stockdata.org/)\n",
              "StockData.org - free intraday and historical stock, forex and crypto data and news in JSON format with easy to use \n",
              "API endpoints. ... US stock prices. Obtain US stock prices. Also includes extended hours data. Intraday data. ... \n",
              "Each time the API is used to access stock or currency data, 1 API request is added to your daily usage. The number \n",
              "of ...\n",
              "\n",
              "[10 Best FREE Stock APIs in 2024 | Coinmonks - Medium](https://medium.com/coinmonks/free-stock-apis-de8f13619911)\n",
              "Stock Market APIs provide a standardized way for developers to access a wide range of financial information, \n",
              "including stock prices, historical data, technical indicators, company financials ...\n",
              "\n",
              "[Free Stock APIs in JSON &amp; Excel | Alpha Vantage](https://www.alphavantage.co/)\n",
              "Alpha Vantage offers free stock APIs in JSON and CSV formats for realtime and historical stock market data, \n",
              "options, forex, commodity, cryptocurrency feeds and over 50 technical indicators. Global market news API and \n",
              "sentiment scores powered by AI and machine learning. Supports intraday, daily, weekly, and monthly quotes and \n",
              "technical analysis with chart-ready time series.\n",
              "\n",
              "[Free Stock Market API and Financial Statements API](https://site.financialmodelingprep.com/developer/docs)\n",
              "Whether you're looking for real-time stock prices, financial statements, or historical data, we offer a \n",
              "comprehensive solution to meet all your financial data needs. Our platform provides free stock market data, \n",
              "including audited, standardized, and real-time updates of income statements, balance sheets, and cash flow \n",
              "statements on a quarterly ...\n",
              "\n",
              "[Free Stock Market Data API for Real-Time &amp; Historical Data](https://marketstack.com/)\n",
              "Obtain real-time stock data for any ticker down to the minute, request intraday quotes or search 30+ years of \n",
              "accurate historical market data. 170,000+ Stock Tickers Easily integrate the API and make use of 170,000+ worldwide\n",
              "stock tickers, collected from 70 global exchanges, including Nasdaq, NYSE, and more.\n",
              "\n",
              "[Historical Stock Price API- \n",
              "FinancialModelingPrep](https://site.financialmodelingprep.com/developer/docs/historical-stock-data-free-api/?direct\n",
              "=true)\n",
              "Financial Modeling Prep API provides real time stock price, company financial statements, major index prices, stock\n",
              "historical data, forex real time rate and cryptocurrencies. Financial Modeling Prep stock price API is in real \n",
              "time, the company reports can be found in quarter or annual format, and goes up to 30 years back in history.\n",
              "\n",
              "[Polygon.io - Stock Market API](https://polygon.io/)\n",
              "Stock API with real-time and historical tick data, unlimited usage via REST or WebSockets, standardized JSON and \n",
              "CSV formats. Instant access free tier. Polygon.io. Products. Docs. Company. Pricing. Contact. Polygon.io. Open main\n",
              "menu. ... you can trust that you're getting the most accurate and up-to-date financial data to power your \n",
              "applications.\n",
              "\n",
              "[Stock Market Data APIs (Real Time &amp; Historical) - Twelve Data](https://twelvedata.com/stocks)\n",
              "Use free stock data APIs from the US, Canada, India, and 50+ other exchanges. Data in JSON and CSV formats, with \n",
              "100+ technical indicators.\n",
              "\n",
              "[10 Best Free Stock Data APIs to Power Your \n",
              "Projects](https://bioneerslive.org/2024/11/10-best-free-stock-data-apis-to-power-your-projects/)\n",
              "2. API for Historical Stock Data. If you're developing a platform for stock analysis, backtesting strategies, or \n",
              "long-term trend analysis, historical data is a must-have. A free stock API offering access to years of historical \n",
              "stock data allows users to analyze past market behavior and predict future trends. This type of data is crucial for\n",
              "...\n",
              "\n",
              "[Free Stock Price API by Fcsapi.com: Real-time &amp; Historical Data](https://fcsapi.com/blog/free-stock-price-api/)\n",
              "A Free Stock Price API provides users with access to live and historical stock price data without any cost. These \n",
              "APIs are essential tools for developers building financial applications, investors tracking their portfolios, and \n",
              "businesses requiring financial data integration.\n",
              "\n",
              "Out: None\n",
              "</pre>\n"
            ]
          },
          "metadata": {}
        },
        {
          "output_type": "display_data",
          "data": {
            "text/plain": [
              "\u001b[2m[Step 0: Duration 8.75 seconds| Input tokens: 2,097 | Output tokens: 162]\u001b[0m\n"
            ],
            "text/html": [
              "<pre style=\"white-space:pre;overflow-x:auto;line-height:normal;font-family:Menlo,'DejaVu Sans Mono',consolas,'Courier New',monospace\"><span style=\"color: #7f7f7f; text-decoration-color: #7f7f7f\">[Step 0: Duration 8.75 seconds| Input tokens: 2,097 | Output tokens: 162]</span>\n",
              "</pre>\n"
            ]
          },
          "metadata": {}
        },
        {
          "output_type": "display_data",
          "data": {
            "text/plain": [
              "\u001b[38;2;212;183;2m━━━━━━━━━━━━━━━━━━━━━━━━━━━━━━━━━━━━━━━━━━━━━━━━━━━━━ \u001b[0m\u001b[1mStep \u001b[0m\u001b[1;36m2\u001b[0m\u001b[38;2;212;183;2m ━━━━━━━━━━━━━━━━━━━━━━━━━━━━━━━━━━━━━━━━━━━━━━━━━━━━━━\u001b[0m\n"
            ],
            "text/html": [
              "<pre style=\"white-space:pre;overflow-x:auto;line-height:normal;font-family:Menlo,'DejaVu Sans Mono',consolas,'Courier New',monospace\"><span style=\"color: #d4b702; text-decoration-color: #d4b702\">━━━━━━━━━━━━━━━━━━━━━━━━━━━━━━━━━━━━━━━━━━━━━━━━━━━━━ </span><span style=\"font-weight: bold\">Step </span><span style=\"color: #008080; text-decoration-color: #008080; font-weight: bold\">2</span><span style=\"color: #d4b702; text-decoration-color: #d4b702\"> ━━━━━━━━━━━━━━━━━━━━━━━━━━━━━━━━━━━━━━━━━━━━━━━━━━━━━━</span>\n",
              "</pre>\n"
            ]
          },
          "metadata": {}
        },
        {
          "output_type": "display_data",
          "data": {
            "text/plain": [
              " ─ \u001b[1mExecuting parsed code:\u001b[0m ──────────────────────────────────────────────────────────────────────────────────────── \n",
              "  \u001b[38;2;248;248;242;48;2;39;40;34mapi_key_info\u001b[0m\u001b[38;2;248;248;242;48;2;39;40;34m \u001b[0m\u001b[38;2;255;70;137;48;2;39;40;34m=\u001b[0m\u001b[38;2;248;248;242;48;2;39;40;34m \u001b[0m\u001b[38;2;248;248;242;48;2;39;40;34mweb_search\u001b[0m\u001b[38;2;248;248;242;48;2;39;40;34m(\u001b[0m\u001b[38;2;248;248;242;48;2;39;40;34mquery\u001b[0m\u001b[38;2;255;70;137;48;2;39;40;34m=\u001b[0m\u001b[38;2;230;219;116;48;2;39;40;34m\"\u001b[0m\u001b[38;2;230;219;116;48;2;39;40;34mAlpha Vantage API key\u001b[0m\u001b[38;2;230;219;116;48;2;39;40;34m\"\u001b[0m\u001b[38;2;248;248;242;48;2;39;40;34m)\u001b[0m\u001b[48;2;39;40;34m                                                       \u001b[0m  \n",
              "  \u001b[38;2;248;248;242;48;2;39;40;34mprint\u001b[0m\u001b[38;2;248;248;242;48;2;39;40;34m(\u001b[0m\u001b[38;2;248;248;242;48;2;39;40;34mapi_key_info\u001b[0m\u001b[38;2;248;248;242;48;2;39;40;34m)\u001b[0m\u001b[48;2;39;40;34m                                                                                            \u001b[0m  \n",
              " ───────────────────────────────────────────────────────────────────────────────────────────────────────────────── \n"
            ],
            "text/html": [
              "<pre style=\"white-space:pre;overflow-x:auto;line-height:normal;font-family:Menlo,'DejaVu Sans Mono',consolas,'Courier New',monospace\"> ─ <span style=\"font-weight: bold\">Executing parsed code:</span> ──────────────────────────────────────────────────────────────────────────────────────── \n",
              "  <span style=\"color: #f8f8f2; text-decoration-color: #f8f8f2; background-color: #272822\">api_key_info </span><span style=\"color: #ff4689; text-decoration-color: #ff4689; background-color: #272822\">=</span><span style=\"color: #f8f8f2; text-decoration-color: #f8f8f2; background-color: #272822\"> web_search(query</span><span style=\"color: #ff4689; text-decoration-color: #ff4689; background-color: #272822\">=</span><span style=\"color: #e6db74; text-decoration-color: #e6db74; background-color: #272822\">\"Alpha Vantage API key\"</span><span style=\"color: #f8f8f2; text-decoration-color: #f8f8f2; background-color: #272822\">)</span><span style=\"background-color: #272822\">                                                       </span>  \n",
              "  <span style=\"color: #f8f8f2; text-decoration-color: #f8f8f2; background-color: #272822\">print(api_key_info)</span><span style=\"background-color: #272822\">                                                                                            </span>  \n",
              " ───────────────────────────────────────────────────────────────────────────────────────────────────────────────── \n",
              "</pre>\n"
            ]
          },
          "metadata": {}
        },
        {
          "output_type": "display_data",
          "data": {
            "text/plain": [
              "\u001b[1mExecution logs:\u001b[0m\n",
              "## Search Results\n",
              "\n",
              "[Free Stock APIs in JSON & Excel | Alpha Vantage](https://www.alphavantage.co/)\n",
              "Alpha Vantage provides global market data APIs and spreadsheets for stocks, forex, crypto, and more. To get \n",
              "started, claim your free API key and explore the API documentation and demos.\n",
              "\n",
              "[API Documentation - Alpha Vantage](https://www.alphavantage.co/documentation/)\n",
              "Learn how to use Alpha Vantage APIs to access global equity data, options, fundamentals, currencies, commodities, \n",
              "and more. To explore the full API offerings, you need to claim your free API key from the website.\n",
              "\n",
              "[Premium API Key - Alpha Vantage](https://www.alphavantage.co/premium/)\n",
              "Get a premium API key to access more API endpoints and features for stock market data. Choose a monthly plan, pay \n",
              "with card, and follow the entitlement instructions for realtime and delayed US data.\n",
              "\n",
              "[api - AlphaVantage - List of all tickers on an Exchange - Stack \n",
              "Overflow](https://stackoverflow.com/questions/49723988/alphavantage-list-of-all-tickers-on-an-exchange)\n",
              "I recently started exploring Alpha Vantage. I was wondering if there is an endpoint which would list all the \n",
              "tickers being traded on an exchange. ... Alpha Vantage API not returning Nasdaq quotes. 0. How to get nifty and \n",
              "sensex data using Alpha Vantage api key. 3. Empty array returned when calling AlphaVantage APIs for NASDAQ tickers.\n",
              "0 ...\n",
              "\n",
              "[Getting and Using Alpha Vantage API Key - FinTut](https://www.fintut.com/alpha-vantage-api-key/)\n",
              "Learn how to register, format and use an API key for Alpha Vantage, a free financial data provider. Avoid common \n",
              "errors and limitations with demo and paid plans.\n",
              "\n",
              "[Alpha Vantage Tutorial (with Python/pandas Examples) - FinTut](https://www.fintut.com/alpha-vantage/)\n",
              "Learn how to use Alpha Vantage API to get free historical prices and fundamental data for stocks. Find out how to \n",
              "get an API key, construct URLs, handle output formats and usage limits.\n",
              "\n",
              "[Alpha Vantage Introduction Guide - AlgoTrading101 Blog](https://algotrading101.com/learn/alpha-vantage-guide/)\n",
              "Learn how to use the Alpha Vantage API to get historical and realtime data for stocks, forex, and cryptocurrencies.\n",
              "Find out how to claim your API key, install the library, configure the environment variable, and retrieve data in \n",
              "Python.\n",
              "\n",
              "[Pulling Stock Data with Alpha Vantage's API - \n",
              "Medium](https://medium.com/@brianmochtyak/pulling-stock-data-with-alpha-vantages-api-d18cf477f41a)\n",
              "An API key from Alpha Vantage (you can get that by clicking this link) Methodology. First, import the requests \n",
              "module to interact with the API, the datetime module to manipulate date data, and ...\n",
              "\n",
              "[Create Real-Time Stock Price Tracker Using HTML, CSS, and \n",
              "JavaScript](https://www.codewithfaraz.com/content/463/create-real-time-stock-price-tracker-using-html-css-and-javas\n",
              "cript)\n",
              "An Alpha Vantage API key (You can get a free API key by signing up at Alpha Vantage). Let's dive into the steps! \n",
              "Source Code. Step 1 (HTML Code): First, create the basic structure of your webpage. In this step, we will add the \n",
              "HTML elements needed for the stock price tracker, such as an input field for entering the stock symbol and a button\n",
              "...\n",
              "\n",
              "[Real-Time Stock Market API with Flask and Alpha \n",
              "Vantage](https://codezup.com/real-time-stock-market-api-flask-alphavantage/)\n",
              "The API key is used to authenticate the request and retrieve the data. The Flask application uses the requests \n",
              "library to make a GET request to the Alpha Vantage API endpoint. The response from the API is then parsed and \n",
              "returned to the client. Best Practices and Common Pitfalls. Use a secure API key and store it securely\n",
              "\n",
              "Out: None\n"
            ],
            "text/html": [
              "<pre style=\"white-space:pre;overflow-x:auto;line-height:normal;font-family:Menlo,'DejaVu Sans Mono',consolas,'Courier New',monospace\"><span style=\"font-weight: bold\">Execution logs:</span>\n",
              "## Search Results\n",
              "\n",
              "[Free Stock APIs in JSON &amp; Excel | Alpha Vantage](https://www.alphavantage.co/)\n",
              "Alpha Vantage provides global market data APIs and spreadsheets for stocks, forex, crypto, and more. To get \n",
              "started, claim your free API key and explore the API documentation and demos.\n",
              "\n",
              "[API Documentation - Alpha Vantage](https://www.alphavantage.co/documentation/)\n",
              "Learn how to use Alpha Vantage APIs to access global equity data, options, fundamentals, currencies, commodities, \n",
              "and more. To explore the full API offerings, you need to claim your free API key from the website.\n",
              "\n",
              "[Premium API Key - Alpha Vantage](https://www.alphavantage.co/premium/)\n",
              "Get a premium API key to access more API endpoints and features for stock market data. Choose a monthly plan, pay \n",
              "with card, and follow the entitlement instructions for realtime and delayed US data.\n",
              "\n",
              "[api - AlphaVantage - List of all tickers on an Exchange - Stack \n",
              "Overflow](https://stackoverflow.com/questions/49723988/alphavantage-list-of-all-tickers-on-an-exchange)\n",
              "I recently started exploring Alpha Vantage. I was wondering if there is an endpoint which would list all the \n",
              "tickers being traded on an exchange. ... Alpha Vantage API not returning Nasdaq quotes. 0. How to get nifty and \n",
              "sensex data using Alpha Vantage api key. 3. Empty array returned when calling AlphaVantage APIs for NASDAQ tickers.\n",
              "0 ...\n",
              "\n",
              "[Getting and Using Alpha Vantage API Key - FinTut](https://www.fintut.com/alpha-vantage-api-key/)\n",
              "Learn how to register, format and use an API key for Alpha Vantage, a free financial data provider. Avoid common \n",
              "errors and limitations with demo and paid plans.\n",
              "\n",
              "[Alpha Vantage Tutorial (with Python/pandas Examples) - FinTut](https://www.fintut.com/alpha-vantage/)\n",
              "Learn how to use Alpha Vantage API to get free historical prices and fundamental data for stocks. Find out how to \n",
              "get an API key, construct URLs, handle output formats and usage limits.\n",
              "\n",
              "[Alpha Vantage Introduction Guide - AlgoTrading101 Blog](https://algotrading101.com/learn/alpha-vantage-guide/)\n",
              "Learn how to use the Alpha Vantage API to get historical and realtime data for stocks, forex, and cryptocurrencies.\n",
              "Find out how to claim your API key, install the library, configure the environment variable, and retrieve data in \n",
              "Python.\n",
              "\n",
              "[Pulling Stock Data with Alpha Vantage's API - \n",
              "Medium](https://medium.com/@brianmochtyak/pulling-stock-data-with-alpha-vantages-api-d18cf477f41a)\n",
              "An API key from Alpha Vantage (you can get that by clicking this link) Methodology. First, import the requests \n",
              "module to interact with the API, the datetime module to manipulate date data, and ...\n",
              "\n",
              "[Create Real-Time Stock Price Tracker Using HTML, CSS, and \n",
              "JavaScript](https://www.codewithfaraz.com/content/463/create-real-time-stock-price-tracker-using-html-css-and-javas\n",
              "cript)\n",
              "An Alpha Vantage API key (You can get a free API key by signing up at Alpha Vantage). Let's dive into the steps! \n",
              "Source Code. Step 1 (HTML Code): First, create the basic structure of your webpage. In this step, we will add the \n",
              "HTML elements needed for the stock price tracker, such as an input field for entering the stock symbol and a button\n",
              "...\n",
              "\n",
              "[Real-Time Stock Market API with Flask and Alpha \n",
              "Vantage](https://codezup.com/real-time-stock-market-api-flask-alphavantage/)\n",
              "The API key is used to authenticate the request and retrieve the data. The Flask application uses the requests \n",
              "library to make a GET request to the Alpha Vantage API endpoint. The response from the API is then parsed and \n",
              "returned to the client. Best Practices and Common Pitfalls. Use a secure API key and store it securely\n",
              "\n",
              "Out: None\n",
              "</pre>\n"
            ]
          },
          "metadata": {}
        },
        {
          "output_type": "display_data",
          "data": {
            "text/plain": [
              "\u001b[2m[Step 1: Duration 10.16 seconds| Input tokens: 5,332 | Output tokens: 327]\u001b[0m\n"
            ],
            "text/html": [
              "<pre style=\"white-space:pre;overflow-x:auto;line-height:normal;font-family:Menlo,'DejaVu Sans Mono',consolas,'Courier New',monospace\"><span style=\"color: #7f7f7f; text-decoration-color: #7f7f7f\">[Step 1: Duration 10.16 seconds| Input tokens: 5,332 | Output tokens: 327]</span>\n",
              "</pre>\n"
            ]
          },
          "metadata": {}
        },
        {
          "output_type": "display_data",
          "data": {
            "text/plain": [
              "\u001b[38;2;212;183;2m━━━━━━━━━━━━━━━━━━━━━━━━━━━━━━━━━━━━━━━━━━━━━━━━━━━━━ \u001b[0m\u001b[1mStep \u001b[0m\u001b[1;36m3\u001b[0m\u001b[38;2;212;183;2m ━━━━━━━━━━━━━━━━━━━━━━━━━━━━━━━━━━━━━━━━━━━━━━━━━━━━━━\u001b[0m\n"
            ],
            "text/html": [
              "<pre style=\"white-space:pre;overflow-x:auto;line-height:normal;font-family:Menlo,'DejaVu Sans Mono',consolas,'Courier New',monospace\"><span style=\"color: #d4b702; text-decoration-color: #d4b702\">━━━━━━━━━━━━━━━━━━━━━━━━━━━━━━━━━━━━━━━━━━━━━━━━━━━━━ </span><span style=\"font-weight: bold\">Step </span><span style=\"color: #008080; text-decoration-color: #008080; font-weight: bold\">3</span><span style=\"color: #d4b702; text-decoration-color: #d4b702\"> ━━━━━━━━━━━━━━━━━━━━━━━━━━━━━━━━━━━━━━━━━━━━━━━━━━━━━━</span>\n",
              "</pre>\n"
            ]
          },
          "metadata": {}
        },
        {
          "output_type": "display_data",
          "data": {
            "text/plain": [
              " ─ \u001b[1mExecuting parsed code:\u001b[0m ──────────────────────────────────────────────────────────────────────────────────────── \n",
              "  \u001b[38;2;149;144;119;48;2;39;40;34m# Replace 'YOUR_ALPHA_VANTAGE_API_KEY' with the actual API key you received\u001b[0m\u001b[48;2;39;40;34m                                    \u001b[0m  \n",
              "  \u001b[38;2;248;248;242;48;2;39;40;34mapi_key\u001b[0m\u001b[38;2;248;248;242;48;2;39;40;34m \u001b[0m\u001b[38;2;255;70;137;48;2;39;40;34m=\u001b[0m\u001b[38;2;248;248;242;48;2;39;40;34m \u001b[0m\u001b[38;2;230;219;116;48;2;39;40;34m'\u001b[0m\u001b[38;2;230;219;116;48;2;39;40;34mYOUR_ALPHA_VANTAGE_API_KEY\u001b[0m\u001b[38;2;230;219;116;48;2;39;40;34m'\u001b[0m\u001b[48;2;39;40;34m                                                                         \u001b[0m  \n",
              "  \u001b[38;2;248;248;242;48;2;39;40;34mtime_series\u001b[0m\u001b[38;2;248;248;242;48;2;39;40;34m \u001b[0m\u001b[38;2;255;70;137;48;2;39;40;34m=\u001b[0m\u001b[38;2;248;248;242;48;2;39;40;34m \u001b[0m\u001b[48;2;39;40;34m                                                                                                 \u001b[0m  \n",
              "  \u001b[38;2;248;248;242;48;2;39;40;34mweb_search\u001b[0m\u001b[38;2;248;248;242;48;2;39;40;34m(\u001b[0m\u001b[38;2;248;248;242;48;2;39;40;34mquery\u001b[0m\u001b[38;2;255;70;137;48;2;39;40;34m=\u001b[0m\u001b[38;2;230;219;116;48;2;39;40;34mf\u001b[0m\u001b[38;2;230;219;116;48;2;39;40;34m\"\u001b[0m\u001b[38;2;230;219;116;48;2;39;40;34mhttps://www.alphavantage.co/query?function=TIME_SERIES_DAILY_ADJUSTED&symbol=GOOG&apikey=\u001b[0m\u001b[38;2;230;219;116;48;2;39;40;34m{\u001b[0m\u001b[38;2;248;248;242;48;2;39;40;34map\u001b[0m  \n",
              "  \u001b[38;2;248;248;242;48;2;39;40;34mi_key\u001b[0m\u001b[38;2;230;219;116;48;2;39;40;34m}\u001b[0m\u001b[38;2;230;219;116;48;2;39;40;34m&datatype=json\u001b[0m\u001b[38;2;230;219;116;48;2;39;40;34m\"\u001b[0m\u001b[38;2;248;248;242;48;2;39;40;34m)\u001b[0m\u001b[48;2;39;40;34m                                                                                         \u001b[0m  \n",
              "  \u001b[38;2;248;248;242;48;2;39;40;34mprint\u001b[0m\u001b[38;2;248;248;242;48;2;39;40;34m(\u001b[0m\u001b[38;2;248;248;242;48;2;39;40;34mtime_series\u001b[0m\u001b[38;2;248;248;242;48;2;39;40;34m)\u001b[0m\u001b[48;2;39;40;34m                                                                                             \u001b[0m  \n",
              " ───────────────────────────────────────────────────────────────────────────────────────────────────────────────── \n"
            ],
            "text/html": [
              "<pre style=\"white-space:pre;overflow-x:auto;line-height:normal;font-family:Menlo,'DejaVu Sans Mono',consolas,'Courier New',monospace\"> ─ <span style=\"font-weight: bold\">Executing parsed code:</span> ──────────────────────────────────────────────────────────────────────────────────────── \n",
              "  <span style=\"color: #959077; text-decoration-color: #959077; background-color: #272822\"># Replace 'YOUR_ALPHA_VANTAGE_API_KEY' with the actual API key you received</span><span style=\"background-color: #272822\">                                    </span>  \n",
              "  <span style=\"color: #f8f8f2; text-decoration-color: #f8f8f2; background-color: #272822\">api_key </span><span style=\"color: #ff4689; text-decoration-color: #ff4689; background-color: #272822\">=</span><span style=\"color: #f8f8f2; text-decoration-color: #f8f8f2; background-color: #272822\"> </span><span style=\"color: #e6db74; text-decoration-color: #e6db74; background-color: #272822\">'YOUR_ALPHA_VANTAGE_API_KEY'</span><span style=\"background-color: #272822\">                                                                         </span>  \n",
              "  <span style=\"color: #f8f8f2; text-decoration-color: #f8f8f2; background-color: #272822\">time_series </span><span style=\"color: #ff4689; text-decoration-color: #ff4689; background-color: #272822\">=</span><span style=\"color: #f8f8f2; text-decoration-color: #f8f8f2; background-color: #272822\"> </span><span style=\"background-color: #272822\">                                                                                                 </span>  \n",
              "  <span style=\"color: #f8f8f2; text-decoration-color: #f8f8f2; background-color: #272822\">web_search(query</span><span style=\"color: #ff4689; text-decoration-color: #ff4689; background-color: #272822\">=</span><span style=\"color: #e6db74; text-decoration-color: #e6db74; background-color: #272822\">f\"https://www.alphavantage.co/query?function=TIME_SERIES_DAILY_ADJUSTED&amp;symbol=GOOG&amp;apikey={</span><span style=\"color: #f8f8f2; text-decoration-color: #f8f8f2; background-color: #272822\">ap</span>  \n",
              "  <span style=\"color: #f8f8f2; text-decoration-color: #f8f8f2; background-color: #272822\">i_key</span><span style=\"color: #e6db74; text-decoration-color: #e6db74; background-color: #272822\">}&amp;datatype=json\"</span><span style=\"color: #f8f8f2; text-decoration-color: #f8f8f2; background-color: #272822\">)</span><span style=\"background-color: #272822\">                                                                                         </span>  \n",
              "  <span style=\"color: #f8f8f2; text-decoration-color: #f8f8f2; background-color: #272822\">print(time_series)</span><span style=\"background-color: #272822\">                                                                                             </span>  \n",
              " ───────────────────────────────────────────────────────────────────────────────────────────────────────────────── \n",
              "</pre>\n"
            ]
          },
          "metadata": {}
        },
        {
          "output_type": "display_data",
          "data": {
            "text/plain": [
              "\u001b[1mExecution logs:\u001b[0m\n",
              "## Search Results\n",
              "\n",
              "[API Documentation - Alpha Vantage](https://www.alphavantage.co/documentation/)\n",
              "TIME_SERIES_DAILY. This API returns raw (as-traded) daily time series (date, daily open, daily high, daily low, \n",
              "daily close, daily volume) of the global equity specified, covering 20+ years of historical data. The OHLCV data is\n",
              "sometimes called \"candles\" in finance literature. If you are also interested in split/dividend-adjusted data, \n",
              "please use the Daily Adjusted API, which covers adjusted ...\n",
              "\n",
              "[Alpha Vantage \"KeyError: 'Time Series (Daily)'\" - Stack \n",
              "Overflow](https://stackoverflow.com/questions/56500547/alpha-vantage-keyerror-time-series-daily)\n",
              "I'm trying to make a simple GUI that collects a few sets of historical stock data from Alpha Vantage. I'm getting \n",
              "this error: File \"d:\\GIT\\StockAI\\main.py\", line 34, in run data = ts.get_daily ... in _format_wrapper data = \n",
              "call_response[data_key] KeyError: 'Time Series (Daily)' I'm not entirely sure what that means, and I'm having some \n",
              "trouble ...\n",
              "\n",
              "[Alpha Vantage | Documentation | Postman API \n",
              "Network](https://www.postman.com/api-evangelist/alpha-vantage/documentation/vx2c5fd/alpha-vantage)\n",
              "This API returns daily time series (date, daily open, daily high, daily low, daily close, daily volume, daily \n",
              "adjusted close, and split/dividend events) of the equity specified, covering up to 20 years of historical data.\n",
              "\n",
              "[I am getting an Invalid API call from Alpha Vantage TIME_SERIES_DAILY \n",
              "...](https://quant.stackexchange.com/questions/49770/i-am-getting-an-invalid-api-call-from-alpha-vantage-time-serie\n",
              "s-daily-adjusted-f)\n",
              "$\\begingroup$ assuming you've checked they api key is correct, I'd double check the documentation or wait for \n",
              "vendor response. it may be useful to see if you can't find a single circumstance at work to back out what doesn't \n",
              "in your case. that said, I have had issues with vendors only to find out there's a waiting period and after some \n",
              "hours or days, the previous call works without issue ...\n",
              "\n",
              "[Alpha Vantage Tutorial (with Python/pandas Examples) - FinTut](https://www.fintut.com/alpha-vantage/)\n",
              "Getting Alpha Vantage API key. To use Alpha Vantage API, you need an API key.Get it by registering on their \n",
              "website.. They have free and paid plans, subject to usage limits.The free plan allows maximum 500 API calls per day\n",
              "or 5 API calls per minute.\n",
              "\n",
              "[alpha-vantage/alpha_vantage/functions/timeseries.py at master · wstolk \n",
              "...](https://github.com/wstolk/alpha-vantage/blob/master/alpha_vantage/functions/timeseries.py)\n",
              ":param adjusted: if True, the output time series is adjusted by historical split and dividend events. :type \n",
              "adjusted: bool :return: an instance of a TimeSeriesModel, containing the requested stock data and metadata.\n",
              "\n",
              "[KeyError: 'Time Series (Daily)' #154 - GitHub](https://github.com/RomelTorres/alpha_vantage/issues/154)\n",
              "Other get daily calls (GOOG, LC) are working just fine, and get_weekly(\"GBTC\") works as well. Not sure best way to \n",
              "pull the actual API response from the debugger. Let me know how you want me to proceed with this.\n",
              "\n",
              "[Pull Stock Data from Alpha Vantage API - Code Review Stack \n",
              "Exchange](https://codereview.stackexchange.com/questions/188753/pull-stock-data-from-alpha-vantage-api)\n",
              "Essentially, I am making JSON objects with any user defined ticker through the Alpha Vantage API. It is . Skip to \n",
              "main content. ... function: will ALWAYS be equal to 'TIME_SERIES_DAILY' for daily symbol: user defined stock ticker\n",
              "outputsize: default is 'compact' which only returns 100 data points, otherwise we can define it as 'full' to get up\n",
              "...\n",
              "\n",
              "[Download historical data using Alpha Vantage - \n",
              "sssup.it](https://cafim.sssup.it/~giulio/other/alpha_vantage/index.html)\n",
              "Alpha Vantage provides free historical data for various financial time series. This page is intended as a short \n",
              "introduction to download series of stock price data. Check the company website for full API documentation.In order \n",
              "to use their data retieval interface you need to request a specific key called APIKEY.It can be requested for free \n",
              "from this page.\n",
              "\n",
              "[Getting and Using Alpha Vantage API Key - FinTut](https://www.fintut.com/alpha-vantage-api-key/)\n",
              "How to use Alpha Vantage API key Once you have the API key, you must include it in the API request urls as the \n",
              "apikey parameter. For example, the following url gets daily historical data of the IBM stock, using the API key \n",
              "'demo' :\n",
              "\n",
              "Out: None\n"
            ],
            "text/html": [
              "<pre style=\"white-space:pre;overflow-x:auto;line-height:normal;font-family:Menlo,'DejaVu Sans Mono',consolas,'Courier New',monospace\"><span style=\"font-weight: bold\">Execution logs:</span>\n",
              "## Search Results\n",
              "\n",
              "[API Documentation - Alpha Vantage](https://www.alphavantage.co/documentation/)\n",
              "TIME_SERIES_DAILY. This API returns raw (as-traded) daily time series (date, daily open, daily high, daily low, \n",
              "daily close, daily volume) of the global equity specified, covering 20+ years of historical data. The OHLCV data is\n",
              "sometimes called \"candles\" in finance literature. If you are also interested in split/dividend-adjusted data, \n",
              "please use the Daily Adjusted API, which covers adjusted ...\n",
              "\n",
              "[Alpha Vantage \"KeyError: 'Time Series (Daily)'\" - Stack \n",
              "Overflow](https://stackoverflow.com/questions/56500547/alpha-vantage-keyerror-time-series-daily)\n",
              "I'm trying to make a simple GUI that collects a few sets of historical stock data from Alpha Vantage. I'm getting \n",
              "this error: File \"d:\\GIT\\StockAI\\main.py\", line 34, in run data = ts.get_daily ... in _format_wrapper data = \n",
              "call_response[data_key] KeyError: 'Time Series (Daily)' I'm not entirely sure what that means, and I'm having some \n",
              "trouble ...\n",
              "\n",
              "[Alpha Vantage | Documentation | Postman API \n",
              "Network](https://www.postman.com/api-evangelist/alpha-vantage/documentation/vx2c5fd/alpha-vantage)\n",
              "This API returns daily time series (date, daily open, daily high, daily low, daily close, daily volume, daily \n",
              "adjusted close, and split/dividend events) of the equity specified, covering up to 20 years of historical data.\n",
              "\n",
              "[I am getting an Invalid API call from Alpha Vantage TIME_SERIES_DAILY \n",
              "...](https://quant.stackexchange.com/questions/49770/i-am-getting-an-invalid-api-call-from-alpha-vantage-time-serie\n",
              "s-daily-adjusted-f)\n",
              "$\\begingroup$ assuming you've checked they api key is correct, I'd double check the documentation or wait for \n",
              "vendor response. it may be useful to see if you can't find a single circumstance at work to back out what doesn't \n",
              "in your case. that said, I have had issues with vendors only to find out there's a waiting period and after some \n",
              "hours or days, the previous call works without issue ...\n",
              "\n",
              "[Alpha Vantage Tutorial (with Python/pandas Examples) - FinTut](https://www.fintut.com/alpha-vantage/)\n",
              "Getting Alpha Vantage API key. To use Alpha Vantage API, you need an API key.Get it by registering on their \n",
              "website.. They have free and paid plans, subject to usage limits.The free plan allows maximum 500 API calls per day\n",
              "or 5 API calls per minute.\n",
              "\n",
              "[alpha-vantage/alpha_vantage/functions/timeseries.py at master · wstolk \n",
              "...](https://github.com/wstolk/alpha-vantage/blob/master/alpha_vantage/functions/timeseries.py)\n",
              ":param adjusted: if True, the output time series is adjusted by historical split and dividend events. :type \n",
              "adjusted: bool :return: an instance of a TimeSeriesModel, containing the requested stock data and metadata.\n",
              "\n",
              "[KeyError: 'Time Series (Daily)' #154 - GitHub](https://github.com/RomelTorres/alpha_vantage/issues/154)\n",
              "Other get daily calls (GOOG, LC) are working just fine, and get_weekly(\"GBTC\") works as well. Not sure best way to \n",
              "pull the actual API response from the debugger. Let me know how you want me to proceed with this.\n",
              "\n",
              "[Pull Stock Data from Alpha Vantage API - Code Review Stack \n",
              "Exchange](https://codereview.stackexchange.com/questions/188753/pull-stock-data-from-alpha-vantage-api)\n",
              "Essentially, I am making JSON objects with any user defined ticker through the Alpha Vantage API. It is . Skip to \n",
              "main content. ... function: will ALWAYS be equal to 'TIME_SERIES_DAILY' for daily symbol: user defined stock ticker\n",
              "outputsize: default is 'compact' which only returns 100 data points, otherwise we can define it as 'full' to get up\n",
              "...\n",
              "\n",
              "[Download historical data using Alpha Vantage - \n",
              "sssup.it](https://cafim.sssup.it/~giulio/other/alpha_vantage/index.html)\n",
              "Alpha Vantage provides free historical data for various financial time series. This page is intended as a short \n",
              "introduction to download series of stock price data. Check the company website for full API documentation.In order \n",
              "to use their data retieval interface you need to request a specific key called APIKEY.It can be requested for free \n",
              "from this page.\n",
              "\n",
              "[Getting and Using Alpha Vantage API Key - FinTut](https://www.fintut.com/alpha-vantage-api-key/)\n",
              "How to use Alpha Vantage API key Once you have the API key, you must include it in the API request urls as the \n",
              "apikey parameter. For example, the following url gets daily historical data of the IBM stock, using the API key \n",
              "'demo' :\n",
              "\n",
              "Out: None\n",
              "</pre>\n"
            ]
          },
          "metadata": {}
        },
        {
          "output_type": "display_data",
          "data": {
            "text/plain": [
              "\u001b[2m[Step 2: Duration 14.50 seconds| Input tokens: 9,644 | Output tokens: 571]\u001b[0m\n"
            ],
            "text/html": [
              "<pre style=\"white-space:pre;overflow-x:auto;line-height:normal;font-family:Menlo,'DejaVu Sans Mono',consolas,'Courier New',monospace\"><span style=\"color: #7f7f7f; text-decoration-color: #7f7f7f\">[Step 2: Duration 14.50 seconds| Input tokens: 9,644 | Output tokens: 571]</span>\n",
              "</pre>\n"
            ]
          },
          "metadata": {}
        },
        {
          "output_type": "display_data",
          "data": {
            "text/plain": [
              "\u001b[38;2;212;183;2m━━━━━━━━━━━━━━━━━━━━━━━━━━━━━━━━━━━━━━━━━━━━━━━━━━━━━ \u001b[0m\u001b[1mStep \u001b[0m\u001b[1;36m4\u001b[0m\u001b[38;2;212;183;2m ━━━━━━━━━━━━━━━━━━━━━━━━━━━━━━━━━━━━━━━━━━━━━━━━━━━━━━\u001b[0m\n"
            ],
            "text/html": [
              "<pre style=\"white-space:pre;overflow-x:auto;line-height:normal;font-family:Menlo,'DejaVu Sans Mono',consolas,'Courier New',monospace\"><span style=\"color: #d4b702; text-decoration-color: #d4b702\">━━━━━━━━━━━━━━━━━━━━━━━━━━━━━━━━━━━━━━━━━━━━━━━━━━━━━ </span><span style=\"font-weight: bold\">Step </span><span style=\"color: #008080; text-decoration-color: #008080; font-weight: bold\">4</span><span style=\"color: #d4b702; text-decoration-color: #d4b702\"> ━━━━━━━━━━━━━━━━━━━━━━━━━━━━━━━━━━━━━━━━━━━━━━━━━━━━━━</span>\n",
              "</pre>\n"
            ]
          },
          "metadata": {}
        },
        {
          "output_type": "display_data",
          "data": {
            "text/plain": [
              " ─ \u001b[1mExecuting parsed code:\u001b[0m ──────────────────────────────────────────────────────────────────────────────────────── \n",
              "  \u001b[38;2;255;70;137;48;2;39;40;34mimport\u001b[0m\u001b[38;2;248;248;242;48;2;39;40;34m \u001b[0m\u001b[38;2;248;248;242;48;2;39;40;34mjson\u001b[0m\u001b[48;2;39;40;34m                                                                                                    \u001b[0m  \n",
              "  \u001b[48;2;39;40;34m                                                                                                               \u001b[0m  \n",
              "  \u001b[38;2;149;144;119;48;2;39;40;34m# Replace 'YOUR_ALPHA_VANTAGE_API_KEY' with the actual API key you received\u001b[0m\u001b[48;2;39;40;34m                                    \u001b[0m  \n",
              "  \u001b[38;2;248;248;242;48;2;39;40;34mapi_key\u001b[0m\u001b[38;2;248;248;242;48;2;39;40;34m \u001b[0m\u001b[38;2;255;70;137;48;2;39;40;34m=\u001b[0m\u001b[38;2;248;248;242;48;2;39;40;34m \u001b[0m\u001b[38;2;230;219;116;48;2;39;40;34m'\u001b[0m\u001b[38;2;230;219;116;48;2;39;40;34mYOUR_ALPHA_VANTAGE_API_KEY\u001b[0m\u001b[38;2;230;219;116;48;2;39;40;34m'\u001b[0m\u001b[48;2;39;40;34m                                                                         \u001b[0m  \n",
              "  \u001b[38;2;248;248;242;48;2;39;40;34mtime_series_url\u001b[0m\u001b[38;2;248;248;242;48;2;39;40;34m \u001b[0m\u001b[38;2;255;70;137;48;2;39;40;34m=\u001b[0m\u001b[38;2;248;248;242;48;2;39;40;34m \u001b[0m\u001b[48;2;39;40;34m                                                                                             \u001b[0m  \n",
              "  \u001b[38;2;230;219;116;48;2;39;40;34mf\u001b[0m\u001b[38;2;230;219;116;48;2;39;40;34m\"\u001b[0m\u001b[38;2;230;219;116;48;2;39;40;34mhttps://www.alphavantage.co/query?function=TIME_SERIES_DAILY_ADJUSTED&symbol=GOOG&apikey=\u001b[0m\u001b[38;2;230;219;116;48;2;39;40;34m{\u001b[0m\u001b[38;2;248;248;242;48;2;39;40;34mapi_key\u001b[0m\u001b[38;2;230;219;116;48;2;39;40;34m}\u001b[0m\u001b[38;2;230;219;116;48;2;39;40;34m&datatype=j\u001b[0m  \n",
              "  \u001b[38;2;230;219;116;48;2;39;40;34mson\u001b[0m\u001b[38;2;230;219;116;48;2;39;40;34m\"\u001b[0m\u001b[48;2;39;40;34m                                                                                                           \u001b[0m  \n",
              "  \u001b[38;2;248;248;242;48;2;39;40;34mresponse\u001b[0m\u001b[38;2;248;248;242;48;2;39;40;34m \u001b[0m\u001b[38;2;255;70;137;48;2;39;40;34m=\u001b[0m\u001b[38;2;248;248;242;48;2;39;40;34m \u001b[0m\u001b[38;2;248;248;242;48;2;39;40;34mweb_search\u001b[0m\u001b[38;2;248;248;242;48;2;39;40;34m(\u001b[0m\u001b[38;2;248;248;242;48;2;39;40;34mquery\u001b[0m\u001b[38;2;255;70;137;48;2;39;40;34m=\u001b[0m\u001b[38;2;248;248;242;48;2;39;40;34mtime_series_url\u001b[0m\u001b[38;2;248;248;242;48;2;39;40;34m)\u001b[0m\u001b[48;2;39;40;34m                                                                   \u001b[0m  \n",
              "  \u001b[38;2;248;248;242;48;2;39;40;34mdata\u001b[0m\u001b[38;2;248;248;242;48;2;39;40;34m \u001b[0m\u001b[38;2;255;70;137;48;2;39;40;34m=\u001b[0m\u001b[38;2;248;248;242;48;2;39;40;34m \u001b[0m\u001b[38;2;248;248;242;48;2;39;40;34mjson\u001b[0m\u001b[38;2;255;70;137;48;2;39;40;34m.\u001b[0m\u001b[38;2;248;248;242;48;2;39;40;34mloads\u001b[0m\u001b[38;2;248;248;242;48;2;39;40;34m(\u001b[0m\u001b[38;2;248;248;242;48;2;39;40;34mresponse\u001b[0m\u001b[38;2;248;248;242;48;2;39;40;34m)\u001b[0m\u001b[48;2;39;40;34m                                                                                    \u001b[0m  \n",
              "  \u001b[38;2;248;248;242;48;2;39;40;34mprint\u001b[0m\u001b[38;2;248;248;242;48;2;39;40;34m(\u001b[0m\u001b[38;2;248;248;242;48;2;39;40;34mdata\u001b[0m\u001b[38;2;248;248;242;48;2;39;40;34m)\u001b[0m\u001b[48;2;39;40;34m                                                                                                    \u001b[0m  \n",
              " ───────────────────────────────────────────────────────────────────────────────────────────────────────────────── \n"
            ],
            "text/html": [
              "<pre style=\"white-space:pre;overflow-x:auto;line-height:normal;font-family:Menlo,'DejaVu Sans Mono',consolas,'Courier New',monospace\"> ─ <span style=\"font-weight: bold\">Executing parsed code:</span> ──────────────────────────────────────────────────────────────────────────────────────── \n",
              "  <span style=\"color: #ff4689; text-decoration-color: #ff4689; background-color: #272822\">import</span><span style=\"color: #f8f8f2; text-decoration-color: #f8f8f2; background-color: #272822\"> json</span><span style=\"background-color: #272822\">                                                                                                    </span>  \n",
              "  <span style=\"background-color: #272822\">                                                                                                               </span>  \n",
              "  <span style=\"color: #959077; text-decoration-color: #959077; background-color: #272822\"># Replace 'YOUR_ALPHA_VANTAGE_API_KEY' with the actual API key you received</span><span style=\"background-color: #272822\">                                    </span>  \n",
              "  <span style=\"color: #f8f8f2; text-decoration-color: #f8f8f2; background-color: #272822\">api_key </span><span style=\"color: #ff4689; text-decoration-color: #ff4689; background-color: #272822\">=</span><span style=\"color: #f8f8f2; text-decoration-color: #f8f8f2; background-color: #272822\"> </span><span style=\"color: #e6db74; text-decoration-color: #e6db74; background-color: #272822\">'YOUR_ALPHA_VANTAGE_API_KEY'</span><span style=\"background-color: #272822\">                                                                         </span>  \n",
              "  <span style=\"color: #f8f8f2; text-decoration-color: #f8f8f2; background-color: #272822\">time_series_url </span><span style=\"color: #ff4689; text-decoration-color: #ff4689; background-color: #272822\">=</span><span style=\"color: #f8f8f2; text-decoration-color: #f8f8f2; background-color: #272822\"> </span><span style=\"background-color: #272822\">                                                                                             </span>  \n",
              "  <span style=\"color: #e6db74; text-decoration-color: #e6db74; background-color: #272822\">f\"https://www.alphavantage.co/query?function=TIME_SERIES_DAILY_ADJUSTED&amp;symbol=GOOG&amp;apikey={</span><span style=\"color: #f8f8f2; text-decoration-color: #f8f8f2; background-color: #272822\">api_key</span><span style=\"color: #e6db74; text-decoration-color: #e6db74; background-color: #272822\">}&amp;datatype=j</span>  \n",
              "  <span style=\"color: #e6db74; text-decoration-color: #e6db74; background-color: #272822\">son\"</span><span style=\"background-color: #272822\">                                                                                                           </span>  \n",
              "  <span style=\"color: #f8f8f2; text-decoration-color: #f8f8f2; background-color: #272822\">response </span><span style=\"color: #ff4689; text-decoration-color: #ff4689; background-color: #272822\">=</span><span style=\"color: #f8f8f2; text-decoration-color: #f8f8f2; background-color: #272822\"> web_search(query</span><span style=\"color: #ff4689; text-decoration-color: #ff4689; background-color: #272822\">=</span><span style=\"color: #f8f8f2; text-decoration-color: #f8f8f2; background-color: #272822\">time_series_url)</span><span style=\"background-color: #272822\">                                                                   </span>  \n",
              "  <span style=\"color: #f8f8f2; text-decoration-color: #f8f8f2; background-color: #272822\">data </span><span style=\"color: #ff4689; text-decoration-color: #ff4689; background-color: #272822\">=</span><span style=\"color: #f8f8f2; text-decoration-color: #f8f8f2; background-color: #272822\"> json</span><span style=\"color: #ff4689; text-decoration-color: #ff4689; background-color: #272822\">.</span><span style=\"color: #f8f8f2; text-decoration-color: #f8f8f2; background-color: #272822\">loads(response)</span><span style=\"background-color: #272822\">                                                                                    </span>  \n",
              "  <span style=\"color: #f8f8f2; text-decoration-color: #f8f8f2; background-color: #272822\">print(data)</span><span style=\"background-color: #272822\">                                                                                                    </span>  \n",
              " ───────────────────────────────────────────────────────────────────────────────────────────────────────────────── \n",
              "</pre>\n"
            ]
          },
          "metadata": {}
        },
        {
          "output_type": "display_data",
          "data": {
            "text/plain": [
              "\u001b[1;31mWarning to user: Code execution failed due to an unauthorized import - Consider passing said import under \u001b[0m\n",
              "\u001b[1;31m`additional_authorized_imports` when initializing your CodeAgent.\u001b[0m\n"
            ],
            "text/html": [
              "<pre style=\"white-space:pre;overflow-x:auto;line-height:normal;font-family:Menlo,'DejaVu Sans Mono',consolas,'Courier New',monospace\"><span style=\"color: #800000; text-decoration-color: #800000; font-weight: bold\">Warning to user: Code execution failed due to an unauthorized import - Consider passing said import under </span>\n",
              "<span style=\"color: #800000; text-decoration-color: #800000; font-weight: bold\">`additional_authorized_imports` when initializing your CodeAgent.</span>\n",
              "</pre>\n"
            ]
          },
          "metadata": {}
        },
        {
          "output_type": "display_data",
          "data": {
            "text/plain": [
              "\u001b[1;31mCode execution failed at line \u001b[0m\u001b[1;31m'import json'\u001b[0m\u001b[1;31m due to: InterpreterError: Import of json is not allowed. Authorized \u001b[0m\n",
              "\u001b[1;31mimports are: \u001b[0m\u001b[1;31m[\u001b[0m\u001b[1;31m'datetime'\u001b[0m\u001b[1;31m, \u001b[0m\u001b[1;31m'random'\u001b[0m\u001b[1;31m, \u001b[0m\u001b[1;31m're'\u001b[0m\u001b[1;31m, \u001b[0m\u001b[1;31m'unicodedata'\u001b[0m\u001b[1;31m, \u001b[0m\u001b[1;31m'stat'\u001b[0m\u001b[1;31m, \u001b[0m\u001b[1;31m'queue'\u001b[0m\u001b[1;31m, \u001b[0m\u001b[1;31m'statistics'\u001b[0m\u001b[1;31m, \u001b[0m\u001b[1;31m'time'\u001b[0m\u001b[1;31m, \u001b[0m\u001b[1;31m'math'\u001b[0m\u001b[1;31m, \u001b[0m\n",
              "\u001b[1;31m'collections'\u001b[0m\u001b[1;31m, \u001b[0m\u001b[1;31m'itertools'\u001b[0m\u001b[1;31m]\u001b[0m\n"
            ],
            "text/html": [
              "<pre style=\"white-space:pre;overflow-x:auto;line-height:normal;font-family:Menlo,'DejaVu Sans Mono',consolas,'Courier New',monospace\"><span style=\"color: #800000; text-decoration-color: #800000; font-weight: bold\">Code execution failed at line </span><span style=\"color: #800000; text-decoration-color: #800000; font-weight: bold\">'import json'</span><span style=\"color: #800000; text-decoration-color: #800000; font-weight: bold\"> due to: InterpreterError: Import of json is not allowed. Authorized </span>\n",
              "<span style=\"color: #800000; text-decoration-color: #800000; font-weight: bold\">imports are: [</span><span style=\"color: #800000; text-decoration-color: #800000; font-weight: bold\">'datetime'</span><span style=\"color: #800000; text-decoration-color: #800000; font-weight: bold\">, </span><span style=\"color: #800000; text-decoration-color: #800000; font-weight: bold\">'random'</span><span style=\"color: #800000; text-decoration-color: #800000; font-weight: bold\">, </span><span style=\"color: #800000; text-decoration-color: #800000; font-weight: bold\">'re'</span><span style=\"color: #800000; text-decoration-color: #800000; font-weight: bold\">, </span><span style=\"color: #800000; text-decoration-color: #800000; font-weight: bold\">'unicodedata'</span><span style=\"color: #800000; text-decoration-color: #800000; font-weight: bold\">, </span><span style=\"color: #800000; text-decoration-color: #800000; font-weight: bold\">'stat'</span><span style=\"color: #800000; text-decoration-color: #800000; font-weight: bold\">, </span><span style=\"color: #800000; text-decoration-color: #800000; font-weight: bold\">'queue'</span><span style=\"color: #800000; text-decoration-color: #800000; font-weight: bold\">, </span><span style=\"color: #800000; text-decoration-color: #800000; font-weight: bold\">'statistics'</span><span style=\"color: #800000; text-decoration-color: #800000; font-weight: bold\">, </span><span style=\"color: #800000; text-decoration-color: #800000; font-weight: bold\">'time'</span><span style=\"color: #800000; text-decoration-color: #800000; font-weight: bold\">, </span><span style=\"color: #800000; text-decoration-color: #800000; font-weight: bold\">'math'</span><span style=\"color: #800000; text-decoration-color: #800000; font-weight: bold\">, </span>\n",
              "<span style=\"color: #800000; text-decoration-color: #800000; font-weight: bold\">'collections'</span><span style=\"color: #800000; text-decoration-color: #800000; font-weight: bold\">, </span><span style=\"color: #800000; text-decoration-color: #800000; font-weight: bold\">'itertools'</span><span style=\"color: #800000; text-decoration-color: #800000; font-weight: bold\">]</span>\n",
              "</pre>\n"
            ]
          },
          "metadata": {}
        },
        {
          "output_type": "display_data",
          "data": {
            "text/plain": [
              "\u001b[2m[Step 3: Duration 12.69 seconds| Input tokens: 15,383 | Output tokens: 833]\u001b[0m\n"
            ],
            "text/html": [
              "<pre style=\"white-space:pre;overflow-x:auto;line-height:normal;font-family:Menlo,'DejaVu Sans Mono',consolas,'Courier New',monospace\"><span style=\"color: #7f7f7f; text-decoration-color: #7f7f7f\">[Step 3: Duration 12.69 seconds| Input tokens: 15,383 | Output tokens: 833]</span>\n",
              "</pre>\n"
            ]
          },
          "metadata": {}
        },
        {
          "output_type": "display_data",
          "data": {
            "text/plain": [
              "\u001b[38;2;212;183;2m━━━━━━━━━━━━━━━━━━━━━━━━━━━━━━━━━━━━━━━━━━━━━━━━━━━━━ \u001b[0m\u001b[1mStep \u001b[0m\u001b[1;36m5\u001b[0m\u001b[38;2;212;183;2m ━━━━━━━━━━━━━━━━━━━━━━━━━━━━━━━━━━━━━━━━━━━━━━━━━━━━━━\u001b[0m\n"
            ],
            "text/html": [
              "<pre style=\"white-space:pre;overflow-x:auto;line-height:normal;font-family:Menlo,'DejaVu Sans Mono',consolas,'Courier New',monospace\"><span style=\"color: #d4b702; text-decoration-color: #d4b702\">━━━━━━━━━━━━━━━━━━━━━━━━━━━━━━━━━━━━━━━━━━━━━━━━━━━━━ </span><span style=\"font-weight: bold\">Step </span><span style=\"color: #008080; text-decoration-color: #008080; font-weight: bold\">5</span><span style=\"color: #d4b702; text-decoration-color: #d4b702\"> ━━━━━━━━━━━━━━━━━━━━━━━━━━━━━━━━━━━━━━━━━━━━━━━━━━━━━━</span>\n",
              "</pre>\n"
            ]
          },
          "metadata": {}
        },
        {
          "output_type": "display_data",
          "data": {
            "text/plain": [
              " ─ \u001b[1mExecuting parsed code:\u001b[0m ──────────────────────────────────────────────────────────────────────────────────────── \n",
              "  \u001b[38;2;149;144;119;48;2;39;40;34m# Replace 'YOUR_ALPHA_VANTAGE_API_KEY' with the actual API key you received\u001b[0m\u001b[48;2;39;40;34m                                    \u001b[0m  \n",
              "  \u001b[38;2;248;248;242;48;2;39;40;34mapi_key\u001b[0m\u001b[38;2;248;248;242;48;2;39;40;34m \u001b[0m\u001b[38;2;255;70;137;48;2;39;40;34m=\u001b[0m\u001b[38;2;248;248;242;48;2;39;40;34m \u001b[0m\u001b[38;2;230;219;116;48;2;39;40;34m'\u001b[0m\u001b[38;2;230;219;116;48;2;39;40;34mYOUR_ALPHA_VANTAGE_API_KEY\u001b[0m\u001b[38;2;230;219;116;48;2;39;40;34m'\u001b[0m\u001b[48;2;39;40;34m                                                                         \u001b[0m  \n",
              "  \u001b[38;2;248;248;242;48;2;39;40;34mtime_series_url\u001b[0m\u001b[38;2;248;248;242;48;2;39;40;34m \u001b[0m\u001b[38;2;255;70;137;48;2;39;40;34m=\u001b[0m\u001b[38;2;248;248;242;48;2;39;40;34m \u001b[0m\u001b[48;2;39;40;34m                                                                                             \u001b[0m  \n",
              "  \u001b[38;2;230;219;116;48;2;39;40;34mf\u001b[0m\u001b[38;2;230;219;116;48;2;39;40;34m\"\u001b[0m\u001b[38;2;230;219;116;48;2;39;40;34mhttps://www.alphavantage.co/query?function=TIME_SERIES_DAILY_ADJUSTED&symbol=GOOG&apikey=\u001b[0m\u001b[38;2;230;219;116;48;2;39;40;34m{\u001b[0m\u001b[38;2;248;248;242;48;2;39;40;34mapi_key\u001b[0m\u001b[38;2;230;219;116;48;2;39;40;34m}\u001b[0m\u001b[38;2;230;219;116;48;2;39;40;34m&datatype=j\u001b[0m  \n",
              "  \u001b[38;2;230;219;116;48;2;39;40;34mson\u001b[0m\u001b[38;2;230;219;116;48;2;39;40;34m\"\u001b[0m\u001b[48;2;39;40;34m                                                                                                           \u001b[0m  \n",
              "  \u001b[38;2;248;248;242;48;2;39;40;34mresponse\u001b[0m\u001b[38;2;248;248;242;48;2;39;40;34m \u001b[0m\u001b[38;2;255;70;137;48;2;39;40;34m=\u001b[0m\u001b[38;2;248;248;242;48;2;39;40;34m \u001b[0m\u001b[38;2;248;248;242;48;2;39;40;34mweb_search\u001b[0m\u001b[38;2;248;248;242;48;2;39;40;34m(\u001b[0m\u001b[38;2;248;248;242;48;2;39;40;34mquery\u001b[0m\u001b[38;2;255;70;137;48;2;39;40;34m=\u001b[0m\u001b[38;2;248;248;242;48;2;39;40;34mtime_series_url\u001b[0m\u001b[38;2;248;248;242;48;2;39;40;34m)\u001b[0m\u001b[48;2;39;40;34m                                                                   \u001b[0m  \n",
              "  \u001b[38;2;248;248;242;48;2;39;40;34mprint\u001b[0m\u001b[38;2;248;248;242;48;2;39;40;34m(\u001b[0m\u001b[38;2;248;248;242;48;2;39;40;34mresponse\u001b[0m\u001b[38;2;248;248;242;48;2;39;40;34m)\u001b[0m\u001b[48;2;39;40;34m                                                                                                \u001b[0m  \n",
              " ───────────────────────────────────────────────────────────────────────────────────────────────────────────────── \n"
            ],
            "text/html": [
              "<pre style=\"white-space:pre;overflow-x:auto;line-height:normal;font-family:Menlo,'DejaVu Sans Mono',consolas,'Courier New',monospace\"> ─ <span style=\"font-weight: bold\">Executing parsed code:</span> ──────────────────────────────────────────────────────────────────────────────────────── \n",
              "  <span style=\"color: #959077; text-decoration-color: #959077; background-color: #272822\"># Replace 'YOUR_ALPHA_VANTAGE_API_KEY' with the actual API key you received</span><span style=\"background-color: #272822\">                                    </span>  \n",
              "  <span style=\"color: #f8f8f2; text-decoration-color: #f8f8f2; background-color: #272822\">api_key </span><span style=\"color: #ff4689; text-decoration-color: #ff4689; background-color: #272822\">=</span><span style=\"color: #f8f8f2; text-decoration-color: #f8f8f2; background-color: #272822\"> </span><span style=\"color: #e6db74; text-decoration-color: #e6db74; background-color: #272822\">'YOUR_ALPHA_VANTAGE_API_KEY'</span><span style=\"background-color: #272822\">                                                                         </span>  \n",
              "  <span style=\"color: #f8f8f2; text-decoration-color: #f8f8f2; background-color: #272822\">time_series_url </span><span style=\"color: #ff4689; text-decoration-color: #ff4689; background-color: #272822\">=</span><span style=\"color: #f8f8f2; text-decoration-color: #f8f8f2; background-color: #272822\"> </span><span style=\"background-color: #272822\">                                                                                             </span>  \n",
              "  <span style=\"color: #e6db74; text-decoration-color: #e6db74; background-color: #272822\">f\"https://www.alphavantage.co/query?function=TIME_SERIES_DAILY_ADJUSTED&amp;symbol=GOOG&amp;apikey={</span><span style=\"color: #f8f8f2; text-decoration-color: #f8f8f2; background-color: #272822\">api_key</span><span style=\"color: #e6db74; text-decoration-color: #e6db74; background-color: #272822\">}&amp;datatype=j</span>  \n",
              "  <span style=\"color: #e6db74; text-decoration-color: #e6db74; background-color: #272822\">son\"</span><span style=\"background-color: #272822\">                                                                                                           </span>  \n",
              "  <span style=\"color: #f8f8f2; text-decoration-color: #f8f8f2; background-color: #272822\">response </span><span style=\"color: #ff4689; text-decoration-color: #ff4689; background-color: #272822\">=</span><span style=\"color: #f8f8f2; text-decoration-color: #f8f8f2; background-color: #272822\"> web_search(query</span><span style=\"color: #ff4689; text-decoration-color: #ff4689; background-color: #272822\">=</span><span style=\"color: #f8f8f2; text-decoration-color: #f8f8f2; background-color: #272822\">time_series_url)</span><span style=\"background-color: #272822\">                                                                   </span>  \n",
              "  <span style=\"color: #f8f8f2; text-decoration-color: #f8f8f2; background-color: #272822\">print(response)</span><span style=\"background-color: #272822\">                                                                                                </span>  \n",
              " ───────────────────────────────────────────────────────────────────────────────────────────────────────────────── \n",
              "</pre>\n"
            ]
          },
          "metadata": {}
        },
        {
          "output_type": "display_data",
          "data": {
            "text/plain": [
              "\u001b[1mExecution logs:\u001b[0m\n",
              "## Search Results\n",
              "\n",
              "[API Documentation - Alpha Vantage](https://www.alphavantage.co/documentation/)\n",
              "TIME_SERIES_DAILY. This API returns raw (as-traded) daily time series (date, daily open, daily high, daily low, \n",
              "daily close, daily volume) of the global equity specified, covering 20+ years of historical data. The OHLCV data is\n",
              "sometimes called \"candles\" in finance literature. If you are also interested in split/dividend-adjusted data, \n",
              "please use the Daily Adjusted API, which covers adjusted ...\n",
              "\n",
              "[Alpha Vantage \"KeyError: 'Time Series (Daily)'\" - Stack \n",
              "Overflow](https://stackoverflow.com/questions/56500547/alpha-vantage-keyerror-time-series-daily)\n",
              "I'm trying to make a simple GUI that collects a few sets of historical stock data from Alpha Vantage. I'm getting \n",
              "this error: File \"d:\\GIT\\StockAI\\main.py\", line 34, in run data = ts.get_daily ... in _format_wrapper data = \n",
              "call_response[data_key] KeyError: 'Time Series (Daily)' I'm not entirely sure what that means, and I'm having some \n",
              "trouble ...\n",
              "\n",
              "[Alpha Vantage | Documentation | Postman API \n",
              "Network](https://www.postman.com/api-evangelist/alpha-vantage/documentation/vx2c5fd/alpha-vantage)\n",
              "This API returns daily time series (date, daily open, daily high, daily low, daily close, daily volume, daily \n",
              "adjusted close, and split/dividend events) of the equity specified, covering up to 20 years of historical data.\n",
              "\n",
              "[I am getting an Invalid API call from Alpha Vantage TIME_SERIES_DAILY \n",
              "...](https://quant.stackexchange.com/questions/49770/i-am-getting-an-invalid-api-call-from-alpha-vantage-time-serie\n",
              "s-daily-adjusted-f)\n",
              "$\\begingroup$ assuming you've checked they api key is correct, I'd double check the documentation or wait for \n",
              "vendor response. it may be useful to see if you can't find a single circumstance at work to back out what doesn't \n",
              "in your case. that said, I have had issues with vendors only to find out there's a waiting period and after some \n",
              "hours or days, the previous call works without issue ...\n",
              "\n",
              "[Alpha Vantage Tutorial (with Python/pandas Examples) - FinTut](https://www.fintut.com/alpha-vantage/)\n",
              "Getting Alpha Vantage API key. To use Alpha Vantage API, you need an API key.Get it by registering on their \n",
              "website.. They have free and paid plans, subject to usage limits.The free plan allows maximum 500 API calls per day\n",
              "or 5 API calls per minute.\n",
              "\n",
              "[alpha-vantage/alpha_vantage/functions/timeseries.py at master · wstolk \n",
              "...](https://github.com/wstolk/alpha-vantage/blob/master/alpha_vantage/functions/timeseries.py)\n",
              ":param adjusted: if True, the output time series is adjusted by historical split and dividend events. :type \n",
              "adjusted: bool :return: an instance of a TimeSeriesModel, containing the requested stock data and metadata.\n",
              "\n",
              "[KeyError: 'Time Series (Daily)' #154 - GitHub](https://github.com/RomelTorres/alpha_vantage/issues/154)\n",
              "Other get daily calls (GOOG, LC) are working just fine, and get_weekly(\"GBTC\") works as well. Not sure best way to \n",
              "pull the actual API response from the debugger. Let me know how you want me to proceed with this.\n",
              "\n",
              "[Pull Stock Data from Alpha Vantage API - Code Review Stack \n",
              "Exchange](https://codereview.stackexchange.com/questions/188753/pull-stock-data-from-alpha-vantage-api)\n",
              "Essentially, I am making JSON objects with any user defined ticker through the Alpha Vantage API. It is . Skip to \n",
              "main content. ... function: will ALWAYS be equal to 'TIME_SERIES_DAILY' for daily symbol: user defined stock ticker\n",
              "outputsize: default is 'compact' which only returns 100 data points, otherwise we can define it as 'full' to get up\n",
              "...\n",
              "\n",
              "[Free Stock APIs in JSON & Excel | Alpha \n",
              "Vantage](https://www.alphavantage.co/query?function=TIME_SERIES_DAILY_ADJUSTED&symbol=IBM&apikey=demo)\n",
              "{ \"Meta Data\": { \"1. Information\": \"Daily Time Series with Splits and Dividend Events\", \"2. Symbol\": \"IBM\", \"3. \n",
              "Last Refreshed\": \"2025-02-11\", \"4.\n",
              "\n",
              "[Download historical data using Alpha Vantage - \n",
              "sssup.it](https://cafim.sssup.it/~giulio/other/alpha_vantage/index.html)\n",
              "Alpha Vantage provides free historical data for various financial time series. This page is intended as a short \n",
              "introduction to download series of stock price data. Check the company website for full API documentation.In order \n",
              "to use their data retieval interface you need to request a specific key called APIKEY.It can be requested for free \n",
              "from this page.\n",
              "\n",
              "Out: None\n"
            ],
            "text/html": [
              "<pre style=\"white-space:pre;overflow-x:auto;line-height:normal;font-family:Menlo,'DejaVu Sans Mono',consolas,'Courier New',monospace\"><span style=\"font-weight: bold\">Execution logs:</span>\n",
              "## Search Results\n",
              "\n",
              "[API Documentation - Alpha Vantage](https://www.alphavantage.co/documentation/)\n",
              "TIME_SERIES_DAILY. This API returns raw (as-traded) daily time series (date, daily open, daily high, daily low, \n",
              "daily close, daily volume) of the global equity specified, covering 20+ years of historical data. The OHLCV data is\n",
              "sometimes called \"candles\" in finance literature. If you are also interested in split/dividend-adjusted data, \n",
              "please use the Daily Adjusted API, which covers adjusted ...\n",
              "\n",
              "[Alpha Vantage \"KeyError: 'Time Series (Daily)'\" - Stack \n",
              "Overflow](https://stackoverflow.com/questions/56500547/alpha-vantage-keyerror-time-series-daily)\n",
              "I'm trying to make a simple GUI that collects a few sets of historical stock data from Alpha Vantage. I'm getting \n",
              "this error: File \"d:\\GIT\\StockAI\\main.py\", line 34, in run data = ts.get_daily ... in _format_wrapper data = \n",
              "call_response[data_key] KeyError: 'Time Series (Daily)' I'm not entirely sure what that means, and I'm having some \n",
              "trouble ...\n",
              "\n",
              "[Alpha Vantage | Documentation | Postman API \n",
              "Network](https://www.postman.com/api-evangelist/alpha-vantage/documentation/vx2c5fd/alpha-vantage)\n",
              "This API returns daily time series (date, daily open, daily high, daily low, daily close, daily volume, daily \n",
              "adjusted close, and split/dividend events) of the equity specified, covering up to 20 years of historical data.\n",
              "\n",
              "[I am getting an Invalid API call from Alpha Vantage TIME_SERIES_DAILY \n",
              "...](https://quant.stackexchange.com/questions/49770/i-am-getting-an-invalid-api-call-from-alpha-vantage-time-serie\n",
              "s-daily-adjusted-f)\n",
              "$\\begingroup$ assuming you've checked they api key is correct, I'd double check the documentation or wait for \n",
              "vendor response. it may be useful to see if you can't find a single circumstance at work to back out what doesn't \n",
              "in your case. that said, I have had issues with vendors only to find out there's a waiting period and after some \n",
              "hours or days, the previous call works without issue ...\n",
              "\n",
              "[Alpha Vantage Tutorial (with Python/pandas Examples) - FinTut](https://www.fintut.com/alpha-vantage/)\n",
              "Getting Alpha Vantage API key. To use Alpha Vantage API, you need an API key.Get it by registering on their \n",
              "website.. They have free and paid plans, subject to usage limits.The free plan allows maximum 500 API calls per day\n",
              "or 5 API calls per minute.\n",
              "\n",
              "[alpha-vantage/alpha_vantage/functions/timeseries.py at master · wstolk \n",
              "...](https://github.com/wstolk/alpha-vantage/blob/master/alpha_vantage/functions/timeseries.py)\n",
              ":param adjusted: if True, the output time series is adjusted by historical split and dividend events. :type \n",
              "adjusted: bool :return: an instance of a TimeSeriesModel, containing the requested stock data and metadata.\n",
              "\n",
              "[KeyError: 'Time Series (Daily)' #154 - GitHub](https://github.com/RomelTorres/alpha_vantage/issues/154)\n",
              "Other get daily calls (GOOG, LC) are working just fine, and get_weekly(\"GBTC\") works as well. Not sure best way to \n",
              "pull the actual API response from the debugger. Let me know how you want me to proceed with this.\n",
              "\n",
              "[Pull Stock Data from Alpha Vantage API - Code Review Stack \n",
              "Exchange](https://codereview.stackexchange.com/questions/188753/pull-stock-data-from-alpha-vantage-api)\n",
              "Essentially, I am making JSON objects with any user defined ticker through the Alpha Vantage API. It is . Skip to \n",
              "main content. ... function: will ALWAYS be equal to 'TIME_SERIES_DAILY' for daily symbol: user defined stock ticker\n",
              "outputsize: default is 'compact' which only returns 100 data points, otherwise we can define it as 'full' to get up\n",
              "...\n",
              "\n",
              "[Free Stock APIs in JSON &amp; Excel | Alpha \n",
              "Vantage](https://www.alphavantage.co/query?function=TIME_SERIES_DAILY_ADJUSTED&amp;symbol=IBM&amp;apikey=demo)\n",
              "{ \"Meta Data\": { \"1. Information\": \"Daily Time Series with Splits and Dividend Events\", \"2. Symbol\": \"IBM\", \"3. \n",
              "Last Refreshed\": \"2025-02-11\", \"4.\n",
              "\n",
              "[Download historical data using Alpha Vantage - \n",
              "sssup.it](https://cafim.sssup.it/~giulio/other/alpha_vantage/index.html)\n",
              "Alpha Vantage provides free historical data for various financial time series. This page is intended as a short \n",
              "introduction to download series of stock price data. Check the company website for full API documentation.In order \n",
              "to use their data retieval interface you need to request a specific key called APIKEY.It can be requested for free \n",
              "from this page.\n",
              "\n",
              "Out: None\n",
              "</pre>\n"
            ]
          },
          "metadata": {}
        },
        {
          "output_type": "display_data",
          "data": {
            "text/plain": [
              "\u001b[2m[Step 4: Duration 15.78 seconds| Input tokens: 21,623 | Output tokens: 1,087]\u001b[0m\n"
            ],
            "text/html": [
              "<pre style=\"white-space:pre;overflow-x:auto;line-height:normal;font-family:Menlo,'DejaVu Sans Mono',consolas,'Courier New',monospace\"><span style=\"color: #7f7f7f; text-decoration-color: #7f7f7f\">[Step 4: Duration 15.78 seconds| Input tokens: 21,623 | Output tokens: 1,087]</span>\n",
              "</pre>\n"
            ]
          },
          "metadata": {}
        },
        {
          "output_type": "display_data",
          "data": {
            "text/plain": [
              "\u001b[38;2;212;183;2m━━━━━━━━━━━━━━━━━━━━━━━━━━━━━━━━━━━━━━━━━━━━━━━━━━━━━ \u001b[0m\u001b[1mStep \u001b[0m\u001b[1;36m6\u001b[0m\u001b[38;2;212;183;2m ━━━━━━━━━━━━━━━━━━━━━━━━━━━━━━━━━━━━━━━━━━━━━━━━━━━━━━\u001b[0m\n"
            ],
            "text/html": [
              "<pre style=\"white-space:pre;overflow-x:auto;line-height:normal;font-family:Menlo,'DejaVu Sans Mono',consolas,'Courier New',monospace\"><span style=\"color: #d4b702; text-decoration-color: #d4b702\">━━━━━━━━━━━━━━━━━━━━━━━━━━━━━━━━━━━━━━━━━━━━━━━━━━━━━ </span><span style=\"font-weight: bold\">Step </span><span style=\"color: #008080; text-decoration-color: #008080; font-weight: bold\">6</span><span style=\"color: #d4b702; text-decoration-color: #d4b702\"> ━━━━━━━━━━━━━━━━━━━━━━━━━━━━━━━━━━━━━━━━━━━━━━━━━━━━━━</span>\n",
              "</pre>\n"
            ]
          },
          "metadata": {}
        },
        {
          "output_type": "display_data",
          "data": {
            "text/plain": [
              " ─ \u001b[1mExecuting parsed code:\u001b[0m ──────────────────────────────────────────────────────────────────────────────────────── \n",
              "  \u001b[38;2;149;144;119;48;2;39;40;34m# Fetch historical stock price data for Google (GOOG) from Yahoo Finance\u001b[0m\u001b[48;2;39;40;34m                                       \u001b[0m  \n",
              "  \u001b[38;2;248;248;242;48;2;39;40;34mhistorical_data_url\u001b[0m\u001b[38;2;248;248;242;48;2;39;40;34m \u001b[0m\u001b[38;2;255;70;137;48;2;39;40;34m=\u001b[0m\u001b[38;2;248;248;242;48;2;39;40;34m \u001b[0m\u001b[48;2;39;40;34m                                                                                         \u001b[0m  \n",
              "  \u001b[38;2;230;219;116;48;2;39;40;34m\"\u001b[0m\u001b[38;2;230;219;116;48;2;39;40;34mhttps://query1.finance.yahoo.com/v7/finance/download/GOOG?period1=1577836800&period2=1788633600&interval=1d&ev\u001b[0m  \n",
              "  \u001b[38;2;230;219;116;48;2;39;40;34ments=history&includeAdjustedClose=true\u001b[0m\u001b[38;2;230;219;116;48;2;39;40;34m\"\u001b[0m\u001b[48;2;39;40;34m                                                                        \u001b[0m  \n",
              "  \u001b[38;2;248;248;242;48;2;39;40;34mresponse\u001b[0m\u001b[38;2;248;248;242;48;2;39;40;34m \u001b[0m\u001b[38;2;255;70;137;48;2;39;40;34m=\u001b[0m\u001b[38;2;248;248;242;48;2;39;40;34m \u001b[0m\u001b[38;2;248;248;242;48;2;39;40;34mweb_search\u001b[0m\u001b[38;2;248;248;242;48;2;39;40;34m(\u001b[0m\u001b[38;2;248;248;242;48;2;39;40;34mquery\u001b[0m\u001b[38;2;255;70;137;48;2;39;40;34m=\u001b[0m\u001b[38;2;248;248;242;48;2;39;40;34mhistorical_data_url\u001b[0m\u001b[38;2;248;248;242;48;2;39;40;34m)\u001b[0m\u001b[48;2;39;40;34m                                                               \u001b[0m  \n",
              "  \u001b[38;2;248;248;242;48;2;39;40;34mprint\u001b[0m\u001b[38;2;248;248;242;48;2;39;40;34m(\u001b[0m\u001b[38;2;248;248;242;48;2;39;40;34mresponse\u001b[0m\u001b[38;2;248;248;242;48;2;39;40;34m)\u001b[0m\u001b[48;2;39;40;34m                                                                                                \u001b[0m  \n",
              " ───────────────────────────────────────────────────────────────────────────────────────────────────────────────── \n"
            ],
            "text/html": [
              "<pre style=\"white-space:pre;overflow-x:auto;line-height:normal;font-family:Menlo,'DejaVu Sans Mono',consolas,'Courier New',monospace\"> ─ <span style=\"font-weight: bold\">Executing parsed code:</span> ──────────────────────────────────────────────────────────────────────────────────────── \n",
              "  <span style=\"color: #959077; text-decoration-color: #959077; background-color: #272822\"># Fetch historical stock price data for Google (GOOG) from Yahoo Finance</span><span style=\"background-color: #272822\">                                       </span>  \n",
              "  <span style=\"color: #f8f8f2; text-decoration-color: #f8f8f2; background-color: #272822\">historical_data_url </span><span style=\"color: #ff4689; text-decoration-color: #ff4689; background-color: #272822\">=</span><span style=\"color: #f8f8f2; text-decoration-color: #f8f8f2; background-color: #272822\"> </span><span style=\"background-color: #272822\">                                                                                         </span>  \n",
              "  <span style=\"color: #e6db74; text-decoration-color: #e6db74; background-color: #272822\">\"https://query1.finance.yahoo.com/v7/finance/download/GOOG?period1=1577836800&amp;period2=1788633600&amp;interval=1d&amp;ev</span>  \n",
              "  <span style=\"color: #e6db74; text-decoration-color: #e6db74; background-color: #272822\">ents=history&amp;includeAdjustedClose=true\"</span><span style=\"background-color: #272822\">                                                                        </span>  \n",
              "  <span style=\"color: #f8f8f2; text-decoration-color: #f8f8f2; background-color: #272822\">response </span><span style=\"color: #ff4689; text-decoration-color: #ff4689; background-color: #272822\">=</span><span style=\"color: #f8f8f2; text-decoration-color: #f8f8f2; background-color: #272822\"> web_search(query</span><span style=\"color: #ff4689; text-decoration-color: #ff4689; background-color: #272822\">=</span><span style=\"color: #f8f8f2; text-decoration-color: #f8f8f2; background-color: #272822\">historical_data_url)</span><span style=\"background-color: #272822\">                                                               </span>  \n",
              "  <span style=\"color: #f8f8f2; text-decoration-color: #f8f8f2; background-color: #272822\">print(response)</span><span style=\"background-color: #272822\">                                                                                                </span>  \n",
              " ───────────────────────────────────────────────────────────────────────────────────────────────────────────────── \n",
              "</pre>\n"
            ]
          },
          "metadata": {}
        },
        {
          "output_type": "display_data",
          "data": {
            "text/plain": [
              "\u001b[1mExecution logs:\u001b[0m\n",
              "## Search Results\n",
              "\n",
              "[Yahoo Finance API - GET quotes returns \"Invalid \n",
              "Cookie\"](https://stackoverflow.com/questions/76059562/yahoo-finance-api-get-quotes-returns-invalid-cookie)\n",
              "This is my working version that I am using it in a .Net 7 API project. I've solved the problem with the cookie and \n",
              "crumb by keeping them in cache and I have a sync/retry mechanism when the cache expires. This works well for 1 \n",
              "server instance but for scale situation it should be rethink.\n",
              "\n",
              "[Re: Yahoo Finance Power Query Link Not \n",
              "Working](https://community.fabric.microsoft.com/t5/Power-Query/Yahoo-Finance-Power-Query-Link-Not-Working/m-p/41405\n",
              "79)\n",
              "Hi, I have the same problem with a long standing Power BI report that scrapes stock data. Does appear to be change \n",
              "in authentication on the Yahoo Finance end. Member has already commented would be good to hear from someone who has\n",
              "a paid subscription which I do not. Many thanks...\n",
              "\n",
              "[Re: Yahoo Finance Power Query Link Not \n",
              "Working](https://community.fabric.microsoft.com/t5/Power-Query/Yahoo-Finance-Power-Query-Link-Not-Working/m-p/41410\n",
              "90)\n",
              "Hi Marco, Thanks for reaching out to Yahoo Finance. I apologize for the inconvenience. I understand that you're \n",
              "experiencing issues with the feature to download historical data.\n",
              "\n",
              "[Solved: Yahoo finance data download - Alteryx \n",
              "Community](https://community.alteryx.com/t5/Alteryx-Designer-Desktop-Discussions/Yahoo-finance-data-download/td-p/6\n",
              "85054)\n",
              "Solved: Hi All, I am trying to download data for various stocks from yahoo finance and wanted to have a web (API) \n",
              "name in front of the data. e.g. for core.noscript.text community Alteryx IO MyAlteryx\n",
              "\n",
              "[Yahoo Finance API and a historical stock price for a list of \n",
              "stocks](https://www.reddit.com/r/sheets/comments/mx3jja/yahoo_finance_api_and_a_historical_stock_price/)\n",
              "I'm using the below method to bring in current stock prices into a google sheet. Does anyone know of a way to use \n",
              "this same method to being in a closing price for the same list of stock prices for a specific day in the past?\n",
              "\n",
              "[Download historical quotes from Yahoo Finance with C# in your ... - \n",
              "Medium](https://medium.com/@jenswalter1/download-historical-quotes-from-yahoo-finance-with-c-in-your-browser-using-\n",
              "net-fiddle-8b43d52763cb)\n",
              "We will download the bitcoin prices of the past years. However, the code will work for other assets as well. At the\n",
              "very beginning we write the using statements to include the required namespaces:\n",
              "\n",
              "[Import Yahoo Finance Data to Google Sheets: A Guide - \n",
              "Bardeen](https://www.bardeen.ai/answers/how-to-import-data-from-yahoo-finance-into-google-sheets)\n",
              "Yahoo Finance is a vital data source for financial analysis and investment decisions. It offers a wealth of \n",
              "financial information, including stock prices, market summaries, and historical data. Integrating Yahoo Finance \n",
              "with Google Sheets allows you to connect Google Sheets and automate data retrieval for your financial analysis \n",
              "workflow.\n",
              "\n",
              "[How to fix new unable to read URL error in python for yahoo \n",
              "finance](https://stackoverflow.com/questions/68226884/how-to-fix-new-unable-to-read-url-error-in-python-for-yahoo-f\n",
              "inance)\n",
              "I had the same problem. At some recent point pdr stopped working with Yahoo (again). AlphaVantage doesn't carry all\n",
              "the stocks that Yahoo does; googlefinance package only gets current quotes as far as I can tell, not time series; \n",
              "the yahoo-finance package doesn't work (or I failed to get it to work); Econdb sends back some kind of \n",
              "weirdly-formed dataframe (maybe this is fixable); and Quandl ...\n",
              "\n",
              "[yahoo finance historical data price via powershell : r/PowerShell - \n",
              "Reddit](https://www.reddit.com/r/PowerShell/comments/zqkgyy/yahoo_finance_historical_data_price_via_powershell/)\n",
              "hi everyone; How could ı download each stock data price to excel ? i have list of stock name on my desktop and ı \n",
              "want choose list which include stock…\n",
              "\n",
              "[Connect to Yahoo Finance - building a stock market tracker - Data \n",
              "Pears](https://www.datapears.com/post/connect-to-yahoo-finance-building-a-stock-market-tracker)\n",
              "First you need to select the Time Period you want. I selected the max time period to get all the stocks available \n",
              "from Netflix. I kept the default options for the data to Show (Historical Prices) and for the Frequency (Daily)\n",
              "\n",
              "Out: None\n"
            ],
            "text/html": [
              "<pre style=\"white-space:pre;overflow-x:auto;line-height:normal;font-family:Menlo,'DejaVu Sans Mono',consolas,'Courier New',monospace\"><span style=\"font-weight: bold\">Execution logs:</span>\n",
              "## Search Results\n",
              "\n",
              "[Yahoo Finance API - GET quotes returns \"Invalid \n",
              "Cookie\"](https://stackoverflow.com/questions/76059562/yahoo-finance-api-get-quotes-returns-invalid-cookie)\n",
              "This is my working version that I am using it in a .Net 7 API project. I've solved the problem with the cookie and \n",
              "crumb by keeping them in cache and I have a sync/retry mechanism when the cache expires. This works well for 1 \n",
              "server instance but for scale situation it should be rethink.\n",
              "\n",
              "[Re: Yahoo Finance Power Query Link Not \n",
              "Working](https://community.fabric.microsoft.com/t5/Power-Query/Yahoo-Finance-Power-Query-Link-Not-Working/m-p/41405\n",
              "79)\n",
              "Hi, I have the same problem with a long standing Power BI report that scrapes stock data. Does appear to be change \n",
              "in authentication on the Yahoo Finance end. Member has already commented would be good to hear from someone who has\n",
              "a paid subscription which I do not. Many thanks...\n",
              "\n",
              "[Re: Yahoo Finance Power Query Link Not \n",
              "Working](https://community.fabric.microsoft.com/t5/Power-Query/Yahoo-Finance-Power-Query-Link-Not-Working/m-p/41410\n",
              "90)\n",
              "Hi Marco, Thanks for reaching out to Yahoo Finance. I apologize for the inconvenience. I understand that you're \n",
              "experiencing issues with the feature to download historical data.\n",
              "\n",
              "[Solved: Yahoo finance data download - Alteryx \n",
              "Community](https://community.alteryx.com/t5/Alteryx-Designer-Desktop-Discussions/Yahoo-finance-data-download/td-p/6\n",
              "85054)\n",
              "Solved: Hi All, I am trying to download data for various stocks from yahoo finance and wanted to have a web (API) \n",
              "name in front of the data. e.g. for core.noscript.text community Alteryx IO MyAlteryx\n",
              "\n",
              "[Yahoo Finance API and a historical stock price for a list of \n",
              "stocks](https://www.reddit.com/r/sheets/comments/mx3jja/yahoo_finance_api_and_a_historical_stock_price/)\n",
              "I'm using the below method to bring in current stock prices into a google sheet. Does anyone know of a way to use \n",
              "this same method to being in a closing price for the same list of stock prices for a specific day in the past?\n",
              "\n",
              "[Download historical quotes from Yahoo Finance with C# in your ... - \n",
              "Medium](https://medium.com/@jenswalter1/download-historical-quotes-from-yahoo-finance-with-c-in-your-browser-using-\n",
              "net-fiddle-8b43d52763cb)\n",
              "We will download the bitcoin prices of the past years. However, the code will work for other assets as well. At the\n",
              "very beginning we write the using statements to include the required namespaces:\n",
              "\n",
              "[Import Yahoo Finance Data to Google Sheets: A Guide - \n",
              "Bardeen](https://www.bardeen.ai/answers/how-to-import-data-from-yahoo-finance-into-google-sheets)\n",
              "Yahoo Finance is a vital data source for financial analysis and investment decisions. It offers a wealth of \n",
              "financial information, including stock prices, market summaries, and historical data. Integrating Yahoo Finance \n",
              "with Google Sheets allows you to connect Google Sheets and automate data retrieval for your financial analysis \n",
              "workflow.\n",
              "\n",
              "[How to fix new unable to read URL error in python for yahoo \n",
              "finance](https://stackoverflow.com/questions/68226884/how-to-fix-new-unable-to-read-url-error-in-python-for-yahoo-f\n",
              "inance)\n",
              "I had the same problem. At some recent point pdr stopped working with Yahoo (again). AlphaVantage doesn't carry all\n",
              "the stocks that Yahoo does; googlefinance package only gets current quotes as far as I can tell, not time series; \n",
              "the yahoo-finance package doesn't work (or I failed to get it to work); Econdb sends back some kind of \n",
              "weirdly-formed dataframe (maybe this is fixable); and Quandl ...\n",
              "\n",
              "[yahoo finance historical data price via powershell : r/PowerShell - \n",
              "Reddit](https://www.reddit.com/r/PowerShell/comments/zqkgyy/yahoo_finance_historical_data_price_via_powershell/)\n",
              "hi everyone; How could ı download each stock data price to excel ? i have list of stock name on my desktop and ı \n",
              "want choose list which include stock…\n",
              "\n",
              "[Connect to Yahoo Finance - building a stock market tracker - Data \n",
              "Pears](https://www.datapears.com/post/connect-to-yahoo-finance-building-a-stock-market-tracker)\n",
              "First you need to select the Time Period you want. I selected the max time period to get all the stocks available \n",
              "from Netflix. I kept the default options for the data to Show (Historical Prices) and for the Frequency (Daily)\n",
              "\n",
              "Out: None\n",
              "</pre>\n"
            ]
          },
          "metadata": {}
        },
        {
          "output_type": "display_data",
          "data": {
            "text/plain": [
              "\u001b[2m[Step 5: Duration 21.66 seconds| Input tokens: 29,320 | Output tokens: 1,322]\u001b[0m\n"
            ],
            "text/html": [
              "<pre style=\"white-space:pre;overflow-x:auto;line-height:normal;font-family:Menlo,'DejaVu Sans Mono',consolas,'Courier New',monospace\"><span style=\"color: #7f7f7f; text-decoration-color: #7f7f7f\">[Step 5: Duration 21.66 seconds| Input tokens: 29,320 | Output tokens: 1,322]</span>\n",
              "</pre>\n"
            ]
          },
          "metadata": {}
        },
        {
          "output_type": "display_data",
          "data": {
            "text/plain": [
              "\u001b[1;31mReached max steps.\u001b[0m\n"
            ],
            "text/html": [
              "<pre style=\"white-space:pre;overflow-x:auto;line-height:normal;font-family:Menlo,'DejaVu Sans Mono',consolas,'Courier New',monospace\"><span style=\"color: #800000; text-decoration-color: #800000; font-weight: bold\">Reached max steps.</span>\n",
              "</pre>\n"
            ]
          },
          "metadata": {}
        },
        {
          "output_type": "display_data",
          "data": {
            "text/plain": [
              "\u001b[2m[Step 6: Duration 21.66 seconds| Input tokens: 36,417 | Output tokens: 1,687]\u001b[0m\n"
            ],
            "text/html": [
              "<pre style=\"white-space:pre;overflow-x:auto;line-height:normal;font-family:Menlo,'DejaVu Sans Mono',consolas,'Courier New',monospace\"><span style=\"color: #7f7f7f; text-decoration-color: #7f7f7f\">[Step 6: Duration 21.66 seconds| Input tokens: 36,417 | Output tokens: 1,687]</span>\n",
              "</pre>\n"
            ]
          },
          "metadata": {}
        },
        {
          "output_type": "execute_result",
          "data": {
            "text/plain": [
              "'It appears that direct API access and web scraping from Yahoo Finance has become increasingly restricted and unreliable, as evidenced by the search results indicating various issues with authentication and data access.\\n\\nGiven this, we should revert to using a reliable financial data provider API that allows us to programmatically fetch historical stock data. Since we encountered issues with using `json` and direct web scraping from Yahoo Finance, let\\'s use Alpha Vantage again, but this time we’ll handle the JSON response differently without importing the `json` library.\\n\\nHere\\'s a plan:\\n1. Fetch the historical stock price data for Google (GOOG) from Alpha Vantage.\\n2. Manually parse the JSON response using regular expressions.\\n3. Plot the stock prices using matplotlib.\\n\\nLet\\'s fetch the data:\\n\\nCode:\\n```py\\n# Replace \\'YOUR_ALPHA_VANTAGE_API_KEY\\' with the actual API key you received\\napi_key = \\'YOUR_ALPHA_VANTAGE_API_KEY\\'\\ntime_series_url = f\"https://www.alphavantage.co/query?function=TIME_SERIES_DAILY_ADJUSTED&symbol=GOOG&apikey={api_key}&datatype=json\"\\nresponse = web_search(query=time_series_url)\\nprint(response)\\n```<end_code>Calling tools:\\n[{\\'id\\': \\'call_7\\', \\'type\\': \\'function\\', \\'function\\': {\\'name\\': \\'python_interpreter\\', \\'arguments\\': \"# Replace \\'YOUR_ALPHA_VANTAGE_API_KEY\\' with the actual API key you received\\\\napi_key = \\'YOUR_ALPHA_VANTAGE_API_KEY\\'\\\\ntime_series_url = f\\'https://www.alphavantage.co/query?function=TIME_SERIES_DAILY_ADJUSTED&symbol=GOOG&apikey={api_key}&datatype=json\\'\\\\nresponse = web_search(query=time_series_url)\\\\nprint(response)\"}}]'"
            ],
            "application/vnd.google.colaboratory.intrinsic+json": {
              "type": "string"
            }
          },
          "metadata": {},
          "execution_count": 14
        }
      ]
    },
    {
      "cell_type": "code",
      "source": [
        "agent = CodeAgent(tools=[DuckDuckGoSearchTool()], model=HfApiModel(),additional_authorized_imports=['math','pandas','requests', 'bs4','matplotlib','yfinance'])"
      ],
      "metadata": {
        "id": "KNBYjMfQyFXg"
      },
      "execution_count": 15,
      "outputs": []
    },
    {
      "cell_type": "code",
      "source": [
        "agent.run(\"fetch the share price of google from 2020 to 2024, and create a line graph from it?\")"
      ],
      "metadata": {
        "id": "sjtPc7shymdo",
        "colab": {
          "base_uri": "https://localhost:8080/",
          "height": 1000
        },
        "outputId": "99065591-da35-44aa-d28e-565a943f4834"
      },
      "execution_count": 16,
      "outputs": [
        {
          "output_type": "display_data",
          "data": {
            "text/plain": [
              "\u001b[38;2;212;183;2m╭─\u001b[0m\u001b[38;2;212;183;2m───────────────────────────────────────────────────\u001b[0m\u001b[38;2;212;183;2m \u001b[0m\u001b[1;38;2;212;183;2mNew run\u001b[0m\u001b[38;2;212;183;2m \u001b[0m\u001b[38;2;212;183;2m───────────────────────────────────────────────────\u001b[0m\u001b[38;2;212;183;2m─╮\u001b[0m\n",
              "\u001b[38;2;212;183;2m│\u001b[0m                                                                                                                 \u001b[38;2;212;183;2m│\u001b[0m\n",
              "\u001b[38;2;212;183;2m│\u001b[0m \u001b[1mfetch the share price of google from 2020 to 2024, and create a line graph from it?\u001b[0m                             \u001b[38;2;212;183;2m│\u001b[0m\n",
              "\u001b[38;2;212;183;2m│\u001b[0m                                                                                                                 \u001b[38;2;212;183;2m│\u001b[0m\n",
              "\u001b[38;2;212;183;2m╰─\u001b[0m\u001b[38;2;212;183;2m HfApiModel - Qwen/Qwen2.5-Coder-32B-Instruct \u001b[0m\u001b[38;2;212;183;2m─────────────────────────────────────────────────────────────────\u001b[0m\u001b[38;2;212;183;2m─╯\u001b[0m\n"
            ],
            "text/html": [
              "<pre style=\"white-space:pre;overflow-x:auto;line-height:normal;font-family:Menlo,'DejaVu Sans Mono',consolas,'Courier New',monospace\"><span style=\"color: #d4b702; text-decoration-color: #d4b702\">╭──────────────────────────────────────────────────── </span><span style=\"color: #d4b702; text-decoration-color: #d4b702; font-weight: bold\">New run</span><span style=\"color: #d4b702; text-decoration-color: #d4b702\"> ────────────────────────────────────────────────────╮</span>\n",
              "<span style=\"color: #d4b702; text-decoration-color: #d4b702\">│</span>                                                                                                                 <span style=\"color: #d4b702; text-decoration-color: #d4b702\">│</span>\n",
              "<span style=\"color: #d4b702; text-decoration-color: #d4b702\">│</span> <span style=\"font-weight: bold\">fetch the share price of google from 2020 to 2024, and create a line graph from it?</span>                             <span style=\"color: #d4b702; text-decoration-color: #d4b702\">│</span>\n",
              "<span style=\"color: #d4b702; text-decoration-color: #d4b702\">│</span>                                                                                                                 <span style=\"color: #d4b702; text-decoration-color: #d4b702\">│</span>\n",
              "<span style=\"color: #d4b702; text-decoration-color: #d4b702\">╰─ HfApiModel - Qwen/Qwen2.5-Coder-32B-Instruct ──────────────────────────────────────────────────────────────────╯</span>\n",
              "</pre>\n"
            ]
          },
          "metadata": {}
        },
        {
          "output_type": "display_data",
          "data": {
            "text/plain": [
              "\u001b[38;2;212;183;2m━━━━━━━━━━━━━━━━━━━━━━━━━━━━━━━━━━━━━━━━━━━━━━━━━━━━━ \u001b[0m\u001b[1mStep \u001b[0m\u001b[1;36m1\u001b[0m\u001b[38;2;212;183;2m ━━━━━━━━━━━━━━━━━━━━━━━━━━━━━━━━━━━━━━━━━━━━━━━━━━━━━━\u001b[0m\n"
            ],
            "text/html": [
              "<pre style=\"white-space:pre;overflow-x:auto;line-height:normal;font-family:Menlo,'DejaVu Sans Mono',consolas,'Courier New',monospace\"><span style=\"color: #d4b702; text-decoration-color: #d4b702\">━━━━━━━━━━━━━━━━━━━━━━━━━━━━━━━━━━━━━━━━━━━━━━━━━━━━━ </span><span style=\"font-weight: bold\">Step </span><span style=\"color: #008080; text-decoration-color: #008080; font-weight: bold\">1</span><span style=\"color: #d4b702; text-decoration-color: #d4b702\"> ━━━━━━━━━━━━━━━━━━━━━━━━━━━━━━━━━━━━━━━━━━━━━━━━━━━━━━</span>\n",
              "</pre>\n"
            ]
          },
          "metadata": {}
        },
        {
          "output_type": "display_data",
          "data": {
            "text/plain": [
              " ─ \u001b[1mExecuting parsed code:\u001b[0m ──────────────────────────────────────────────────────────────────────────────────────── \n",
              "  \u001b[38;2;255;70;137;48;2;39;40;34mimport\u001b[0m\u001b[38;2;248;248;242;48;2;39;40;34m \u001b[0m\u001b[38;2;248;248;242;48;2;39;40;34myfinance\u001b[0m\u001b[38;2;248;248;242;48;2;39;40;34m \u001b[0m\u001b[38;2;102;217;239;48;2;39;40;34mas\u001b[0m\u001b[38;2;248;248;242;48;2;39;40;34m \u001b[0m\u001b[38;2;248;248;242;48;2;39;40;34myf\u001b[0m\u001b[48;2;39;40;34m                                                                                          \u001b[0m  \n",
              "  \u001b[38;2;255;70;137;48;2;39;40;34mimport\u001b[0m\u001b[38;2;248;248;242;48;2;39;40;34m \u001b[0m\u001b[38;2;248;248;242;48;2;39;40;34mmatplotlib\u001b[0m\u001b[38;2;248;248;242;48;2;39;40;34m.\u001b[0m\u001b[38;2;248;248;242;48;2;39;40;34mpyplot\u001b[0m\u001b[38;2;248;248;242;48;2;39;40;34m \u001b[0m\u001b[38;2;102;217;239;48;2;39;40;34mas\u001b[0m\u001b[38;2;248;248;242;48;2;39;40;34m \u001b[0m\u001b[38;2;248;248;242;48;2;39;40;34mplt\u001b[0m\u001b[48;2;39;40;34m                                                                                \u001b[0m  \n",
              "  \u001b[48;2;39;40;34m                                                                                                               \u001b[0m  \n",
              "  \u001b[38;2;149;144;119;48;2;39;40;34m# Define the stock symbol and date range\u001b[0m\u001b[48;2;39;40;34m                                                                       \u001b[0m  \n",
              "  \u001b[38;2;248;248;242;48;2;39;40;34mstock_symbol\u001b[0m\u001b[38;2;248;248;242;48;2;39;40;34m \u001b[0m\u001b[38;2;255;70;137;48;2;39;40;34m=\u001b[0m\u001b[38;2;248;248;242;48;2;39;40;34m \u001b[0m\u001b[38;2;230;219;116;48;2;39;40;34m'\u001b[0m\u001b[38;2;230;219;116;48;2;39;40;34mGOOGL\u001b[0m\u001b[38;2;230;219;116;48;2;39;40;34m'\u001b[0m\u001b[48;2;39;40;34m                                                                                         \u001b[0m  \n",
              "  \u001b[38;2;248;248;242;48;2;39;40;34mstart_date\u001b[0m\u001b[38;2;248;248;242;48;2;39;40;34m \u001b[0m\u001b[38;2;255;70;137;48;2;39;40;34m=\u001b[0m\u001b[38;2;248;248;242;48;2;39;40;34m \u001b[0m\u001b[38;2;230;219;116;48;2;39;40;34m'\u001b[0m\u001b[38;2;230;219;116;48;2;39;40;34m2020-01-01\u001b[0m\u001b[38;2;230;219;116;48;2;39;40;34m'\u001b[0m\u001b[48;2;39;40;34m                                                                                      \u001b[0m  \n",
              "  \u001b[38;2;248;248;242;48;2;39;40;34mend_date\u001b[0m\u001b[38;2;248;248;242;48;2;39;40;34m \u001b[0m\u001b[38;2;255;70;137;48;2;39;40;34m=\u001b[0m\u001b[38;2;248;248;242;48;2;39;40;34m \u001b[0m\u001b[38;2;230;219;116;48;2;39;40;34m'\u001b[0m\u001b[38;2;230;219;116;48;2;39;40;34m2024-12-31\u001b[0m\u001b[38;2;230;219;116;48;2;39;40;34m'\u001b[0m\u001b[48;2;39;40;34m                                                                                        \u001b[0m  \n",
              "  \u001b[48;2;39;40;34m                                                                                                               \u001b[0m  \n",
              "  \u001b[38;2;149;144;119;48;2;39;40;34m# Fetch the stock data\u001b[0m\u001b[48;2;39;40;34m                                                                                         \u001b[0m  \n",
              "  \u001b[38;2;248;248;242;48;2;39;40;34mstock_data\u001b[0m\u001b[38;2;248;248;242;48;2;39;40;34m \u001b[0m\u001b[38;2;255;70;137;48;2;39;40;34m=\u001b[0m\u001b[38;2;248;248;242;48;2;39;40;34m \u001b[0m\u001b[38;2;248;248;242;48;2;39;40;34myf\u001b[0m\u001b[38;2;255;70;137;48;2;39;40;34m.\u001b[0m\u001b[38;2;248;248;242;48;2;39;40;34mdownload\u001b[0m\u001b[38;2;248;248;242;48;2;39;40;34m(\u001b[0m\u001b[38;2;248;248;242;48;2;39;40;34mstock_symbol\u001b[0m\u001b[38;2;248;248;242;48;2;39;40;34m,\u001b[0m\u001b[38;2;248;248;242;48;2;39;40;34m \u001b[0m\u001b[38;2;248;248;242;48;2;39;40;34mstart\u001b[0m\u001b[38;2;255;70;137;48;2;39;40;34m=\u001b[0m\u001b[38;2;248;248;242;48;2;39;40;34mstart_date\u001b[0m\u001b[38;2;248;248;242;48;2;39;40;34m,\u001b[0m\u001b[38;2;248;248;242;48;2;39;40;34m \u001b[0m\u001b[38;2;248;248;242;48;2;39;40;34mend\u001b[0m\u001b[38;2;255;70;137;48;2;39;40;34m=\u001b[0m\u001b[38;2;248;248;242;48;2;39;40;34mend_date\u001b[0m\u001b[38;2;248;248;242;48;2;39;40;34m)\u001b[0m\u001b[48;2;39;40;34m                                         \u001b[0m  \n",
              "  \u001b[48;2;39;40;34m                                                                                                               \u001b[0m  \n",
              "  \u001b[38;2;149;144;119;48;2;39;40;34m# Display the first few rows of the data\u001b[0m\u001b[48;2;39;40;34m                                                                       \u001b[0m  \n",
              "  \u001b[38;2;248;248;242;48;2;39;40;34mprint\u001b[0m\u001b[38;2;248;248;242;48;2;39;40;34m(\u001b[0m\u001b[38;2;248;248;242;48;2;39;40;34mstock_data\u001b[0m\u001b[38;2;255;70;137;48;2;39;40;34m.\u001b[0m\u001b[38;2;248;248;242;48;2;39;40;34mhead\u001b[0m\u001b[38;2;248;248;242;48;2;39;40;34m(\u001b[0m\u001b[38;2;248;248;242;48;2;39;40;34m)\u001b[0m\u001b[38;2;248;248;242;48;2;39;40;34m)\u001b[0m\u001b[48;2;39;40;34m                                                                                       \u001b[0m  \n",
              "  \u001b[48;2;39;40;34m                                                                                                               \u001b[0m  \n",
              "  \u001b[38;2;149;144;119;48;2;39;40;34m# Plot the closing prices\u001b[0m\u001b[48;2;39;40;34m                                                                                      \u001b[0m  \n",
              "  \u001b[38;2;248;248;242;48;2;39;40;34mplt\u001b[0m\u001b[38;2;255;70;137;48;2;39;40;34m.\u001b[0m\u001b[38;2;248;248;242;48;2;39;40;34mfigure\u001b[0m\u001b[38;2;248;248;242;48;2;39;40;34m(\u001b[0m\u001b[38;2;248;248;242;48;2;39;40;34mfigsize\u001b[0m\u001b[38;2;255;70;137;48;2;39;40;34m=\u001b[0m\u001b[38;2;248;248;242;48;2;39;40;34m(\u001b[0m\u001b[38;2;174;129;255;48;2;39;40;34m12\u001b[0m\u001b[38;2;248;248;242;48;2;39;40;34m,\u001b[0m\u001b[38;2;248;248;242;48;2;39;40;34m \u001b[0m\u001b[38;2;174;129;255;48;2;39;40;34m6\u001b[0m\u001b[38;2;248;248;242;48;2;39;40;34m)\u001b[0m\u001b[38;2;248;248;242;48;2;39;40;34m)\u001b[0m\u001b[48;2;39;40;34m                                                                                    \u001b[0m  \n",
              "  \u001b[38;2;248;248;242;48;2;39;40;34mplt\u001b[0m\u001b[38;2;255;70;137;48;2;39;40;34m.\u001b[0m\u001b[38;2;248;248;242;48;2;39;40;34mplot\u001b[0m\u001b[38;2;248;248;242;48;2;39;40;34m(\u001b[0m\u001b[38;2;248;248;242;48;2;39;40;34mstock_data\u001b[0m\u001b[38;2;248;248;242;48;2;39;40;34m[\u001b[0m\u001b[38;2;230;219;116;48;2;39;40;34m'\u001b[0m\u001b[38;2;230;219;116;48;2;39;40;34mClose\u001b[0m\u001b[38;2;230;219;116;48;2;39;40;34m'\u001b[0m\u001b[38;2;248;248;242;48;2;39;40;34m]\u001b[0m\u001b[38;2;248;248;242;48;2;39;40;34m,\u001b[0m\u001b[38;2;248;248;242;48;2;39;40;34m \u001b[0m\u001b[38;2;248;248;242;48;2;39;40;34mlabel\u001b[0m\u001b[38;2;255;70;137;48;2;39;40;34m=\u001b[0m\u001b[38;2;230;219;116;48;2;39;40;34m'\u001b[0m\u001b[38;2;230;219;116;48;2;39;40;34mClose Price\u001b[0m\u001b[38;2;230;219;116;48;2;39;40;34m'\u001b[0m\u001b[38;2;248;248;242;48;2;39;40;34m,\u001b[0m\u001b[38;2;248;248;242;48;2;39;40;34m \u001b[0m\u001b[38;2;248;248;242;48;2;39;40;34mcolor\u001b[0m\u001b[38;2;255;70;137;48;2;39;40;34m=\u001b[0m\u001b[38;2;230;219;116;48;2;39;40;34m'\u001b[0m\u001b[38;2;230;219;116;48;2;39;40;34mb\u001b[0m\u001b[38;2;230;219;116;48;2;39;40;34m'\u001b[0m\u001b[38;2;248;248;242;48;2;39;40;34m)\u001b[0m\u001b[48;2;39;40;34m                                                  \u001b[0m  \n",
              "  \u001b[38;2;248;248;242;48;2;39;40;34mplt\u001b[0m\u001b[38;2;255;70;137;48;2;39;40;34m.\u001b[0m\u001b[38;2;248;248;242;48;2;39;40;34mtitle\u001b[0m\u001b[38;2;248;248;242;48;2;39;40;34m(\u001b[0m\u001b[38;2;230;219;116;48;2;39;40;34m'\u001b[0m\u001b[38;2;230;219;116;48;2;39;40;34mGoogle (GOOGL) Closing Prices from 2020 to 2024\u001b[0m\u001b[38;2;230;219;116;48;2;39;40;34m'\u001b[0m\u001b[38;2;248;248;242;48;2;39;40;34m)\u001b[0m\u001b[48;2;39;40;34m                                                   \u001b[0m  \n",
              "  \u001b[38;2;248;248;242;48;2;39;40;34mplt\u001b[0m\u001b[38;2;255;70;137;48;2;39;40;34m.\u001b[0m\u001b[38;2;248;248;242;48;2;39;40;34mxlabel\u001b[0m\u001b[38;2;248;248;242;48;2;39;40;34m(\u001b[0m\u001b[38;2;230;219;116;48;2;39;40;34m'\u001b[0m\u001b[38;2;230;219;116;48;2;39;40;34mDate\u001b[0m\u001b[38;2;230;219;116;48;2;39;40;34m'\u001b[0m\u001b[38;2;248;248;242;48;2;39;40;34m)\u001b[0m\u001b[48;2;39;40;34m                                                                                             \u001b[0m  \n",
              "  \u001b[38;2;248;248;242;48;2;39;40;34mplt\u001b[0m\u001b[38;2;255;70;137;48;2;39;40;34m.\u001b[0m\u001b[38;2;248;248;242;48;2;39;40;34mylabel\u001b[0m\u001b[38;2;248;248;242;48;2;39;40;34m(\u001b[0m\u001b[38;2;230;219;116;48;2;39;40;34m'\u001b[0m\u001b[38;2;230;219;116;48;2;39;40;34mClosing Price (USD)\u001b[0m\u001b[38;2;230;219;116;48;2;39;40;34m'\u001b[0m\u001b[38;2;248;248;242;48;2;39;40;34m)\u001b[0m\u001b[48;2;39;40;34m                                                                              \u001b[0m  \n",
              "  \u001b[38;2;248;248;242;48;2;39;40;34mplt\u001b[0m\u001b[38;2;255;70;137;48;2;39;40;34m.\u001b[0m\u001b[38;2;248;248;242;48;2;39;40;34mlegend\u001b[0m\u001b[38;2;248;248;242;48;2;39;40;34m(\u001b[0m\u001b[38;2;248;248;242;48;2;39;40;34m)\u001b[0m\u001b[48;2;39;40;34m                                                                                                   \u001b[0m  \n",
              "  \u001b[38;2;248;248;242;48;2;39;40;34mplt\u001b[0m\u001b[38;2;255;70;137;48;2;39;40;34m.\u001b[0m\u001b[38;2;248;248;242;48;2;39;40;34mgrid\u001b[0m\u001b[38;2;248;248;242;48;2;39;40;34m(\u001b[0m\u001b[38;2;102;217;239;48;2;39;40;34mTrue\u001b[0m\u001b[38;2;248;248;242;48;2;39;40;34m)\u001b[0m\u001b[48;2;39;40;34m                                                                                                 \u001b[0m  \n",
              "  \u001b[38;2;248;248;242;48;2;39;40;34mplt\u001b[0m\u001b[38;2;255;70;137;48;2;39;40;34m.\u001b[0m\u001b[38;2;248;248;242;48;2;39;40;34mshow\u001b[0m\u001b[38;2;248;248;242;48;2;39;40;34m(\u001b[0m\u001b[38;2;248;248;242;48;2;39;40;34m)\u001b[0m\u001b[48;2;39;40;34m                                                                                                     \u001b[0m  \n",
              " ───────────────────────────────────────────────────────────────────────────────────────────────────────────────── \n"
            ],
            "text/html": [
              "<pre style=\"white-space:pre;overflow-x:auto;line-height:normal;font-family:Menlo,'DejaVu Sans Mono',consolas,'Courier New',monospace\"> ─ <span style=\"font-weight: bold\">Executing parsed code:</span> ──────────────────────────────────────────────────────────────────────────────────────── \n",
              "  <span style=\"color: #ff4689; text-decoration-color: #ff4689; background-color: #272822\">import</span><span style=\"color: #f8f8f2; text-decoration-color: #f8f8f2; background-color: #272822\"> yfinance </span><span style=\"color: #66d9ef; text-decoration-color: #66d9ef; background-color: #272822\">as</span><span style=\"color: #f8f8f2; text-decoration-color: #f8f8f2; background-color: #272822\"> yf</span><span style=\"background-color: #272822\">                                                                                          </span>  \n",
              "  <span style=\"color: #ff4689; text-decoration-color: #ff4689; background-color: #272822\">import</span><span style=\"color: #f8f8f2; text-decoration-color: #f8f8f2; background-color: #272822\"> matplotlib.pyplot </span><span style=\"color: #66d9ef; text-decoration-color: #66d9ef; background-color: #272822\">as</span><span style=\"color: #f8f8f2; text-decoration-color: #f8f8f2; background-color: #272822\"> plt</span><span style=\"background-color: #272822\">                                                                                </span>  \n",
              "  <span style=\"background-color: #272822\">                                                                                                               </span>  \n",
              "  <span style=\"color: #959077; text-decoration-color: #959077; background-color: #272822\"># Define the stock symbol and date range</span><span style=\"background-color: #272822\">                                                                       </span>  \n",
              "  <span style=\"color: #f8f8f2; text-decoration-color: #f8f8f2; background-color: #272822\">stock_symbol </span><span style=\"color: #ff4689; text-decoration-color: #ff4689; background-color: #272822\">=</span><span style=\"color: #f8f8f2; text-decoration-color: #f8f8f2; background-color: #272822\"> </span><span style=\"color: #e6db74; text-decoration-color: #e6db74; background-color: #272822\">'GOOGL'</span><span style=\"background-color: #272822\">                                                                                         </span>  \n",
              "  <span style=\"color: #f8f8f2; text-decoration-color: #f8f8f2; background-color: #272822\">start_date </span><span style=\"color: #ff4689; text-decoration-color: #ff4689; background-color: #272822\">=</span><span style=\"color: #f8f8f2; text-decoration-color: #f8f8f2; background-color: #272822\"> </span><span style=\"color: #e6db74; text-decoration-color: #e6db74; background-color: #272822\">'2020-01-01'</span><span style=\"background-color: #272822\">                                                                                      </span>  \n",
              "  <span style=\"color: #f8f8f2; text-decoration-color: #f8f8f2; background-color: #272822\">end_date </span><span style=\"color: #ff4689; text-decoration-color: #ff4689; background-color: #272822\">=</span><span style=\"color: #f8f8f2; text-decoration-color: #f8f8f2; background-color: #272822\"> </span><span style=\"color: #e6db74; text-decoration-color: #e6db74; background-color: #272822\">'2024-12-31'</span><span style=\"background-color: #272822\">                                                                                        </span>  \n",
              "  <span style=\"background-color: #272822\">                                                                                                               </span>  \n",
              "  <span style=\"color: #959077; text-decoration-color: #959077; background-color: #272822\"># Fetch the stock data</span><span style=\"background-color: #272822\">                                                                                         </span>  \n",
              "  <span style=\"color: #f8f8f2; text-decoration-color: #f8f8f2; background-color: #272822\">stock_data </span><span style=\"color: #ff4689; text-decoration-color: #ff4689; background-color: #272822\">=</span><span style=\"color: #f8f8f2; text-decoration-color: #f8f8f2; background-color: #272822\"> yf</span><span style=\"color: #ff4689; text-decoration-color: #ff4689; background-color: #272822\">.</span><span style=\"color: #f8f8f2; text-decoration-color: #f8f8f2; background-color: #272822\">download(stock_symbol, start</span><span style=\"color: #ff4689; text-decoration-color: #ff4689; background-color: #272822\">=</span><span style=\"color: #f8f8f2; text-decoration-color: #f8f8f2; background-color: #272822\">start_date, end</span><span style=\"color: #ff4689; text-decoration-color: #ff4689; background-color: #272822\">=</span><span style=\"color: #f8f8f2; text-decoration-color: #f8f8f2; background-color: #272822\">end_date)</span><span style=\"background-color: #272822\">                                         </span>  \n",
              "  <span style=\"background-color: #272822\">                                                                                                               </span>  \n",
              "  <span style=\"color: #959077; text-decoration-color: #959077; background-color: #272822\"># Display the first few rows of the data</span><span style=\"background-color: #272822\">                                                                       </span>  \n",
              "  <span style=\"color: #f8f8f2; text-decoration-color: #f8f8f2; background-color: #272822\">print(stock_data</span><span style=\"color: #ff4689; text-decoration-color: #ff4689; background-color: #272822\">.</span><span style=\"color: #f8f8f2; text-decoration-color: #f8f8f2; background-color: #272822\">head())</span><span style=\"background-color: #272822\">                                                                                       </span>  \n",
              "  <span style=\"background-color: #272822\">                                                                                                               </span>  \n",
              "  <span style=\"color: #959077; text-decoration-color: #959077; background-color: #272822\"># Plot the closing prices</span><span style=\"background-color: #272822\">                                                                                      </span>  \n",
              "  <span style=\"color: #f8f8f2; text-decoration-color: #f8f8f2; background-color: #272822\">plt</span><span style=\"color: #ff4689; text-decoration-color: #ff4689; background-color: #272822\">.</span><span style=\"color: #f8f8f2; text-decoration-color: #f8f8f2; background-color: #272822\">figure(figsize</span><span style=\"color: #ff4689; text-decoration-color: #ff4689; background-color: #272822\">=</span><span style=\"color: #f8f8f2; text-decoration-color: #f8f8f2; background-color: #272822\">(</span><span style=\"color: #ae81ff; text-decoration-color: #ae81ff; background-color: #272822\">12</span><span style=\"color: #f8f8f2; text-decoration-color: #f8f8f2; background-color: #272822\">, </span><span style=\"color: #ae81ff; text-decoration-color: #ae81ff; background-color: #272822\">6</span><span style=\"color: #f8f8f2; text-decoration-color: #f8f8f2; background-color: #272822\">))</span><span style=\"background-color: #272822\">                                                                                    </span>  \n",
              "  <span style=\"color: #f8f8f2; text-decoration-color: #f8f8f2; background-color: #272822\">plt</span><span style=\"color: #ff4689; text-decoration-color: #ff4689; background-color: #272822\">.</span><span style=\"color: #f8f8f2; text-decoration-color: #f8f8f2; background-color: #272822\">plot(stock_data[</span><span style=\"color: #e6db74; text-decoration-color: #e6db74; background-color: #272822\">'Close'</span><span style=\"color: #f8f8f2; text-decoration-color: #f8f8f2; background-color: #272822\">], label</span><span style=\"color: #ff4689; text-decoration-color: #ff4689; background-color: #272822\">=</span><span style=\"color: #e6db74; text-decoration-color: #e6db74; background-color: #272822\">'Close Price'</span><span style=\"color: #f8f8f2; text-decoration-color: #f8f8f2; background-color: #272822\">, color</span><span style=\"color: #ff4689; text-decoration-color: #ff4689; background-color: #272822\">=</span><span style=\"color: #e6db74; text-decoration-color: #e6db74; background-color: #272822\">'b'</span><span style=\"color: #f8f8f2; text-decoration-color: #f8f8f2; background-color: #272822\">)</span><span style=\"background-color: #272822\">                                                  </span>  \n",
              "  <span style=\"color: #f8f8f2; text-decoration-color: #f8f8f2; background-color: #272822\">plt</span><span style=\"color: #ff4689; text-decoration-color: #ff4689; background-color: #272822\">.</span><span style=\"color: #f8f8f2; text-decoration-color: #f8f8f2; background-color: #272822\">title(</span><span style=\"color: #e6db74; text-decoration-color: #e6db74; background-color: #272822\">'Google (GOOGL) Closing Prices from 2020 to 2024'</span><span style=\"color: #f8f8f2; text-decoration-color: #f8f8f2; background-color: #272822\">)</span><span style=\"background-color: #272822\">                                                   </span>  \n",
              "  <span style=\"color: #f8f8f2; text-decoration-color: #f8f8f2; background-color: #272822\">plt</span><span style=\"color: #ff4689; text-decoration-color: #ff4689; background-color: #272822\">.</span><span style=\"color: #f8f8f2; text-decoration-color: #f8f8f2; background-color: #272822\">xlabel(</span><span style=\"color: #e6db74; text-decoration-color: #e6db74; background-color: #272822\">'Date'</span><span style=\"color: #f8f8f2; text-decoration-color: #f8f8f2; background-color: #272822\">)</span><span style=\"background-color: #272822\">                                                                                             </span>  \n",
              "  <span style=\"color: #f8f8f2; text-decoration-color: #f8f8f2; background-color: #272822\">plt</span><span style=\"color: #ff4689; text-decoration-color: #ff4689; background-color: #272822\">.</span><span style=\"color: #f8f8f2; text-decoration-color: #f8f8f2; background-color: #272822\">ylabel(</span><span style=\"color: #e6db74; text-decoration-color: #e6db74; background-color: #272822\">'Closing Price (USD)'</span><span style=\"color: #f8f8f2; text-decoration-color: #f8f8f2; background-color: #272822\">)</span><span style=\"background-color: #272822\">                                                                              </span>  \n",
              "  <span style=\"color: #f8f8f2; text-decoration-color: #f8f8f2; background-color: #272822\">plt</span><span style=\"color: #ff4689; text-decoration-color: #ff4689; background-color: #272822\">.</span><span style=\"color: #f8f8f2; text-decoration-color: #f8f8f2; background-color: #272822\">legend()</span><span style=\"background-color: #272822\">                                                                                                   </span>  \n",
              "  <span style=\"color: #f8f8f2; text-decoration-color: #f8f8f2; background-color: #272822\">plt</span><span style=\"color: #ff4689; text-decoration-color: #ff4689; background-color: #272822\">.</span><span style=\"color: #f8f8f2; text-decoration-color: #f8f8f2; background-color: #272822\">grid(</span><span style=\"color: #66d9ef; text-decoration-color: #66d9ef; background-color: #272822\">True</span><span style=\"color: #f8f8f2; text-decoration-color: #f8f8f2; background-color: #272822\">)</span><span style=\"background-color: #272822\">                                                                                                 </span>  \n",
              "  <span style=\"color: #f8f8f2; text-decoration-color: #f8f8f2; background-color: #272822\">plt</span><span style=\"color: #ff4689; text-decoration-color: #ff4689; background-color: #272822\">.</span><span style=\"color: #f8f8f2; text-decoration-color: #f8f8f2; background-color: #272822\">show()</span><span style=\"background-color: #272822\">                                                                                                     </span>  \n",
              " ───────────────────────────────────────────────────────────────────────────────────────────────────────────────── \n",
              "</pre>\n"
            ]
          },
          "metadata": {}
        },
        {
          "output_type": "stream",
          "name": "stderr",
          "text": [
            "\r[*********************100%***********************]  1 of 1 completed\n"
          ]
        },
        {
          "output_type": "display_data",
          "data": {
            "text/plain": [
              "<Figure size 1200x600 with 1 Axes>"
            ],
            "image/png": "[encoded data removed]"
          },
          "metadata": {}
        },
        {
          "output_type": "display_data",
          "data": {
            "text/plain": [
              "\u001b[1mExecution logs:\u001b[0m\n",
              "Price           Close       High        Low       Open    Volume\n",
              "Ticker          GOOGL      GOOGL      GOOGL      GOOGL     GOOGL\n",
              "Date                                                            \n",
              "2020-01-02  68.186813  68.186813  67.081324  67.176978  27278000\n",
              "2020-01-03  67.830109  68.439404  67.122674  67.156555  23408000\n",
              "2020-01-06  69.638054  69.663459  67.306008  67.337388  46768000\n",
              "2020-01-07  69.503548  69.921535  69.326691  69.770083  34330000\n",
              "2020-01-08  69.998253  70.337523  69.379995  69.489097  35314000\n",
              "\n",
              "Out: None\n"
            ],
            "text/html": [
              "<pre style=\"white-space:pre;overflow-x:auto;line-height:normal;font-family:Menlo,'DejaVu Sans Mono',consolas,'Courier New',monospace\"><span style=\"font-weight: bold\">Execution logs:</span>\n",
              "Price           Close       High        Low       Open    Volume\n",
              "Ticker          GOOGL      GOOGL      GOOGL      GOOGL     GOOGL\n",
              "Date                                                            \n",
              "2020-01-02  68.186813  68.186813  67.081324  67.176978  27278000\n",
              "2020-01-03  67.830109  68.439404  67.122674  67.156555  23408000\n",
              "2020-01-06  69.638054  69.663459  67.306008  67.337388  46768000\n",
              "2020-01-07  69.503548  69.921535  69.326691  69.770083  34330000\n",
              "2020-01-08  69.998253  70.337523  69.379995  69.489097  35314000\n",
              "\n",
              "Out: None\n",
              "</pre>\n"
            ]
          },
          "metadata": {}
        },
        {
          "output_type": "display_data",
          "data": {
            "text/plain": [
              "\u001b[2m[Step 0: Duration 14.70 seconds| Input tokens: 2,115 | Output tokens: 296]\u001b[0m\n"
            ],
            "text/html": [
              "<pre style=\"white-space:pre;overflow-x:auto;line-height:normal;font-family:Menlo,'DejaVu Sans Mono',consolas,'Courier New',monospace\"><span style=\"color: #7f7f7f; text-decoration-color: #7f7f7f\">[Step 0: Duration 14.70 seconds| Input tokens: 2,115 | Output tokens: 296]</span>\n",
              "</pre>\n"
            ]
          },
          "metadata": {}
        },
        {
          "output_type": "display_data",
          "data": {
            "text/plain": [
              "\u001b[38;2;212;183;2m━━━━━━━━━━━━━━━━━━━━━━━━━━━━━━━━━━━━━━━━━━━━━━━━━━━━━ \u001b[0m\u001b[1mStep \u001b[0m\u001b[1;36m2\u001b[0m\u001b[38;2;212;183;2m ━━━━━━━━━━━━━━━━━━━━━━━━━━━━━━━━━━━━━━━━━━━━━━━━━━━━━━\u001b[0m\n"
            ],
            "text/html": [
              "<pre style=\"white-space:pre;overflow-x:auto;line-height:normal;font-family:Menlo,'DejaVu Sans Mono',consolas,'Courier New',monospace\"><span style=\"color: #d4b702; text-decoration-color: #d4b702\">━━━━━━━━━━━━━━━━━━━━━━━━━━━━━━━━━━━━━━━━━━━━━━━━━━━━━ </span><span style=\"font-weight: bold\">Step </span><span style=\"color: #008080; text-decoration-color: #008080; font-weight: bold\">2</span><span style=\"color: #d4b702; text-decoration-color: #d4b702\"> ━━━━━━━━━━━━━━━━━━━━━━━━━━━━━━━━━━━━━━━━━━━━━━━━━━━━━━</span>\n",
              "</pre>\n"
            ]
          },
          "metadata": {}
        },
        {
          "output_type": "display_data",
          "data": {
            "text/plain": [
              " ─ \u001b[1mExecuting parsed code:\u001b[0m ──────────────────────────────────────────────────────────────────────────────────────── \n",
              "  \u001b[38;2;149;144;119;48;2;39;40;34m# Plot the closing prices\u001b[0m\u001b[48;2;39;40;34m                                                                                      \u001b[0m  \n",
              "  \u001b[38;2;248;248;242;48;2;39;40;34mplt\u001b[0m\u001b[38;2;255;70;137;48;2;39;40;34m.\u001b[0m\u001b[38;2;248;248;242;48;2;39;40;34mfigure\u001b[0m\u001b[38;2;248;248;242;48;2;39;40;34m(\u001b[0m\u001b[38;2;248;248;242;48;2;39;40;34mfigsize\u001b[0m\u001b[38;2;255;70;137;48;2;39;40;34m=\u001b[0m\u001b[38;2;248;248;242;48;2;39;40;34m(\u001b[0m\u001b[38;2;174;129;255;48;2;39;40;34m12\u001b[0m\u001b[38;2;248;248;242;48;2;39;40;34m,\u001b[0m\u001b[38;2;248;248;242;48;2;39;40;34m \u001b[0m\u001b[38;2;174;129;255;48;2;39;40;34m6\u001b[0m\u001b[38;2;248;248;242;48;2;39;40;34m)\u001b[0m\u001b[38;2;248;248;242;48;2;39;40;34m)\u001b[0m\u001b[48;2;39;40;34m                                                                                    \u001b[0m  \n",
              "  \u001b[38;2;248;248;242;48;2;39;40;34mplt\u001b[0m\u001b[38;2;255;70;137;48;2;39;40;34m.\u001b[0m\u001b[38;2;248;248;242;48;2;39;40;34mplot\u001b[0m\u001b[38;2;248;248;242;48;2;39;40;34m(\u001b[0m\u001b[38;2;248;248;242;48;2;39;40;34mstock_data\u001b[0m\u001b[38;2;248;248;242;48;2;39;40;34m[\u001b[0m\u001b[38;2;230;219;116;48;2;39;40;34m'\u001b[0m\u001b[38;2;230;219;116;48;2;39;40;34mClose\u001b[0m\u001b[38;2;230;219;116;48;2;39;40;34m'\u001b[0m\u001b[38;2;248;248;242;48;2;39;40;34m]\u001b[0m\u001b[38;2;248;248;242;48;2;39;40;34m,\u001b[0m\u001b[38;2;248;248;242;48;2;39;40;34m \u001b[0m\u001b[38;2;248;248;242;48;2;39;40;34mlabel\u001b[0m\u001b[38;2;255;70;137;48;2;39;40;34m=\u001b[0m\u001b[38;2;230;219;116;48;2;39;40;34m'\u001b[0m\u001b[38;2;230;219;116;48;2;39;40;34mClose Price\u001b[0m\u001b[38;2;230;219;116;48;2;39;40;34m'\u001b[0m\u001b[38;2;248;248;242;48;2;39;40;34m,\u001b[0m\u001b[38;2;248;248;242;48;2;39;40;34m \u001b[0m\u001b[38;2;248;248;242;48;2;39;40;34mcolor\u001b[0m\u001b[38;2;255;70;137;48;2;39;40;34m=\u001b[0m\u001b[38;2;230;219;116;48;2;39;40;34m'\u001b[0m\u001b[38;2;230;219;116;48;2;39;40;34mb\u001b[0m\u001b[38;2;230;219;116;48;2;39;40;34m'\u001b[0m\u001b[38;2;248;248;242;48;2;39;40;34m)\u001b[0m\u001b[48;2;39;40;34m                                                  \u001b[0m  \n",
              "  \u001b[38;2;248;248;242;48;2;39;40;34mplt\u001b[0m\u001b[38;2;255;70;137;48;2;39;40;34m.\u001b[0m\u001b[38;2;248;248;242;48;2;39;40;34mtitle\u001b[0m\u001b[38;2;248;248;242;48;2;39;40;34m(\u001b[0m\u001b[38;2;230;219;116;48;2;39;40;34m'\u001b[0m\u001b[38;2;230;219;116;48;2;39;40;34mGoogle (GOOGL) Closing Prices from 2020 to 2024\u001b[0m\u001b[38;2;230;219;116;48;2;39;40;34m'\u001b[0m\u001b[38;2;248;248;242;48;2;39;40;34m)\u001b[0m\u001b[48;2;39;40;34m                                                   \u001b[0m  \n",
              "  \u001b[38;2;248;248;242;48;2;39;40;34mplt\u001b[0m\u001b[38;2;255;70;137;48;2;39;40;34m.\u001b[0m\u001b[38;2;248;248;242;48;2;39;40;34mxlabel\u001b[0m\u001b[38;2;248;248;242;48;2;39;40;34m(\u001b[0m\u001b[38;2;230;219;116;48;2;39;40;34m'\u001b[0m\u001b[38;2;230;219;116;48;2;39;40;34mDate\u001b[0m\u001b[38;2;230;219;116;48;2;39;40;34m'\u001b[0m\u001b[38;2;248;248;242;48;2;39;40;34m)\u001b[0m\u001b[48;2;39;40;34m                                                                                             \u001b[0m  \n",
              "  \u001b[38;2;248;248;242;48;2;39;40;34mplt\u001b[0m\u001b[38;2;255;70;137;48;2;39;40;34m.\u001b[0m\u001b[38;2;248;248;242;48;2;39;40;34mylabel\u001b[0m\u001b[38;2;248;248;242;48;2;39;40;34m(\u001b[0m\u001b[38;2;230;219;116;48;2;39;40;34m'\u001b[0m\u001b[38;2;230;219;116;48;2;39;40;34mClosing Price (USD)\u001b[0m\u001b[38;2;230;219;116;48;2;39;40;34m'\u001b[0m\u001b[38;2;248;248;242;48;2;39;40;34m)\u001b[0m\u001b[48;2;39;40;34m                                                                              \u001b[0m  \n",
              "  \u001b[38;2;248;248;242;48;2;39;40;34mplt\u001b[0m\u001b[38;2;255;70;137;48;2;39;40;34m.\u001b[0m\u001b[38;2;248;248;242;48;2;39;40;34mlegend\u001b[0m\u001b[38;2;248;248;242;48;2;39;40;34m(\u001b[0m\u001b[38;2;248;248;242;48;2;39;40;34m)\u001b[0m\u001b[48;2;39;40;34m                                                                                                   \u001b[0m  \n",
              "  \u001b[38;2;248;248;242;48;2;39;40;34mplt\u001b[0m\u001b[38;2;255;70;137;48;2;39;40;34m.\u001b[0m\u001b[38;2;248;248;242;48;2;39;40;34mgrid\u001b[0m\u001b[38;2;248;248;242;48;2;39;40;34m(\u001b[0m\u001b[38;2;102;217;239;48;2;39;40;34mTrue\u001b[0m\u001b[38;2;248;248;242;48;2;39;40;34m)\u001b[0m\u001b[48;2;39;40;34m                                                                                                 \u001b[0m  \n",
              "  \u001b[38;2;248;248;242;48;2;39;40;34mplt\u001b[0m\u001b[38;2;255;70;137;48;2;39;40;34m.\u001b[0m\u001b[38;2;248;248;242;48;2;39;40;34mshow\u001b[0m\u001b[38;2;248;248;242;48;2;39;40;34m(\u001b[0m\u001b[38;2;248;248;242;48;2;39;40;34m)\u001b[0m\u001b[48;2;39;40;34m                                                                                                     \u001b[0m  \n",
              " ───────────────────────────────────────────────────────────────────────────────────────────────────────────────── \n"
            ],
            "text/html": [
              "<pre style=\"white-space:pre;overflow-x:auto;line-height:normal;font-family:Menlo,'DejaVu Sans Mono',consolas,'Courier New',monospace\"> ─ <span style=\"font-weight: bold\">Executing parsed code:</span> ──────────────────────────────────────────────────────────────────────────────────────── \n",
              "  <span style=\"color: #959077; text-decoration-color: #959077; background-color: #272822\"># Plot the closing prices</span><span style=\"background-color: #272822\">                                                                                      </span>  \n",
              "  <span style=\"color: #f8f8f2; text-decoration-color: #f8f8f2; background-color: #272822\">plt</span><span style=\"color: #ff4689; text-decoration-color: #ff4689; background-color: #272822\">.</span><span style=\"color: #f8f8f2; text-decoration-color: #f8f8f2; background-color: #272822\">figure(figsize</span><span style=\"color: #ff4689; text-decoration-color: #ff4689; background-color: #272822\">=</span><span style=\"color: #f8f8f2; text-decoration-color: #f8f8f2; background-color: #272822\">(</span><span style=\"color: #ae81ff; text-decoration-color: #ae81ff; background-color: #272822\">12</span><span style=\"color: #f8f8f2; text-decoration-color: #f8f8f2; background-color: #272822\">, </span><span style=\"color: #ae81ff; text-decoration-color: #ae81ff; background-color: #272822\">6</span><span style=\"color: #f8f8f2; text-decoration-color: #f8f8f2; background-color: #272822\">))</span><span style=\"background-color: #272822\">                                                                                    </span>  \n",
              "  <span style=\"color: #f8f8f2; text-decoration-color: #f8f8f2; background-color: #272822\">plt</span><span style=\"color: #ff4689; text-decoration-color: #ff4689; background-color: #272822\">.</span><span style=\"color: #f8f8f2; text-decoration-color: #f8f8f2; background-color: #272822\">plot(stock_data[</span><span style=\"color: #e6db74; text-decoration-color: #e6db74; background-color: #272822\">'Close'</span><span style=\"color: #f8f8f2; text-decoration-color: #f8f8f2; background-color: #272822\">], label</span><span style=\"color: #ff4689; text-decoration-color: #ff4689; background-color: #272822\">=</span><span style=\"color: #e6db74; text-decoration-color: #e6db74; background-color: #272822\">'Close Price'</span><span style=\"color: #f8f8f2; text-decoration-color: #f8f8f2; background-color: #272822\">, color</span><span style=\"color: #ff4689; text-decoration-color: #ff4689; background-color: #272822\">=</span><span style=\"color: #e6db74; text-decoration-color: #e6db74; background-color: #272822\">'b'</span><span style=\"color: #f8f8f2; text-decoration-color: #f8f8f2; background-color: #272822\">)</span><span style=\"background-color: #272822\">                                                  </span>  \n",
              "  <span style=\"color: #f8f8f2; text-decoration-color: #f8f8f2; background-color: #272822\">plt</span><span style=\"color: #ff4689; text-decoration-color: #ff4689; background-color: #272822\">.</span><span style=\"color: #f8f8f2; text-decoration-color: #f8f8f2; background-color: #272822\">title(</span><span style=\"color: #e6db74; text-decoration-color: #e6db74; background-color: #272822\">'Google (GOOGL) Closing Prices from 2020 to 2024'</span><span style=\"color: #f8f8f2; text-decoration-color: #f8f8f2; background-color: #272822\">)</span><span style=\"background-color: #272822\">                                                   </span>  \n",
              "  <span style=\"color: #f8f8f2; text-decoration-color: #f8f8f2; background-color: #272822\">plt</span><span style=\"color: #ff4689; text-decoration-color: #ff4689; background-color: #272822\">.</span><span style=\"color: #f8f8f2; text-decoration-color: #f8f8f2; background-color: #272822\">xlabel(</span><span style=\"color: #e6db74; text-decoration-color: #e6db74; background-color: #272822\">'Date'</span><span style=\"color: #f8f8f2; text-decoration-color: #f8f8f2; background-color: #272822\">)</span><span style=\"background-color: #272822\">                                                                                             </span>  \n",
              "  <span style=\"color: #f8f8f2; text-decoration-color: #f8f8f2; background-color: #272822\">plt</span><span style=\"color: #ff4689; text-decoration-color: #ff4689; background-color: #272822\">.</span><span style=\"color: #f8f8f2; text-decoration-color: #f8f8f2; background-color: #272822\">ylabel(</span><span style=\"color: #e6db74; text-decoration-color: #e6db74; background-color: #272822\">'Closing Price (USD)'</span><span style=\"color: #f8f8f2; text-decoration-color: #f8f8f2; background-color: #272822\">)</span><span style=\"background-color: #272822\">                                                                              </span>  \n",
              "  <span style=\"color: #f8f8f2; text-decoration-color: #f8f8f2; background-color: #272822\">plt</span><span style=\"color: #ff4689; text-decoration-color: #ff4689; background-color: #272822\">.</span><span style=\"color: #f8f8f2; text-decoration-color: #f8f8f2; background-color: #272822\">legend()</span><span style=\"background-color: #272822\">                                                                                                   </span>  \n",
              "  <span style=\"color: #f8f8f2; text-decoration-color: #f8f8f2; background-color: #272822\">plt</span><span style=\"color: #ff4689; text-decoration-color: #ff4689; background-color: #272822\">.</span><span style=\"color: #f8f8f2; text-decoration-color: #f8f8f2; background-color: #272822\">grid(</span><span style=\"color: #66d9ef; text-decoration-color: #66d9ef; background-color: #272822\">True</span><span style=\"color: #f8f8f2; text-decoration-color: #f8f8f2; background-color: #272822\">)</span><span style=\"background-color: #272822\">                                                                                                 </span>  \n",
              "  <span style=\"color: #f8f8f2; text-decoration-color: #f8f8f2; background-color: #272822\">plt</span><span style=\"color: #ff4689; text-decoration-color: #ff4689; background-color: #272822\">.</span><span style=\"color: #f8f8f2; text-decoration-color: #f8f8f2; background-color: #272822\">show()</span><span style=\"background-color: #272822\">                                                                                                     </span>  \n",
              " ───────────────────────────────────────────────────────────────────────────────────────────────────────────────── \n",
              "</pre>\n"
            ]
          },
          "metadata": {}
        },
        {
          "output_type": "display_data",
          "data": {
            "text/plain": [
              "<Figure size 1200x600 with 1 Axes>"
            ],
            "image/png": "[encoded data removed]"
          },
          "metadata": {}
        },
        {
          "output_type": "display_data",
          "data": {
            "text/plain": [
              "Out: None\n"
            ],
            "text/html": [
              "<pre style=\"white-space:pre;overflow-x:auto;line-height:normal;font-family:Menlo,'DejaVu Sans Mono',consolas,'Courier New',monospace\">Out: None\n",
              "</pre>\n"
            ]
          },
          "metadata": {}
        },
        {
          "output_type": "display_data",
          "data": {
            "text/plain": [
              "\u001b[2m[Step 1: Duration 7.41 seconds| Input tokens: 5,153 | Output tokens: 426]\u001b[0m\n"
            ],
            "text/html": [
              "<pre style=\"white-space:pre;overflow-x:auto;line-height:normal;font-family:Menlo,'DejaVu Sans Mono',consolas,'Courier New',monospace\"><span style=\"color: #7f7f7f; text-decoration-color: #7f7f7f\">[Step 1: Duration 7.41 seconds| Input tokens: 5,153 | Output tokens: 426]</span>\n",
              "</pre>\n"
            ]
          },
          "metadata": {}
        },
        {
          "output_type": "display_data",
          "data": {
            "text/plain": [
              "\u001b[38;2;212;183;2m━━━━━━━━━━━━━━━━━━━━━━━━━━━━━━━━━━━━━━━━━━━━━━━━━━━━━ \u001b[0m\u001b[1mStep \u001b[0m\u001b[1;36m3\u001b[0m\u001b[38;2;212;183;2m ━━━━━━━━━━━━━━━━━━━━━━━━━━━━━━━━━━━━━━━━━━━━━━━━━━━━━━\u001b[0m\n"
            ],
            "text/html": [
              "<pre style=\"white-space:pre;overflow-x:auto;line-height:normal;font-family:Menlo,'DejaVu Sans Mono',consolas,'Courier New',monospace\"><span style=\"color: #d4b702; text-decoration-color: #d4b702\">━━━━━━━━━━━━━━━━━━━━━━━━━━━━━━━━━━━━━━━━━━━━━━━━━━━━━ </span><span style=\"font-weight: bold\">Step </span><span style=\"color: #008080; text-decoration-color: #008080; font-weight: bold\">3</span><span style=\"color: #d4b702; text-decoration-color: #d4b702\"> ━━━━━━━━━━━━━━━━━━━━━━━━━━━━━━━━━━━━━━━━━━━━━━━━━━━━━━</span>\n",
              "</pre>\n"
            ]
          },
          "metadata": {}
        },
        {
          "output_type": "display_data",
          "data": {
            "text/plain": [
              " ─ \u001b[1mExecuting parsed code:\u001b[0m ──────────────────────────────────────────────────────────────────────────────────────── \n",
              "  \u001b[38;2;149;144;119;48;2;39;40;34m# Plot the closing prices and save the figure\u001b[0m\u001b[48;2;39;40;34m                                                                  \u001b[0m  \n",
              "  \u001b[38;2;248;248;242;48;2;39;40;34mplt\u001b[0m\u001b[38;2;255;70;137;48;2;39;40;34m.\u001b[0m\u001b[38;2;248;248;242;48;2;39;40;34mfigure\u001b[0m\u001b[38;2;248;248;242;48;2;39;40;34m(\u001b[0m\u001b[38;2;248;248;242;48;2;39;40;34mfigsize\u001b[0m\u001b[38;2;255;70;137;48;2;39;40;34m=\u001b[0m\u001b[38;2;248;248;242;48;2;39;40;34m(\u001b[0m\u001b[38;2;174;129;255;48;2;39;40;34m12\u001b[0m\u001b[38;2;248;248;242;48;2;39;40;34m,\u001b[0m\u001b[38;2;248;248;242;48;2;39;40;34m \u001b[0m\u001b[38;2;174;129;255;48;2;39;40;34m6\u001b[0m\u001b[38;2;248;248;242;48;2;39;40;34m)\u001b[0m\u001b[38;2;248;248;242;48;2;39;40;34m)\u001b[0m\u001b[48;2;39;40;34m                                                                                    \u001b[0m  \n",
              "  \u001b[38;2;248;248;242;48;2;39;40;34mplt\u001b[0m\u001b[38;2;255;70;137;48;2;39;40;34m.\u001b[0m\u001b[38;2;248;248;242;48;2;39;40;34mplot\u001b[0m\u001b[38;2;248;248;242;48;2;39;40;34m(\u001b[0m\u001b[38;2;248;248;242;48;2;39;40;34mstock_data\u001b[0m\u001b[38;2;248;248;242;48;2;39;40;34m[\u001b[0m\u001b[38;2;230;219;116;48;2;39;40;34m'\u001b[0m\u001b[38;2;230;219;116;48;2;39;40;34mClose\u001b[0m\u001b[38;2;230;219;116;48;2;39;40;34m'\u001b[0m\u001b[38;2;248;248;242;48;2;39;40;34m]\u001b[0m\u001b[38;2;248;248;242;48;2;39;40;34m,\u001b[0m\u001b[38;2;248;248;242;48;2;39;40;34m \u001b[0m\u001b[38;2;248;248;242;48;2;39;40;34mlabel\u001b[0m\u001b[38;2;255;70;137;48;2;39;40;34m=\u001b[0m\u001b[38;2;230;219;116;48;2;39;40;34m'\u001b[0m\u001b[38;2;230;219;116;48;2;39;40;34mClose Price\u001b[0m\u001b[38;2;230;219;116;48;2;39;40;34m'\u001b[0m\u001b[38;2;248;248;242;48;2;39;40;34m,\u001b[0m\u001b[38;2;248;248;242;48;2;39;40;34m \u001b[0m\u001b[38;2;248;248;242;48;2;39;40;34mcolor\u001b[0m\u001b[38;2;255;70;137;48;2;39;40;34m=\u001b[0m\u001b[38;2;230;219;116;48;2;39;40;34m'\u001b[0m\u001b[38;2;230;219;116;48;2;39;40;34mb\u001b[0m\u001b[38;2;230;219;116;48;2;39;40;34m'\u001b[0m\u001b[38;2;248;248;242;48;2;39;40;34m)\u001b[0m\u001b[48;2;39;40;34m                                                  \u001b[0m  \n",
              "  \u001b[38;2;248;248;242;48;2;39;40;34mplt\u001b[0m\u001b[38;2;255;70;137;48;2;39;40;34m.\u001b[0m\u001b[38;2;248;248;242;48;2;39;40;34mtitle\u001b[0m\u001b[38;2;248;248;242;48;2;39;40;34m(\u001b[0m\u001b[38;2;230;219;116;48;2;39;40;34m'\u001b[0m\u001b[38;2;230;219;116;48;2;39;40;34mGoogle (GOOGL) Closing Prices from 2020 to 2024\u001b[0m\u001b[38;2;230;219;116;48;2;39;40;34m'\u001b[0m\u001b[38;2;248;248;242;48;2;39;40;34m)\u001b[0m\u001b[48;2;39;40;34m                                                   \u001b[0m  \n",
              "  \u001b[38;2;248;248;242;48;2;39;40;34mplt\u001b[0m\u001b[38;2;255;70;137;48;2;39;40;34m.\u001b[0m\u001b[38;2;248;248;242;48;2;39;40;34mxlabel\u001b[0m\u001b[38;2;248;248;242;48;2;39;40;34m(\u001b[0m\u001b[38;2;230;219;116;48;2;39;40;34m'\u001b[0m\u001b[38;2;230;219;116;48;2;39;40;34mDate\u001b[0m\u001b[38;2;230;219;116;48;2;39;40;34m'\u001b[0m\u001b[38;2;248;248;242;48;2;39;40;34m)\u001b[0m\u001b[48;2;39;40;34m                                                                                             \u001b[0m  \n",
              "  \u001b[38;2;248;248;242;48;2;39;40;34mplt\u001b[0m\u001b[38;2;255;70;137;48;2;39;40;34m.\u001b[0m\u001b[38;2;248;248;242;48;2;39;40;34mylabel\u001b[0m\u001b[38;2;248;248;242;48;2;39;40;34m(\u001b[0m\u001b[38;2;230;219;116;48;2;39;40;34m'\u001b[0m\u001b[38;2;230;219;116;48;2;39;40;34mClosing Price (USD)\u001b[0m\u001b[38;2;230;219;116;48;2;39;40;34m'\u001b[0m\u001b[38;2;248;248;242;48;2;39;40;34m)\u001b[0m\u001b[48;2;39;40;34m                                                                              \u001b[0m  \n",
              "  \u001b[38;2;248;248;242;48;2;39;40;34mplt\u001b[0m\u001b[38;2;255;70;137;48;2;39;40;34m.\u001b[0m\u001b[38;2;248;248;242;48;2;39;40;34mlegend\u001b[0m\u001b[38;2;248;248;242;48;2;39;40;34m(\u001b[0m\u001b[38;2;248;248;242;48;2;39;40;34m)\u001b[0m\u001b[48;2;39;40;34m                                                                                                   \u001b[0m  \n",
              "  \u001b[38;2;248;248;242;48;2;39;40;34mplt\u001b[0m\u001b[38;2;255;70;137;48;2;39;40;34m.\u001b[0m\u001b[38;2;248;248;242;48;2;39;40;34mgrid\u001b[0m\u001b[38;2;248;248;242;48;2;39;40;34m(\u001b[0m\u001b[38;2;102;217;239;48;2;39;40;34mTrue\u001b[0m\u001b[38;2;248;248;242;48;2;39;40;34m)\u001b[0m\u001b[48;2;39;40;34m                                                                                                 \u001b[0m  \n",
              "  \u001b[38;2;248;248;242;48;2;39;40;34mplt\u001b[0m\u001b[38;2;255;70;137;48;2;39;40;34m.\u001b[0m\u001b[38;2;248;248;242;48;2;39;40;34msavefig\u001b[0m\u001b[38;2;248;248;242;48;2;39;40;34m(\u001b[0m\u001b[38;2;230;219;116;48;2;39;40;34m'\u001b[0m\u001b[38;2;230;219;116;48;2;39;40;34mgoogle_stock_prices_2020_2024.png\u001b[0m\u001b[38;2;230;219;116;48;2;39;40;34m'\u001b[0m\u001b[38;2;248;248;242;48;2;39;40;34m)\u001b[0m\u001b[48;2;39;40;34m                                                               \u001b[0m  \n",
              "  \u001b[48;2;39;40;34m                                                                                                               \u001b[0m  \n",
              "  \u001b[38;2;248;248;242;48;2;39;40;34mfinal_answer\u001b[0m\u001b[38;2;248;248;242;48;2;39;40;34m(\u001b[0m\u001b[38;2;230;219;116;48;2;39;40;34m'\u001b[0m\u001b[38;2;230;219;116;48;2;39;40;34mgoogle_stock_prices_2020_2024.png\u001b[0m\u001b[38;2;230;219;116;48;2;39;40;34m'\u001b[0m\u001b[38;2;248;248;242;48;2;39;40;34m)\u001b[0m\u001b[48;2;39;40;34m                                                              \u001b[0m  \n",
              " ───────────────────────────────────────────────────────────────────────────────────────────────────────────────── \n"
            ],
            "text/html": [
              "<pre style=\"white-space:pre;overflow-x:auto;line-height:normal;font-family:Menlo,'DejaVu Sans Mono',consolas,'Courier New',monospace\"> ─ <span style=\"font-weight: bold\">Executing parsed code:</span> ──────────────────────────────────────────────────────────────────────────────────────── \n",
              "  <span style=\"color: #959077; text-decoration-color: #959077; background-color: #272822\"># Plot the closing prices and save the figure</span><span style=\"background-color: #272822\">                                                                  </span>  \n",
              "  <span style=\"color: #f8f8f2; text-decoration-color: #f8f8f2; background-color: #272822\">plt</span><span style=\"color: #ff4689; text-decoration-color: #ff4689; background-color: #272822\">.</span><span style=\"color: #f8f8f2; text-decoration-color: #f8f8f2; background-color: #272822\">figure(figsize</span><span style=\"color: #ff4689; text-decoration-color: #ff4689; background-color: #272822\">=</span><span style=\"color: #f8f8f2; text-decoration-color: #f8f8f2; background-color: #272822\">(</span><span style=\"color: #ae81ff; text-decoration-color: #ae81ff; background-color: #272822\">12</span><span style=\"color: #f8f8f2; text-decoration-color: #f8f8f2; background-color: #272822\">, </span><span style=\"color: #ae81ff; text-decoration-color: #ae81ff; background-color: #272822\">6</span><span style=\"color: #f8f8f2; text-decoration-color: #f8f8f2; background-color: #272822\">))</span><span style=\"background-color: #272822\">                                                                                    </span>  \n",
              "  <span style=\"color: #f8f8f2; text-decoration-color: #f8f8f2; background-color: #272822\">plt</span><span style=\"color: #ff4689; text-decoration-color: #ff4689; background-color: #272822\">.</span><span style=\"color: #f8f8f2; text-decoration-color: #f8f8f2; background-color: #272822\">plot(stock_data[</span><span style=\"color: #e6db74; text-decoration-color: #e6db74; background-color: #272822\">'Close'</span><span style=\"color: #f8f8f2; text-decoration-color: #f8f8f2; background-color: #272822\">], label</span><span style=\"color: #ff4689; text-decoration-color: #ff4689; background-color: #272822\">=</span><span style=\"color: #e6db74; text-decoration-color: #e6db74; background-color: #272822\">'Close Price'</span><span style=\"color: #f8f8f2; text-decoration-color: #f8f8f2; background-color: #272822\">, color</span><span style=\"color: #ff4689; text-decoration-color: #ff4689; background-color: #272822\">=</span><span style=\"color: #e6db74; text-decoration-color: #e6db74; background-color: #272822\">'b'</span><span style=\"color: #f8f8f2; text-decoration-color: #f8f8f2; background-color: #272822\">)</span><span style=\"background-color: #272822\">                                                  </span>  \n",
              "  <span style=\"color: #f8f8f2; text-decoration-color: #f8f8f2; background-color: #272822\">plt</span><span style=\"color: #ff4689; text-decoration-color: #ff4689; background-color: #272822\">.</span><span style=\"color: #f8f8f2; text-decoration-color: #f8f8f2; background-color: #272822\">title(</span><span style=\"color: #e6db74; text-decoration-color: #e6db74; background-color: #272822\">'Google (GOOGL) Closing Prices from 2020 to 2024'</span><span style=\"color: #f8f8f2; text-decoration-color: #f8f8f2; background-color: #272822\">)</span><span style=\"background-color: #272822\">                                                   </span>  \n",
              "  <span style=\"color: #f8f8f2; text-decoration-color: #f8f8f2; background-color: #272822\">plt</span><span style=\"color: #ff4689; text-decoration-color: #ff4689; background-color: #272822\">.</span><span style=\"color: #f8f8f2; text-decoration-color: #f8f8f2; background-color: #272822\">xlabel(</span><span style=\"color: #e6db74; text-decoration-color: #e6db74; background-color: #272822\">'Date'</span><span style=\"color: #f8f8f2; text-decoration-color: #f8f8f2; background-color: #272822\">)</span><span style=\"background-color: #272822\">                                                                                             </span>  \n",
              "  <span style=\"color: #f8f8f2; text-decoration-color: #f8f8f2; background-color: #272822\">plt</span><span style=\"color: #ff4689; text-decoration-color: #ff4689; background-color: #272822\">.</span><span style=\"color: #f8f8f2; text-decoration-color: #f8f8f2; background-color: #272822\">ylabel(</span><span style=\"color: #e6db74; text-decoration-color: #e6db74; background-color: #272822\">'Closing Price (USD)'</span><span style=\"color: #f8f8f2; text-decoration-color: #f8f8f2; background-color: #272822\">)</span><span style=\"background-color: #272822\">                                                                              </span>  \n",
              "  <span style=\"color: #f8f8f2; text-decoration-color: #f8f8f2; background-color: #272822\">plt</span><span style=\"color: #ff4689; text-decoration-color: #ff4689; background-color: #272822\">.</span><span style=\"color: #f8f8f2; text-decoration-color: #f8f8f2; background-color: #272822\">legend()</span><span style=\"background-color: #272822\">                                                                                                   </span>  \n",
              "  <span style=\"color: #f8f8f2; text-decoration-color: #f8f8f2; background-color: #272822\">plt</span><span style=\"color: #ff4689; text-decoration-color: #ff4689; background-color: #272822\">.</span><span style=\"color: #f8f8f2; text-decoration-color: #f8f8f2; background-color: #272822\">grid(</span><span style=\"color: #66d9ef; text-decoration-color: #66d9ef; background-color: #272822\">True</span><span style=\"color: #f8f8f2; text-decoration-color: #f8f8f2; background-color: #272822\">)</span><span style=\"background-color: #272822\">                                                                                                 </span>  \n",
              "  <span style=\"color: #f8f8f2; text-decoration-color: #f8f8f2; background-color: #272822\">plt</span><span style=\"color: #ff4689; text-decoration-color: #ff4689; background-color: #272822\">.</span><span style=\"color: #f8f8f2; text-decoration-color: #f8f8f2; background-color: #272822\">savefig(</span><span style=\"color: #e6db74; text-decoration-color: #e6db74; background-color: #272822\">'google_stock_prices_2020_2024.png'</span><span style=\"color: #f8f8f2; text-decoration-color: #f8f8f2; background-color: #272822\">)</span><span style=\"background-color: #272822\">                                                               </span>  \n",
              "  <span style=\"background-color: #272822\">                                                                                                               </span>  \n",
              "  <span style=\"color: #f8f8f2; text-decoration-color: #f8f8f2; background-color: #272822\">final_answer(</span><span style=\"color: #e6db74; text-decoration-color: #e6db74; background-color: #272822\">'google_stock_prices_2020_2024.png'</span><span style=\"color: #f8f8f2; text-decoration-color: #f8f8f2; background-color: #272822\">)</span><span style=\"background-color: #272822\">                                                              </span>  \n",
              " ───────────────────────────────────────────────────────────────────────────────────────────────────────────────── \n",
              "</pre>\n"
            ]
          },
          "metadata": {}
        },
        {
          "output_type": "display_data",
          "data": {
            "text/plain": [
              "\u001b[1;38;2;212;183;2mOut - Final answer: google_stock_prices_2020_2024.png\u001b[0m\n"
            ],
            "text/html": [
              "<pre style=\"white-space:pre;overflow-x:auto;line-height:normal;font-family:Menlo,'DejaVu Sans Mono',consolas,'Courier New',monospace\"><span style=\"color: #d4b702; text-decoration-color: #d4b702; font-weight: bold\">Out - Final answer: google_stock_prices_2020_2024.png</span>\n",
              "</pre>\n"
            ]
          },
          "metadata": {}
        },
        {
          "output_type": "display_data",
          "data": {
            "text/plain": [
              "\u001b[2m[Step 2: Duration 10.41 seconds| Input tokens: 8,477 | Output tokens: 612]\u001b[0m\n"
            ],
            "text/html": [
              "<pre style=\"white-space:pre;overflow-x:auto;line-height:normal;font-family:Menlo,'DejaVu Sans Mono',consolas,'Courier New',monospace\"><span style=\"color: #7f7f7f; text-decoration-color: #7f7f7f\">[Step 2: Duration 10.41 seconds| Input tokens: 8,477 | Output tokens: 612]</span>\n",
              "</pre>\n"
            ]
          },
          "metadata": {}
        },
        {
          "output_type": "execute_result",
          "data": {
            "text/plain": [
              "'google_stock_prices_2020_2024.png'"
            ],
            "application/vnd.google.colaboratory.intrinsic+json": {
              "type": "string"
            }
          },
          "metadata": {},
          "execution_count": 16
        },
        {
          "output_type": "display_data",
          "data": {
            "text/plain": [
              "<Figure size 1200x600 with 1 Axes>"
            ],
            "image/png": "[encoded data removed]"
          },
          "metadata": {}
        }
      ]
    },
    {
      "cell_type": "code",
      "source": [
        "# best model over the huggingface for text2 image"
      ],
      "metadata": {
        "id": "qTlxej8Kz8R1"
      },
      "execution_count": 18,
      "outputs": []
    },
    {
      "cell_type": "code",
      "source": [
        "from smolagents import Tool"
      ],
      "metadata": {
        "id": "itABTEz0yqL_"
      },
      "execution_count": 19,
      "outputs": []
    },
    {
      "cell_type": "markdown",
      "source": [
        "### how to create custom tool"
      ],
      "metadata": {
        "id": "t3fTEZpa0TQa"
      }
    },
    {
      "cell_type": "code",
      "source": [
        "class HFModelDownloadsTool(Tool):\n",
        "    name = \"model_download_counter\"\n",
        "    description = \"\"\"\n",
        "    This is a tool that returns the most downloaded model of a given task on the Hugging Face Hub.\n",
        "    It returns the name of the checkpoint.\"\"\"\n",
        "    inputs = {\n",
        "        \"task\": {\n",
        "            \"type\": \"string\",\n",
        "            \"description\": \"the task category (such as text-classification, depth-estimation, etc)\",\n",
        "        }\n",
        "    }\n",
        "    output_type = \"string\"\n",
        "\n",
        "\n",
        "    def forward(self,task:str):\n",
        "      from huggingface_hub import list_models\n",
        "\n",
        "      model = next(iter(list_models(filter=task, sort=\"downloads\", direction=-1)))\n",
        "      return model.id"
      ],
      "metadata": {
        "id": "VZy0iwtvzvYY"
      },
      "execution_count": 20,
      "outputs": []
    },
    {
      "cell_type": "code",
      "source": [
        "model_downloads_tool = HFModelDownloadsTool()"
      ],
      "metadata": {
        "id": "7MH4-aCR0OTA"
      },
      "execution_count": 21,
      "outputs": []
    },
    {
      "cell_type": "code",
      "source": [
        "agent = CodeAgent(tools=[model_downloads_tool], model=HfApiModel(),additional_authorized_imports=['math','pandas','requests', 'bs4','matplotlib','yfinance'])"
      ],
      "metadata": {
        "id": "CZU0bf-i0gm3"
      },
      "execution_count": 22,
      "outputs": []
    },
    {
      "cell_type": "code",
      "source": [
        "agent.run(\"what is a most downloaded model for text to image generation?\")"
      ],
      "metadata": {
        "id": "YnHEakTc0mzn",
        "colab": {
          "base_uri": "https://localhost:8080/",
          "height": 1000
        },
        "outputId": "6bc51e0d-4ab4-4729-cc96-ec2a9afb2bec"
      },
      "execution_count": 34,
      "outputs": [
        {
          "output_type": "display_data",
          "data": {
            "text/plain": [
              "\u001b[38;2;212;183;2m╭─\u001b[0m\u001b[38;2;212;183;2m───────────────────────────────────────────────────\u001b[0m\u001b[38;2;212;183;2m \u001b[0m\u001b[1;38;2;212;183;2mNew run\u001b[0m\u001b[38;2;212;183;2m \u001b[0m\u001b[38;2;212;183;2m───────────────────────────────────────────────────\u001b[0m\u001b[38;2;212;183;2m─╮\u001b[0m\n",
              "\u001b[38;2;212;183;2m│\u001b[0m                                                                                                                 \u001b[38;2;212;183;2m│\u001b[0m\n",
              "\u001b[38;2;212;183;2m│\u001b[0m \u001b[1mwhat is a most downloaded model for text to image generation?\u001b[0m                                                   \u001b[38;2;212;183;2m│\u001b[0m\n",
              "\u001b[38;2;212;183;2m│\u001b[0m                                                                                                                 \u001b[38;2;212;183;2m│\u001b[0m\n",
              "\u001b[38;2;212;183;2m╰─\u001b[0m\u001b[38;2;212;183;2m LiteLLMModel - gpt-4o-mini \u001b[0m\u001b[38;2;212;183;2m───────────────────────────────────────────────────────────────────────────────────\u001b[0m\u001b[38;2;212;183;2m─╯\u001b[0m\n"
            ],
            "text/html": [
              "<pre style=\"white-space:pre;overflow-x:auto;line-height:normal;font-family:Menlo,'DejaVu Sans Mono',consolas,'Courier New',monospace\"><span style=\"color: #d4b702; text-decoration-color: #d4b702\">╭──────────────────────────────────────────────────── </span><span style=\"color: #d4b702; text-decoration-color: #d4b702; font-weight: bold\">New run</span><span style=\"color: #d4b702; text-decoration-color: #d4b702\"> ────────────────────────────────────────────────────╮</span>\n",
              "<span style=\"color: #d4b702; text-decoration-color: #d4b702\">│</span>                                                                                                                 <span style=\"color: #d4b702; text-decoration-color: #d4b702\">│</span>\n",
              "<span style=\"color: #d4b702; text-decoration-color: #d4b702\">│</span> <span style=\"font-weight: bold\">what is a most downloaded model for text to image generation?</span>                                                   <span style=\"color: #d4b702; text-decoration-color: #d4b702\">│</span>\n",
              "<span style=\"color: #d4b702; text-decoration-color: #d4b702\">│</span>                                                                                                                 <span style=\"color: #d4b702; text-decoration-color: #d4b702\">│</span>\n",
              "<span style=\"color: #d4b702; text-decoration-color: #d4b702\">╰─ LiteLLMModel - gpt-4o-mini ────────────────────────────────────────────────────────────────────────────────────╯</span>\n",
              "</pre>\n"
            ]
          },
          "metadata": {}
        },
        {
          "output_type": "display_data",
          "data": {
            "text/plain": [
              "\u001b[38;2;212;183;2m━━━━━━━━━━━━━━━━━━━━━━━━━━━━━━━━━━━━━━━━━━━━━━━━━━━━━ \u001b[0m\u001b[1mStep \u001b[0m\u001b[1;36m1\u001b[0m\u001b[38;2;212;183;2m ━━━━━━━━━━━━━━━━━━━━━━━━━━━━━━━━━━━━━━━━━━━━━━━━━━━━━━\u001b[0m\n"
            ],
            "text/html": [
              "<pre style=\"white-space:pre;overflow-x:auto;line-height:normal;font-family:Menlo,'DejaVu Sans Mono',consolas,'Courier New',monospace\"><span style=\"color: #d4b702; text-decoration-color: #d4b702\">━━━━━━━━━━━━━━━━━━━━━━━━━━━━━━━━━━━━━━━━━━━━━━━━━━━━━ </span><span style=\"font-weight: bold\">Step </span><span style=\"color: #008080; text-decoration-color: #008080; font-weight: bold\">1</span><span style=\"color: #d4b702; text-decoration-color: #d4b702\"> ━━━━━━━━━━━━━━━━━━━━━━━━━━━━━━━━━━━━━━━━━━━━━━━━━━━━━━</span>\n",
              "</pre>\n"
            ]
          },
          "metadata": {}
        },
        {
          "output_type": "stream",
          "name": "stdout",
          "text": [
            "\n",
            "\u001b[1;31mGive Feedback / Get Help: https://github.com/BerriAI/litellm/issues/new\u001b[0m\n",
            "LiteLLM.Info: If you need to debug this error, use `litellm._turn_on_debug()'.\n",
            "\n"
          ]
        },
        {
          "output_type": "display_data",
          "data": {
            "text/plain": [
              "\u001b[1;31mError in generating tool call with model:\u001b[0m\n",
              "\u001b[1;31mlitellm.AuthenticationError: AuthenticationError: OpenAIException - Error code: \u001b[0m\u001b[1;31m401\u001b[0m\u001b[1;31m - \u001b[0m\u001b[1;31m{\u001b[0m\u001b[1;31m'error'\u001b[0m\u001b[1;31m: \u001b[0m\u001b[1;31m{\u001b[0m\u001b[1;31m'message'\u001b[0m\u001b[1;31m: \u001b[0m\n",
              "\u001b[1;31m'Incorrect API key provided: \u001b[0m\n",
              "\u001b[1;31msk-proj-***********************************************************************************************************\u001b[0m\n",
              "\u001b[1;31m*********************************************7V0A. You can find your API key at \u001b[0m\n",
              "\u001b[1;31mhttps://platform.openai.com/account/api-keys.'\u001b[0m\u001b[1;31m, \u001b[0m\u001b[1;31m'type'\u001b[0m\u001b[1;31m: \u001b[0m\u001b[1;31m'invalid_request_error'\u001b[0m\u001b[1;31m, \u001b[0m\u001b[1;31m'param'\u001b[0m\u001b[1;31m: \u001b[0m\u001b[1;3;31mNone\u001b[0m\u001b[1;31m, \u001b[0m\u001b[1;31m'code'\u001b[0m\u001b[1;31m: \u001b[0m\n",
              "\u001b[1;31m'invalid_api_key'\u001b[0m\u001b[1;31m}\u001b[0m\u001b[1;31m}\u001b[0m\n"
            ],
            "text/html": [
              "<pre style=\"white-space:pre;overflow-x:auto;line-height:normal;font-family:Menlo,'DejaVu Sans Mono',consolas,'Courier New',monospace\"><span style=\"color: #800000; text-decoration-color: #800000; font-weight: bold\">Error in generating tool call with model:</span>\n",
              "<span style=\"color: #800000; text-decoration-color: #800000; font-weight: bold\">litellm.AuthenticationError: AuthenticationError: OpenAIException - Error code: </span><span style=\"color: #800000; text-decoration-color: #800000; font-weight: bold\">401</span><span style=\"color: #800000; text-decoration-color: #800000; font-weight: bold\"> - {</span><span style=\"color: #800000; text-decoration-color: #800000; font-weight: bold\">'error'</span><span style=\"color: #800000; text-decoration-color: #800000; font-weight: bold\">: {</span><span style=\"color: #800000; text-decoration-color: #800000; font-weight: bold\">'message'</span><span style=\"color: #800000; text-decoration-color: #800000; font-weight: bold\">: </span>\n",
              "<span style=\"color: #800000; text-decoration-color: #800000; font-weight: bold\">'Incorrect API key provided: </span>\n",
              "<span style=\"color: #800000; text-decoration-color: #800000; font-weight: bold\">sk-proj-***********************************************************************************************************</span>\n",
              "<span style=\"color: #800000; text-decoration-color: #800000; font-weight: bold\">*********************************************7V0A. You can find your API key at </span>\n",
              "<span style=\"color: #800000; text-decoration-color: #800000; font-weight: bold\">https://platform.openai.com/account/api-keys.'</span><span style=\"color: #800000; text-decoration-color: #800000; font-weight: bold\">, </span><span style=\"color: #800000; text-decoration-color: #800000; font-weight: bold\">'type'</span><span style=\"color: #800000; text-decoration-color: #800000; font-weight: bold\">: </span><span style=\"color: #800000; text-decoration-color: #800000; font-weight: bold\">'invalid_request_error'</span><span style=\"color: #800000; text-decoration-color: #800000; font-weight: bold\">, </span><span style=\"color: #800000; text-decoration-color: #800000; font-weight: bold\">'param'</span><span style=\"color: #800000; text-decoration-color: #800000; font-weight: bold\">: </span><span style=\"color: #800000; text-decoration-color: #800000; font-weight: bold; font-style: italic\">None</span><span style=\"color: #800000; text-decoration-color: #800000; font-weight: bold\">, </span><span style=\"color: #800000; text-decoration-color: #800000; font-weight: bold\">'code'</span><span style=\"color: #800000; text-decoration-color: #800000; font-weight: bold\">: </span>\n",
              "<span style=\"color: #800000; text-decoration-color: #800000; font-weight: bold\">'invalid_api_key'</span><span style=\"color: #800000; text-decoration-color: #800000; font-weight: bold\">}}</span>\n",
              "</pre>\n"
            ]
          },
          "metadata": {}
        },
        {
          "output_type": "display_data",
          "data": {
            "text/plain": [
              "\u001b[2m[Step 0: Duration 0.13 seconds]\u001b[0m\n"
            ],
            "text/html": [
              "<pre style=\"white-space:pre;overflow-x:auto;line-height:normal;font-family:Menlo,'DejaVu Sans Mono',consolas,'Courier New',monospace\"><span style=\"color: #7f7f7f; text-decoration-color: #7f7f7f\">[Step 0: Duration 0.13 seconds]</span>\n",
              "</pre>\n"
            ]
          },
          "metadata": {}
        },
        {
          "output_type": "display_data",
          "data": {
            "text/plain": [
              "\u001b[38;2;212;183;2m━━━━━━━━━━━━━━━━━━━━━━━━━━━━━━━━━━━━━━━━━━━━━━━━━━━━━ \u001b[0m\u001b[1mStep \u001b[0m\u001b[1;36m2\u001b[0m\u001b[38;2;212;183;2m ━━━━━━━━━━━━━━━━━━━━━━━━━━━━━━━━━━━━━━━━━━━━━━━━━━━━━━\u001b[0m\n"
            ],
            "text/html": [
              "<pre style=\"white-space:pre;overflow-x:auto;line-height:normal;font-family:Menlo,'DejaVu Sans Mono',consolas,'Courier New',monospace\"><span style=\"color: #d4b702; text-decoration-color: #d4b702\">━━━━━━━━━━━━━━━━━━━━━━━━━━━━━━━━━━━━━━━━━━━━━━━━━━━━━ </span><span style=\"font-weight: bold\">Step </span><span style=\"color: #008080; text-decoration-color: #008080; font-weight: bold\">2</span><span style=\"color: #d4b702; text-decoration-color: #d4b702\"> ━━━━━━━━━━━━━━━━━━━━━━━━━━━━━━━━━━━━━━━━━━━━━━━━━━━━━━</span>\n",
              "</pre>\n"
            ]
          },
          "metadata": {}
        },
        {
          "output_type": "stream",
          "name": "stdout",
          "text": [
            "\n",
            "\u001b[1;31mGive Feedback / Get Help: https://github.com/BerriAI/litellm/issues/new\u001b[0m\n",
            "LiteLLM.Info: If you need to debug this error, use `litellm._turn_on_debug()'.\n",
            "\n"
          ]
        },
        {
          "output_type": "display_data",
          "data": {
            "text/plain": [
              "\u001b[1;31mError in generating tool call with model:\u001b[0m\n",
              "\u001b[1;31mlitellm.AuthenticationError: AuthenticationError: OpenAIException - Error code: \u001b[0m\u001b[1;31m401\u001b[0m\u001b[1;31m - \u001b[0m\u001b[1;31m{\u001b[0m\u001b[1;31m'error'\u001b[0m\u001b[1;31m: \u001b[0m\u001b[1;31m{\u001b[0m\u001b[1;31m'message'\u001b[0m\u001b[1;31m: \u001b[0m\n",
              "\u001b[1;31m'Incorrect API key provided: \u001b[0m\n",
              "\u001b[1;31msk-proj-***********************************************************************************************************\u001b[0m\n",
              "\u001b[1;31m*********************************************7V0A. You can find your API key at \u001b[0m\n",
              "\u001b[1;31mhttps://platform.openai.com/account/api-keys.'\u001b[0m\u001b[1;31m, \u001b[0m\u001b[1;31m'type'\u001b[0m\u001b[1;31m: \u001b[0m\u001b[1;31m'invalid_request_error'\u001b[0m\u001b[1;31m, \u001b[0m\u001b[1;31m'param'\u001b[0m\u001b[1;31m: \u001b[0m\u001b[1;3;31mNone\u001b[0m\u001b[1;31m, \u001b[0m\u001b[1;31m'code'\u001b[0m\u001b[1;31m: \u001b[0m\n",
              "\u001b[1;31m'invalid_api_key'\u001b[0m\u001b[1;31m}\u001b[0m\u001b[1;31m}\u001b[0m\n"
            ],
            "text/html": [
              "<pre style=\"white-space:pre;overflow-x:auto;line-height:normal;font-family:Menlo,'DejaVu Sans Mono',consolas,'Courier New',monospace\"><span style=\"color: #800000; text-decoration-color: #800000; font-weight: bold\">Error in generating tool call with model:</span>\n",
              "<span style=\"color: #800000; text-decoration-color: #800000; font-weight: bold\">litellm.AuthenticationError: AuthenticationError: OpenAIException - Error code: </span><span style=\"color: #800000; text-decoration-color: #800000; font-weight: bold\">401</span><span style=\"color: #800000; text-decoration-color: #800000; font-weight: bold\"> - {</span><span style=\"color: #800000; text-decoration-color: #800000; font-weight: bold\">'error'</span><span style=\"color: #800000; text-decoration-color: #800000; font-weight: bold\">: {</span><span style=\"color: #800000; text-decoration-color: #800000; font-weight: bold\">'message'</span><span style=\"color: #800000; text-decoration-color: #800000; font-weight: bold\">: </span>\n",
              "<span style=\"color: #800000; text-decoration-color: #800000; font-weight: bold\">'Incorrect API key provided: </span>\n",
              "<span style=\"color: #800000; text-decoration-color: #800000; font-weight: bold\">sk-proj-***********************************************************************************************************</span>\n",
              "<span style=\"color: #800000; text-decoration-color: #800000; font-weight: bold\">*********************************************7V0A. You can find your API key at </span>\n",
              "<span style=\"color: #800000; text-decoration-color: #800000; font-weight: bold\">https://platform.openai.com/account/api-keys.'</span><span style=\"color: #800000; text-decoration-color: #800000; font-weight: bold\">, </span><span style=\"color: #800000; text-decoration-color: #800000; font-weight: bold\">'type'</span><span style=\"color: #800000; text-decoration-color: #800000; font-weight: bold\">: </span><span style=\"color: #800000; text-decoration-color: #800000; font-weight: bold\">'invalid_request_error'</span><span style=\"color: #800000; text-decoration-color: #800000; font-weight: bold\">, </span><span style=\"color: #800000; text-decoration-color: #800000; font-weight: bold\">'param'</span><span style=\"color: #800000; text-decoration-color: #800000; font-weight: bold\">: </span><span style=\"color: #800000; text-decoration-color: #800000; font-weight: bold; font-style: italic\">None</span><span style=\"color: #800000; text-decoration-color: #800000; font-weight: bold\">, </span><span style=\"color: #800000; text-decoration-color: #800000; font-weight: bold\">'code'</span><span style=\"color: #800000; text-decoration-color: #800000; font-weight: bold\">: </span>\n",
              "<span style=\"color: #800000; text-decoration-color: #800000; font-weight: bold\">'invalid_api_key'</span><span style=\"color: #800000; text-decoration-color: #800000; font-weight: bold\">}}</span>\n",
              "</pre>\n"
            ]
          },
          "metadata": {}
        },
        {
          "output_type": "display_data",
          "data": {
            "text/plain": [
              "\u001b[2m[Step 1: Duration 0.13 seconds]\u001b[0m\n"
            ],
            "text/html": [
              "<pre style=\"white-space:pre;overflow-x:auto;line-height:normal;font-family:Menlo,'DejaVu Sans Mono',consolas,'Courier New',monospace\"><span style=\"color: #7f7f7f; text-decoration-color: #7f7f7f\">[Step 1: Duration 0.13 seconds]</span>\n",
              "</pre>\n"
            ]
          },
          "metadata": {}
        },
        {
          "output_type": "display_data",
          "data": {
            "text/plain": [
              "\u001b[38;2;212;183;2m━━━━━━━━━━━━━━━━━━━━━━━━━━━━━━━━━━━━━━━━━━━━━━━━━━━━━ \u001b[0m\u001b[1mStep \u001b[0m\u001b[1;36m3\u001b[0m\u001b[38;2;212;183;2m ━━━━━━━━━━━━━━━━━━━━━━━━━━━━━━━━━━━━━━━━━━━━━━━━━━━━━━\u001b[0m\n"
            ],
            "text/html": [
              "<pre style=\"white-space:pre;overflow-x:auto;line-height:normal;font-family:Menlo,'DejaVu Sans Mono',consolas,'Courier New',monospace\"><span style=\"color: #d4b702; text-decoration-color: #d4b702\">━━━━━━━━━━━━━━━━━━━━━━━━━━━━━━━━━━━━━━━━━━━━━━━━━━━━━ </span><span style=\"font-weight: bold\">Step </span><span style=\"color: #008080; text-decoration-color: #008080; font-weight: bold\">3</span><span style=\"color: #d4b702; text-decoration-color: #d4b702\"> ━━━━━━━━━━━━━━━━━━━━━━━━━━━━━━━━━━━━━━━━━━━━━━━━━━━━━━</span>\n",
              "</pre>\n"
            ]
          },
          "metadata": {}
        },
        {
          "output_type": "stream",
          "name": "stdout",
          "text": [
            "\n",
            "\u001b[1;31mGive Feedback / Get Help: https://github.com/BerriAI/litellm/issues/new\u001b[0m\n",
            "LiteLLM.Info: If you need to debug this error, use `litellm._turn_on_debug()'.\n",
            "\n"
          ]
        },
        {
          "output_type": "display_data",
          "data": {
            "text/plain": [
              "\u001b[1;31mError in generating tool call with model:\u001b[0m\n",
              "\u001b[1;31mlitellm.AuthenticationError: AuthenticationError: OpenAIException - Error code: \u001b[0m\u001b[1;31m401\u001b[0m\u001b[1;31m - \u001b[0m\u001b[1;31m{\u001b[0m\u001b[1;31m'error'\u001b[0m\u001b[1;31m: \u001b[0m\u001b[1;31m{\u001b[0m\u001b[1;31m'message'\u001b[0m\u001b[1;31m: \u001b[0m\n",
              "\u001b[1;31m'Incorrect API key provided: \u001b[0m\n",
              "\u001b[1;31msk-proj-***********************************************************************************************************\u001b[0m\n",
              "\u001b[1;31m*********************************************7V0A. You can find your API key at \u001b[0m\n",
              "\u001b[1;31mhttps://platform.openai.com/account/api-keys.'\u001b[0m\u001b[1;31m, \u001b[0m\u001b[1;31m'type'\u001b[0m\u001b[1;31m: \u001b[0m\u001b[1;31m'invalid_request_error'\u001b[0m\u001b[1;31m, \u001b[0m\u001b[1;31m'param'\u001b[0m\u001b[1;31m: \u001b[0m\u001b[1;3;31mNone\u001b[0m\u001b[1;31m, \u001b[0m\u001b[1;31m'code'\u001b[0m\u001b[1;31m: \u001b[0m\n",
              "\u001b[1;31m'invalid_api_key'\u001b[0m\u001b[1;31m}\u001b[0m\u001b[1;31m}\u001b[0m\n"
            ],
            "text/html": [
              "<pre style=\"white-space:pre;overflow-x:auto;line-height:normal;font-family:Menlo,'DejaVu Sans Mono',consolas,'Courier New',monospace\"><span style=\"color: #800000; text-decoration-color: #800000; font-weight: bold\">Error in generating tool call with model:</span>\n",
              "<span style=\"color: #800000; text-decoration-color: #800000; font-weight: bold\">litellm.AuthenticationError: AuthenticationError: OpenAIException - Error code: </span><span style=\"color: #800000; text-decoration-color: #800000; font-weight: bold\">401</span><span style=\"color: #800000; text-decoration-color: #800000; font-weight: bold\"> - {</span><span style=\"color: #800000; text-decoration-color: #800000; font-weight: bold\">'error'</span><span style=\"color: #800000; text-decoration-color: #800000; font-weight: bold\">: {</span><span style=\"color: #800000; text-decoration-color: #800000; font-weight: bold\">'message'</span><span style=\"color: #800000; text-decoration-color: #800000; font-weight: bold\">: </span>\n",
              "<span style=\"color: #800000; text-decoration-color: #800000; font-weight: bold\">'Incorrect API key provided: </span>\n",
              "<span style=\"color: #800000; text-decoration-color: #800000; font-weight: bold\">sk-proj-***********************************************************************************************************</span>\n",
              "<span style=\"color: #800000; text-decoration-color: #800000; font-weight: bold\">*********************************************7V0A. You can find your API key at </span>\n",
              "<span style=\"color: #800000; text-decoration-color: #800000; font-weight: bold\">https://platform.openai.com/account/api-keys.'</span><span style=\"color: #800000; text-decoration-color: #800000; font-weight: bold\">, </span><span style=\"color: #800000; text-decoration-color: #800000; font-weight: bold\">'type'</span><span style=\"color: #800000; text-decoration-color: #800000; font-weight: bold\">: </span><span style=\"color: #800000; text-decoration-color: #800000; font-weight: bold\">'invalid_request_error'</span><span style=\"color: #800000; text-decoration-color: #800000; font-weight: bold\">, </span><span style=\"color: #800000; text-decoration-color: #800000; font-weight: bold\">'param'</span><span style=\"color: #800000; text-decoration-color: #800000; font-weight: bold\">: </span><span style=\"color: #800000; text-decoration-color: #800000; font-weight: bold; font-style: italic\">None</span><span style=\"color: #800000; text-decoration-color: #800000; font-weight: bold\">, </span><span style=\"color: #800000; text-decoration-color: #800000; font-weight: bold\">'code'</span><span style=\"color: #800000; text-decoration-color: #800000; font-weight: bold\">: </span>\n",
              "<span style=\"color: #800000; text-decoration-color: #800000; font-weight: bold\">'invalid_api_key'</span><span style=\"color: #800000; text-decoration-color: #800000; font-weight: bold\">}}</span>\n",
              "</pre>\n"
            ]
          },
          "metadata": {}
        },
        {
          "output_type": "display_data",
          "data": {
            "text/plain": [
              "\u001b[2m[Step 2: Duration 0.13 seconds]\u001b[0m\n"
            ],
            "text/html": [
              "<pre style=\"white-space:pre;overflow-x:auto;line-height:normal;font-family:Menlo,'DejaVu Sans Mono',consolas,'Courier New',monospace\"><span style=\"color: #7f7f7f; text-decoration-color: #7f7f7f\">[Step 2: Duration 0.13 seconds]</span>\n",
              "</pre>\n"
            ]
          },
          "metadata": {}
        },
        {
          "output_type": "display_data",
          "data": {
            "text/plain": [
              "\u001b[38;2;212;183;2m━━━━━━━━━━━━━━━━━━━━━━━━━━━━━━━━━━━━━━━━━━━━━━━━━━━━━ \u001b[0m\u001b[1mStep \u001b[0m\u001b[1;36m4\u001b[0m\u001b[38;2;212;183;2m ━━━━━━━━━━━━━━━━━━━━━━━━━━━━━━━━━━━━━━━━━━━━━━━━━━━━━━\u001b[0m\n"
            ],
            "text/html": [
              "<pre style=\"white-space:pre;overflow-x:auto;line-height:normal;font-family:Menlo,'DejaVu Sans Mono',consolas,'Courier New',monospace\"><span style=\"color: #d4b702; text-decoration-color: #d4b702\">━━━━━━━━━━━━━━━━━━━━━━━━━━━━━━━━━━━━━━━━━━━━━━━━━━━━━ </span><span style=\"font-weight: bold\">Step </span><span style=\"color: #008080; text-decoration-color: #008080; font-weight: bold\">4</span><span style=\"color: #d4b702; text-decoration-color: #d4b702\"> ━━━━━━━━━━━━━━━━━━━━━━━━━━━━━━━━━━━━━━━━━━━━━━━━━━━━━━</span>\n",
              "</pre>\n"
            ]
          },
          "metadata": {}
        },
        {
          "output_type": "stream",
          "name": "stdout",
          "text": [
            "\n",
            "\u001b[1;31mGive Feedback / Get Help: https://github.com/BerriAI/litellm/issues/new\u001b[0m\n",
            "LiteLLM.Info: If you need to debug this error, use `litellm._turn_on_debug()'.\n",
            "\n"
          ]
        },
        {
          "output_type": "display_data",
          "data": {
            "text/plain": [
              "\u001b[1;31mError in generating tool call with model:\u001b[0m\n",
              "\u001b[1;31mlitellm.AuthenticationError: AuthenticationError: OpenAIException - Error code: \u001b[0m\u001b[1;31m401\u001b[0m\u001b[1;31m - \u001b[0m\u001b[1;31m{\u001b[0m\u001b[1;31m'error'\u001b[0m\u001b[1;31m: \u001b[0m\u001b[1;31m{\u001b[0m\u001b[1;31m'message'\u001b[0m\u001b[1;31m: \u001b[0m\n",
              "\u001b[1;31m'Incorrect API key provided: \u001b[0m\n",
              "\u001b[1;31msk-proj-***********************************************************************************************************\u001b[0m\n",
              "\u001b[1;31m*********************************************7V0A. You can find your API key at \u001b[0m\n",
              "\u001b[1;31mhttps://platform.openai.com/account/api-keys.'\u001b[0m\u001b[1;31m, \u001b[0m\u001b[1;31m'type'\u001b[0m\u001b[1;31m: \u001b[0m\u001b[1;31m'invalid_request_error'\u001b[0m\u001b[1;31m, \u001b[0m\u001b[1;31m'param'\u001b[0m\u001b[1;31m: \u001b[0m\u001b[1;3;31mNone\u001b[0m\u001b[1;31m, \u001b[0m\u001b[1;31m'code'\u001b[0m\u001b[1;31m: \u001b[0m\n",
              "\u001b[1;31m'invalid_api_key'\u001b[0m\u001b[1;31m}\u001b[0m\u001b[1;31m}\u001b[0m\n"
            ],
            "text/html": [
              "<pre style=\"white-space:pre;overflow-x:auto;line-height:normal;font-family:Menlo,'DejaVu Sans Mono',consolas,'Courier New',monospace\"><span style=\"color: #800000; text-decoration-color: #800000; font-weight: bold\">Error in generating tool call with model:</span>\n",
              "<span style=\"color: #800000; text-decoration-color: #800000; font-weight: bold\">litellm.AuthenticationError: AuthenticationError: OpenAIException - Error code: </span><span style=\"color: #800000; text-decoration-color: #800000; font-weight: bold\">401</span><span style=\"color: #800000; text-decoration-color: #800000; font-weight: bold\"> - {</span><span style=\"color: #800000; text-decoration-color: #800000; font-weight: bold\">'error'</span><span style=\"color: #800000; text-decoration-color: #800000; font-weight: bold\">: {</span><span style=\"color: #800000; text-decoration-color: #800000; font-weight: bold\">'message'</span><span style=\"color: #800000; text-decoration-color: #800000; font-weight: bold\">: </span>\n",
              "<span style=\"color: #800000; text-decoration-color: #800000; font-weight: bold\">'Incorrect API key provided: </span>\n",
              "<span style=\"color: #800000; text-decoration-color: #800000; font-weight: bold\">sk-proj-***********************************************************************************************************</span>\n",
              "<span style=\"color: #800000; text-decoration-color: #800000; font-weight: bold\">*********************************************7V0A. You can find your API key at </span>\n",
              "<span style=\"color: #800000; text-decoration-color: #800000; font-weight: bold\">https://platform.openai.com/account/api-keys.'</span><span style=\"color: #800000; text-decoration-color: #800000; font-weight: bold\">, </span><span style=\"color: #800000; text-decoration-color: #800000; font-weight: bold\">'type'</span><span style=\"color: #800000; text-decoration-color: #800000; font-weight: bold\">: </span><span style=\"color: #800000; text-decoration-color: #800000; font-weight: bold\">'invalid_request_error'</span><span style=\"color: #800000; text-decoration-color: #800000; font-weight: bold\">, </span><span style=\"color: #800000; text-decoration-color: #800000; font-weight: bold\">'param'</span><span style=\"color: #800000; text-decoration-color: #800000; font-weight: bold\">: </span><span style=\"color: #800000; text-decoration-color: #800000; font-weight: bold; font-style: italic\">None</span><span style=\"color: #800000; text-decoration-color: #800000; font-weight: bold\">, </span><span style=\"color: #800000; text-decoration-color: #800000; font-weight: bold\">'code'</span><span style=\"color: #800000; text-decoration-color: #800000; font-weight: bold\">: </span>\n",
              "<span style=\"color: #800000; text-decoration-color: #800000; font-weight: bold\">'invalid_api_key'</span><span style=\"color: #800000; text-decoration-color: #800000; font-weight: bold\">}}</span>\n",
              "</pre>\n"
            ]
          },
          "metadata": {}
        },
        {
          "output_type": "display_data",
          "data": {
            "text/plain": [
              "\u001b[2m[Step 3: Duration 0.12 seconds]\u001b[0m\n"
            ],
            "text/html": [
              "<pre style=\"white-space:pre;overflow-x:auto;line-height:normal;font-family:Menlo,'DejaVu Sans Mono',consolas,'Courier New',monospace\"><span style=\"color: #7f7f7f; text-decoration-color: #7f7f7f\">[Step 3: Duration 0.12 seconds]</span>\n",
              "</pre>\n"
            ]
          },
          "metadata": {}
        },
        {
          "output_type": "display_data",
          "data": {
            "text/plain": [
              "\u001b[38;2;212;183;2m━━━━━━━━━━━━━━━━━━━━━━━━━━━━━━━━━━━━━━━━━━━━━━━━━━━━━ \u001b[0m\u001b[1mStep \u001b[0m\u001b[1;36m5\u001b[0m\u001b[38;2;212;183;2m ━━━━━━━━━━━━━━━━━━━━━━━━━━━━━━━━━━━━━━━━━━━━━━━━━━━━━━\u001b[0m\n"
            ],
            "text/html": [
              "<pre style=\"white-space:pre;overflow-x:auto;line-height:normal;font-family:Menlo,'DejaVu Sans Mono',consolas,'Courier New',monospace\"><span style=\"color: #d4b702; text-decoration-color: #d4b702\">━━━━━━━━━━━━━━━━━━━━━━━━━━━━━━━━━━━━━━━━━━━━━━━━━━━━━ </span><span style=\"font-weight: bold\">Step </span><span style=\"color: #008080; text-decoration-color: #008080; font-weight: bold\">5</span><span style=\"color: #d4b702; text-decoration-color: #d4b702\"> ━━━━━━━━━━━━━━━━━━━━━━━━━━━━━━━━━━━━━━━━━━━━━━━━━━━━━━</span>\n",
              "</pre>\n"
            ]
          },
          "metadata": {}
        },
        {
          "output_type": "stream",
          "name": "stdout",
          "text": [
            "\n",
            "\u001b[1;31mGive Feedback / Get Help: https://github.com/BerriAI/litellm/issues/new\u001b[0m\n",
            "LiteLLM.Info: If you need to debug this error, use `litellm._turn_on_debug()'.\n",
            "\n"
          ]
        },
        {
          "output_type": "display_data",
          "data": {
            "text/plain": [
              "\u001b[1;31mError in generating tool call with model:\u001b[0m\n",
              "\u001b[1;31mlitellm.AuthenticationError: AuthenticationError: OpenAIException - Error code: \u001b[0m\u001b[1;31m401\u001b[0m\u001b[1;31m - \u001b[0m\u001b[1;31m{\u001b[0m\u001b[1;31m'error'\u001b[0m\u001b[1;31m: \u001b[0m\u001b[1;31m{\u001b[0m\u001b[1;31m'message'\u001b[0m\u001b[1;31m: \u001b[0m\n",
              "\u001b[1;31m'Incorrect API key provided: \u001b[0m\n",
              "\u001b[1;31msk-proj-***********************************************************************************************************\u001b[0m\n",
              "\u001b[1;31m*********************************************7V0A. You can find your API key at \u001b[0m\n",
              "\u001b[1;31mhttps://platform.openai.com/account/api-keys.'\u001b[0m\u001b[1;31m, \u001b[0m\u001b[1;31m'type'\u001b[0m\u001b[1;31m: \u001b[0m\u001b[1;31m'invalid_request_error'\u001b[0m\u001b[1;31m, \u001b[0m\u001b[1;31m'param'\u001b[0m\u001b[1;31m: \u001b[0m\u001b[1;3;31mNone\u001b[0m\u001b[1;31m, \u001b[0m\u001b[1;31m'code'\u001b[0m\u001b[1;31m: \u001b[0m\n",
              "\u001b[1;31m'invalid_api_key'\u001b[0m\u001b[1;31m}\u001b[0m\u001b[1;31m}\u001b[0m\n"
            ],
            "text/html": [
              "<pre style=\"white-space:pre;overflow-x:auto;line-height:normal;font-family:Menlo,'DejaVu Sans Mono',consolas,'Courier New',monospace\"><span style=\"color: #800000; text-decoration-color: #800000; font-weight: bold\">Error in generating tool call with model:</span>\n",
              "<span style=\"color: #800000; text-decoration-color: #800000; font-weight: bold\">litellm.AuthenticationError: AuthenticationError: OpenAIException - Error code: </span><span style=\"color: #800000; text-decoration-color: #800000; font-weight: bold\">401</span><span style=\"color: #800000; text-decoration-color: #800000; font-weight: bold\"> - {</span><span style=\"color: #800000; text-decoration-color: #800000; font-weight: bold\">'error'</span><span style=\"color: #800000; text-decoration-color: #800000; font-weight: bold\">: {</span><span style=\"color: #800000; text-decoration-color: #800000; font-weight: bold\">'message'</span><span style=\"color: #800000; text-decoration-color: #800000; font-weight: bold\">: </span>\n",
              "<span style=\"color: #800000; text-decoration-color: #800000; font-weight: bold\">'Incorrect API key provided: </span>\n",
              "<span style=\"color: #800000; text-decoration-color: #800000; font-weight: bold\">sk-proj-***********************************************************************************************************</span>\n",
              "<span style=\"color: #800000; text-decoration-color: #800000; font-weight: bold\">*********************************************7V0A. You can find your API key at </span>\n",
              "<span style=\"color: #800000; text-decoration-color: #800000; font-weight: bold\">https://platform.openai.com/account/api-keys.'</span><span style=\"color: #800000; text-decoration-color: #800000; font-weight: bold\">, </span><span style=\"color: #800000; text-decoration-color: #800000; font-weight: bold\">'type'</span><span style=\"color: #800000; text-decoration-color: #800000; font-weight: bold\">: </span><span style=\"color: #800000; text-decoration-color: #800000; font-weight: bold\">'invalid_request_error'</span><span style=\"color: #800000; text-decoration-color: #800000; font-weight: bold\">, </span><span style=\"color: #800000; text-decoration-color: #800000; font-weight: bold\">'param'</span><span style=\"color: #800000; text-decoration-color: #800000; font-weight: bold\">: </span><span style=\"color: #800000; text-decoration-color: #800000; font-weight: bold; font-style: italic\">None</span><span style=\"color: #800000; text-decoration-color: #800000; font-weight: bold\">, </span><span style=\"color: #800000; text-decoration-color: #800000; font-weight: bold\">'code'</span><span style=\"color: #800000; text-decoration-color: #800000; font-weight: bold\">: </span>\n",
              "<span style=\"color: #800000; text-decoration-color: #800000; font-weight: bold\">'invalid_api_key'</span><span style=\"color: #800000; text-decoration-color: #800000; font-weight: bold\">}}</span>\n",
              "</pre>\n"
            ]
          },
          "metadata": {}
        },
        {
          "output_type": "display_data",
          "data": {
            "text/plain": [
              "\u001b[2m[Step 4: Duration 0.13 seconds]\u001b[0m\n"
            ],
            "text/html": [
              "<pre style=\"white-space:pre;overflow-x:auto;line-height:normal;font-family:Menlo,'DejaVu Sans Mono',consolas,'Courier New',monospace\"><span style=\"color: #7f7f7f; text-decoration-color: #7f7f7f\">[Step 4: Duration 0.13 seconds]</span>\n",
              "</pre>\n"
            ]
          },
          "metadata": {}
        },
        {
          "output_type": "display_data",
          "data": {
            "text/plain": [
              "\u001b[38;2;212;183;2m━━━━━━━━━━━━━━━━━━━━━━━━━━━━━━━━━━━━━━━━━━━━━━━━━━━━━ \u001b[0m\u001b[1mStep \u001b[0m\u001b[1;36m6\u001b[0m\u001b[38;2;212;183;2m ━━━━━━━━━━━━━━━━━━━━━━━━━━━━━━━━━━━━━━━━━━━━━━━━━━━━━━\u001b[0m\n"
            ],
            "text/html": [
              "<pre style=\"white-space:pre;overflow-x:auto;line-height:normal;font-family:Menlo,'DejaVu Sans Mono',consolas,'Courier New',monospace\"><span style=\"color: #d4b702; text-decoration-color: #d4b702\">━━━━━━━━━━━━━━━━━━━━━━━━━━━━━━━━━━━━━━━━━━━━━━━━━━━━━ </span><span style=\"font-weight: bold\">Step </span><span style=\"color: #008080; text-decoration-color: #008080; font-weight: bold\">6</span><span style=\"color: #d4b702; text-decoration-color: #d4b702\"> ━━━━━━━━━━━━━━━━━━━━━━━━━━━━━━━━━━━━━━━━━━━━━━━━━━━━━━</span>\n",
              "</pre>\n"
            ]
          },
          "metadata": {}
        },
        {
          "output_type": "stream",
          "name": "stdout",
          "text": [
            "\n",
            "\u001b[1;31mGive Feedback / Get Help: https://github.com/BerriAI/litellm/issues/new\u001b[0m\n",
            "LiteLLM.Info: If you need to debug this error, use `litellm._turn_on_debug()'.\n",
            "\n"
          ]
        },
        {
          "output_type": "display_data",
          "data": {
            "text/plain": [
              "\u001b[1;31mError in generating tool call with model:\u001b[0m\n",
              "\u001b[1;31mlitellm.AuthenticationError: AuthenticationError: OpenAIException - Error code: \u001b[0m\u001b[1;31m401\u001b[0m\u001b[1;31m - \u001b[0m\u001b[1;31m{\u001b[0m\u001b[1;31m'error'\u001b[0m\u001b[1;31m: \u001b[0m\u001b[1;31m{\u001b[0m\u001b[1;31m'message'\u001b[0m\u001b[1;31m: \u001b[0m\n",
              "\u001b[1;31m'Incorrect API key provided: \u001b[0m\n",
              "\u001b[1;31msk-proj-***********************************************************************************************************\u001b[0m\n",
              "\u001b[1;31m*********************************************7V0A. You can find your API key at \u001b[0m\n",
              "\u001b[1;31mhttps://platform.openai.com/account/api-keys.'\u001b[0m\u001b[1;31m, \u001b[0m\u001b[1;31m'type'\u001b[0m\u001b[1;31m: \u001b[0m\u001b[1;31m'invalid_request_error'\u001b[0m\u001b[1;31m, \u001b[0m\u001b[1;31m'param'\u001b[0m\u001b[1;31m: \u001b[0m\u001b[1;3;31mNone\u001b[0m\u001b[1;31m, \u001b[0m\u001b[1;31m'code'\u001b[0m\u001b[1;31m: \u001b[0m\n",
              "\u001b[1;31m'invalid_api_key'\u001b[0m\u001b[1;31m}\u001b[0m\u001b[1;31m}\u001b[0m\n"
            ],
            "text/html": [
              "<pre style=\"white-space:pre;overflow-x:auto;line-height:normal;font-family:Menlo,'DejaVu Sans Mono',consolas,'Courier New',monospace\"><span style=\"color: #800000; text-decoration-color: #800000; font-weight: bold\">Error in generating tool call with model:</span>\n",
              "<span style=\"color: #800000; text-decoration-color: #800000; font-weight: bold\">litellm.AuthenticationError: AuthenticationError: OpenAIException - Error code: </span><span style=\"color: #800000; text-decoration-color: #800000; font-weight: bold\">401</span><span style=\"color: #800000; text-decoration-color: #800000; font-weight: bold\"> - {</span><span style=\"color: #800000; text-decoration-color: #800000; font-weight: bold\">'error'</span><span style=\"color: #800000; text-decoration-color: #800000; font-weight: bold\">: {</span><span style=\"color: #800000; text-decoration-color: #800000; font-weight: bold\">'message'</span><span style=\"color: #800000; text-decoration-color: #800000; font-weight: bold\">: </span>\n",
              "<span style=\"color: #800000; text-decoration-color: #800000; font-weight: bold\">'Incorrect API key provided: </span>\n",
              "<span style=\"color: #800000; text-decoration-color: #800000; font-weight: bold\">sk-proj-***********************************************************************************************************</span>\n",
              "<span style=\"color: #800000; text-decoration-color: #800000; font-weight: bold\">*********************************************7V0A. You can find your API key at </span>\n",
              "<span style=\"color: #800000; text-decoration-color: #800000; font-weight: bold\">https://platform.openai.com/account/api-keys.'</span><span style=\"color: #800000; text-decoration-color: #800000; font-weight: bold\">, </span><span style=\"color: #800000; text-decoration-color: #800000; font-weight: bold\">'type'</span><span style=\"color: #800000; text-decoration-color: #800000; font-weight: bold\">: </span><span style=\"color: #800000; text-decoration-color: #800000; font-weight: bold\">'invalid_request_error'</span><span style=\"color: #800000; text-decoration-color: #800000; font-weight: bold\">, </span><span style=\"color: #800000; text-decoration-color: #800000; font-weight: bold\">'param'</span><span style=\"color: #800000; text-decoration-color: #800000; font-weight: bold\">: </span><span style=\"color: #800000; text-decoration-color: #800000; font-weight: bold; font-style: italic\">None</span><span style=\"color: #800000; text-decoration-color: #800000; font-weight: bold\">, </span><span style=\"color: #800000; text-decoration-color: #800000; font-weight: bold\">'code'</span><span style=\"color: #800000; text-decoration-color: #800000; font-weight: bold\">: </span>\n",
              "<span style=\"color: #800000; text-decoration-color: #800000; font-weight: bold\">'invalid_api_key'</span><span style=\"color: #800000; text-decoration-color: #800000; font-weight: bold\">}}</span>\n",
              "</pre>\n"
            ]
          },
          "metadata": {}
        },
        {
          "output_type": "display_data",
          "data": {
            "text/plain": [
              "\u001b[2m[Step 5: Duration 0.13 seconds]\u001b[0m\n"
            ],
            "text/html": [
              "<pre style=\"white-space:pre;overflow-x:auto;line-height:normal;font-family:Menlo,'DejaVu Sans Mono',consolas,'Courier New',monospace\"><span style=\"color: #7f7f7f; text-decoration-color: #7f7f7f\">[Step 5: Duration 0.13 seconds]</span>\n",
              "</pre>\n"
            ]
          },
          "metadata": {}
        },
        {
          "output_type": "stream",
          "name": "stdout",
          "text": [
            "\n",
            "\u001b[1;31mGive Feedback / Get Help: https://github.com/BerriAI/litellm/issues/new\u001b[0m\n",
            "LiteLLM.Info: If you need to debug this error, use `litellm._turn_on_debug()'.\n",
            "\n"
          ]
        },
        {
          "output_type": "display_data",
          "data": {
            "text/plain": [
              "\u001b[1;31mReached max steps.\u001b[0m\n"
            ],
            "text/html": [
              "<pre style=\"white-space:pre;overflow-x:auto;line-height:normal;font-family:Menlo,'DejaVu Sans Mono',consolas,'Courier New',monospace\"><span style=\"color: #800000; text-decoration-color: #800000; font-weight: bold\">Reached max steps.</span>\n",
              "</pre>\n"
            ]
          },
          "metadata": {}
        },
        {
          "output_type": "display_data",
          "data": {
            "text/plain": [
              "\u001b[2m[Step 6: Duration 0.13 seconds]\u001b[0m\n"
            ],
            "text/html": [
              "<pre style=\"white-space:pre;overflow-x:auto;line-height:normal;font-family:Menlo,'DejaVu Sans Mono',consolas,'Courier New',monospace\"><span style=\"color: #7f7f7f; text-decoration-color: #7f7f7f\">[Step 6: Duration 0.13 seconds]</span>\n",
              "</pre>\n"
            ]
          },
          "metadata": {}
        },
        {
          "output_type": "execute_result",
          "data": {
            "text/plain": [
              "\"Error in generating final LLM output:\\nlitellm.AuthenticationError: AuthenticationError: OpenAIException - Error code: 401 - {'error': {'message': 'Incorrect API key provided: sk-proj-********************************************************************************************************************************************************7V0A. You can find your API key at https://platform.openai.com/account/api-keys.', 'type': 'invalid_request_error', 'param': None, 'code': 'invalid_api_key'}}\""
            ],
            "application/vnd.google.colaboratory.intrinsic+json": {
              "type": "string"
            }
          },
          "metadata": {},
          "execution_count": 34
        }
      ]
    },
    {
      "cell_type": "markdown",
      "source": [
        "stable-diffusion-v1-5/stable-diffusion-v1-5"
      ],
      "metadata": {
        "id": "94MJF3MD1Jqy"
      }
    },
    {
      "cell_type": "code",
      "source": [
        "agent.run(\"What is the most downloaded model for image to image task?\")"
      ],
      "metadata": {
        "id": "zp1s3C4J1EKH",
        "colab": {
          "base_uri": "https://localhost:8080/",
          "height": 1000
        },
        "outputId": "a75beb37-0cf4-4b7f-93be-2fa6f28ab49b"
      },
      "execution_count": 24,
      "outputs": [
        {
          "output_type": "display_data",
          "data": {
            "text/plain": [
              "\u001b[38;2;212;183;2m╭─\u001b[0m\u001b[38;2;212;183;2m───────────────────────────────────────────────────\u001b[0m\u001b[38;2;212;183;2m \u001b[0m\u001b[1;38;2;212;183;2mNew run\u001b[0m\u001b[38;2;212;183;2m \u001b[0m\u001b[38;2;212;183;2m───────────────────────────────────────────────────\u001b[0m\u001b[38;2;212;183;2m─╮\u001b[0m\n",
              "\u001b[38;2;212;183;2m│\u001b[0m                                                                                                                 \u001b[38;2;212;183;2m│\u001b[0m\n",
              "\u001b[38;2;212;183;2m│\u001b[0m \u001b[1mWhat is the most downloaded model for image to image task?\u001b[0m                                                      \u001b[38;2;212;183;2m│\u001b[0m\n",
              "\u001b[38;2;212;183;2m│\u001b[0m                                                                                                                 \u001b[38;2;212;183;2m│\u001b[0m\n",
              "\u001b[38;2;212;183;2m╰─\u001b[0m\u001b[38;2;212;183;2m HfApiModel - Qwen/Qwen2.5-Coder-32B-Instruct \u001b[0m\u001b[38;2;212;183;2m─────────────────────────────────────────────────────────────────\u001b[0m\u001b[38;2;212;183;2m─╯\u001b[0m\n"
            ],
            "text/html": [
              "<pre style=\"white-space:pre;overflow-x:auto;line-height:normal;font-family:Menlo,'DejaVu Sans Mono',consolas,'Courier New',monospace\"><span style=\"color: #d4b702; text-decoration-color: #d4b702\">╭──────────────────────────────────────────────────── </span><span style=\"color: #d4b702; text-decoration-color: #d4b702; font-weight: bold\">New run</span><span style=\"color: #d4b702; text-decoration-color: #d4b702\"> ────────────────────────────────────────────────────╮</span>\n",
              "<span style=\"color: #d4b702; text-decoration-color: #d4b702\">│</span>                                                                                                                 <span style=\"color: #d4b702; text-decoration-color: #d4b702\">│</span>\n",
              "<span style=\"color: #d4b702; text-decoration-color: #d4b702\">│</span> <span style=\"font-weight: bold\">What is the most downloaded model for image to image task?</span>                                                      <span style=\"color: #d4b702; text-decoration-color: #d4b702\">│</span>\n",
              "<span style=\"color: #d4b702; text-decoration-color: #d4b702\">│</span>                                                                                                                 <span style=\"color: #d4b702; text-decoration-color: #d4b702\">│</span>\n",
              "<span style=\"color: #d4b702; text-decoration-color: #d4b702\">╰─ HfApiModel - Qwen/Qwen2.5-Coder-32B-Instruct ──────────────────────────────────────────────────────────────────╯</span>\n",
              "</pre>\n"
            ]
          },
          "metadata": {}
        },
        {
          "output_type": "display_data",
          "data": {
            "text/plain": [
              "\u001b[38;2;212;183;2m━━━━━━━━━━━━━━━━━━━━━━━━━━━━━━━━━━━━━━━━━━━━━━━━━━━━━ \u001b[0m\u001b[1mStep \u001b[0m\u001b[1;36m1\u001b[0m\u001b[38;2;212;183;2m ━━━━━━━━━━━━━━━━━━━━━━━━━━━━━━━━━━━━━━━━━━━━━━━━━━━━━━\u001b[0m\n"
            ],
            "text/html": [
              "<pre style=\"white-space:pre;overflow-x:auto;line-height:normal;font-family:Menlo,'DejaVu Sans Mono',consolas,'Courier New',monospace\"><span style=\"color: #d4b702; text-decoration-color: #d4b702\">━━━━━━━━━━━━━━━━━━━━━━━━━━━━━━━━━━━━━━━━━━━━━━━━━━━━━ </span><span style=\"font-weight: bold\">Step </span><span style=\"color: #008080; text-decoration-color: #008080; font-weight: bold\">1</span><span style=\"color: #d4b702; text-decoration-color: #d4b702\"> ━━━━━━━━━━━━━━━━━━━━━━━━━━━━━━━━━━━━━━━━━━━━━━━━━━━━━━</span>\n",
              "</pre>\n"
            ]
          },
          "metadata": {}
        },
        {
          "output_type": "display_data",
          "data": {
            "text/plain": [
              " ─ \u001b[1mExecuting parsed code:\u001b[0m ──────────────────────────────────────────────────────────────────────────────────────── \n",
              "  \u001b[38;2;248;248;242;48;2;39;40;34mmost_downloaded_model\u001b[0m\u001b[38;2;248;248;242;48;2;39;40;34m \u001b[0m\u001b[38;2;255;70;137;48;2;39;40;34m=\u001b[0m\u001b[38;2;248;248;242;48;2;39;40;34m \u001b[0m\u001b[38;2;248;248;242;48;2;39;40;34mmodel_download_counter\u001b[0m\u001b[38;2;248;248;242;48;2;39;40;34m(\u001b[0m\u001b[38;2;248;248;242;48;2;39;40;34mtask\u001b[0m\u001b[38;2;255;70;137;48;2;39;40;34m=\u001b[0m\u001b[38;2;230;219;116;48;2;39;40;34m\"\u001b[0m\u001b[38;2;230;219;116;48;2;39;40;34mimage-to-image-task\u001b[0m\u001b[38;2;230;219;116;48;2;39;40;34m\"\u001b[0m\u001b[38;2;248;248;242;48;2;39;40;34m)\u001b[0m\u001b[48;2;39;40;34m                                     \u001b[0m  \n",
              "  \u001b[38;2;248;248;242;48;2;39;40;34mprint\u001b[0m\u001b[38;2;248;248;242;48;2;39;40;34m(\u001b[0m\u001b[38;2;248;248;242;48;2;39;40;34mmost_downloaded_model\u001b[0m\u001b[38;2;248;248;242;48;2;39;40;34m)\u001b[0m\u001b[48;2;39;40;34m                                                                                   \u001b[0m  \n",
              " ───────────────────────────────────────────────────────────────────────────────────────────────────────────────── \n"
            ],
            "text/html": [
              "<pre style=\"white-space:pre;overflow-x:auto;line-height:normal;font-family:Menlo,'DejaVu Sans Mono',consolas,'Courier New',monospace\"> ─ <span style=\"font-weight: bold\">Executing parsed code:</span> ──────────────────────────────────────────────────────────────────────────────────────── \n",
              "  <span style=\"color: #f8f8f2; text-decoration-color: #f8f8f2; background-color: #272822\">most_downloaded_model </span><span style=\"color: #ff4689; text-decoration-color: #ff4689; background-color: #272822\">=</span><span style=\"color: #f8f8f2; text-decoration-color: #f8f8f2; background-color: #272822\"> model_download_counter(task</span><span style=\"color: #ff4689; text-decoration-color: #ff4689; background-color: #272822\">=</span><span style=\"color: #e6db74; text-decoration-color: #e6db74; background-color: #272822\">\"image-to-image-task\"</span><span style=\"color: #f8f8f2; text-decoration-color: #f8f8f2; background-color: #272822\">)</span><span style=\"background-color: #272822\">                                     </span>  \n",
              "  <span style=\"color: #f8f8f2; text-decoration-color: #f8f8f2; background-color: #272822\">print(most_downloaded_model)</span><span style=\"background-color: #272822\">                                                                                   </span>  \n",
              " ───────────────────────────────────────────────────────────────────────────────────────────────────────────────── \n",
              "</pre>\n"
            ]
          },
          "metadata": {}
        },
        {
          "output_type": "display_data",
          "data": {
            "text/plain": [
              "\u001b[1;31mCode execution failed at line \u001b[0m\u001b[1;31m'most_downloaded_model = model_download_counter\u001b[0m\u001b[1;31m(\u001b[0m\u001b[1;31mtask\u001b[0m\u001b[1;31m=\u001b[0m\u001b[1;31m\"image\u001b[0m\u001b[1;31m-to-image-task\"\u001b[0m\u001b[1;31m)\u001b[0m\u001b[1;31m'\u001b[0m\u001b[1;31m due to: \u001b[0m\n",
              "\u001b[1;31mStopIteration: \u001b[0m\n"
            ],
            "text/html": [
              "<pre style=\"white-space:pre;overflow-x:auto;line-height:normal;font-family:Menlo,'DejaVu Sans Mono',consolas,'Courier New',monospace\"><span style=\"color: #800000; text-decoration-color: #800000; font-weight: bold\">Code execution failed at line </span><span style=\"color: #800000; text-decoration-color: #800000; font-weight: bold\">'most_downloaded_model = model_download_counter(task=\"image-to-image-task\")'</span><span style=\"color: #800000; text-decoration-color: #800000; font-weight: bold\"> due to: </span>\n",
              "<span style=\"color: #800000; text-decoration-color: #800000; font-weight: bold\">StopIteration: </span>\n",
              "</pre>\n"
            ]
          },
          "metadata": {}
        },
        {
          "output_type": "display_data",
          "data": {
            "text/plain": [
              "\u001b[2m[Step 0: Duration 5.78 seconds| Input tokens: 2,120 | Output tokens: 73]\u001b[0m\n"
            ],
            "text/html": [
              "<pre style=\"white-space:pre;overflow-x:auto;line-height:normal;font-family:Menlo,'DejaVu Sans Mono',consolas,'Courier New',monospace\"><span style=\"color: #7f7f7f; text-decoration-color: #7f7f7f\">[Step 0: Duration 5.78 seconds| Input tokens: 2,120 | Output tokens: 73]</span>\n",
              "</pre>\n"
            ]
          },
          "metadata": {}
        },
        {
          "output_type": "display_data",
          "data": {
            "text/plain": [
              "\u001b[38;2;212;183;2m━━━━━━━━━━━━━━━━━━━━━━━━━━━━━━━━━━━━━━━━━━━━━━━━━━━━━ \u001b[0m\u001b[1mStep \u001b[0m\u001b[1;36m2\u001b[0m\u001b[38;2;212;183;2m ━━━━━━━━━━━━━━━━━━━━━━━━━━━━━━━━━━━━━━━━━━━━━━━━━━━━━━\u001b[0m\n"
            ],
            "text/html": [
              "<pre style=\"white-space:pre;overflow-x:auto;line-height:normal;font-family:Menlo,'DejaVu Sans Mono',consolas,'Courier New',monospace\"><span style=\"color: #d4b702; text-decoration-color: #d4b702\">━━━━━━━━━━━━━━━━━━━━━━━━━━━━━━━━━━━━━━━━━━━━━━━━━━━━━ </span><span style=\"font-weight: bold\">Step </span><span style=\"color: #008080; text-decoration-color: #008080; font-weight: bold\">2</span><span style=\"color: #d4b702; text-decoration-color: #d4b702\"> ━━━━━━━━━━━━━━━━━━━━━━━━━━━━━━━━━━━━━━━━━━━━━━━━━━━━━━</span>\n",
              "</pre>\n"
            ]
          },
          "metadata": {}
        },
        {
          "output_type": "display_data",
          "data": {
            "text/plain": [
              " ─ \u001b[1mExecuting parsed code:\u001b[0m ──────────────────────────────────────────────────────────────────────────────────────── \n",
              "  \u001b[38;2;248;248;242;48;2;39;40;34mmost_downloaded_model\u001b[0m\u001b[38;2;248;248;242;48;2;39;40;34m \u001b[0m\u001b[38;2;255;70;137;48;2;39;40;34m=\u001b[0m\u001b[38;2;248;248;242;48;2;39;40;34m \u001b[0m\u001b[38;2;248;248;242;48;2;39;40;34mmodel_download_counter\u001b[0m\u001b[38;2;248;248;242;48;2;39;40;34m(\u001b[0m\u001b[38;2;248;248;242;48;2;39;40;34mtask\u001b[0m\u001b[38;2;255;70;137;48;2;39;40;34m=\u001b[0m\u001b[38;2;230;219;116;48;2;39;40;34m\"\u001b[0m\u001b[38;2;230;219;116;48;2;39;40;34mimage-to-image\u001b[0m\u001b[38;2;230;219;116;48;2;39;40;34m\"\u001b[0m\u001b[38;2;248;248;242;48;2;39;40;34m)\u001b[0m\u001b[48;2;39;40;34m                                          \u001b[0m  \n",
              "  \u001b[38;2;248;248;242;48;2;39;40;34mprint\u001b[0m\u001b[38;2;248;248;242;48;2;39;40;34m(\u001b[0m\u001b[38;2;248;248;242;48;2;39;40;34mmost_downloaded_model\u001b[0m\u001b[38;2;248;248;242;48;2;39;40;34m)\u001b[0m\u001b[48;2;39;40;34m                                                                                   \u001b[0m  \n",
              " ───────────────────────────────────────────────────────────────────────────────────────────────────────────────── \n"
            ],
            "text/html": [
              "<pre style=\"white-space:pre;overflow-x:auto;line-height:normal;font-family:Menlo,'DejaVu Sans Mono',consolas,'Courier New',monospace\"> ─ <span style=\"font-weight: bold\">Executing parsed code:</span> ──────────────────────────────────────────────────────────────────────────────────────── \n",
              "  <span style=\"color: #f8f8f2; text-decoration-color: #f8f8f2; background-color: #272822\">most_downloaded_model </span><span style=\"color: #ff4689; text-decoration-color: #ff4689; background-color: #272822\">=</span><span style=\"color: #f8f8f2; text-decoration-color: #f8f8f2; background-color: #272822\"> model_download_counter(task</span><span style=\"color: #ff4689; text-decoration-color: #ff4689; background-color: #272822\">=</span><span style=\"color: #e6db74; text-decoration-color: #e6db74; background-color: #272822\">\"image-to-image\"</span><span style=\"color: #f8f8f2; text-decoration-color: #f8f8f2; background-color: #272822\">)</span><span style=\"background-color: #272822\">                                          </span>  \n",
              "  <span style=\"color: #f8f8f2; text-decoration-color: #f8f8f2; background-color: #272822\">print(most_downloaded_model)</span><span style=\"background-color: #272822\">                                                                                   </span>  \n",
              " ───────────────────────────────────────────────────────────────────────────────────────────────────────────────── \n",
              "</pre>\n"
            ]
          },
          "metadata": {}
        },
        {
          "output_type": "display_data",
          "data": {
            "text/plain": [
              "\u001b[1mExecution logs:\u001b[0m\n",
              "stabilityai/stable-diffusion-xl-refiner-1.0\n",
              "\n",
              "Out: None\n"
            ],
            "text/html": [
              "<pre style=\"white-space:pre;overflow-x:auto;line-height:normal;font-family:Menlo,'DejaVu Sans Mono',consolas,'Courier New',monospace\"><span style=\"font-weight: bold\">Execution logs:</span>\n",
              "stabilityai/stable-diffusion-xl-refiner-1.0\n",
              "\n",
              "Out: None\n",
              "</pre>\n"
            ]
          },
          "metadata": {}
        },
        {
          "output_type": "display_data",
          "data": {
            "text/plain": [
              "\u001b[2m[Step 1: Duration 5.90 seconds| Input tokens: 4,447 | Output tokens: 192]\u001b[0m\n"
            ],
            "text/html": [
              "<pre style=\"white-space:pre;overflow-x:auto;line-height:normal;font-family:Menlo,'DejaVu Sans Mono',consolas,'Courier New',monospace\"><span style=\"color: #7f7f7f; text-decoration-color: #7f7f7f\">[Step 1: Duration 5.90 seconds| Input tokens: 4,447 | Output tokens: 192]</span>\n",
              "</pre>\n"
            ]
          },
          "metadata": {}
        },
        {
          "output_type": "display_data",
          "data": {
            "text/plain": [
              "\u001b[38;2;212;183;2m━━━━━━━━━━━━━━━━━━━━━━━━━━━━━━━━━━━━━━━━━━━━━━━━━━━━━ \u001b[0m\u001b[1mStep \u001b[0m\u001b[1;36m3\u001b[0m\u001b[38;2;212;183;2m ━━━━━━━━━━━━━━━━━━━━━━━━━━━━━━━━━━━━━━━━━━━━━━━━━━━━━━\u001b[0m\n"
            ],
            "text/html": [
              "<pre style=\"white-space:pre;overflow-x:auto;line-height:normal;font-family:Menlo,'DejaVu Sans Mono',consolas,'Courier New',monospace\"><span style=\"color: #d4b702; text-decoration-color: #d4b702\">━━━━━━━━━━━━━━━━━━━━━━━━━━━━━━━━━━━━━━━━━━━━━━━━━━━━━ </span><span style=\"font-weight: bold\">Step </span><span style=\"color: #008080; text-decoration-color: #008080; font-weight: bold\">3</span><span style=\"color: #d4b702; text-decoration-color: #d4b702\"> ━━━━━━━━━━━━━━━━━━━━━━━━━━━━━━━━━━━━━━━━━━━━━━━━━━━━━━</span>\n",
              "</pre>\n"
            ]
          },
          "metadata": {}
        },
        {
          "output_type": "display_data",
          "data": {
            "text/plain": [
              " ─ \u001b[1mExecuting parsed code:\u001b[0m ──────────────────────────────────────────────────────────────────────────────────────── \n",
              "  \u001b[38;2;255;70;137;48;2;39;40;34mimport\u001b[0m\u001b[38;2;248;248;242;48;2;39;40;34m \u001b[0m\u001b[38;2;248;248;242;48;2;39;40;34mrequests\u001b[0m\u001b[48;2;39;40;34m                                                                                                \u001b[0m  \n",
              "  \u001b[38;2;255;70;137;48;2;39;40;34mfrom\u001b[0m\u001b[38;2;248;248;242;48;2;39;40;34m \u001b[0m\u001b[38;2;248;248;242;48;2;39;40;34mbs4\u001b[0m\u001b[38;2;248;248;242;48;2;39;40;34m \u001b[0m\u001b[38;2;255;70;137;48;2;39;40;34mimport\u001b[0m\u001b[38;2;248;248;242;48;2;39;40;34m \u001b[0m\u001b[38;2;248;248;242;48;2;39;40;34mBeautifulSoup\u001b[0m\u001b[48;2;39;40;34m                                                                                  \u001b[0m  \n",
              "  \u001b[48;2;39;40;34m                                                                                                               \u001b[0m  \n",
              "  \u001b[38;2;248;248;242;48;2;39;40;34mresponse\u001b[0m\u001b[38;2;248;248;242;48;2;39;40;34m \u001b[0m\u001b[38;2;255;70;137;48;2;39;40;34m=\u001b[0m\u001b[38;2;248;248;242;48;2;39;40;34m \u001b[0m\u001b[38;2;248;248;242;48;2;39;40;34mrequests\u001b[0m\u001b[38;2;255;70;137;48;2;39;40;34m.\u001b[0m\u001b[38;2;248;248;242;48;2;39;40;34mget\u001b[0m\u001b[38;2;248;248;242;48;2;39;40;34m(\u001b[0m\u001b[38;2;230;219;116;48;2;39;40;34m\"\u001b[0m\u001b[38;2;230;219;116;48;2;39;40;34mhttps://huggingface.co/models?pipeline_tag=image-to-image&sort=downloads\u001b[0m\u001b[38;2;230;219;116;48;2;39;40;34m\"\u001b[0m\u001b[38;2;248;248;242;48;2;39;40;34m)\u001b[0m\u001b[48;2;39;40;34m            \u001b[0m  \n",
              "  \u001b[38;2;248;248;242;48;2;39;40;34msoup\u001b[0m\u001b[38;2;248;248;242;48;2;39;40;34m \u001b[0m\u001b[38;2;255;70;137;48;2;39;40;34m=\u001b[0m\u001b[38;2;248;248;242;48;2;39;40;34m \u001b[0m\u001b[38;2;248;248;242;48;2;39;40;34mBeautifulSoup\u001b[0m\u001b[38;2;248;248;242;48;2;39;40;34m(\u001b[0m\u001b[38;2;248;248;242;48;2;39;40;34mresponse\u001b[0m\u001b[38;2;255;70;137;48;2;39;40;34m.\u001b[0m\u001b[38;2;248;248;242;48;2;39;40;34mtext\u001b[0m\u001b[38;2;248;248;242;48;2;39;40;34m,\u001b[0m\u001b[38;2;248;248;242;48;2;39;40;34m \u001b[0m\u001b[38;2;230;219;116;48;2;39;40;34m'\u001b[0m\u001b[38;2;230;219;116;48;2;39;40;34mhtml.parser\u001b[0m\u001b[38;2;230;219;116;48;2;39;40;34m'\u001b[0m\u001b[38;2;248;248;242;48;2;39;40;34m)\u001b[0m\u001b[48;2;39;40;34m                                                             \u001b[0m  \n",
              "  \u001b[48;2;39;40;34m                                                                                                               \u001b[0m  \n",
              "  \u001b[38;2;149;144;119;48;2;39;40;34m# Finding the first model in the list, which should be the most downloaded\u001b[0m\u001b[48;2;39;40;34m                                     \u001b[0m  \n",
              "  \u001b[38;2;248;248;242;48;2;39;40;34mmodel_name\u001b[0m\u001b[38;2;248;248;242;48;2;39;40;34m \u001b[0m\u001b[38;2;255;70;137;48;2;39;40;34m=\u001b[0m\u001b[38;2;248;248;242;48;2;39;40;34m \u001b[0m\u001b[38;2;248;248;242;48;2;39;40;34msoup\u001b[0m\u001b[38;2;255;70;137;48;2;39;40;34m.\u001b[0m\u001b[38;2;248;248;242;48;2;39;40;34mfind\u001b[0m\u001b[38;2;248;248;242;48;2;39;40;34m(\u001b[0m\u001b[38;2;230;219;116;48;2;39;40;34m'\u001b[0m\u001b[38;2;230;219;116;48;2;39;40;34ma\u001b[0m\u001b[38;2;230;219;116;48;2;39;40;34m'\u001b[0m\u001b[38;2;248;248;242;48;2;39;40;34m,\u001b[0m\u001b[38;2;248;248;242;48;2;39;40;34m \u001b[0m\u001b[38;2;248;248;242;48;2;39;40;34m{\u001b[0m\u001b[38;2;230;219;116;48;2;39;40;34m'\u001b[0m\u001b[38;2;230;219;116;48;2;39;40;34mclass\u001b[0m\u001b[38;2;230;219;116;48;2;39;40;34m'\u001b[0m\u001b[38;2;248;248;242;48;2;39;40;34m:\u001b[0m\u001b[38;2;248;248;242;48;2;39;40;34m \u001b[0m\u001b[38;2;230;219;116;48;2;39;40;34m'\u001b[0m\u001b[38;2;230;219;116;48;2;39;40;34md-none d-sm-block\u001b[0m\u001b[38;2;230;219;116;48;2;39;40;34m'\u001b[0m\u001b[38;2;248;248;242;48;2;39;40;34m}\u001b[0m\u001b[38;2;248;248;242;48;2;39;40;34m)\u001b[0m\u001b[38;2;255;70;137;48;2;39;40;34m.\u001b[0m\u001b[38;2;248;248;242;48;2;39;40;34mtext\u001b[0m\u001b[38;2;255;70;137;48;2;39;40;34m.\u001b[0m\u001b[38;2;248;248;242;48;2;39;40;34mstrip\u001b[0m\u001b[38;2;248;248;242;48;2;39;40;34m(\u001b[0m\u001b[38;2;248;248;242;48;2;39;40;34m)\u001b[0m\u001b[48;2;39;40;34m                                       \u001b[0m  \n",
              "  \u001b[38;2;248;248;242;48;2;39;40;34mprint\u001b[0m\u001b[38;2;248;248;242;48;2;39;40;34m(\u001b[0m\u001b[38;2;248;248;242;48;2;39;40;34mmodel_name\u001b[0m\u001b[38;2;248;248;242;48;2;39;40;34m)\u001b[0m\u001b[48;2;39;40;34m                                                                                              \u001b[0m  \n",
              " ───────────────────────────────────────────────────────────────────────────────────────────────────────────────── \n"
            ],
            "text/html": [
              "<pre style=\"white-space:pre;overflow-x:auto;line-height:normal;font-family:Menlo,'DejaVu Sans Mono',consolas,'Courier New',monospace\"> ─ <span style=\"font-weight: bold\">Executing parsed code:</span> ──────────────────────────────────────────────────────────────────────────────────────── \n",
              "  <span style=\"color: #ff4689; text-decoration-color: #ff4689; background-color: #272822\">import</span><span style=\"color: #f8f8f2; text-decoration-color: #f8f8f2; background-color: #272822\"> requests</span><span style=\"background-color: #272822\">                                                                                                </span>  \n",
              "  <span style=\"color: #ff4689; text-decoration-color: #ff4689; background-color: #272822\">from</span><span style=\"color: #f8f8f2; text-decoration-color: #f8f8f2; background-color: #272822\"> bs4 </span><span style=\"color: #ff4689; text-decoration-color: #ff4689; background-color: #272822\">import</span><span style=\"color: #f8f8f2; text-decoration-color: #f8f8f2; background-color: #272822\"> BeautifulSoup</span><span style=\"background-color: #272822\">                                                                                  </span>  \n",
              "  <span style=\"background-color: #272822\">                                                                                                               </span>  \n",
              "  <span style=\"color: #f8f8f2; text-decoration-color: #f8f8f2; background-color: #272822\">response </span><span style=\"color: #ff4689; text-decoration-color: #ff4689; background-color: #272822\">=</span><span style=\"color: #f8f8f2; text-decoration-color: #f8f8f2; background-color: #272822\"> requests</span><span style=\"color: #ff4689; text-decoration-color: #ff4689; background-color: #272822\">.</span><span style=\"color: #f8f8f2; text-decoration-color: #f8f8f2; background-color: #272822\">get(</span><span style=\"color: #e6db74; text-decoration-color: #e6db74; background-color: #272822\">\"https://huggingface.co/models?pipeline_tag=image-to-image&amp;sort=downloads\"</span><span style=\"color: #f8f8f2; text-decoration-color: #f8f8f2; background-color: #272822\">)</span><span style=\"background-color: #272822\">            </span>  \n",
              "  <span style=\"color: #f8f8f2; text-decoration-color: #f8f8f2; background-color: #272822\">soup </span><span style=\"color: #ff4689; text-decoration-color: #ff4689; background-color: #272822\">=</span><span style=\"color: #f8f8f2; text-decoration-color: #f8f8f2; background-color: #272822\"> BeautifulSoup(response</span><span style=\"color: #ff4689; text-decoration-color: #ff4689; background-color: #272822\">.</span><span style=\"color: #f8f8f2; text-decoration-color: #f8f8f2; background-color: #272822\">text, </span><span style=\"color: #e6db74; text-decoration-color: #e6db74; background-color: #272822\">'html.parser'</span><span style=\"color: #f8f8f2; text-decoration-color: #f8f8f2; background-color: #272822\">)</span><span style=\"background-color: #272822\">                                                             </span>  \n",
              "  <span style=\"background-color: #272822\">                                                                                                               </span>  \n",
              "  <span style=\"color: #959077; text-decoration-color: #959077; background-color: #272822\"># Finding the first model in the list, which should be the most downloaded</span><span style=\"background-color: #272822\">                                     </span>  \n",
              "  <span style=\"color: #f8f8f2; text-decoration-color: #f8f8f2; background-color: #272822\">model_name </span><span style=\"color: #ff4689; text-decoration-color: #ff4689; background-color: #272822\">=</span><span style=\"color: #f8f8f2; text-decoration-color: #f8f8f2; background-color: #272822\"> soup</span><span style=\"color: #ff4689; text-decoration-color: #ff4689; background-color: #272822\">.</span><span style=\"color: #f8f8f2; text-decoration-color: #f8f8f2; background-color: #272822\">find(</span><span style=\"color: #e6db74; text-decoration-color: #e6db74; background-color: #272822\">'a'</span><span style=\"color: #f8f8f2; text-decoration-color: #f8f8f2; background-color: #272822\">, {</span><span style=\"color: #e6db74; text-decoration-color: #e6db74; background-color: #272822\">'class'</span><span style=\"color: #f8f8f2; text-decoration-color: #f8f8f2; background-color: #272822\">: </span><span style=\"color: #e6db74; text-decoration-color: #e6db74; background-color: #272822\">'d-none d-sm-block'</span><span style=\"color: #f8f8f2; text-decoration-color: #f8f8f2; background-color: #272822\">})</span><span style=\"color: #ff4689; text-decoration-color: #ff4689; background-color: #272822\">.</span><span style=\"color: #f8f8f2; text-decoration-color: #f8f8f2; background-color: #272822\">text</span><span style=\"color: #ff4689; text-decoration-color: #ff4689; background-color: #272822\">.</span><span style=\"color: #f8f8f2; text-decoration-color: #f8f8f2; background-color: #272822\">strip()</span><span style=\"background-color: #272822\">                                       </span>  \n",
              "  <span style=\"color: #f8f8f2; text-decoration-color: #f8f8f2; background-color: #272822\">print(model_name)</span><span style=\"background-color: #272822\">                                                                                              </span>  \n",
              " ───────────────────────────────────────────────────────────────────────────────────────────────────────────────── \n",
              "</pre>\n"
            ]
          },
          "metadata": {}
        },
        {
          "output_type": "display_data",
          "data": {
            "text/plain": [
              "\u001b[1;31mCode execution failed at line \u001b[0m\u001b[1;31m'model_name = soup.find\u001b[0m\u001b[1;31m(\u001b[0m\u001b[1;31m'\u001b[0m\u001b[1;31ma', \u001b[0m\u001b[1;31m{\u001b[0m\u001b[1;31m'class'\u001b[0m\u001b[1;31m: \u001b[0m\u001b[1;31m'd-none d-sm-block'\u001b[0m\u001b[1;31m}\u001b[0m\u001b[1;31m)\u001b[0m\u001b[1;31m.text.strip\u001b[0m\u001b[1;31m(\u001b[0m\u001b[1;31m)\u001b[0m\u001b[1;31m' due to: \u001b[0m\n",
              "\u001b[1;31mAttributeError: '\u001b[0m\u001b[1;31mNoneType' object has no attribute \u001b[0m\u001b[1;31m'text'\u001b[0m\n"
            ],
            "text/html": [
              "<pre style=\"white-space:pre;overflow-x:auto;line-height:normal;font-family:Menlo,'DejaVu Sans Mono',consolas,'Courier New',monospace\"><span style=\"color: #800000; text-decoration-color: #800000; font-weight: bold\">Code execution failed at line </span><span style=\"color: #800000; text-decoration-color: #800000; font-weight: bold\">'model_name = soup.find('</span><span style=\"color: #800000; text-decoration-color: #800000; font-weight: bold\">a', {</span><span style=\"color: #800000; text-decoration-color: #800000; font-weight: bold\">'class'</span><span style=\"color: #800000; text-decoration-color: #800000; font-weight: bold\">: </span><span style=\"color: #800000; text-decoration-color: #800000; font-weight: bold\">'d-none d-sm-block'</span><span style=\"color: #800000; text-decoration-color: #800000; font-weight: bold\">}).text.strip()</span><span style=\"color: #800000; text-decoration-color: #800000; font-weight: bold\">' due to: </span>\n",
              "<span style=\"color: #800000; text-decoration-color: #800000; font-weight: bold\">AttributeError: '</span><span style=\"color: #800000; text-decoration-color: #800000; font-weight: bold\">NoneType' object has no attribute </span><span style=\"color: #800000; text-decoration-color: #800000; font-weight: bold\">'text'</span>\n",
              "</pre>\n"
            ]
          },
          "metadata": {}
        },
        {
          "output_type": "display_data",
          "data": {
            "text/plain": [
              "\u001b[2m[Step 2: Duration 9.53 seconds| Input tokens: 6,997 | Output tokens: 400]\u001b[0m\n"
            ],
            "text/html": [
              "<pre style=\"white-space:pre;overflow-x:auto;line-height:normal;font-family:Menlo,'DejaVu Sans Mono',consolas,'Courier New',monospace\"><span style=\"color: #7f7f7f; text-decoration-color: #7f7f7f\">[Step 2: Duration 9.53 seconds| Input tokens: 6,997 | Output tokens: 400]</span>\n",
              "</pre>\n"
            ]
          },
          "metadata": {}
        },
        {
          "output_type": "display_data",
          "data": {
            "text/plain": [
              "\u001b[38;2;212;183;2m━━━━━━━━━━━━━━━━━━━━━━━━━━━━━━━━━━━━━━━━━━━━━━━━━━━━━ \u001b[0m\u001b[1mStep \u001b[0m\u001b[1;36m4\u001b[0m\u001b[38;2;212;183;2m ━━━━━━━━━━━━━━━━━━━━━━━━━━━━━━━━━━━━━━━━━━━━━━━━━━━━━━\u001b[0m\n"
            ],
            "text/html": [
              "<pre style=\"white-space:pre;overflow-x:auto;line-height:normal;font-family:Menlo,'DejaVu Sans Mono',consolas,'Courier New',monospace\"><span style=\"color: #d4b702; text-decoration-color: #d4b702\">━━━━━━━━━━━━━━━━━━━━━━━━━━━━━━━━━━━━━━━━━━━━━━━━━━━━━ </span><span style=\"font-weight: bold\">Step </span><span style=\"color: #008080; text-decoration-color: #008080; font-weight: bold\">4</span><span style=\"color: #d4b702; text-decoration-color: #d4b702\"> ━━━━━━━━━━━━━━━━━━━━━━━━━━━━━━━━━━━━━━━━━━━━━━━━━━━━━━</span>\n",
              "</pre>\n"
            ]
          },
          "metadata": {}
        },
        {
          "output_type": "display_data",
          "data": {
            "text/plain": [
              " ─ \u001b[1mExecuting parsed code:\u001b[0m ──────────────────────────────────────────────────────────────────────────────────────── \n",
              "  \u001b[38;2;255;70;137;48;2;39;40;34mimport\u001b[0m\u001b[38;2;248;248;242;48;2;39;40;34m \u001b[0m\u001b[38;2;248;248;242;48;2;39;40;34mrequests\u001b[0m\u001b[48;2;39;40;34m                                                                                                \u001b[0m  \n",
              "  \u001b[38;2;255;70;137;48;2;39;40;34mfrom\u001b[0m\u001b[38;2;248;248;242;48;2;39;40;34m \u001b[0m\u001b[38;2;248;248;242;48;2;39;40;34mbs4\u001b[0m\u001b[38;2;248;248;242;48;2;39;40;34m \u001b[0m\u001b[38;2;255;70;137;48;2;39;40;34mimport\u001b[0m\u001b[38;2;248;248;242;48;2;39;40;34m \u001b[0m\u001b[38;2;248;248;242;48;2;39;40;34mBeautifulSoup\u001b[0m\u001b[48;2;39;40;34m                                                                                  \u001b[0m  \n",
              "  \u001b[48;2;39;40;34m                                                                                                               \u001b[0m  \n",
              "  \u001b[38;2;248;248;242;48;2;39;40;34mresponse\u001b[0m\u001b[38;2;248;248;242;48;2;39;40;34m \u001b[0m\u001b[38;2;255;70;137;48;2;39;40;34m=\u001b[0m\u001b[38;2;248;248;242;48;2;39;40;34m \u001b[0m\u001b[38;2;248;248;242;48;2;39;40;34mrequests\u001b[0m\u001b[38;2;255;70;137;48;2;39;40;34m.\u001b[0m\u001b[38;2;248;248;242;48;2;39;40;34mget\u001b[0m\u001b[38;2;248;248;242;48;2;39;40;34m(\u001b[0m\u001b[38;2;230;219;116;48;2;39;40;34m\"\u001b[0m\u001b[38;2;230;219;116;48;2;39;40;34mhttps://huggingface.co/models?pipeline_tag=image-to-image&sort=downloads\u001b[0m\u001b[38;2;230;219;116;48;2;39;40;34m\"\u001b[0m\u001b[38;2;248;248;242;48;2;39;40;34m)\u001b[0m\u001b[48;2;39;40;34m            \u001b[0m  \n",
              "  \u001b[38;2;248;248;242;48;2;39;40;34msoup\u001b[0m\u001b[38;2;248;248;242;48;2;39;40;34m \u001b[0m\u001b[38;2;255;70;137;48;2;39;40;34m=\u001b[0m\u001b[38;2;248;248;242;48;2;39;40;34m \u001b[0m\u001b[38;2;248;248;242;48;2;39;40;34mBeautifulSoup\u001b[0m\u001b[38;2;248;248;242;48;2;39;40;34m(\u001b[0m\u001b[38;2;248;248;242;48;2;39;40;34mresponse\u001b[0m\u001b[38;2;255;70;137;48;2;39;40;34m.\u001b[0m\u001b[38;2;248;248;242;48;2;39;40;34mtext\u001b[0m\u001b[38;2;248;248;242;48;2;39;40;34m,\u001b[0m\u001b[38;2;248;248;242;48;2;39;40;34m \u001b[0m\u001b[38;2;230;219;116;48;2;39;40;34m'\u001b[0m\u001b[38;2;230;219;116;48;2;39;40;34mhtml.parser\u001b[0m\u001b[38;2;230;219;116;48;2;39;40;34m'\u001b[0m\u001b[38;2;248;248;242;48;2;39;40;34m)\u001b[0m\u001b[48;2;39;40;34m                                                             \u001b[0m  \n",
              "  \u001b[48;2;39;40;34m                                                                                                               \u001b[0m  \n",
              "  \u001b[38;2;149;144;119;48;2;39;40;34m# Finding the first model in the list, which should be the most downloaded\u001b[0m\u001b[48;2;39;40;34m                                     \u001b[0m  \n",
              "  \u001b[38;2;248;248;242;48;2;39;40;34mmodel_links\u001b[0m\u001b[38;2;248;248;242;48;2;39;40;34m \u001b[0m\u001b[38;2;255;70;137;48;2;39;40;34m=\u001b[0m\u001b[38;2;248;248;242;48;2;39;40;34m \u001b[0m\u001b[38;2;248;248;242;48;2;39;40;34msoup\u001b[0m\u001b[38;2;255;70;137;48;2;39;40;34m.\u001b[0m\u001b[38;2;248;248;242;48;2;39;40;34mfind_all\u001b[0m\u001b[38;2;248;248;242;48;2;39;40;34m(\u001b[0m\u001b[38;2;230;219;116;48;2;39;40;34m'\u001b[0m\u001b[38;2;230;219;116;48;2;39;40;34ma\u001b[0m\u001b[38;2;230;219;116;48;2;39;40;34m'\u001b[0m\u001b[38;2;248;248;242;48;2;39;40;34m,\u001b[0m\u001b[38;2;248;248;242;48;2;39;40;34m \u001b[0m\u001b[38;2;248;248;242;48;2;39;40;34mhref\u001b[0m\u001b[38;2;255;70;137;48;2;39;40;34m=\u001b[0m\u001b[38;2;102;217;239;48;2;39;40;34mTrue\u001b[0m\u001b[38;2;248;248;242;48;2;39;40;34m)\u001b[0m\u001b[48;2;39;40;34m                                                                    \u001b[0m  \n",
              "  \u001b[38;2;102;217;239;48;2;39;40;34mfor\u001b[0m\u001b[38;2;248;248;242;48;2;39;40;34m \u001b[0m\u001b[38;2;248;248;242;48;2;39;40;34mlink\u001b[0m\u001b[38;2;248;248;242;48;2;39;40;34m \u001b[0m\u001b[38;2;255;70;137;48;2;39;40;34min\u001b[0m\u001b[38;2;248;248;242;48;2;39;40;34m \u001b[0m\u001b[38;2;248;248;242;48;2;39;40;34mmodel_links\u001b[0m\u001b[38;2;248;248;242;48;2;39;40;34m:\u001b[0m\u001b[48;2;39;40;34m                                                                                       \u001b[0m  \n",
              "  \u001b[38;2;248;248;242;48;2;39;40;34m    \u001b[0m\u001b[38;2;102;217;239;48;2;39;40;34mif\u001b[0m\u001b[38;2;248;248;242;48;2;39;40;34m \u001b[0m\u001b[38;2;248;248;242;48;2;39;40;34mlink\u001b[0m\u001b[38;2;248;248;242;48;2;39;40;34m[\u001b[0m\u001b[38;2;230;219;116;48;2;39;40;34m'\u001b[0m\u001b[38;2;230;219;116;48;2;39;40;34mhref\u001b[0m\u001b[38;2;230;219;116;48;2;39;40;34m'\u001b[0m\u001b[38;2;248;248;242;48;2;39;40;34m]\u001b[0m\u001b[38;2;255;70;137;48;2;39;40;34m.\u001b[0m\u001b[38;2;248;248;242;48;2;39;40;34mstartswith\u001b[0m\u001b[38;2;248;248;242;48;2;39;40;34m(\u001b[0m\u001b[38;2;230;219;116;48;2;39;40;34m'\u001b[0m\u001b[38;2;230;219;116;48;2;39;40;34m/models/\u001b[0m\u001b[38;2;230;219;116;48;2;39;40;34m'\u001b[0m\u001b[38;2;248;248;242;48;2;39;40;34m)\u001b[0m\u001b[38;2;248;248;242;48;2;39;40;34m:\u001b[0m\u001b[48;2;39;40;34m                                                                    \u001b[0m  \n",
              "  \u001b[38;2;248;248;242;48;2;39;40;34m        \u001b[0m\u001b[38;2;248;248;242;48;2;39;40;34mmodel_name\u001b[0m\u001b[38;2;248;248;242;48;2;39;40;34m \u001b[0m\u001b[38;2;255;70;137;48;2;39;40;34m=\u001b[0m\u001b[38;2;248;248;242;48;2;39;40;34m \u001b[0m\u001b[38;2;248;248;242;48;2;39;40;34mlink\u001b[0m\u001b[38;2;248;248;242;48;2;39;40;34m[\u001b[0m\u001b[38;2;230;219;116;48;2;39;40;34m'\u001b[0m\u001b[38;2;230;219;116;48;2;39;40;34mhref\u001b[0m\u001b[38;2;230;219;116;48;2;39;40;34m'\u001b[0m\u001b[38;2;248;248;242;48;2;39;40;34m]\u001b[0m\u001b[38;2;255;70;137;48;2;39;40;34m.\u001b[0m\u001b[38;2;248;248;242;48;2;39;40;34msplit\u001b[0m\u001b[38;2;248;248;242;48;2;39;40;34m(\u001b[0m\u001b[38;2;230;219;116;48;2;39;40;34m'\u001b[0m\u001b[38;2;230;219;116;48;2;39;40;34m/\u001b[0m\u001b[38;2;230;219;116;48;2;39;40;34m'\u001b[0m\u001b[38;2;248;248;242;48;2;39;40;34m)\u001b[0m\u001b[38;2;248;248;242;48;2;39;40;34m[\u001b[0m\u001b[38;2;174;129;255;48;2;39;40;34m2\u001b[0m\u001b[38;2;248;248;242;48;2;39;40;34m]\u001b[0m\u001b[48;2;39;40;34m                                                                \u001b[0m  \n",
              "  \u001b[38;2;248;248;242;48;2;39;40;34m        \u001b[0m\u001b[38;2;102;217;239;48;2;39;40;34mbreak\u001b[0m\u001b[48;2;39;40;34m                                                                                                  \u001b[0m  \n",
              "  \u001b[48;2;39;40;34m                                                                                                               \u001b[0m  \n",
              "  \u001b[38;2;248;248;242;48;2;39;40;34mprint\u001b[0m\u001b[38;2;248;248;242;48;2;39;40;34m(\u001b[0m\u001b[38;2;248;248;242;48;2;39;40;34mmodel_name\u001b[0m\u001b[38;2;248;248;242;48;2;39;40;34m)\u001b[0m\u001b[48;2;39;40;34m                                                                                              \u001b[0m  \n",
              " ───────────────────────────────────────────────────────────────────────────────────────────────────────────────── \n"
            ],
            "text/html": [
              "<pre style=\"white-space:pre;overflow-x:auto;line-height:normal;font-family:Menlo,'DejaVu Sans Mono',consolas,'Courier New',monospace\"> ─ <span style=\"font-weight: bold\">Executing parsed code:</span> ──────────────────────────────────────────────────────────────────────────────────────── \n",
              "  <span style=\"color: #ff4689; text-decoration-color: #ff4689; background-color: #272822\">import</span><span style=\"color: #f8f8f2; text-decoration-color: #f8f8f2; background-color: #272822\"> requests</span><span style=\"background-color: #272822\">                                                                                                </span>  \n",
              "  <span style=\"color: #ff4689; text-decoration-color: #ff4689; background-color: #272822\">from</span><span style=\"color: #f8f8f2; text-decoration-color: #f8f8f2; background-color: #272822\"> bs4 </span><span style=\"color: #ff4689; text-decoration-color: #ff4689; background-color: #272822\">import</span><span style=\"color: #f8f8f2; text-decoration-color: #f8f8f2; background-color: #272822\"> BeautifulSoup</span><span style=\"background-color: #272822\">                                                                                  </span>  \n",
              "  <span style=\"background-color: #272822\">                                                                                                               </span>  \n",
              "  <span style=\"color: #f8f8f2; text-decoration-color: #f8f8f2; background-color: #272822\">response </span><span style=\"color: #ff4689; text-decoration-color: #ff4689; background-color: #272822\">=</span><span style=\"color: #f8f8f2; text-decoration-color: #f8f8f2; background-color: #272822\"> requests</span><span style=\"color: #ff4689; text-decoration-color: #ff4689; background-color: #272822\">.</span><span style=\"color: #f8f8f2; text-decoration-color: #f8f8f2; background-color: #272822\">get(</span><span style=\"color: #e6db74; text-decoration-color: #e6db74; background-color: #272822\">\"https://huggingface.co/models?pipeline_tag=image-to-image&amp;sort=downloads\"</span><span style=\"color: #f8f8f2; text-decoration-color: #f8f8f2; background-color: #272822\">)</span><span style=\"background-color: #272822\">            </span>  \n",
              "  <span style=\"color: #f8f8f2; text-decoration-color: #f8f8f2; background-color: #272822\">soup </span><span style=\"color: #ff4689; text-decoration-color: #ff4689; background-color: #272822\">=</span><span style=\"color: #f8f8f2; text-decoration-color: #f8f8f2; background-color: #272822\"> BeautifulSoup(response</span><span style=\"color: #ff4689; text-decoration-color: #ff4689; background-color: #272822\">.</span><span style=\"color: #f8f8f2; text-decoration-color: #f8f8f2; background-color: #272822\">text, </span><span style=\"color: #e6db74; text-decoration-color: #e6db74; background-color: #272822\">'html.parser'</span><span style=\"color: #f8f8f2; text-decoration-color: #f8f8f2; background-color: #272822\">)</span><span style=\"background-color: #272822\">                                                             </span>  \n",
              "  <span style=\"background-color: #272822\">                                                                                                               </span>  \n",
              "  <span style=\"color: #959077; text-decoration-color: #959077; background-color: #272822\"># Finding the first model in the list, which should be the most downloaded</span><span style=\"background-color: #272822\">                                     </span>  \n",
              "  <span style=\"color: #f8f8f2; text-decoration-color: #f8f8f2; background-color: #272822\">model_links </span><span style=\"color: #ff4689; text-decoration-color: #ff4689; background-color: #272822\">=</span><span style=\"color: #f8f8f2; text-decoration-color: #f8f8f2; background-color: #272822\"> soup</span><span style=\"color: #ff4689; text-decoration-color: #ff4689; background-color: #272822\">.</span><span style=\"color: #f8f8f2; text-decoration-color: #f8f8f2; background-color: #272822\">find_all(</span><span style=\"color: #e6db74; text-decoration-color: #e6db74; background-color: #272822\">'a'</span><span style=\"color: #f8f8f2; text-decoration-color: #f8f8f2; background-color: #272822\">, href</span><span style=\"color: #ff4689; text-decoration-color: #ff4689; background-color: #272822\">=</span><span style=\"color: #66d9ef; text-decoration-color: #66d9ef; background-color: #272822\">True</span><span style=\"color: #f8f8f2; text-decoration-color: #f8f8f2; background-color: #272822\">)</span><span style=\"background-color: #272822\">                                                                    </span>  \n",
              "  <span style=\"color: #66d9ef; text-decoration-color: #66d9ef; background-color: #272822\">for</span><span style=\"color: #f8f8f2; text-decoration-color: #f8f8f2; background-color: #272822\"> link </span><span style=\"color: #ff4689; text-decoration-color: #ff4689; background-color: #272822\">in</span><span style=\"color: #f8f8f2; text-decoration-color: #f8f8f2; background-color: #272822\"> model_links:</span><span style=\"background-color: #272822\">                                                                                       </span>  \n",
              "  <span style=\"color: #f8f8f2; text-decoration-color: #f8f8f2; background-color: #272822\">    </span><span style=\"color: #66d9ef; text-decoration-color: #66d9ef; background-color: #272822\">if</span><span style=\"color: #f8f8f2; text-decoration-color: #f8f8f2; background-color: #272822\"> link[</span><span style=\"color: #e6db74; text-decoration-color: #e6db74; background-color: #272822\">'href'</span><span style=\"color: #f8f8f2; text-decoration-color: #f8f8f2; background-color: #272822\">]</span><span style=\"color: #ff4689; text-decoration-color: #ff4689; background-color: #272822\">.</span><span style=\"color: #f8f8f2; text-decoration-color: #f8f8f2; background-color: #272822\">startswith(</span><span style=\"color: #e6db74; text-decoration-color: #e6db74; background-color: #272822\">'/models/'</span><span style=\"color: #f8f8f2; text-decoration-color: #f8f8f2; background-color: #272822\">):</span><span style=\"background-color: #272822\">                                                                    </span>  \n",
              "  <span style=\"color: #f8f8f2; text-decoration-color: #f8f8f2; background-color: #272822\">        model_name </span><span style=\"color: #ff4689; text-decoration-color: #ff4689; background-color: #272822\">=</span><span style=\"color: #f8f8f2; text-decoration-color: #f8f8f2; background-color: #272822\"> link[</span><span style=\"color: #e6db74; text-decoration-color: #e6db74; background-color: #272822\">'href'</span><span style=\"color: #f8f8f2; text-decoration-color: #f8f8f2; background-color: #272822\">]</span><span style=\"color: #ff4689; text-decoration-color: #ff4689; background-color: #272822\">.</span><span style=\"color: #f8f8f2; text-decoration-color: #f8f8f2; background-color: #272822\">split(</span><span style=\"color: #e6db74; text-decoration-color: #e6db74; background-color: #272822\">'/'</span><span style=\"color: #f8f8f2; text-decoration-color: #f8f8f2; background-color: #272822\">)[</span><span style=\"color: #ae81ff; text-decoration-color: #ae81ff; background-color: #272822\">2</span><span style=\"color: #f8f8f2; text-decoration-color: #f8f8f2; background-color: #272822\">]</span><span style=\"background-color: #272822\">                                                                </span>  \n",
              "  <span style=\"color: #f8f8f2; text-decoration-color: #f8f8f2; background-color: #272822\">        </span><span style=\"color: #66d9ef; text-decoration-color: #66d9ef; background-color: #272822\">break</span><span style=\"background-color: #272822\">                                                                                                  </span>  \n",
              "  <span style=\"background-color: #272822\">                                                                                                               </span>  \n",
              "  <span style=\"color: #f8f8f2; text-decoration-color: #f8f8f2; background-color: #272822\">print(model_name)</span><span style=\"background-color: #272822\">                                                                                              </span>  \n",
              " ───────────────────────────────────────────────────────────────────────────────────────────────────────────────── \n",
              "</pre>\n"
            ]
          },
          "metadata": {}
        },
        {
          "output_type": "display_data",
          "data": {
            "text/plain": [
              "\u001b[1;31mCode execution failed at line 'for link in model_links:\u001b[0m\n",
              "\u001b[1;31m    if link\u001b[0m\u001b[1;31m[\u001b[0m\u001b[1;31m'href'\u001b[0m\u001b[1;31m]\u001b[0m\u001b[1;31m.startswith\u001b[0m\u001b[1;31m(\u001b[0m\u001b[1;31m'/models/'\u001b[0m\u001b[1;31m)\u001b[0m\u001b[1;31m:\u001b[0m\n",
              "\u001b[1;31m        model_name = link\u001b[0m\u001b[1;31m[\u001b[0m\u001b[1;31m'href'\u001b[0m\u001b[1;31m]\u001b[0m\u001b[1;31m.split\u001b[0m\u001b[1;31m(\u001b[0m\u001b[1;31m'/'\u001b[0m\u001b[1;31m)\u001b[0m\u001b[1;31m[\u001b[0m\u001b[1;31m2\u001b[0m\u001b[1;31m]\u001b[0m\n",
              "\u001b[1;31m        break' due to: InterpreterError: Could not index \u001b[0m\u001b[1;31m<\u001b[0m\u001b[1;31ma\u001b[0m\u001b[1;31m \u001b[0m\u001b[1;31mclass\u001b[0m\u001b[1;31m=\u001b[0m\u001b[1;31m\"mr\u001b[0m\u001b[1;31m-5 flex flex-none items-center lg:mr-6\"\u001b[0m\u001b[1;31m \u001b[0m\n",
              "\u001b[1;31mhref\u001b[0m\u001b[1;31m=\u001b[0m\u001b[1;31m\"/\"\u001b[0m\u001b[1;31m><img \u001b[0m\u001b[1;31malt\u001b[0m\u001b[1;31m=\u001b[0m\u001b[1;31m\"Hugging\u001b[0m\u001b[1;31m Face's logo\"\u001b[0m\u001b[1;31m \u001b[0m\u001b[1;31mclass\u001b[0m\u001b[1;31m=\u001b[0m\u001b[1;31m\"w\u001b[0m\u001b[1;31m-7 md:mr-2\"\u001b[0m\u001b[1;31m \u001b[0m\u001b[1;31msrc\u001b[0m\u001b[1;31m=\u001b[0m\u001b[1;31m\"/front/assets/huggingface_logo-noborder.svg\"\u001b[0m\u001b[1;31m/\u001b[0m\u001b[1;31m>\u001b[0m\n",
              "\u001b[1;31m<span \u001b[0m\u001b[1;31mclass\u001b[0m\u001b[1;31m=\u001b[0m\u001b[1;31m\"hidden\u001b[0m\u001b[1;31m whitespace-nowrap text-lg font-bold md:block\"\u001b[0m\u001b[1;31m>Hugging Face<\u001b[0m\u001b[1;31m/\u001b[0m\u001b[1;31mspan\u001b[0m\u001b[1;31m><\u001b[0m\u001b[1;31m/\u001b[0m\u001b[1;31ma\u001b[0m\u001b[1;31m>\u001b[0m\u001b[1;31m with \u001b[0m\u001b[1;31m'href'\u001b[0m\u001b[1;31m.\u001b[0m\n"
            ],
            "text/html": [
              "<pre style=\"white-space:pre;overflow-x:auto;line-height:normal;font-family:Menlo,'DejaVu Sans Mono',consolas,'Courier New',monospace\"><span style=\"color: #800000; text-decoration-color: #800000; font-weight: bold\">Code execution failed at line 'for link in model_links:</span>\n",
              "<span style=\"color: #800000; text-decoration-color: #800000; font-weight: bold\">    if link[</span><span style=\"color: #800000; text-decoration-color: #800000; font-weight: bold\">'href'</span><span style=\"color: #800000; text-decoration-color: #800000; font-weight: bold\">].startswith(</span><span style=\"color: #800000; text-decoration-color: #800000; font-weight: bold\">'/models/'</span><span style=\"color: #800000; text-decoration-color: #800000; font-weight: bold\">):</span>\n",
              "<span style=\"color: #800000; text-decoration-color: #800000; font-weight: bold\">        model_name = link[</span><span style=\"color: #800000; text-decoration-color: #800000; font-weight: bold\">'href'</span><span style=\"color: #800000; text-decoration-color: #800000; font-weight: bold\">].split(</span><span style=\"color: #800000; text-decoration-color: #800000; font-weight: bold\">'/'</span><span style=\"color: #800000; text-decoration-color: #800000; font-weight: bold\">)[</span><span style=\"color: #800000; text-decoration-color: #800000; font-weight: bold\">2</span><span style=\"color: #800000; text-decoration-color: #800000; font-weight: bold\">]</span>\n",
              "<span style=\"color: #800000; text-decoration-color: #800000; font-weight: bold\">        break' due to: InterpreterError: Could not index &lt;a </span><span style=\"color: #800000; text-decoration-color: #800000; font-weight: bold\">class</span><span style=\"color: #800000; text-decoration-color: #800000; font-weight: bold\">=</span><span style=\"color: #800000; text-decoration-color: #800000; font-weight: bold\">\"mr-5 flex flex-none items-center lg:mr-6\"</span><span style=\"color: #800000; text-decoration-color: #800000; font-weight: bold\"> </span>\n",
              "<span style=\"color: #800000; text-decoration-color: #800000; font-weight: bold\">href</span><span style=\"color: #800000; text-decoration-color: #800000; font-weight: bold\">=</span><span style=\"color: #800000; text-decoration-color: #800000; font-weight: bold\">\"/\"</span><span style=\"color: #800000; text-decoration-color: #800000; font-weight: bold\">&gt;&lt;img </span><span style=\"color: #800000; text-decoration-color: #800000; font-weight: bold\">alt</span><span style=\"color: #800000; text-decoration-color: #800000; font-weight: bold\">=</span><span style=\"color: #800000; text-decoration-color: #800000; font-weight: bold\">\"Hugging Face's logo\"</span><span style=\"color: #800000; text-decoration-color: #800000; font-weight: bold\"> </span><span style=\"color: #800000; text-decoration-color: #800000; font-weight: bold\">class</span><span style=\"color: #800000; text-decoration-color: #800000; font-weight: bold\">=</span><span style=\"color: #800000; text-decoration-color: #800000; font-weight: bold\">\"w-7 md:mr-2\"</span><span style=\"color: #800000; text-decoration-color: #800000; font-weight: bold\"> </span><span style=\"color: #800000; text-decoration-color: #800000; font-weight: bold\">src</span><span style=\"color: #800000; text-decoration-color: #800000; font-weight: bold\">=</span><span style=\"color: #800000; text-decoration-color: #800000; font-weight: bold\">\"/front/assets/huggingface_logo-noborder.svg\"</span><span style=\"color: #800000; text-decoration-color: #800000; font-weight: bold\">/&gt;</span>\n",
              "<span style=\"color: #800000; text-decoration-color: #800000; font-weight: bold\">&lt;span </span><span style=\"color: #800000; text-decoration-color: #800000; font-weight: bold\">class</span><span style=\"color: #800000; text-decoration-color: #800000; font-weight: bold\">=</span><span style=\"color: #800000; text-decoration-color: #800000; font-weight: bold\">\"hidden whitespace-nowrap text-lg font-bold md:block\"</span><span style=\"color: #800000; text-decoration-color: #800000; font-weight: bold\">&gt;Hugging Face&lt;/span&gt;&lt;/a&gt; with </span><span style=\"color: #800000; text-decoration-color: #800000; font-weight: bold\">'href'</span><span style=\"color: #800000; text-decoration-color: #800000; font-weight: bold\">.</span>\n",
              "</pre>\n"
            ]
          },
          "metadata": {}
        },
        {
          "output_type": "display_data",
          "data": {
            "text/plain": [
              "\u001b[2m[Step 3: Duration 10.39 seconds| Input tokens: 9,973 | Output tokens: 590]\u001b[0m\n"
            ],
            "text/html": [
              "<pre style=\"white-space:pre;overflow-x:auto;line-height:normal;font-family:Menlo,'DejaVu Sans Mono',consolas,'Courier New',monospace\"><span style=\"color: #7f7f7f; text-decoration-color: #7f7f7f\">[Step 3: Duration 10.39 seconds| Input tokens: 9,973 | Output tokens: 590]</span>\n",
              "</pre>\n"
            ]
          },
          "metadata": {}
        },
        {
          "output_type": "display_data",
          "data": {
            "text/plain": [
              "\u001b[38;2;212;183;2m━━━━━━━━━━━━━━━━━━━━━━━━━━━━━━━━━━━━━━━━━━━━━━━━━━━━━ \u001b[0m\u001b[1mStep \u001b[0m\u001b[1;36m5\u001b[0m\u001b[38;2;212;183;2m ━━━━━━━━━━━━━━━━━━━━━━━━━━━━━━━━━━━━━━━━━━━━━━━━━━━━━━\u001b[0m\n"
            ],
            "text/html": [
              "<pre style=\"white-space:pre;overflow-x:auto;line-height:normal;font-family:Menlo,'DejaVu Sans Mono',consolas,'Courier New',monospace\"><span style=\"color: #d4b702; text-decoration-color: #d4b702\">━━━━━━━━━━━━━━━━━━━━━━━━━━━━━━━━━━━━━━━━━━━━━━━━━━━━━ </span><span style=\"font-weight: bold\">Step </span><span style=\"color: #008080; text-decoration-color: #008080; font-weight: bold\">5</span><span style=\"color: #d4b702; text-decoration-color: #d4b702\"> ━━━━━━━━━━━━━━━━━━━━━━━━━━━━━━━━━━━━━━━━━━━━━━━━━━━━━━</span>\n",
              "</pre>\n"
            ]
          },
          "metadata": {}
        },
        {
          "output_type": "display_data",
          "data": {
            "text/plain": [
              " ─ \u001b[1mExecuting parsed code:\u001b[0m ──────────────────────────────────────────────────────────────────────────────────────── \n",
              "  \u001b[38;2;255;70;137;48;2;39;40;34mimport\u001b[0m\u001b[38;2;248;248;242;48;2;39;40;34m \u001b[0m\u001b[38;2;248;248;242;48;2;39;40;34mrequests\u001b[0m\u001b[48;2;39;40;34m                                                                                                \u001b[0m  \n",
              "  \u001b[48;2;39;40;34m                                                                                                               \u001b[0m  \n",
              "  \u001b[38;2;248;248;242;48;2;39;40;34mresponse\u001b[0m\u001b[38;2;248;248;242;48;2;39;40;34m \u001b[0m\u001b[38;2;255;70;137;48;2;39;40;34m=\u001b[0m\u001b[38;2;248;248;242;48;2;39;40;34m \u001b[0m\u001b[38;2;248;248;242;48;2;39;40;34mrequests\u001b[0m\u001b[38;2;255;70;137;48;2;39;40;34m.\u001b[0m\u001b[38;2;248;248;242;48;2;39;40;34mget\u001b[0m\u001b[38;2;248;248;242;48;2;39;40;34m(\u001b[0m\u001b[38;2;230;219;116;48;2;39;40;34m\"\u001b[0m\u001b[38;2;230;219;116;48;2;39;40;34mhttps://huggingface.co/api/models\u001b[0m\u001b[38;2;230;219;116;48;2;39;40;34m\"\u001b[0m\u001b[38;2;248;248;242;48;2;39;40;34m,\u001b[0m\u001b[38;2;248;248;242;48;2;39;40;34m \u001b[0m\u001b[38;2;248;248;242;48;2;39;40;34mparams\u001b[0m\u001b[38;2;255;70;137;48;2;39;40;34m=\u001b[0m\u001b[38;2;248;248;242;48;2;39;40;34m{\u001b[0m\u001b[38;2;230;219;116;48;2;39;40;34m\"\u001b[0m\u001b[38;2;230;219;116;48;2;39;40;34mpipeline_tag\u001b[0m\u001b[38;2;230;219;116;48;2;39;40;34m\"\u001b[0m\u001b[38;2;248;248;242;48;2;39;40;34m:\u001b[0m\u001b[38;2;248;248;242;48;2;39;40;34m \u001b[0m\u001b[38;2;230;219;116;48;2;39;40;34m\"\u001b[0m\u001b[38;2;230;219;116;48;2;39;40;34mimage-to-image\u001b[0m\u001b[38;2;230;219;116;48;2;39;40;34m\"\u001b[0m\u001b[38;2;248;248;242;48;2;39;40;34m,\u001b[0m\u001b[38;2;248;248;242;48;2;39;40;34m \u001b[0m\u001b[38;2;230;219;116;48;2;39;40;34m\"\u001b[0m\u001b[38;2;230;219;116;48;2;39;40;34msort\u001b[0m\u001b[38;2;230;219;116;48;2;39;40;34m\"\u001b[0m\u001b[38;2;248;248;242;48;2;39;40;34m:\u001b[0m\u001b[38;2;248;248;242;48;2;39;40;34m \u001b[0m  \n",
              "  \u001b[38;2;230;219;116;48;2;39;40;34m\"\u001b[0m\u001b[38;2;230;219;116;48;2;39;40;34mdownloads\u001b[0m\u001b[38;2;230;219;116;48;2;39;40;34m\"\u001b[0m\u001b[38;2;248;248;242;48;2;39;40;34m}\u001b[0m\u001b[38;2;248;248;242;48;2;39;40;34m)\u001b[0m\u001b[48;2;39;40;34m                                                                                                  \u001b[0m  \n",
              "  \u001b[38;2;248;248;242;48;2;39;40;34mmodels\u001b[0m\u001b[38;2;248;248;242;48;2;39;40;34m \u001b[0m\u001b[38;2;255;70;137;48;2;39;40;34m=\u001b[0m\u001b[38;2;248;248;242;48;2;39;40;34m \u001b[0m\u001b[38;2;248;248;242;48;2;39;40;34mresponse\u001b[0m\u001b[38;2;255;70;137;48;2;39;40;34m.\u001b[0m\u001b[38;2;248;248;242;48;2;39;40;34mjson\u001b[0m\u001b[38;2;248;248;242;48;2;39;40;34m(\u001b[0m\u001b[38;2;248;248;242;48;2;39;40;34m)\u001b[0m\u001b[48;2;39;40;34m                                                                                       \u001b[0m  \n",
              "  \u001b[48;2;39;40;34m                                                                                                               \u001b[0m  \n",
              "  \u001b[38;2;149;144;119;48;2;39;40;34m# Get the first model in the list, which should be the most downloaded\u001b[0m\u001b[48;2;39;40;34m                                         \u001b[0m  \n",
              "  \u001b[38;2;248;248;242;48;2;39;40;34mmost_downloaded_model\u001b[0m\u001b[38;2;248;248;242;48;2;39;40;34m \u001b[0m\u001b[38;2;255;70;137;48;2;39;40;34m=\u001b[0m\u001b[38;2;248;248;242;48;2;39;40;34m \u001b[0m\u001b[38;2;248;248;242;48;2;39;40;34mmodels\u001b[0m\u001b[38;2;248;248;242;48;2;39;40;34m[\u001b[0m\u001b[38;2;174;129;255;48;2;39;40;34m0\u001b[0m\u001b[38;2;248;248;242;48;2;39;40;34m]\u001b[0m\u001b[38;2;248;248;242;48;2;39;40;34m[\u001b[0m\u001b[38;2;230;219;116;48;2;39;40;34m'\u001b[0m\u001b[38;2;230;219;116;48;2;39;40;34mid\u001b[0m\u001b[38;2;230;219;116;48;2;39;40;34m'\u001b[0m\u001b[38;2;248;248;242;48;2;39;40;34m]\u001b[0m\u001b[48;2;39;40;34m                                                                        \u001b[0m  \n",
              "  \u001b[38;2;248;248;242;48;2;39;40;34mprint\u001b[0m\u001b[38;2;248;248;242;48;2;39;40;34m(\u001b[0m\u001b[38;2;248;248;242;48;2;39;40;34mmost_downloaded_model\u001b[0m\u001b[38;2;248;248;242;48;2;39;40;34m)\u001b[0m\u001b[48;2;39;40;34m                                                                                   \u001b[0m  \n",
              " ───────────────────────────────────────────────────────────────────────────────────────────────────────────────── \n"
            ],
            "text/html": [
              "<pre style=\"white-space:pre;overflow-x:auto;line-height:normal;font-family:Menlo,'DejaVu Sans Mono',consolas,'Courier New',monospace\"> ─ <span style=\"font-weight: bold\">Executing parsed code:</span> ──────────────────────────────────────────────────────────────────────────────────────── \n",
              "  <span style=\"color: #ff4689; text-decoration-color: #ff4689; background-color: #272822\">import</span><span style=\"color: #f8f8f2; text-decoration-color: #f8f8f2; background-color: #272822\"> requests</span><span style=\"background-color: #272822\">                                                                                                </span>  \n",
              "  <span style=\"background-color: #272822\">                                                                                                               </span>  \n",
              "  <span style=\"color: #f8f8f2; text-decoration-color: #f8f8f2; background-color: #272822\">response </span><span style=\"color: #ff4689; text-decoration-color: #ff4689; background-color: #272822\">=</span><span style=\"color: #f8f8f2; text-decoration-color: #f8f8f2; background-color: #272822\"> requests</span><span style=\"color: #ff4689; text-decoration-color: #ff4689; background-color: #272822\">.</span><span style=\"color: #f8f8f2; text-decoration-color: #f8f8f2; background-color: #272822\">get(</span><span style=\"color: #e6db74; text-decoration-color: #e6db74; background-color: #272822\">\"https://huggingface.co/api/models\"</span><span style=\"color: #f8f8f2; text-decoration-color: #f8f8f2; background-color: #272822\">, params</span><span style=\"color: #ff4689; text-decoration-color: #ff4689; background-color: #272822\">=</span><span style=\"color: #f8f8f2; text-decoration-color: #f8f8f2; background-color: #272822\">{</span><span style=\"color: #e6db74; text-decoration-color: #e6db74; background-color: #272822\">\"pipeline_tag\"</span><span style=\"color: #f8f8f2; text-decoration-color: #f8f8f2; background-color: #272822\">: </span><span style=\"color: #e6db74; text-decoration-color: #e6db74; background-color: #272822\">\"image-to-image\"</span><span style=\"color: #f8f8f2; text-decoration-color: #f8f8f2; background-color: #272822\">, </span><span style=\"color: #e6db74; text-decoration-color: #e6db74; background-color: #272822\">\"sort\"</span><span style=\"color: #f8f8f2; text-decoration-color: #f8f8f2; background-color: #272822\">: </span>  \n",
              "  <span style=\"color: #e6db74; text-decoration-color: #e6db74; background-color: #272822\">\"downloads\"</span><span style=\"color: #f8f8f2; text-decoration-color: #f8f8f2; background-color: #272822\">})</span><span style=\"background-color: #272822\">                                                                                                  </span>  \n",
              "  <span style=\"color: #f8f8f2; text-decoration-color: #f8f8f2; background-color: #272822\">models </span><span style=\"color: #ff4689; text-decoration-color: #ff4689; background-color: #272822\">=</span><span style=\"color: #f8f8f2; text-decoration-color: #f8f8f2; background-color: #272822\"> response</span><span style=\"color: #ff4689; text-decoration-color: #ff4689; background-color: #272822\">.</span><span style=\"color: #f8f8f2; text-decoration-color: #f8f8f2; background-color: #272822\">json()</span><span style=\"background-color: #272822\">                                                                                       </span>  \n",
              "  <span style=\"background-color: #272822\">                                                                                                               </span>  \n",
              "  <span style=\"color: #959077; text-decoration-color: #959077; background-color: #272822\"># Get the first model in the list, which should be the most downloaded</span><span style=\"background-color: #272822\">                                         </span>  \n",
              "  <span style=\"color: #f8f8f2; text-decoration-color: #f8f8f2; background-color: #272822\">most_downloaded_model </span><span style=\"color: #ff4689; text-decoration-color: #ff4689; background-color: #272822\">=</span><span style=\"color: #f8f8f2; text-decoration-color: #f8f8f2; background-color: #272822\"> models[</span><span style=\"color: #ae81ff; text-decoration-color: #ae81ff; background-color: #272822\">0</span><span style=\"color: #f8f8f2; text-decoration-color: #f8f8f2; background-color: #272822\">][</span><span style=\"color: #e6db74; text-decoration-color: #e6db74; background-color: #272822\">'id'</span><span style=\"color: #f8f8f2; text-decoration-color: #f8f8f2; background-color: #272822\">]</span><span style=\"background-color: #272822\">                                                                        </span>  \n",
              "  <span style=\"color: #f8f8f2; text-decoration-color: #f8f8f2; background-color: #272822\">print(most_downloaded_model)</span><span style=\"background-color: #272822\">                                                                                   </span>  \n",
              " ───────────────────────────────────────────────────────────────────────────────────────────────────────────────── \n",
              "</pre>\n"
            ]
          },
          "metadata": {}
        },
        {
          "output_type": "display_data",
          "data": {
            "text/plain": [
              "\u001b[1mExecution logs:\u001b[0m\n",
              "stabilityai/stable-diffusion-xl-refiner-1.0\n",
              "\n",
              "Out: None\n"
            ],
            "text/html": [
              "<pre style=\"white-space:pre;overflow-x:auto;line-height:normal;font-family:Menlo,'DejaVu Sans Mono',consolas,'Courier New',monospace\"><span style=\"font-weight: bold\">Execution logs:</span>\n",
              "stabilityai/stable-diffusion-xl-refiner-1.0\n",
              "\n",
              "Out: None\n",
              "</pre>\n"
            ]
          },
          "metadata": {}
        },
        {
          "output_type": "display_data",
          "data": {
            "text/plain": [
              "\u001b[2m[Step 4: Duration 9.80 seconds| Input tokens: 13,473 | Output tokens: 782]\u001b[0m\n"
            ],
            "text/html": [
              "<pre style=\"white-space:pre;overflow-x:auto;line-height:normal;font-family:Menlo,'DejaVu Sans Mono',consolas,'Courier New',monospace\"><span style=\"color: #7f7f7f; text-decoration-color: #7f7f7f\">[Step 4: Duration 9.80 seconds| Input tokens: 13,473 | Output tokens: 782]</span>\n",
              "</pre>\n"
            ]
          },
          "metadata": {}
        },
        {
          "output_type": "display_data",
          "data": {
            "text/plain": [
              "\u001b[38;2;212;183;2m━━━━━━━━━━━━━━━━━━━━━━━━━━━━━━━━━━━━━━━━━━━━━━━━━━━━━ \u001b[0m\u001b[1mStep \u001b[0m\u001b[1;36m6\u001b[0m\u001b[38;2;212;183;2m ━━━━━━━━━━━━━━━━━━━━━━━━━━━━━━━━━━━━━━━━━━━━━━━━━━━━━━\u001b[0m\n"
            ],
            "text/html": [
              "<pre style=\"white-space:pre;overflow-x:auto;line-height:normal;font-family:Menlo,'DejaVu Sans Mono',consolas,'Courier New',monospace\"><span style=\"color: #d4b702; text-decoration-color: #d4b702\">━━━━━━━━━━━━━━━━━━━━━━━━━━━━━━━━━━━━━━━━━━━━━━━━━━━━━ </span><span style=\"font-weight: bold\">Step </span><span style=\"color: #008080; text-decoration-color: #008080; font-weight: bold\">6</span><span style=\"color: #d4b702; text-decoration-color: #d4b702\"> ━━━━━━━━━━━━━━━━━━━━━━━━━━━━━━━━━━━━━━━━━━━━━━━━━━━━━━</span>\n",
              "</pre>\n"
            ]
          },
          "metadata": {}
        },
        {
          "output_type": "display_data",
          "data": {
            "text/plain": [
              " ─ \u001b[1mExecuting parsed code:\u001b[0m ──────────────────────────────────────────────────────────────────────────────────────── \n",
              "  \u001b[38;2;255;70;137;48;2;39;40;34mimport\u001b[0m\u001b[38;2;248;248;242;48;2;39;40;34m \u001b[0m\u001b[38;2;248;248;242;48;2;39;40;34mrequests\u001b[0m\u001b[48;2;39;40;34m                                                                                                \u001b[0m  \n",
              "  \u001b[48;2;39;40;34m                                                                                                               \u001b[0m  \n",
              "  \u001b[38;2;248;248;242;48;2;39;40;34mresponse\u001b[0m\u001b[38;2;248;248;242;48;2;39;40;34m \u001b[0m\u001b[38;2;255;70;137;48;2;39;40;34m=\u001b[0m\u001b[38;2;248;248;242;48;2;39;40;34m \u001b[0m\u001b[38;2;248;248;242;48;2;39;40;34mrequests\u001b[0m\u001b[38;2;255;70;137;48;2;39;40;34m.\u001b[0m\u001b[38;2;248;248;242;48;2;39;40;34mget\u001b[0m\u001b[38;2;248;248;242;48;2;39;40;34m(\u001b[0m\u001b[38;2;230;219;116;48;2;39;40;34m\"\u001b[0m\u001b[38;2;230;219;116;48;2;39;40;34mhttps://huggingface.co/api/models\u001b[0m\u001b[38;2;230;219;116;48;2;39;40;34m\"\u001b[0m\u001b[38;2;248;248;242;48;2;39;40;34m,\u001b[0m\u001b[38;2;248;248;242;48;2;39;40;34m \u001b[0m\u001b[38;2;248;248;242;48;2;39;40;34mparams\u001b[0m\u001b[38;2;255;70;137;48;2;39;40;34m=\u001b[0m\u001b[38;2;248;248;242;48;2;39;40;34m{\u001b[0m\u001b[38;2;230;219;116;48;2;39;40;34m\"\u001b[0m\u001b[38;2;230;219;116;48;2;39;40;34mpipeline_tag\u001b[0m\u001b[38;2;230;219;116;48;2;39;40;34m\"\u001b[0m\u001b[38;2;248;248;242;48;2;39;40;34m:\u001b[0m\u001b[38;2;248;248;242;48;2;39;40;34m \u001b[0m\u001b[38;2;230;219;116;48;2;39;40;34m\"\u001b[0m\u001b[38;2;230;219;116;48;2;39;40;34mimage-to-image\u001b[0m\u001b[38;2;230;219;116;48;2;39;40;34m\"\u001b[0m\u001b[38;2;248;248;242;48;2;39;40;34m,\u001b[0m\u001b[38;2;248;248;242;48;2;39;40;34m \u001b[0m\u001b[38;2;230;219;116;48;2;39;40;34m\"\u001b[0m\u001b[38;2;230;219;116;48;2;39;40;34msort\u001b[0m\u001b[38;2;230;219;116;48;2;39;40;34m\"\u001b[0m\u001b[38;2;248;248;242;48;2;39;40;34m:\u001b[0m\u001b[38;2;248;248;242;48;2;39;40;34m \u001b[0m  \n",
              "  \u001b[38;2;230;219;116;48;2;39;40;34m\"\u001b[0m\u001b[38;2;230;219;116;48;2;39;40;34mdownloads\u001b[0m\u001b[38;2;230;219;116;48;2;39;40;34m\"\u001b[0m\u001b[38;2;248;248;242;48;2;39;40;34m}\u001b[0m\u001b[38;2;248;248;242;48;2;39;40;34m)\u001b[0m\u001b[48;2;39;40;34m                                                                                                  \u001b[0m  \n",
              "  \u001b[38;2;248;248;242;48;2;39;40;34mmodels\u001b[0m\u001b[38;2;248;248;242;48;2;39;40;34m \u001b[0m\u001b[38;2;255;70;137;48;2;39;40;34m=\u001b[0m\u001b[38;2;248;248;242;48;2;39;40;34m \u001b[0m\u001b[38;2;248;248;242;48;2;39;40;34mresponse\u001b[0m\u001b[38;2;255;70;137;48;2;39;40;34m.\u001b[0m\u001b[38;2;248;248;242;48;2;39;40;34mjson\u001b[0m\u001b[38;2;248;248;242;48;2;39;40;34m(\u001b[0m\u001b[38;2;248;248;242;48;2;39;40;34m)\u001b[0m\u001b[48;2;39;40;34m                                                                                       \u001b[0m  \n",
              "  \u001b[48;2;39;40;34m                                                                                                               \u001b[0m  \n",
              "  \u001b[38;2;149;144;119;48;2;39;40;34m# Get the first model in the list, which should be the most downloaded\u001b[0m\u001b[48;2;39;40;34m                                         \u001b[0m  \n",
              "  \u001b[38;2;248;248;242;48;2;39;40;34mmost_downloaded_model\u001b[0m\u001b[38;2;248;248;242;48;2;39;40;34m \u001b[0m\u001b[38;2;255;70;137;48;2;39;40;34m=\u001b[0m\u001b[38;2;248;248;242;48;2;39;40;34m \u001b[0m\u001b[38;2;248;248;242;48;2;39;40;34mmodels\u001b[0m\u001b[38;2;248;248;242;48;2;39;40;34m[\u001b[0m\u001b[38;2;174;129;255;48;2;39;40;34m0\u001b[0m\u001b[38;2;248;248;242;48;2;39;40;34m]\u001b[0m\u001b[38;2;248;248;242;48;2;39;40;34m[\u001b[0m\u001b[38;2;230;219;116;48;2;39;40;34m'\u001b[0m\u001b[38;2;230;219;116;48;2;39;40;34mid\u001b[0m\u001b[38;2;230;219;116;48;2;39;40;34m'\u001b[0m\u001b[38;2;248;248;242;48;2;39;40;34m]\u001b[0m\u001b[48;2;39;40;34m                                                                        \u001b[0m  \n",
              "  \u001b[38;2;248;248;242;48;2;39;40;34mprint\u001b[0m\u001b[38;2;248;248;242;48;2;39;40;34m(\u001b[0m\u001b[38;2;248;248;242;48;2;39;40;34mmost_downloaded_model\u001b[0m\u001b[38;2;248;248;242;48;2;39;40;34m)\u001b[0m\u001b[48;2;39;40;34m                                                                                   \u001b[0m  \n",
              " ───────────────────────────────────────────────────────────────────────────────────────────────────────────────── \n"
            ],
            "text/html": [
              "<pre style=\"white-space:pre;overflow-x:auto;line-height:normal;font-family:Menlo,'DejaVu Sans Mono',consolas,'Courier New',monospace\"> ─ <span style=\"font-weight: bold\">Executing parsed code:</span> ──────────────────────────────────────────────────────────────────────────────────────── \n",
              "  <span style=\"color: #ff4689; text-decoration-color: #ff4689; background-color: #272822\">import</span><span style=\"color: #f8f8f2; text-decoration-color: #f8f8f2; background-color: #272822\"> requests</span><span style=\"background-color: #272822\">                                                                                                </span>  \n",
              "  <span style=\"background-color: #272822\">                                                                                                               </span>  \n",
              "  <span style=\"color: #f8f8f2; text-decoration-color: #f8f8f2; background-color: #272822\">response </span><span style=\"color: #ff4689; text-decoration-color: #ff4689; background-color: #272822\">=</span><span style=\"color: #f8f8f2; text-decoration-color: #f8f8f2; background-color: #272822\"> requests</span><span style=\"color: #ff4689; text-decoration-color: #ff4689; background-color: #272822\">.</span><span style=\"color: #f8f8f2; text-decoration-color: #f8f8f2; background-color: #272822\">get(</span><span style=\"color: #e6db74; text-decoration-color: #e6db74; background-color: #272822\">\"https://huggingface.co/api/models\"</span><span style=\"color: #f8f8f2; text-decoration-color: #f8f8f2; background-color: #272822\">, params</span><span style=\"color: #ff4689; text-decoration-color: #ff4689; background-color: #272822\">=</span><span style=\"color: #f8f8f2; text-decoration-color: #f8f8f2; background-color: #272822\">{</span><span style=\"color: #e6db74; text-decoration-color: #e6db74; background-color: #272822\">\"pipeline_tag\"</span><span style=\"color: #f8f8f2; text-decoration-color: #f8f8f2; background-color: #272822\">: </span><span style=\"color: #e6db74; text-decoration-color: #e6db74; background-color: #272822\">\"image-to-image\"</span><span style=\"color: #f8f8f2; text-decoration-color: #f8f8f2; background-color: #272822\">, </span><span style=\"color: #e6db74; text-decoration-color: #e6db74; background-color: #272822\">\"sort\"</span><span style=\"color: #f8f8f2; text-decoration-color: #f8f8f2; background-color: #272822\">: </span>  \n",
              "  <span style=\"color: #e6db74; text-decoration-color: #e6db74; background-color: #272822\">\"downloads\"</span><span style=\"color: #f8f8f2; text-decoration-color: #f8f8f2; background-color: #272822\">})</span><span style=\"background-color: #272822\">                                                                                                  </span>  \n",
              "  <span style=\"color: #f8f8f2; text-decoration-color: #f8f8f2; background-color: #272822\">models </span><span style=\"color: #ff4689; text-decoration-color: #ff4689; background-color: #272822\">=</span><span style=\"color: #f8f8f2; text-decoration-color: #f8f8f2; background-color: #272822\"> response</span><span style=\"color: #ff4689; text-decoration-color: #ff4689; background-color: #272822\">.</span><span style=\"color: #f8f8f2; text-decoration-color: #f8f8f2; background-color: #272822\">json()</span><span style=\"background-color: #272822\">                                                                                       </span>  \n",
              "  <span style=\"background-color: #272822\">                                                                                                               </span>  \n",
              "  <span style=\"color: #959077; text-decoration-color: #959077; background-color: #272822\"># Get the first model in the list, which should be the most downloaded</span><span style=\"background-color: #272822\">                                         </span>  \n",
              "  <span style=\"color: #f8f8f2; text-decoration-color: #f8f8f2; background-color: #272822\">most_downloaded_model </span><span style=\"color: #ff4689; text-decoration-color: #ff4689; background-color: #272822\">=</span><span style=\"color: #f8f8f2; text-decoration-color: #f8f8f2; background-color: #272822\"> models[</span><span style=\"color: #ae81ff; text-decoration-color: #ae81ff; background-color: #272822\">0</span><span style=\"color: #f8f8f2; text-decoration-color: #f8f8f2; background-color: #272822\">][</span><span style=\"color: #e6db74; text-decoration-color: #e6db74; background-color: #272822\">'id'</span><span style=\"color: #f8f8f2; text-decoration-color: #f8f8f2; background-color: #272822\">]</span><span style=\"background-color: #272822\">                                                                        </span>  \n",
              "  <span style=\"color: #f8f8f2; text-decoration-color: #f8f8f2; background-color: #272822\">print(most_downloaded_model)</span><span style=\"background-color: #272822\">                                                                                   </span>  \n",
              " ───────────────────────────────────────────────────────────────────────────────────────────────────────────────── \n",
              "</pre>\n"
            ]
          },
          "metadata": {}
        },
        {
          "output_type": "display_data",
          "data": {
            "text/plain": [
              "\u001b[1mExecution logs:\u001b[0m\n",
              "stabilityai/stable-diffusion-xl-refiner-1.0\n",
              "\n",
              "Out: None\n"
            ],
            "text/html": [
              "<pre style=\"white-space:pre;overflow-x:auto;line-height:normal;font-family:Menlo,'DejaVu Sans Mono',consolas,'Courier New',monospace\"><span style=\"font-weight: bold\">Execution logs:</span>\n",
              "stabilityai/stable-diffusion-xl-refiner-1.0\n",
              "\n",
              "Out: None\n",
              "</pre>\n"
            ]
          },
          "metadata": {}
        },
        {
          "output_type": "display_data",
          "data": {
            "text/plain": [
              "\u001b[2m[Step 5: Duration 5.90 seconds| Input tokens: 17,327 | Output tokens: 903]\u001b[0m\n"
            ],
            "text/html": [
              "<pre style=\"white-space:pre;overflow-x:auto;line-height:normal;font-family:Menlo,'DejaVu Sans Mono',consolas,'Courier New',monospace\"><span style=\"color: #7f7f7f; text-decoration-color: #7f7f7f\">[Step 5: Duration 5.90 seconds| Input tokens: 17,327 | Output tokens: 903]</span>\n",
              "</pre>\n"
            ]
          },
          "metadata": {}
        },
        {
          "output_type": "display_data",
          "data": {
            "text/plain": [
              "\u001b[1;31mReached max steps.\u001b[0m\n"
            ],
            "text/html": [
              "<pre style=\"white-space:pre;overflow-x:auto;line-height:normal;font-family:Menlo,'DejaVu Sans Mono',consolas,'Courier New',monospace\"><span style=\"color: #800000; text-decoration-color: #800000; font-weight: bold\">Reached max steps.</span>\n",
              "</pre>\n"
            ]
          },
          "metadata": {}
        },
        {
          "output_type": "display_data",
          "data": {
            "text/plain": [
              "\u001b[2m[Step 6: Duration 5.90 seconds| Input tokens: 19,433 | Output tokens: 946]\u001b[0m\n"
            ],
            "text/html": [
              "<pre style=\"white-space:pre;overflow-x:auto;line-height:normal;font-family:Menlo,'DejaVu Sans Mono',consolas,'Courier New',monospace\"><span style=\"color: #7f7f7f; text-decoration-color: #7f7f7f\">[Step 6: Duration 5.90 seconds| Input tokens: 19,433 | Output tokens: 946]</span>\n",
              "</pre>\n"
            ]
          },
          "metadata": {}
        },
        {
          "output_type": "execute_result",
          "data": {
            "text/plain": [
              "'Based on the successful API call, the most downloaded model for the image-to-image task on the Hugging Face Hub is **stabilityai/stable-diffusion-xl-refiner-1.0**.'"
            ],
            "application/vnd.google.colaboratory.intrinsic+json": {
              "type": "string"
            }
          },
          "metadata": {},
          "execution_count": 24
        }
      ]
    },
    {
      "cell_type": "markdown",
      "source": [
        "stabilityai/stable-diffusion-xl-refiner-1.0"
      ],
      "metadata": {
        "id": "5tW5rd491eI2"
      }
    },
    {
      "cell_type": "code",
      "source": [
        "from smolagents import ToolCallingAgent"
      ],
      "metadata": {
        "id": "SSTlnsmL153X"
      },
      "execution_count": 25,
      "outputs": []
    },
    {
      "cell_type": "code",
      "source": [
        "agent = ToolCallingAgent(tools=[DuckDuckGoSearchTool()], model=HfApiModel())"
      ],
      "metadata": {
        "id": "paZ8cODi1Vsw"
      },
      "execution_count": 26,
      "outputs": []
    },
    {
      "cell_type": "code",
      "source": [
        "agent.run(\"Could you get me the few topic of the blog at url 'https://medium.com/'?\")"
      ],
      "metadata": {
        "id": "pmFVvkMM2Hgk",
        "colab": {
          "base_uri": "https://localhost:8080/",
          "height": 1000
        },
        "outputId": "3086c644-e512-443a-b312-fda6950d1c12"
      },
      "execution_count": 27,
      "outputs": [
        {
          "output_type": "display_data",
          "data": {
            "text/plain": [
              "\u001b[38;2;212;183;2m╭─\u001b[0m\u001b[38;2;212;183;2m───────────────────────────────────────────────────\u001b[0m\u001b[38;2;212;183;2m \u001b[0m\u001b[1;38;2;212;183;2mNew run\u001b[0m\u001b[38;2;212;183;2m \u001b[0m\u001b[38;2;212;183;2m───────────────────────────────────────────────────\u001b[0m\u001b[38;2;212;183;2m─╮\u001b[0m\n",
              "\u001b[38;2;212;183;2m│\u001b[0m                                                                                                                 \u001b[38;2;212;183;2m│\u001b[0m\n",
              "\u001b[38;2;212;183;2m│\u001b[0m \u001b[1mCould you get me the few topic of the blog at url 'https://medium.com/'?\u001b[0m                                        \u001b[38;2;212;183;2m│\u001b[0m\n",
              "\u001b[38;2;212;183;2m│\u001b[0m                                                                                                                 \u001b[38;2;212;183;2m│\u001b[0m\n",
              "\u001b[38;2;212;183;2m╰─\u001b[0m\u001b[38;2;212;183;2m HfApiModel - Qwen/Qwen2.5-Coder-32B-Instruct \u001b[0m\u001b[38;2;212;183;2m─────────────────────────────────────────────────────────────────\u001b[0m\u001b[38;2;212;183;2m─╯\u001b[0m\n"
            ],
            "text/html": [
              "<pre style=\"white-space:pre;overflow-x:auto;line-height:normal;font-family:Menlo,'DejaVu Sans Mono',consolas,'Courier New',monospace\"><span style=\"color: #d4b702; text-decoration-color: #d4b702\">╭──────────────────────────────────────────────────── </span><span style=\"color: #d4b702; text-decoration-color: #d4b702; font-weight: bold\">New run</span><span style=\"color: #d4b702; text-decoration-color: #d4b702\"> ────────────────────────────────────────────────────╮</span>\n",
              "<span style=\"color: #d4b702; text-decoration-color: #d4b702\">│</span>                                                                                                                 <span style=\"color: #d4b702; text-decoration-color: #d4b702\">│</span>\n",
              "<span style=\"color: #d4b702; text-decoration-color: #d4b702\">│</span> <span style=\"font-weight: bold\">Could you get me the few topic of the blog at url 'https://medium.com/'?</span>                                        <span style=\"color: #d4b702; text-decoration-color: #d4b702\">│</span>\n",
              "<span style=\"color: #d4b702; text-decoration-color: #d4b702\">│</span>                                                                                                                 <span style=\"color: #d4b702; text-decoration-color: #d4b702\">│</span>\n",
              "<span style=\"color: #d4b702; text-decoration-color: #d4b702\">╰─ HfApiModel - Qwen/Qwen2.5-Coder-32B-Instruct ──────────────────────────────────────────────────────────────────╯</span>\n",
              "</pre>\n"
            ]
          },
          "metadata": {}
        },
        {
          "output_type": "display_data",
          "data": {
            "text/plain": [
              "\u001b[38;2;212;183;2m━━━━━━━━━━━━━━━━━━━━━━━━━━━━━━━━━━━━━━━━━━━━━━━━━━━━━ \u001b[0m\u001b[1mStep \u001b[0m\u001b[1;36m1\u001b[0m\u001b[38;2;212;183;2m ━━━━━━━━━━━━━━━━━━━━━━━━━━━━━━━━━━━━━━━━━━━━━━━━━━━━━━\u001b[0m\n"
            ],
            "text/html": [
              "<pre style=\"white-space:pre;overflow-x:auto;line-height:normal;font-family:Menlo,'DejaVu Sans Mono',consolas,'Courier New',monospace\"><span style=\"color: #d4b702; text-decoration-color: #d4b702\">━━━━━━━━━━━━━━━━━━━━━━━━━━━━━━━━━━━━━━━━━━━━━━━━━━━━━ </span><span style=\"font-weight: bold\">Step </span><span style=\"color: #008080; text-decoration-color: #008080; font-weight: bold\">1</span><span style=\"color: #d4b702; text-decoration-color: #d4b702\"> ━━━━━━━━━━━━━━━━━━━━━━━━━━━━━━━━━━━━━━━━━━━━━━━━━━━━━━</span>\n",
              "</pre>\n"
            ]
          },
          "metadata": {}
        },
        {
          "output_type": "display_data",
          "data": {
            "text/plain": [
              "╭─────────────────────────────────────────────────────────────────────────────────────────────────────────────────╮\n",
              "│ Calling tool: 'web_search' with arguments: {'query': 'topics of blog at url https://medium. com/'}              │\n",
              "╰─────────────────────────────────────────────────────────────────────────────────────────────────────────────────╯\n"
            ],
            "text/html": [
              "<pre style=\"white-space:pre;overflow-x:auto;line-height:normal;font-family:Menlo,'DejaVu Sans Mono',consolas,'Courier New',monospace\">╭─────────────────────────────────────────────────────────────────────────────────────────────────────────────────╮\n",
              "│ Calling tool: 'web_search' with arguments: {'query': 'topics of blog at url https://medium. com/'}              │\n",
              "╰─────────────────────────────────────────────────────────────────────────────────────────────────────────────────╯\n",
              "</pre>\n"
            ]
          },
          "metadata": {}
        },
        {
          "output_type": "display_data",
          "data": {
            "text/plain": [
              "Observations: ## Search Results\n",
              "\n",
              "|Explore topics - Medium\u001b[1m]\u001b[0m\u001b[1m(\u001b[0m\u001b[4;94mhttps://medium.com/explore-topics\u001b[0m\u001b[4;94m)\u001b[0m\n",
              "Explore topics on Medium and discover stories, ideas, and perspectives from thousands of voices.\n",
              "\n",
              "|\u001b[1;36m25\u001b[0m Most Popular Topics on Medium in \u001b[1;36m2024\u001b[0m You Need to \n",
              "Explore\u001b[1m]\u001b[0m\u001b[1m(\u001b[0m\u001b[4;94mhttps://devashreenaik.substack.com/p/25-most-popular-topics-on-medium\u001b[0m\u001b[4;94m)\u001b[0m\n",
              "Q1. What are some of the top trending topics on Medium in \u001b[1;36m2024\u001b[0m? Some of the most popular topics on Medium in \u001b[1;36m2024\u001b[0m \n",
              "include artificial intelligence, personal development, mental health and wellness, future of work, and blockchain \n",
              "technology. Other trending areas are content creation, business and startups, climate change, and data science. Q2.\n",
              "\n",
              "|Medium: Read and write stories.\u001b[1m]\u001b[0m\u001b[1m(\u001b[0m\u001b[4;94mhttps://medium.com/\u001b[0m\u001b[4;94m)\u001b[0m\n",
              "On Medium, anyone can share insightful perspectives, useful knowledge, and life wisdom with the world.\n",
              "\n",
              "|What are the Current Medium Topics Eligible for \n",
              "Curation?\u001b[1m]\u001b[0m\u001b[1m(\u001b[0m\u001b[4;94mhttps://medium.com/blogging-guide/what-are-the-current-medium-topics-eligible-for-curation-a7b4be8e2b94\u001b[0m\u001b[4;94m)\u001b[0m\n",
              "Thanks for reading this article! Leave a comment below if you have any questions, and if you want to learn more \n",
              "about blogging, content marketing, or subscription newsletter strategy, be sure to \u001b[33m...\u001b[0m\n",
              "\n",
              "|Medium's Most Read Topics: A Deep Dive on Trending \n",
              "Content\u001b[1m]\u001b[0m\u001b[1m(\u001b[0m\u001b[4;94mhttps://aqsamohsin.medium.com/mediums-most-read-topics-a-deep-dive-on-trending-content-37d64f0d5720\u001b[0m\u001b[4;94m)\u001b[0m\n",
              "Knowing what the trending topics are on Medium can keep the writers and the readers at the top of this fast-paced \n",
              "landscape of content. This article explores popular categories read on Medium, reflects on why they appeal to the \n",
              "audience, and how the writers can cash in on these trends. \u001b[1;36m1\u001b[0m. Personal Development and Self-Improvement\n",
              "\n",
              "|Medium Topic - Medium\u001b[1m]\u001b[0m\u001b[1m(\u001b[0m\u001b[4;94mhttps://topic.medium.com/\u001b[0m\u001b[4;94m)\u001b[0m\n",
              "Read writing from Medium Topic on Medium. Where good ideas find you. Every day, Medium Topic and thousands of other\n",
              "voices read, write, and share important stories on Medium.\n",
              "\n",
              "|Why you should use the FREE subdomain in \n",
              "Medium.com\u001b[1m]\u001b[0m\u001b[1m(\u001b[0m\u001b[4;94mhttps://tharan.medium.com/hey-writer-get-your-subdomain-on-medium-com-564c6b279c19\u001b[0m\u001b[4;94m)\u001b[0m\n",
              "For them, Medium.com and xyz.medium.com are two different websites. Medium.com is indexed for almost every niche. \n",
              "Let's say I have been writing on a particular niche for a long time on Medium all content belongs to Medium.com. \n",
              "But if I put everything under one domain \u001b[1m(\u001b[0min this case, it's a subdomain\u001b[1m)\u001b[0m xyz.medium.com only has content I wrote \n",
              "\u001b[33m...\u001b[0m\n",
              "\n",
              "|The Ultimate Useful Medium Articles \n",
              "List\u001b[1m]\u001b[0m\u001b[1m(\u001b[0m\u001b[4;94mhttps://medium.com/feedium/ultimate-useful-medium-articles-list-4cc88f38229b\u001b[0m\u001b[4;94m)\u001b[0m\n",
              "Type \u001b[32m\"/archive\"\u001b[0m after the publication name in the URL bar. There's tonnes more interesting tips and \u001b[32m'hacks'\u001b[0m \u001b[1m(\u001b[0mas the\n",
              "kids say\u001b[1m)\u001b[0m in these articles. Full list of Top Writer tags and number \u001b[33m...\u001b[0m\n",
              "\n",
              "|Top Niches on Medium: Exploring the Best Topics for Writers and \n",
              "Readers\u001b[1m]\u001b[0m\u001b[1m(\u001b[0m\u001b[4;94mhttps://ahmadhassan6912.medium.com/top-niches-on-medium-exploring-the-best-topics-for-writers-and-readers-\u001b[0m\n",
              "\u001b[4;94mf504baa89678\u001b[0m\u001b[4;94m)\u001b[0m\n",
              "Here are some of the most popular niches on Medium: \u001b[1;36m1\u001b[0m. Personal Development. Personal development is a thriving \n",
              "niche on Medium, with readers eager to improve their lives, acquire new skills, and gain insights into self-growth.\n",
              "Topics can range from mindfulness, productivity hacks, and mental health strategies to motivation and goal-setting \n",
              "\u001b[33m...\u001b[0m\n",
              "\n",
              "|What Topics To Write On Medium When You Are Out Of \n",
              "Ideas?\u001b[1m]\u001b[0m\u001b[1m(\u001b[0m\u001b[4;94mhttps://rafiasiddiqui57.medium.com/what-topics-to-write-on-medium-when-you-are-out-of-ideas-cf3cebdb61a9\u001b[0m\u001b[4;94m)\u001b[0m\n",
              "Writing on Medium is my hobby and it works like a wonder for me. However, I find myself at a loss for what to say \n",
              "and write at times even though I feel the desire to grab a pen. Everything a writer does—from blog entries to \n",
              "novels to short tales to freelancing article pitches—needs ideas.\n"
            ],
            "text/html": [
              "<pre style=\"white-space:pre;overflow-x:auto;line-height:normal;font-family:Menlo,'DejaVu Sans Mono',consolas,'Courier New',monospace\">Observations: ## Search Results\n",
              "\n",
              "|Explore topics - Medium<span style=\"font-weight: bold\">](</span><span style=\"color: #0000ff; text-decoration-color: #0000ff; text-decoration: underline\">https://medium.com/explore-topics)</span>\n",
              "Explore topics on Medium and discover stories, ideas, and perspectives from thousands of voices.\n",
              "\n",
              "|<span style=\"color: #008080; text-decoration-color: #008080; font-weight: bold\">25</span> Most Popular Topics on Medium in <span style=\"color: #008080; text-decoration-color: #008080; font-weight: bold\">2024</span> You Need to \n",
              "Explore<span style=\"font-weight: bold\">](</span><span style=\"color: #0000ff; text-decoration-color: #0000ff; text-decoration: underline\">https://devashreenaik.substack.com/p/25-most-popular-topics-on-medium)</span>\n",
              "Q1. What are some of the top trending topics on Medium in <span style=\"color: #008080; text-decoration-color: #008080; font-weight: bold\">2024</span>? Some of the most popular topics on Medium in <span style=\"color: #008080; text-decoration-color: #008080; font-weight: bold\">2024</span> \n",
              "include artificial intelligence, personal development, mental health and wellness, future of work, and blockchain \n",
              "technology. Other trending areas are content creation, business and startups, climate change, and data science. Q2.\n",
              "\n",
              "|Medium: Read and write stories.<span style=\"font-weight: bold\">](</span><span style=\"color: #0000ff; text-decoration-color: #0000ff; text-decoration: underline\">https://medium.com/)</span>\n",
              "On Medium, anyone can share insightful perspectives, useful knowledge, and life wisdom with the world.\n",
              "\n",
              "|What are the Current Medium Topics Eligible for \n",
              "Curation?<span style=\"font-weight: bold\">](</span><span style=\"color: #0000ff; text-decoration-color: #0000ff; text-decoration: underline\">https://medium.com/blogging-guide/what-are-the-current-medium-topics-eligible-for-curation-a7b4be8e2b94)</span>\n",
              "Thanks for reading this article! Leave a comment below if you have any questions, and if you want to learn more \n",
              "about blogging, content marketing, or subscription newsletter strategy, be sure to <span style=\"color: #808000; text-decoration-color: #808000\">...</span>\n",
              "\n",
              "|Medium's Most Read Topics: A Deep Dive on Trending \n",
              "Content<span style=\"font-weight: bold\">](</span><span style=\"color: #0000ff; text-decoration-color: #0000ff; text-decoration: underline\">https://aqsamohsin.medium.com/mediums-most-read-topics-a-deep-dive-on-trending-content-37d64f0d5720)</span>\n",
              "Knowing what the trending topics are on Medium can keep the writers and the readers at the top of this fast-paced \n",
              "landscape of content. This article explores popular categories read on Medium, reflects on why they appeal to the \n",
              "audience, and how the writers can cash in on these trends. <span style=\"color: #008080; text-decoration-color: #008080; font-weight: bold\">1</span>. Personal Development and Self-Improvement\n",
              "\n",
              "|Medium Topic - Medium<span style=\"font-weight: bold\">](</span><span style=\"color: #0000ff; text-decoration-color: #0000ff; text-decoration: underline\">https://topic.medium.com/)</span>\n",
              "Read writing from Medium Topic on Medium. Where good ideas find you. Every day, Medium Topic and thousands of other\n",
              "voices read, write, and share important stories on Medium.\n",
              "\n",
              "|Why you should use the FREE subdomain in \n",
              "Medium.com<span style=\"font-weight: bold\">](</span><span style=\"color: #0000ff; text-decoration-color: #0000ff; text-decoration: underline\">https://tharan.medium.com/hey-writer-get-your-subdomain-on-medium-com-564c6b279c19)</span>\n",
              "For them, Medium.com and xyz.medium.com are two different websites. Medium.com is indexed for almost every niche. \n",
              "Let's say I have been writing on a particular niche for a long time on Medium all content belongs to Medium.com. \n",
              "But if I put everything under one domain <span style=\"font-weight: bold\">(</span>in this case, it's a subdomain<span style=\"font-weight: bold\">)</span> xyz.medium.com only has content I wrote \n",
              "<span style=\"color: #808000; text-decoration-color: #808000\">...</span>\n",
              "\n",
              "|The Ultimate Useful Medium Articles \n",
              "List<span style=\"font-weight: bold\">](</span><span style=\"color: #0000ff; text-decoration-color: #0000ff; text-decoration: underline\">https://medium.com/feedium/ultimate-useful-medium-articles-list-4cc88f38229b)</span>\n",
              "Type <span style=\"color: #008000; text-decoration-color: #008000\">\"/archive\"</span> after the publication name in the URL bar. There's tonnes more interesting tips and <span style=\"color: #008000; text-decoration-color: #008000\">'hacks'</span> <span style=\"font-weight: bold\">(</span>as the\n",
              "kids say<span style=\"font-weight: bold\">)</span> in these articles. Full list of Top Writer tags and number <span style=\"color: #808000; text-decoration-color: #808000\">...</span>\n",
              "\n",
              "|Top Niches on Medium: Exploring the Best Topics for Writers and \n",
              "Readers<span style=\"font-weight: bold\">](</span><span style=\"color: #0000ff; text-decoration-color: #0000ff; text-decoration: underline\">https://ahmadhassan6912.medium.com/top-niches-on-medium-exploring-the-best-topics-for-writers-and-readers-</span>\n",
              "<span style=\"color: #0000ff; text-decoration-color: #0000ff; text-decoration: underline\">f504baa89678)</span>\n",
              "Here are some of the most popular niches on Medium: <span style=\"color: #008080; text-decoration-color: #008080; font-weight: bold\">1</span>. Personal Development. Personal development is a thriving \n",
              "niche on Medium, with readers eager to improve their lives, acquire new skills, and gain insights into self-growth.\n",
              "Topics can range from mindfulness, productivity hacks, and mental health strategies to motivation and goal-setting \n",
              "<span style=\"color: #808000; text-decoration-color: #808000\">...</span>\n",
              "\n",
              "|What Topics To Write On Medium When You Are Out Of \n",
              "Ideas?<span style=\"font-weight: bold\">](</span><span style=\"color: #0000ff; text-decoration-color: #0000ff; text-decoration: underline\">https://rafiasiddiqui57.medium.com/what-topics-to-write-on-medium-when-you-are-out-of-ideas-cf3cebdb61a9)</span>\n",
              "Writing on Medium is my hobby and it works like a wonder for me. However, I find myself at a loss for what to say \n",
              "and write at times even though I feel the desire to grab a pen. Everything a writer does—from blog entries to \n",
              "novels to short tales to freelancing article pitches—needs ideas.\n",
              "</pre>\n"
            ]
          },
          "metadata": {}
        },
        {
          "output_type": "display_data",
          "data": {
            "text/plain": [
              "\u001b[2m[Step 0: Duration 3.16 seconds| Input tokens: 1,178 | Output tokens: 27]\u001b[0m\n"
            ],
            "text/html": [
              "<pre style=\"white-space:pre;overflow-x:auto;line-height:normal;font-family:Menlo,'DejaVu Sans Mono',consolas,'Courier New',monospace\"><span style=\"color: #7f7f7f; text-decoration-color: #7f7f7f\">[Step 0: Duration 3.16 seconds| Input tokens: 1,178 | Output tokens: 27]</span>\n",
              "</pre>\n"
            ]
          },
          "metadata": {}
        },
        {
          "output_type": "display_data",
          "data": {
            "text/plain": [
              "\u001b[38;2;212;183;2m━━━━━━━━━━━━━━━━━━━━━━━━━━━━━━━━━━━━━━━━━━━━━━━━━━━━━ \u001b[0m\u001b[1mStep \u001b[0m\u001b[1;36m2\u001b[0m\u001b[38;2;212;183;2m ━━━━━━━━━━━━━━━━━━━━━━━━━━━━━━━━━━━━━━━━━━━━━━━━━━━━━━\u001b[0m\n"
            ],
            "text/html": [
              "<pre style=\"white-space:pre;overflow-x:auto;line-height:normal;font-family:Menlo,'DejaVu Sans Mono',consolas,'Courier New',monospace\"><span style=\"color: #d4b702; text-decoration-color: #d4b702\">━━━━━━━━━━━━━━━━━━━━━━━━━━━━━━━━━━━━━━━━━━━━━━━━━━━━━ </span><span style=\"font-weight: bold\">Step </span><span style=\"color: #008080; text-decoration-color: #008080; font-weight: bold\">2</span><span style=\"color: #d4b702; text-decoration-color: #d4b702\"> ━━━━━━━━━━━━━━━━━━━━━━━━━━━━━━━━━━━━━━━━━━━━━━━━━━━━━━</span>\n",
              "</pre>\n"
            ]
          },
          "metadata": {}
        },
        {
          "output_type": "display_data",
          "data": {
            "text/plain": [
              "╭─────────────────────────────────────────────────────────────────────────────────────────────────────────────────╮\n",
              "│ Calling tool: 'final_answer' with arguments: {'answer': 'Based on the search, some of the trending and popular  │\n",
              "│ topics on Medium include:\\\\n1. Artificial Intelligence \\\\\\\\(AI)\\\\n2. Personal Development and Self-Improvement  │\n",
              "│ \\\\\\\\(PD)\\\\n3. Mental Health and Wellness \\\\\\\\(MH)\\\\n4. Future of Work \\\\\\\\(FW)\\\\n5. Blockchain Technology       │\n",
              "│ \\\\\\\\(BT)\\\\n6. Content Creation \\\\\\\\(CC)\\\\n7. Business and Startups \\\\\\\\(BS)\\\\n8. Climate Change \\\\\\\\(CC2)\\\\n9.  │\n",
              "│ Data Science \\\\\\\\(DS)\\\\'}                                                                                       │\n",
              "╰─────────────────────────────────────────────────────────────────────────────────────────────────────────────────╯\n"
            ],
            "text/html": [
              "<pre style=\"white-space:pre;overflow-x:auto;line-height:normal;font-family:Menlo,'DejaVu Sans Mono',consolas,'Courier New',monospace\">╭─────────────────────────────────────────────────────────────────────────────────────────────────────────────────╮\n",
              "│ Calling tool: 'final_answer' with arguments: {'answer': 'Based on the search, some of the trending and popular  │\n",
              "│ topics on Medium include:\\\\n1. Artificial Intelligence \\\\\\\\(AI)\\\\n2. Personal Development and Self-Improvement  │\n",
              "│ \\\\\\\\(PD)\\\\n3. Mental Health and Wellness \\\\\\\\(MH)\\\\n4. Future of Work \\\\\\\\(FW)\\\\n5. Blockchain Technology       │\n",
              "│ \\\\\\\\(BT)\\\\n6. Content Creation \\\\\\\\(CC)\\\\n7. Business and Startups \\\\\\\\(BS)\\\\n8. Climate Change \\\\\\\\(CC2)\\\\n9.  │\n",
              "│ Data Science \\\\\\\\(DS)\\\\'}                                                                                       │\n",
              "╰─────────────────────────────────────────────────────────────────────────────────────────────────────────────────╯\n",
              "</pre>\n"
            ]
          },
          "metadata": {}
        },
        {
          "output_type": "display_data",
          "data": {
            "text/plain": [
              "\u001b[1;38;2;212;183;2mFinal answer: Based on the search, some of the trending and popular topics on Medium include:\\n1. Artificial \u001b[0m\n",
              "\u001b[1;38;2;212;183;2mIntelligence \\\\(AI)\\n2. Personal Development and Self-Improvement \\\\(PD)\\n3. Mental Health and Wellness \\\\(MH)\\n4. \u001b[0m\n",
              "\u001b[1;38;2;212;183;2mFuture of Work \\\\(FW)\\n5. Blockchain Technology \\\\(BT)\\n6. Content Creation \\\\(CC)\\n7. Business and Startups \u001b[0m\n",
              "\u001b[1;38;2;212;183;2m\\\\(BS)\\n8. Climate Change \\\\(CC2)\\n9. Data Science \\\\(DS)\\\u001b[0m\n"
            ],
            "text/html": [
              "<pre style=\"white-space:pre;overflow-x:auto;line-height:normal;font-family:Menlo,'DejaVu Sans Mono',consolas,'Courier New',monospace\"><span style=\"color: #d4b702; text-decoration-color: #d4b702; font-weight: bold\">Final answer: Based on the search, some of the trending and popular topics on Medium include:\\n1. Artificial </span>\n",
              "<span style=\"color: #d4b702; text-decoration-color: #d4b702; font-weight: bold\">Intelligence \\\\(AI)\\n2. Personal Development and Self-Improvement \\\\(PD)\\n3. Mental Health and Wellness \\\\(MH)\\n4. </span>\n",
              "<span style=\"color: #d4b702; text-decoration-color: #d4b702; font-weight: bold\">Future of Work \\\\(FW)\\n5. Blockchain Technology \\\\(BT)\\n6. Content Creation \\\\(CC)\\n7. Business and Startups </span>\n",
              "<span style=\"color: #d4b702; text-decoration-color: #d4b702; font-weight: bold\">\\\\(BS)\\n8. Climate Change \\\\(CC2)\\n9. Data Science \\\\(DS)\\</span>\n",
              "</pre>\n"
            ]
          },
          "metadata": {}
        },
        {
          "output_type": "display_data",
          "data": {
            "text/plain": [
              "\u001b[2m[Step 1: Duration 11.88 seconds| Input tokens: 3,298 | Output tokens: 162]\u001b[0m\n"
            ],
            "text/html": [
              "<pre style=\"white-space:pre;overflow-x:auto;line-height:normal;font-family:Menlo,'DejaVu Sans Mono',consolas,'Courier New',monospace\"><span style=\"color: #7f7f7f; text-decoration-color: #7f7f7f\">[Step 1: Duration 11.88 seconds| Input tokens: 3,298 | Output tokens: 162]</span>\n",
              "</pre>\n"
            ]
          },
          "metadata": {}
        },
        {
          "output_type": "execute_result",
          "data": {
            "text/plain": [
              "'Based on the search, some of the trending and popular topics on Medium include:\\\\n1. Artificial Intelligence \\\\\\\\(AI)\\\\n2. Personal Development and Self-Improvement \\\\\\\\(PD)\\\\n3. Mental Health and Wellness \\\\\\\\(MH)\\\\n4. Future of Work \\\\\\\\(FW)\\\\n5. Blockchain Technology \\\\\\\\(BT)\\\\n6. Content Creation \\\\\\\\(CC)\\\\n7. Business and Startups \\\\\\\\(BS)\\\\n8. Climate Change \\\\\\\\(CC2)\\\\n9. Data Science \\\\\\\\(DS)\\\\'"
            ],
            "application/vnd.google.colaboratory.intrinsic+json": {
              "type": "string"
            }
          },
          "metadata": {},
          "execution_count": 27
        }
      ]
    },
    {
      "cell_type": "markdown",
      "source": [
        "Based on the search results, some of the top topics on Medium include Tech, Politics/Society, Self-improvement, Business, Money, Writing, Aging, and Relationships. Medium also covers a wide range of other topics catering to diverse interests and passions."
      ],
      "metadata": {
        "id": "ep_zZ6az2WGk"
      }
    },
    {
      "cell_type": "markdown",
      "source": [
        "gpt-4o-mini"
      ],
      "metadata": {
        "id": "WwZNkj1A2YoD"
      }
    },
    {
      "cell_type": "code",
      "source": [
        "from smolagents import LiteLLMModel"
      ],
      "metadata": {
        "id": "F0POFXHr2P8e"
      },
      "execution_count": 28,
      "outputs": []
    },
    {
      "cell_type": "code",
      "source": [
        "model = LiteLLMModel(model_id=\"gpt-4o-mini\")"
      ],
      "metadata": {
        "id": "g3jbbaPC2dfu"
      },
      "execution_count": 29,
      "outputs": []
    },
    {
      "cell_type": "code",
      "source": [
        "agent = ToolCallingAgent(tools=[DuckDuckGoSearchTool()], model=model)"
      ],
      "metadata": {
        "id": "8JSHK4a02k4n"
      },
      "execution_count": 30,
      "outputs": []
    },
    {
      "cell_type": "code",
      "source": [
        "agent.run(\"Could you get me the few topic of the blog at url 'https://medium.com/'?\")"
      ],
      "metadata": {
        "id": "wCBuTm2l2xAP",
        "colab": {
          "base_uri": "https://localhost:8080/",
          "height": 1000
        },
        "outputId": "44abf0ac-7565-4aab-be6f-400ddf33d5ec"
      },
      "execution_count": 31,
      "outputs": [
        {
          "output_type": "display_data",
          "data": {
            "text/plain": [
              "\u001b[38;2;212;183;2m╭─\u001b[0m\u001b[38;2;212;183;2m───────────────────────────────────────────────────\u001b[0m\u001b[38;2;212;183;2m \u001b[0m\u001b[1;38;2;212;183;2mNew run\u001b[0m\u001b[38;2;212;183;2m \u001b[0m\u001b[38;2;212;183;2m───────────────────────────────────────────────────\u001b[0m\u001b[38;2;212;183;2m─╮\u001b[0m\n",
              "\u001b[38;2;212;183;2m│\u001b[0m                                                                                                                 \u001b[38;2;212;183;2m│\u001b[0m\n",
              "\u001b[38;2;212;183;2m│\u001b[0m \u001b[1mCould you get me the few topic of the blog at url 'https://medium.com/'?\u001b[0m                                        \u001b[38;2;212;183;2m│\u001b[0m\n",
              "\u001b[38;2;212;183;2m│\u001b[0m                                                                                                                 \u001b[38;2;212;183;2m│\u001b[0m\n",
              "\u001b[38;2;212;183;2m╰─\u001b[0m\u001b[38;2;212;183;2m LiteLLMModel - gpt-4o-mini \u001b[0m\u001b[38;2;212;183;2m───────────────────────────────────────────────────────────────────────────────────\u001b[0m\u001b[38;2;212;183;2m─╯\u001b[0m\n"
            ],
            "text/html": [
              "<pre style=\"white-space:pre;overflow-x:auto;line-height:normal;font-family:Menlo,'DejaVu Sans Mono',consolas,'Courier New',monospace\"><span style=\"color: #d4b702; text-decoration-color: #d4b702\">╭──────────────────────────────────────────────────── </span><span style=\"color: #d4b702; text-decoration-color: #d4b702; font-weight: bold\">New run</span><span style=\"color: #d4b702; text-decoration-color: #d4b702\"> ────────────────────────────────────────────────────╮</span>\n",
              "<span style=\"color: #d4b702; text-decoration-color: #d4b702\">│</span>                                                                                                                 <span style=\"color: #d4b702; text-decoration-color: #d4b702\">│</span>\n",
              "<span style=\"color: #d4b702; text-decoration-color: #d4b702\">│</span> <span style=\"font-weight: bold\">Could you get me the few topic of the blog at url 'https://medium.com/'?</span>                                        <span style=\"color: #d4b702; text-decoration-color: #d4b702\">│</span>\n",
              "<span style=\"color: #d4b702; text-decoration-color: #d4b702\">│</span>                                                                                                                 <span style=\"color: #d4b702; text-decoration-color: #d4b702\">│</span>\n",
              "<span style=\"color: #d4b702; text-decoration-color: #d4b702\">╰─ LiteLLMModel - gpt-4o-mini ────────────────────────────────────────────────────────────────────────────────────╯</span>\n",
              "</pre>\n"
            ]
          },
          "metadata": {}
        },
        {
          "output_type": "display_data",
          "data": {
            "text/plain": [
              "\u001b[38;2;212;183;2m━━━━━━━━━━━━━━━━━━━━━━━━━━━━━━━━━━━━━━━━━━━━━━━━━━━━━ \u001b[0m\u001b[1mStep \u001b[0m\u001b[1;36m1\u001b[0m\u001b[38;2;212;183;2m ━━━━━━━━━━━━━━━━━━━━━━━━━━━━━━━━━━━━━━━━━━━━━━━━━━━━━━\u001b[0m\n"
            ],
            "text/html": [
              "<pre style=\"white-space:pre;overflow-x:auto;line-height:normal;font-family:Menlo,'DejaVu Sans Mono',consolas,'Courier New',monospace\"><span style=\"color: #d4b702; text-decoration-color: #d4b702\">━━━━━━━━━━━━━━━━━━━━━━━━━━━━━━━━━━━━━━━━━━━━━━━━━━━━━ </span><span style=\"font-weight: bold\">Step </span><span style=\"color: #008080; text-decoration-color: #008080; font-weight: bold\">1</span><span style=\"color: #d4b702; text-decoration-color: #d4b702\"> ━━━━━━━━━━━━━━━━━━━━━━━━━━━━━━━━━━━━━━━━━━━━━━━━━━━━━━</span>\n",
              "</pre>\n"
            ]
          },
          "metadata": {}
        },
        {
          "output_type": "stream",
          "name": "stdout",
          "text": [
            "\n",
            "\u001b[1;31mGive Feedback / Get Help: https://github.com/BerriAI/litellm/issues/new\u001b[0m\n",
            "LiteLLM.Info: If you need to debug this error, use `litellm._turn_on_debug()'.\n",
            "\n"
          ]
        },
        {
          "output_type": "display_data",
          "data": {
            "text/plain": [
              "\u001b[1;31mError in generating tool call with model:\u001b[0m\n",
              "\u001b[1;31mlitellm.AuthenticationError: AuthenticationError: OpenAIException - Error code: \u001b[0m\u001b[1;31m401\u001b[0m\u001b[1;31m - \u001b[0m\u001b[1;31m{\u001b[0m\u001b[1;31m'error'\u001b[0m\u001b[1;31m: \u001b[0m\u001b[1;31m{\u001b[0m\u001b[1;31m'message'\u001b[0m\u001b[1;31m: \u001b[0m\n",
              "\u001b[1;31m'Incorrect API key provided: \u001b[0m\n",
              "\u001b[1;31msk-proj-***********************************************************************************************************\u001b[0m\n",
              "\u001b[1;31m*********************************************7V0A. You can find your API key at \u001b[0m\n",
              "\u001b[1;31mhttps://platform.openai.com/account/api-keys.'\u001b[0m\u001b[1;31m, \u001b[0m\u001b[1;31m'type'\u001b[0m\u001b[1;31m: \u001b[0m\u001b[1;31m'invalid_request_error'\u001b[0m\u001b[1;31m, \u001b[0m\u001b[1;31m'param'\u001b[0m\u001b[1;31m: \u001b[0m\u001b[1;3;31mNone\u001b[0m\u001b[1;31m, \u001b[0m\u001b[1;31m'code'\u001b[0m\u001b[1;31m: \u001b[0m\n",
              "\u001b[1;31m'invalid_api_key'\u001b[0m\u001b[1;31m}\u001b[0m\u001b[1;31m}\u001b[0m\n"
            ],
            "text/html": [
              "<pre style=\"white-space:pre;overflow-x:auto;line-height:normal;font-family:Menlo,'DejaVu Sans Mono',consolas,'Courier New',monospace\"><span style=\"color: #800000; text-decoration-color: #800000; font-weight: bold\">Error in generating tool call with model:</span>\n",
              "<span style=\"color: #800000; text-decoration-color: #800000; font-weight: bold\">litellm.AuthenticationError: AuthenticationError: OpenAIException - Error code: </span><span style=\"color: #800000; text-decoration-color: #800000; font-weight: bold\">401</span><span style=\"color: #800000; text-decoration-color: #800000; font-weight: bold\"> - {</span><span style=\"color: #800000; text-decoration-color: #800000; font-weight: bold\">'error'</span><span style=\"color: #800000; text-decoration-color: #800000; font-weight: bold\">: {</span><span style=\"color: #800000; text-decoration-color: #800000; font-weight: bold\">'message'</span><span style=\"color: #800000; text-decoration-color: #800000; font-weight: bold\">: </span>\n",
              "<span style=\"color: #800000; text-decoration-color: #800000; font-weight: bold\">'Incorrect API key provided: </span>\n",
              "<span style=\"color: #800000; text-decoration-color: #800000; font-weight: bold\">sk-proj-***********************************************************************************************************</span>\n",
              "<span style=\"color: #800000; text-decoration-color: #800000; font-weight: bold\">*********************************************7V0A. You can find your API key at </span>\n",
              "<span style=\"color: #800000; text-decoration-color: #800000; font-weight: bold\">https://platform.openai.com/account/api-keys.'</span><span style=\"color: #800000; text-decoration-color: #800000; font-weight: bold\">, </span><span style=\"color: #800000; text-decoration-color: #800000; font-weight: bold\">'type'</span><span style=\"color: #800000; text-decoration-color: #800000; font-weight: bold\">: </span><span style=\"color: #800000; text-decoration-color: #800000; font-weight: bold\">'invalid_request_error'</span><span style=\"color: #800000; text-decoration-color: #800000; font-weight: bold\">, </span><span style=\"color: #800000; text-decoration-color: #800000; font-weight: bold\">'param'</span><span style=\"color: #800000; text-decoration-color: #800000; font-weight: bold\">: </span><span style=\"color: #800000; text-decoration-color: #800000; font-weight: bold; font-style: italic\">None</span><span style=\"color: #800000; text-decoration-color: #800000; font-weight: bold\">, </span><span style=\"color: #800000; text-decoration-color: #800000; font-weight: bold\">'code'</span><span style=\"color: #800000; text-decoration-color: #800000; font-weight: bold\">: </span>\n",
              "<span style=\"color: #800000; text-decoration-color: #800000; font-weight: bold\">'invalid_api_key'</span><span style=\"color: #800000; text-decoration-color: #800000; font-weight: bold\">}}</span>\n",
              "</pre>\n"
            ]
          },
          "metadata": {}
        },
        {
          "output_type": "display_data",
          "data": {
            "text/plain": [
              "\u001b[2m[Step 0: Duration 5.55 seconds]\u001b[0m\n"
            ],
            "text/html": [
              "<pre style=\"white-space:pre;overflow-x:auto;line-height:normal;font-family:Menlo,'DejaVu Sans Mono',consolas,'Courier New',monospace\"><span style=\"color: #7f7f7f; text-decoration-color: #7f7f7f\">[Step 0: Duration 5.55 seconds]</span>\n",
              "</pre>\n"
            ]
          },
          "metadata": {}
        },
        {
          "output_type": "display_data",
          "data": {
            "text/plain": [
              "\u001b[38;2;212;183;2m━━━━━━━━━━━━━━━━━━━━━━━━━━━━━━━━━━━━━━━━━━━━━━━━━━━━━ \u001b[0m\u001b[1mStep \u001b[0m\u001b[1;36m2\u001b[0m\u001b[38;2;212;183;2m ━━━━━━━━━━━━━━━━━━━━━━━━━━━━━━━━━━━━━━━━━━━━━━━━━━━━━━\u001b[0m\n"
            ],
            "text/html": [
              "<pre style=\"white-space:pre;overflow-x:auto;line-height:normal;font-family:Menlo,'DejaVu Sans Mono',consolas,'Courier New',monospace\"><span style=\"color: #d4b702; text-decoration-color: #d4b702\">━━━━━━━━━━━━━━━━━━━━━━━━━━━━━━━━━━━━━━━━━━━━━━━━━━━━━ </span><span style=\"font-weight: bold\">Step </span><span style=\"color: #008080; text-decoration-color: #008080; font-weight: bold\">2</span><span style=\"color: #d4b702; text-decoration-color: #d4b702\"> ━━━━━━━━━━━━━━━━━━━━━━━━━━━━━━━━━━━━━━━━━━━━━━━━━━━━━━</span>\n",
              "</pre>\n"
            ]
          },
          "metadata": {}
        },
        {
          "output_type": "stream",
          "name": "stdout",
          "text": [
            "\n",
            "\u001b[1;31mGive Feedback / Get Help: https://github.com/BerriAI/litellm/issues/new\u001b[0m\n",
            "LiteLLM.Info: If you need to debug this error, use `litellm._turn_on_debug()'.\n",
            "\n"
          ]
        },
        {
          "output_type": "display_data",
          "data": {
            "text/plain": [
              "\u001b[1;31mError in generating tool call with model:\u001b[0m\n",
              "\u001b[1;31mlitellm.AuthenticationError: AuthenticationError: OpenAIException - Error code: \u001b[0m\u001b[1;31m401\u001b[0m\u001b[1;31m - \u001b[0m\u001b[1;31m{\u001b[0m\u001b[1;31m'error'\u001b[0m\u001b[1;31m: \u001b[0m\u001b[1;31m{\u001b[0m\u001b[1;31m'message'\u001b[0m\u001b[1;31m: \u001b[0m\n",
              "\u001b[1;31m'Incorrect API key provided: \u001b[0m\n",
              "\u001b[1;31msk-proj-***********************************************************************************************************\u001b[0m\n",
              "\u001b[1;31m*********************************************7V0A. You can find your API key at \u001b[0m\n",
              "\u001b[1;31mhttps://platform.openai.com/account/api-keys.'\u001b[0m\u001b[1;31m, \u001b[0m\u001b[1;31m'type'\u001b[0m\u001b[1;31m: \u001b[0m\u001b[1;31m'invalid_request_error'\u001b[0m\u001b[1;31m, \u001b[0m\u001b[1;31m'param'\u001b[0m\u001b[1;31m: \u001b[0m\u001b[1;3;31mNone\u001b[0m\u001b[1;31m, \u001b[0m\u001b[1;31m'code'\u001b[0m\u001b[1;31m: \u001b[0m\n",
              "\u001b[1;31m'invalid_api_key'\u001b[0m\u001b[1;31m}\u001b[0m\u001b[1;31m}\u001b[0m\n"
            ],
            "text/html": [
              "<pre style=\"white-space:pre;overflow-x:auto;line-height:normal;font-family:Menlo,'DejaVu Sans Mono',consolas,'Courier New',monospace\"><span style=\"color: #800000; text-decoration-color: #800000; font-weight: bold\">Error in generating tool call with model:</span>\n",
              "<span style=\"color: #800000; text-decoration-color: #800000; font-weight: bold\">litellm.AuthenticationError: AuthenticationError: OpenAIException - Error code: </span><span style=\"color: #800000; text-decoration-color: #800000; font-weight: bold\">401</span><span style=\"color: #800000; text-decoration-color: #800000; font-weight: bold\"> - {</span><span style=\"color: #800000; text-decoration-color: #800000; font-weight: bold\">'error'</span><span style=\"color: #800000; text-decoration-color: #800000; font-weight: bold\">: {</span><span style=\"color: #800000; text-decoration-color: #800000; font-weight: bold\">'message'</span><span style=\"color: #800000; text-decoration-color: #800000; font-weight: bold\">: </span>\n",
              "<span style=\"color: #800000; text-decoration-color: #800000; font-weight: bold\">'Incorrect API key provided: </span>\n",
              "<span style=\"color: #800000; text-decoration-color: #800000; font-weight: bold\">sk-proj-***********************************************************************************************************</span>\n",
              "<span style=\"color: #800000; text-decoration-color: #800000; font-weight: bold\">*********************************************7V0A. You can find your API key at </span>\n",
              "<span style=\"color: #800000; text-decoration-color: #800000; font-weight: bold\">https://platform.openai.com/account/api-keys.'</span><span style=\"color: #800000; text-decoration-color: #800000; font-weight: bold\">, </span><span style=\"color: #800000; text-decoration-color: #800000; font-weight: bold\">'type'</span><span style=\"color: #800000; text-decoration-color: #800000; font-weight: bold\">: </span><span style=\"color: #800000; text-decoration-color: #800000; font-weight: bold\">'invalid_request_error'</span><span style=\"color: #800000; text-decoration-color: #800000; font-weight: bold\">, </span><span style=\"color: #800000; text-decoration-color: #800000; font-weight: bold\">'param'</span><span style=\"color: #800000; text-decoration-color: #800000; font-weight: bold\">: </span><span style=\"color: #800000; text-decoration-color: #800000; font-weight: bold; font-style: italic\">None</span><span style=\"color: #800000; text-decoration-color: #800000; font-weight: bold\">, </span><span style=\"color: #800000; text-decoration-color: #800000; font-weight: bold\">'code'</span><span style=\"color: #800000; text-decoration-color: #800000; font-weight: bold\">: </span>\n",
              "<span style=\"color: #800000; text-decoration-color: #800000; font-weight: bold\">'invalid_api_key'</span><span style=\"color: #800000; text-decoration-color: #800000; font-weight: bold\">}}</span>\n",
              "</pre>\n"
            ]
          },
          "metadata": {}
        },
        {
          "output_type": "display_data",
          "data": {
            "text/plain": [
              "\u001b[2m[Step 1: Duration 0.19 seconds]\u001b[0m\n"
            ],
            "text/html": [
              "<pre style=\"white-space:pre;overflow-x:auto;line-height:normal;font-family:Menlo,'DejaVu Sans Mono',consolas,'Courier New',monospace\"><span style=\"color: #7f7f7f; text-decoration-color: #7f7f7f\">[Step 1: Duration 0.19 seconds]</span>\n",
              "</pre>\n"
            ]
          },
          "metadata": {}
        },
        {
          "output_type": "display_data",
          "data": {
            "text/plain": [
              "\u001b[38;2;212;183;2m━━━━━━━━━━━━━━━━━━━━━━━━━━━━━━━━━━━━━━━━━━━━━━━━━━━━━ \u001b[0m\u001b[1mStep \u001b[0m\u001b[1;36m3\u001b[0m\u001b[38;2;212;183;2m ━━━━━━━━━━━━━━━━━━━━━━━━━━━━━━━━━━━━━━━━━━━━━━━━━━━━━━\u001b[0m\n"
            ],
            "text/html": [
              "<pre style=\"white-space:pre;overflow-x:auto;line-height:normal;font-family:Menlo,'DejaVu Sans Mono',consolas,'Courier New',monospace\"><span style=\"color: #d4b702; text-decoration-color: #d4b702\">━━━━━━━━━━━━━━━━━━━━━━━━━━━━━━━━━━━━━━━━━━━━━━━━━━━━━ </span><span style=\"font-weight: bold\">Step </span><span style=\"color: #008080; text-decoration-color: #008080; font-weight: bold\">3</span><span style=\"color: #d4b702; text-decoration-color: #d4b702\"> ━━━━━━━━━━━━━━━━━━━━━━━━━━━━━━━━━━━━━━━━━━━━━━━━━━━━━━</span>\n",
              "</pre>\n"
            ]
          },
          "metadata": {}
        },
        {
          "output_type": "stream",
          "name": "stdout",
          "text": [
            "\n",
            "\u001b[1;31mGive Feedback / Get Help: https://github.com/BerriAI/litellm/issues/new\u001b[0m\n",
            "LiteLLM.Info: If you need to debug this error, use `litellm._turn_on_debug()'.\n",
            "\n"
          ]
        },
        {
          "output_type": "display_data",
          "data": {
            "text/plain": [
              "\u001b[1;31mError in generating tool call with model:\u001b[0m\n",
              "\u001b[1;31mlitellm.AuthenticationError: AuthenticationError: OpenAIException - Error code: \u001b[0m\u001b[1;31m401\u001b[0m\u001b[1;31m - \u001b[0m\u001b[1;31m{\u001b[0m\u001b[1;31m'error'\u001b[0m\u001b[1;31m: \u001b[0m\u001b[1;31m{\u001b[0m\u001b[1;31m'message'\u001b[0m\u001b[1;31m: \u001b[0m\n",
              "\u001b[1;31m'Incorrect API key provided: \u001b[0m\n",
              "\u001b[1;31msk-proj-***********************************************************************************************************\u001b[0m\n",
              "\u001b[1;31m*********************************************7V0A. You can find your API key at \u001b[0m\n",
              "\u001b[1;31mhttps://platform.openai.com/account/api-keys.'\u001b[0m\u001b[1;31m, \u001b[0m\u001b[1;31m'type'\u001b[0m\u001b[1;31m: \u001b[0m\u001b[1;31m'invalid_request_error'\u001b[0m\u001b[1;31m, \u001b[0m\u001b[1;31m'param'\u001b[0m\u001b[1;31m: \u001b[0m\u001b[1;3;31mNone\u001b[0m\u001b[1;31m, \u001b[0m\u001b[1;31m'code'\u001b[0m\u001b[1;31m: \u001b[0m\n",
              "\u001b[1;31m'invalid_api_key'\u001b[0m\u001b[1;31m}\u001b[0m\u001b[1;31m}\u001b[0m\n"
            ],
            "text/html": [
              "<pre style=\"white-space:pre;overflow-x:auto;line-height:normal;font-family:Menlo,'DejaVu Sans Mono',consolas,'Courier New',monospace\"><span style=\"color: #800000; text-decoration-color: #800000; font-weight: bold\">Error in generating tool call with model:</span>\n",
              "<span style=\"color: #800000; text-decoration-color: #800000; font-weight: bold\">litellm.AuthenticationError: AuthenticationError: OpenAIException - Error code: </span><span style=\"color: #800000; text-decoration-color: #800000; font-weight: bold\">401</span><span style=\"color: #800000; text-decoration-color: #800000; font-weight: bold\"> - {</span><span style=\"color: #800000; text-decoration-color: #800000; font-weight: bold\">'error'</span><span style=\"color: #800000; text-decoration-color: #800000; font-weight: bold\">: {</span><span style=\"color: #800000; text-decoration-color: #800000; font-weight: bold\">'message'</span><span style=\"color: #800000; text-decoration-color: #800000; font-weight: bold\">: </span>\n",
              "<span style=\"color: #800000; text-decoration-color: #800000; font-weight: bold\">'Incorrect API key provided: </span>\n",
              "<span style=\"color: #800000; text-decoration-color: #800000; font-weight: bold\">sk-proj-***********************************************************************************************************</span>\n",
              "<span style=\"color: #800000; text-decoration-color: #800000; font-weight: bold\">*********************************************7V0A. You can find your API key at </span>\n",
              "<span style=\"color: #800000; text-decoration-color: #800000; font-weight: bold\">https://platform.openai.com/account/api-keys.'</span><span style=\"color: #800000; text-decoration-color: #800000; font-weight: bold\">, </span><span style=\"color: #800000; text-decoration-color: #800000; font-weight: bold\">'type'</span><span style=\"color: #800000; text-decoration-color: #800000; font-weight: bold\">: </span><span style=\"color: #800000; text-decoration-color: #800000; font-weight: bold\">'invalid_request_error'</span><span style=\"color: #800000; text-decoration-color: #800000; font-weight: bold\">, </span><span style=\"color: #800000; text-decoration-color: #800000; font-weight: bold\">'param'</span><span style=\"color: #800000; text-decoration-color: #800000; font-weight: bold\">: </span><span style=\"color: #800000; text-decoration-color: #800000; font-weight: bold; font-style: italic\">None</span><span style=\"color: #800000; text-decoration-color: #800000; font-weight: bold\">, </span><span style=\"color: #800000; text-decoration-color: #800000; font-weight: bold\">'code'</span><span style=\"color: #800000; text-decoration-color: #800000; font-weight: bold\">: </span>\n",
              "<span style=\"color: #800000; text-decoration-color: #800000; font-weight: bold\">'invalid_api_key'</span><span style=\"color: #800000; text-decoration-color: #800000; font-weight: bold\">}}</span>\n",
              "</pre>\n"
            ]
          },
          "metadata": {}
        },
        {
          "output_type": "display_data",
          "data": {
            "text/plain": [
              "\u001b[2m[Step 2: Duration 0.35 seconds]\u001b[0m\n"
            ],
            "text/html": [
              "<pre style=\"white-space:pre;overflow-x:auto;line-height:normal;font-family:Menlo,'DejaVu Sans Mono',consolas,'Courier New',monospace\"><span style=\"color: #7f7f7f; text-decoration-color: #7f7f7f\">[Step 2: Duration 0.35 seconds]</span>\n",
              "</pre>\n"
            ]
          },
          "metadata": {}
        },
        {
          "output_type": "display_data",
          "data": {
            "text/plain": [
              "\u001b[38;2;212;183;2m━━━━━━━━━━━━━━━━━━━━━━━━━━━━━━━━━━━━━━━━━━━━━━━━━━━━━ \u001b[0m\u001b[1mStep \u001b[0m\u001b[1;36m4\u001b[0m\u001b[38;2;212;183;2m ━━━━━━━━━━━━━━━━━━━━━━━━━━━━━━━━━━━━━━━━━━━━━━━━━━━━━━\u001b[0m\n"
            ],
            "text/html": [
              "<pre style=\"white-space:pre;overflow-x:auto;line-height:normal;font-family:Menlo,'DejaVu Sans Mono',consolas,'Courier New',monospace\"><span style=\"color: #d4b702; text-decoration-color: #d4b702\">━━━━━━━━━━━━━━━━━━━━━━━━━━━━━━━━━━━━━━━━━━━━━━━━━━━━━ </span><span style=\"font-weight: bold\">Step </span><span style=\"color: #008080; text-decoration-color: #008080; font-weight: bold\">4</span><span style=\"color: #d4b702; text-decoration-color: #d4b702\"> ━━━━━━━━━━━━━━━━━━━━━━━━━━━━━━━━━━━━━━━━━━━━━━━━━━━━━━</span>\n",
              "</pre>\n"
            ]
          },
          "metadata": {}
        },
        {
          "output_type": "stream",
          "name": "stdout",
          "text": [
            "\n",
            "\u001b[1;31mGive Feedback / Get Help: https://github.com/BerriAI/litellm/issues/new\u001b[0m\n",
            "LiteLLM.Info: If you need to debug this error, use `litellm._turn_on_debug()'.\n",
            "\n"
          ]
        },
        {
          "output_type": "display_data",
          "data": {
            "text/plain": [
              "\u001b[1;31mError in generating tool call with model:\u001b[0m\n",
              "\u001b[1;31mlitellm.AuthenticationError: AuthenticationError: OpenAIException - Error code: \u001b[0m\u001b[1;31m401\u001b[0m\u001b[1;31m - \u001b[0m\u001b[1;31m{\u001b[0m\u001b[1;31m'error'\u001b[0m\u001b[1;31m: \u001b[0m\u001b[1;31m{\u001b[0m\u001b[1;31m'message'\u001b[0m\u001b[1;31m: \u001b[0m\n",
              "\u001b[1;31m'Incorrect API key provided: \u001b[0m\n",
              "\u001b[1;31msk-proj-***********************************************************************************************************\u001b[0m\n",
              "\u001b[1;31m*********************************************7V0A. You can find your API key at \u001b[0m\n",
              "\u001b[1;31mhttps://platform.openai.com/account/api-keys.'\u001b[0m\u001b[1;31m, \u001b[0m\u001b[1;31m'type'\u001b[0m\u001b[1;31m: \u001b[0m\u001b[1;31m'invalid_request_error'\u001b[0m\u001b[1;31m, \u001b[0m\u001b[1;31m'param'\u001b[0m\u001b[1;31m: \u001b[0m\u001b[1;3;31mNone\u001b[0m\u001b[1;31m, \u001b[0m\u001b[1;31m'code'\u001b[0m\u001b[1;31m: \u001b[0m\n",
              "\u001b[1;31m'invalid_api_key'\u001b[0m\u001b[1;31m}\u001b[0m\u001b[1;31m}\u001b[0m\n"
            ],
            "text/html": [
              "<pre style=\"white-space:pre;overflow-x:auto;line-height:normal;font-family:Menlo,'DejaVu Sans Mono',consolas,'Courier New',monospace\"><span style=\"color: #800000; text-decoration-color: #800000; font-weight: bold\">Error in generating tool call with model:</span>\n",
              "<span style=\"color: #800000; text-decoration-color: #800000; font-weight: bold\">litellm.AuthenticationError: AuthenticationError: OpenAIException - Error code: </span><span style=\"color: #800000; text-decoration-color: #800000; font-weight: bold\">401</span><span style=\"color: #800000; text-decoration-color: #800000; font-weight: bold\"> - {</span><span style=\"color: #800000; text-decoration-color: #800000; font-weight: bold\">'error'</span><span style=\"color: #800000; text-decoration-color: #800000; font-weight: bold\">: {</span><span style=\"color: #800000; text-decoration-color: #800000; font-weight: bold\">'message'</span><span style=\"color: #800000; text-decoration-color: #800000; font-weight: bold\">: </span>\n",
              "<span style=\"color: #800000; text-decoration-color: #800000; font-weight: bold\">'Incorrect API key provided: </span>\n",
              "<span style=\"color: #800000; text-decoration-color: #800000; font-weight: bold\">sk-proj-***********************************************************************************************************</span>\n",
              "<span style=\"color: #800000; text-decoration-color: #800000; font-weight: bold\">*********************************************7V0A. You can find your API key at </span>\n",
              "<span style=\"color: #800000; text-decoration-color: #800000; font-weight: bold\">https://platform.openai.com/account/api-keys.'</span><span style=\"color: #800000; text-decoration-color: #800000; font-weight: bold\">, </span><span style=\"color: #800000; text-decoration-color: #800000; font-weight: bold\">'type'</span><span style=\"color: #800000; text-decoration-color: #800000; font-weight: bold\">: </span><span style=\"color: #800000; text-decoration-color: #800000; font-weight: bold\">'invalid_request_error'</span><span style=\"color: #800000; text-decoration-color: #800000; font-weight: bold\">, </span><span style=\"color: #800000; text-decoration-color: #800000; font-weight: bold\">'param'</span><span style=\"color: #800000; text-decoration-color: #800000; font-weight: bold\">: </span><span style=\"color: #800000; text-decoration-color: #800000; font-weight: bold; font-style: italic\">None</span><span style=\"color: #800000; text-decoration-color: #800000; font-weight: bold\">, </span><span style=\"color: #800000; text-decoration-color: #800000; font-weight: bold\">'code'</span><span style=\"color: #800000; text-decoration-color: #800000; font-weight: bold\">: </span>\n",
              "<span style=\"color: #800000; text-decoration-color: #800000; font-weight: bold\">'invalid_api_key'</span><span style=\"color: #800000; text-decoration-color: #800000; font-weight: bold\">}}</span>\n",
              "</pre>\n"
            ]
          },
          "metadata": {}
        },
        {
          "output_type": "display_data",
          "data": {
            "text/plain": [
              "\u001b[2m[Step 3: Duration 0.18 seconds]\u001b[0m\n"
            ],
            "text/html": [
              "<pre style=\"white-space:pre;overflow-x:auto;line-height:normal;font-family:Menlo,'DejaVu Sans Mono',consolas,'Courier New',monospace\"><span style=\"color: #7f7f7f; text-decoration-color: #7f7f7f\">[Step 3: Duration 0.18 seconds]</span>\n",
              "</pre>\n"
            ]
          },
          "metadata": {}
        },
        {
          "output_type": "display_data",
          "data": {
            "text/plain": [
              "\u001b[38;2;212;183;2m━━━━━━━━━━━━━━━━━━━━━━━━━━━━━━━━━━━━━━━━━━━━━━━━━━━━━ \u001b[0m\u001b[1mStep \u001b[0m\u001b[1;36m5\u001b[0m\u001b[38;2;212;183;2m ━━━━━━━━━━━━━━━━━━━━━━━━━━━━━━━━━━━━━━━━━━━━━━━━━━━━━━\u001b[0m\n"
            ],
            "text/html": [
              "<pre style=\"white-space:pre;overflow-x:auto;line-height:normal;font-family:Menlo,'DejaVu Sans Mono',consolas,'Courier New',monospace\"><span style=\"color: #d4b702; text-decoration-color: #d4b702\">━━━━━━━━━━━━━━━━━━━━━━━━━━━━━━━━━━━━━━━━━━━━━━━━━━━━━ </span><span style=\"font-weight: bold\">Step </span><span style=\"color: #008080; text-decoration-color: #008080; font-weight: bold\">5</span><span style=\"color: #d4b702; text-decoration-color: #d4b702\"> ━━━━━━━━━━━━━━━━━━━━━━━━━━━━━━━━━━━━━━━━━━━━━━━━━━━━━━</span>\n",
              "</pre>\n"
            ]
          },
          "metadata": {}
        },
        {
          "output_type": "stream",
          "name": "stdout",
          "text": [
            "\n",
            "\u001b[1;31mGive Feedback / Get Help: https://github.com/BerriAI/litellm/issues/new\u001b[0m\n",
            "LiteLLM.Info: If you need to debug this error, use `litellm._turn_on_debug()'.\n",
            "\n"
          ]
        },
        {
          "output_type": "display_data",
          "data": {
            "text/plain": [
              "\u001b[1;31mError in generating tool call with model:\u001b[0m\n",
              "\u001b[1;31mlitellm.AuthenticationError: AuthenticationError: OpenAIException - Error code: \u001b[0m\u001b[1;31m401\u001b[0m\u001b[1;31m - \u001b[0m\u001b[1;31m{\u001b[0m\u001b[1;31m'error'\u001b[0m\u001b[1;31m: \u001b[0m\u001b[1;31m{\u001b[0m\u001b[1;31m'message'\u001b[0m\u001b[1;31m: \u001b[0m\n",
              "\u001b[1;31m'Incorrect API key provided: \u001b[0m\n",
              "\u001b[1;31msk-proj-***********************************************************************************************************\u001b[0m\n",
              "\u001b[1;31m*********************************************7V0A. You can find your API key at \u001b[0m\n",
              "\u001b[1;31mhttps://platform.openai.com/account/api-keys.'\u001b[0m\u001b[1;31m, \u001b[0m\u001b[1;31m'type'\u001b[0m\u001b[1;31m: \u001b[0m\u001b[1;31m'invalid_request_error'\u001b[0m\u001b[1;31m, \u001b[0m\u001b[1;31m'param'\u001b[0m\u001b[1;31m: \u001b[0m\u001b[1;3;31mNone\u001b[0m\u001b[1;31m, \u001b[0m\u001b[1;31m'code'\u001b[0m\u001b[1;31m: \u001b[0m\n",
              "\u001b[1;31m'invalid_api_key'\u001b[0m\u001b[1;31m}\u001b[0m\u001b[1;31m}\u001b[0m\n"
            ],
            "text/html": [
              "<pre style=\"white-space:pre;overflow-x:auto;line-height:normal;font-family:Menlo,'DejaVu Sans Mono',consolas,'Courier New',monospace\"><span style=\"color: #800000; text-decoration-color: #800000; font-weight: bold\">Error in generating tool call with model:</span>\n",
              "<span style=\"color: #800000; text-decoration-color: #800000; font-weight: bold\">litellm.AuthenticationError: AuthenticationError: OpenAIException - Error code: </span><span style=\"color: #800000; text-decoration-color: #800000; font-weight: bold\">401</span><span style=\"color: #800000; text-decoration-color: #800000; font-weight: bold\"> - {</span><span style=\"color: #800000; text-decoration-color: #800000; font-weight: bold\">'error'</span><span style=\"color: #800000; text-decoration-color: #800000; font-weight: bold\">: {</span><span style=\"color: #800000; text-decoration-color: #800000; font-weight: bold\">'message'</span><span style=\"color: #800000; text-decoration-color: #800000; font-weight: bold\">: </span>\n",
              "<span style=\"color: #800000; text-decoration-color: #800000; font-weight: bold\">'Incorrect API key provided: </span>\n",
              "<span style=\"color: #800000; text-decoration-color: #800000; font-weight: bold\">sk-proj-***********************************************************************************************************</span>\n",
              "<span style=\"color: #800000; text-decoration-color: #800000; font-weight: bold\">*********************************************7V0A. You can find your API key at </span>\n",
              "<span style=\"color: #800000; text-decoration-color: #800000; font-weight: bold\">https://platform.openai.com/account/api-keys.'</span><span style=\"color: #800000; text-decoration-color: #800000; font-weight: bold\">, </span><span style=\"color: #800000; text-decoration-color: #800000; font-weight: bold\">'type'</span><span style=\"color: #800000; text-decoration-color: #800000; font-weight: bold\">: </span><span style=\"color: #800000; text-decoration-color: #800000; font-weight: bold\">'invalid_request_error'</span><span style=\"color: #800000; text-decoration-color: #800000; font-weight: bold\">, </span><span style=\"color: #800000; text-decoration-color: #800000; font-weight: bold\">'param'</span><span style=\"color: #800000; text-decoration-color: #800000; font-weight: bold\">: </span><span style=\"color: #800000; text-decoration-color: #800000; font-weight: bold; font-style: italic\">None</span><span style=\"color: #800000; text-decoration-color: #800000; font-weight: bold\">, </span><span style=\"color: #800000; text-decoration-color: #800000; font-weight: bold\">'code'</span><span style=\"color: #800000; text-decoration-color: #800000; font-weight: bold\">: </span>\n",
              "<span style=\"color: #800000; text-decoration-color: #800000; font-weight: bold\">'invalid_api_key'</span><span style=\"color: #800000; text-decoration-color: #800000; font-weight: bold\">}}</span>\n",
              "</pre>\n"
            ]
          },
          "metadata": {}
        },
        {
          "output_type": "display_data",
          "data": {
            "text/plain": [
              "\u001b[2m[Step 4: Duration 0.13 seconds]\u001b[0m\n"
            ],
            "text/html": [
              "<pre style=\"white-space:pre;overflow-x:auto;line-height:normal;font-family:Menlo,'DejaVu Sans Mono',consolas,'Courier New',monospace\"><span style=\"color: #7f7f7f; text-decoration-color: #7f7f7f\">[Step 4: Duration 0.13 seconds]</span>\n",
              "</pre>\n"
            ]
          },
          "metadata": {}
        },
        {
          "output_type": "display_data",
          "data": {
            "text/plain": [
              "\u001b[38;2;212;183;2m━━━━━━━━━━━━━━━━━━━━━━━━━━━━━━━━━━━━━━━━━━━━━━━━━━━━━ \u001b[0m\u001b[1mStep \u001b[0m\u001b[1;36m6\u001b[0m\u001b[38;2;212;183;2m ━━━━━━━━━━━━━━━━━━━━━━━━━━━━━━━━━━━━━━━━━━━━━━━━━━━━━━\u001b[0m\n"
            ],
            "text/html": [
              "<pre style=\"white-space:pre;overflow-x:auto;line-height:normal;font-family:Menlo,'DejaVu Sans Mono',consolas,'Courier New',monospace\"><span style=\"color: #d4b702; text-decoration-color: #d4b702\">━━━━━━━━━━━━━━━━━━━━━━━━━━━━━━━━━━━━━━━━━━━━━━━━━━━━━ </span><span style=\"font-weight: bold\">Step </span><span style=\"color: #008080; text-decoration-color: #008080; font-weight: bold\">6</span><span style=\"color: #d4b702; text-decoration-color: #d4b702\"> ━━━━━━━━━━━━━━━━━━━━━━━━━━━━━━━━━━━━━━━━━━━━━━━━━━━━━━</span>\n",
              "</pre>\n"
            ]
          },
          "metadata": {}
        },
        {
          "output_type": "stream",
          "name": "stdout",
          "text": [
            "\n",
            "\u001b[1;31mGive Feedback / Get Help: https://github.com/BerriAI/litellm/issues/new\u001b[0m\n",
            "LiteLLM.Info: If you need to debug this error, use `litellm._turn_on_debug()'.\n",
            "\n"
          ]
        },
        {
          "output_type": "display_data",
          "data": {
            "text/plain": [
              "\u001b[1;31mError in generating tool call with model:\u001b[0m\n",
              "\u001b[1;31mlitellm.AuthenticationError: AuthenticationError: OpenAIException - Error code: \u001b[0m\u001b[1;31m401\u001b[0m\u001b[1;31m - \u001b[0m\u001b[1;31m{\u001b[0m\u001b[1;31m'error'\u001b[0m\u001b[1;31m: \u001b[0m\u001b[1;31m{\u001b[0m\u001b[1;31m'message'\u001b[0m\u001b[1;31m: \u001b[0m\n",
              "\u001b[1;31m'Incorrect API key provided: \u001b[0m\n",
              "\u001b[1;31msk-proj-***********************************************************************************************************\u001b[0m\n",
              "\u001b[1;31m*********************************************7V0A. You can find your API key at \u001b[0m\n",
              "\u001b[1;31mhttps://platform.openai.com/account/api-keys.'\u001b[0m\u001b[1;31m, \u001b[0m\u001b[1;31m'type'\u001b[0m\u001b[1;31m: \u001b[0m\u001b[1;31m'invalid_request_error'\u001b[0m\u001b[1;31m, \u001b[0m\u001b[1;31m'param'\u001b[0m\u001b[1;31m: \u001b[0m\u001b[1;3;31mNone\u001b[0m\u001b[1;31m, \u001b[0m\u001b[1;31m'code'\u001b[0m\u001b[1;31m: \u001b[0m\n",
              "\u001b[1;31m'invalid_api_key'\u001b[0m\u001b[1;31m}\u001b[0m\u001b[1;31m}\u001b[0m\n"
            ],
            "text/html": [
              "<pre style=\"white-space:pre;overflow-x:auto;line-height:normal;font-family:Menlo,'DejaVu Sans Mono',consolas,'Courier New',monospace\"><span style=\"color: #800000; text-decoration-color: #800000; font-weight: bold\">Error in generating tool call with model:</span>\n",
              "<span style=\"color: #800000; text-decoration-color: #800000; font-weight: bold\">litellm.AuthenticationError: AuthenticationError: OpenAIException - Error code: </span><span style=\"color: #800000; text-decoration-color: #800000; font-weight: bold\">401</span><span style=\"color: #800000; text-decoration-color: #800000; font-weight: bold\"> - {</span><span style=\"color: #800000; text-decoration-color: #800000; font-weight: bold\">'error'</span><span style=\"color: #800000; text-decoration-color: #800000; font-weight: bold\">: {</span><span style=\"color: #800000; text-decoration-color: #800000; font-weight: bold\">'message'</span><span style=\"color: #800000; text-decoration-color: #800000; font-weight: bold\">: </span>\n",
              "<span style=\"color: #800000; text-decoration-color: #800000; font-weight: bold\">'Incorrect API key provided: </span>\n",
              "<span style=\"color: #800000; text-decoration-color: #800000; font-weight: bold\">sk-proj-***********************************************************************************************************</span>\n",
              "<span style=\"color: #800000; text-decoration-color: #800000; font-weight: bold\">*********************************************7V0A. You can find your API key at </span>\n",
              "<span style=\"color: #800000; text-decoration-color: #800000; font-weight: bold\">https://platform.openai.com/account/api-keys.'</span><span style=\"color: #800000; text-decoration-color: #800000; font-weight: bold\">, </span><span style=\"color: #800000; text-decoration-color: #800000; font-weight: bold\">'type'</span><span style=\"color: #800000; text-decoration-color: #800000; font-weight: bold\">: </span><span style=\"color: #800000; text-decoration-color: #800000; font-weight: bold\">'invalid_request_error'</span><span style=\"color: #800000; text-decoration-color: #800000; font-weight: bold\">, </span><span style=\"color: #800000; text-decoration-color: #800000; font-weight: bold\">'param'</span><span style=\"color: #800000; text-decoration-color: #800000; font-weight: bold\">: </span><span style=\"color: #800000; text-decoration-color: #800000; font-weight: bold; font-style: italic\">None</span><span style=\"color: #800000; text-decoration-color: #800000; font-weight: bold\">, </span><span style=\"color: #800000; text-decoration-color: #800000; font-weight: bold\">'code'</span><span style=\"color: #800000; text-decoration-color: #800000; font-weight: bold\">: </span>\n",
              "<span style=\"color: #800000; text-decoration-color: #800000; font-weight: bold\">'invalid_api_key'</span><span style=\"color: #800000; text-decoration-color: #800000; font-weight: bold\">}}</span>\n",
              "</pre>\n"
            ]
          },
          "metadata": {}
        },
        {
          "output_type": "display_data",
          "data": {
            "text/plain": [
              "\u001b[2m[Step 5: Duration 0.15 seconds]\u001b[0m\n"
            ],
            "text/html": [
              "<pre style=\"white-space:pre;overflow-x:auto;line-height:normal;font-family:Menlo,'DejaVu Sans Mono',consolas,'Courier New',monospace\"><span style=\"color: #7f7f7f; text-decoration-color: #7f7f7f\">[Step 5: Duration 0.15 seconds]</span>\n",
              "</pre>\n"
            ]
          },
          "metadata": {}
        },
        {
          "output_type": "stream",
          "name": "stdout",
          "text": [
            "\n",
            "\u001b[1;31mGive Feedback / Get Help: https://github.com/BerriAI/litellm/issues/new\u001b[0m\n",
            "LiteLLM.Info: If you need to debug this error, use `litellm._turn_on_debug()'.\n",
            "\n"
          ]
        },
        {
          "output_type": "display_data",
          "data": {
            "text/plain": [
              "\u001b[1;31mReached max steps.\u001b[0m\n"
            ],
            "text/html": [
              "<pre style=\"white-space:pre;overflow-x:auto;line-height:normal;font-family:Menlo,'DejaVu Sans Mono',consolas,'Courier New',monospace\"><span style=\"color: #800000; text-decoration-color: #800000; font-weight: bold\">Reached max steps.</span>\n",
              "</pre>\n"
            ]
          },
          "metadata": {}
        },
        {
          "output_type": "display_data",
          "data": {
            "text/plain": [
              "\u001b[2m[Step 6: Duration 0.15 seconds]\u001b[0m\n"
            ],
            "text/html": [
              "<pre style=\"white-space:pre;overflow-x:auto;line-height:normal;font-family:Menlo,'DejaVu Sans Mono',consolas,'Courier New',monospace\"><span style=\"color: #7f7f7f; text-decoration-color: #7f7f7f\">[Step 6: Duration 0.15 seconds]</span>\n",
              "</pre>\n"
            ]
          },
          "metadata": {}
        },
        {
          "output_type": "execute_result",
          "data": {
            "text/plain": [
              "\"Error in generating final LLM output:\\nlitellm.AuthenticationError: AuthenticationError: OpenAIException - Error code: 401 - {'error': {'message': 'Incorrect API key provided: sk-proj-********************************************************************************************************************************************************7V0A. You can find your API key at https://platform.openai.com/account/api-keys.', 'type': 'invalid_request_error', 'param': None, 'code': 'invalid_api_key'}}\""
            ],
            "application/vnd.google.colaboratory.intrinsic+json": {
              "type": "string"
            }
          },
          "metadata": {},
          "execution_count": 31
        }
      ]
    },
    {
      "cell_type": "markdown",
      "source": [
        "{\"answer\":\"Some popular blog topics on Medium include:\\n1. Technology\\n2. Personal Development\\n3. Health and Wellness\\n4. Business and Entrepreneurship\\n5. Culture and Society\\n6. Writing and Literature\\n7. Travel\\n8. Politics\\n9. Education\\n10. Environment\\n\\nYou can explore more on Medium's Explore Topics section.\"}"
      ],
      "metadata": {
        "id": "H11Exhzb27Lr"
      }
    },
    {
      "cell_type": "code",
      "source": [
        "response={\"answer\":\"Some popular blog topics on Medium include:\\n1. Technology\\n2. Personal Development\\n3. Health and Wellness\\n4. Business and Entrepreneurship\\n5. Culture and Society\\n6. Writing and Literature\\n7. Travel\\n8. Politics\\n9. Education\\n10. Environment\\n\\nYou can explore more on Medium's Explore Topics section.\"}"
      ],
      "metadata": {
        "id": "6_axZuw920Iu"
      },
      "execution_count": 32,
      "outputs": []
    },
    {
      "cell_type": "code",
      "source": [
        "print(response[\"answer\"])"
      ],
      "metadata": {
        "id": "FOmhzwLt2_bG",
        "colab": {
          "base_uri": "https://localhost:8080/"
        },
        "outputId": "8b687272-6fe5-4fda-a142-6e21bb145f45"
      },
      "execution_count": 33,
      "outputs": [
        {
          "output_type": "stream",
          "name": "stdout",
          "text": [
            "Some popular blog topics on Medium include:\n",
            "1. Technology\n",
            "2. Personal Development\n",
            "3. Health and Wellness\n",
            "4. Business and Entrepreneurship\n",
            "5. Culture and Society\n",
            "6. Writing and Literature\n",
            "7. Travel\n",
            "8. Politics\n",
            "9. Education\n",
            "10. Environment\n",
            "\n",
            "You can explore more on Medium's Explore Topics section.\n"
          ]
        }
      ]
    },
    {
      "cell_type": "markdown",
      "source": [
        "### USING smolagent you have to create a AGENTIC RAG."
      ],
      "metadata": {
        "id": "om2YWnXq3pTB"
      }
    },
    {
      "cell_type": "code",
      "source": [],
      "metadata": {
        "id": "ZfJpL7w33C0u"
      },
      "execution_count": 33,
      "outputs": []
    }
  ]
}